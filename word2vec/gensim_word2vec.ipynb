{
 "cells": [
  {
   "cell_type": "markdown",
   "metadata": {},
   "source": [
    "## Practical 1: word2vec\n",
    "<p>Oxford CS - Deep NLP 2017<br>\n",
    "https://www.cs.ox.ac.uk/teaching/courses/2016-2017/dl/</p>\n",
    "<p>[Yannis Assael, Brendan Shillingford, Chris Dyer]</p>"
   ]
  },
  {
   "cell_type": "markdown",
   "metadata": {},
   "source": [
    "* IPython notebooks: <https://ipython.org/ipython-doc/3/notebook/notebook.html#introduction>\n",
    "* Numpy numerical array library: <https://docs.scipy.org/doc/>\n",
    "* Gensim's word2vec: <https://radimrehurek.com/gensim/models/word2vec.html>\n",
    "* Bokeh interactive plots: <http://bokeh.pydata.org/en/latest/> (we provide plotting code here, but click the thumbnails for more examples to copy-paste)\n",
    "* scikit-learn ML library (aka `sklearn`): <http://scikit-learn.org/stable/documentation.html>\n",
    "* nltk NLP toolkit: <http://www.nltk.org/>\n",
    "* tutorial for processing xml in python using `lxml`: <http://lxml.de/tutorial.html> (we did this for you below, but in case you need it in the future)"
   ]
  },
  {
   "cell_type": "code",
   "execution_count": 1,
   "metadata": {},
   "outputs": [],
   "source": [
    "import numpy as np\n",
    "import os\n",
    "from random import shuffle\n",
    "import re"
   ]
  },
  {
   "cell_type": "code",
   "execution_count": 2,
   "metadata": {},
   "outputs": [
    {
     "data": {
      "text/html": [
       "\n",
       "    <div class=\"bk-root\">\n",
       "        <a href=\"https://bokeh.pydata.org\" target=\"_blank\" class=\"bk-logo bk-logo-small bk-logo-notebook\"></a>\n",
       "        <span id=\"1001\">Loading BokehJS ...</span>\n",
       "    </div>"
      ]
     },
     "metadata": {},
     "output_type": "display_data"
    },
    {
     "data": {
      "application/javascript": [
       "\n",
       "(function(root) {\n",
       "  function now() {\n",
       "    return new Date();\n",
       "  }\n",
       "\n",
       "  var force = true;\n",
       "\n",
       "  if (typeof root._bokeh_onload_callbacks === \"undefined\" || force === true) {\n",
       "    root._bokeh_onload_callbacks = [];\n",
       "    root._bokeh_is_loading = undefined;\n",
       "  }\n",
       "\n",
       "  var JS_MIME_TYPE = 'application/javascript';\n",
       "  var HTML_MIME_TYPE = 'text/html';\n",
       "  var EXEC_MIME_TYPE = 'application/vnd.bokehjs_exec.v0+json';\n",
       "  var CLASS_NAME = 'output_bokeh rendered_html';\n",
       "\n",
       "  /**\n",
       "   * Render data to the DOM node\n",
       "   */\n",
       "  function render(props, node) {\n",
       "    var script = document.createElement(\"script\");\n",
       "    node.appendChild(script);\n",
       "  }\n",
       "\n",
       "  /**\n",
       "   * Handle when an output is cleared or removed\n",
       "   */\n",
       "  function handleClearOutput(event, handle) {\n",
       "    var cell = handle.cell;\n",
       "\n",
       "    var id = cell.output_area._bokeh_element_id;\n",
       "    var server_id = cell.output_area._bokeh_server_id;\n",
       "    // Clean up Bokeh references\n",
       "    if (id != null && id in Bokeh.index) {\n",
       "      Bokeh.index[id].model.document.clear();\n",
       "      delete Bokeh.index[id];\n",
       "    }\n",
       "\n",
       "    if (server_id !== undefined) {\n",
       "      // Clean up Bokeh references\n",
       "      var cmd = \"from bokeh.io.state import curstate; print(curstate().uuid_to_server['\" + server_id + \"'].get_sessions()[0].document.roots[0]._id)\";\n",
       "      cell.notebook.kernel.execute(cmd, {\n",
       "        iopub: {\n",
       "          output: function(msg) {\n",
       "            var id = msg.content.text.trim();\n",
       "            if (id in Bokeh.index) {\n",
       "              Bokeh.index[id].model.document.clear();\n",
       "              delete Bokeh.index[id];\n",
       "            }\n",
       "          }\n",
       "        }\n",
       "      });\n",
       "      // Destroy server and session\n",
       "      var cmd = \"import bokeh.io.notebook as ion; ion.destroy_server('\" + server_id + \"')\";\n",
       "      cell.notebook.kernel.execute(cmd);\n",
       "    }\n",
       "  }\n",
       "\n",
       "  /**\n",
       "   * Handle when a new output is added\n",
       "   */\n",
       "  function handleAddOutput(event, handle) {\n",
       "    var output_area = handle.output_area;\n",
       "    var output = handle.output;\n",
       "\n",
       "    // limit handleAddOutput to display_data with EXEC_MIME_TYPE content only\n",
       "    if ((output.output_type != \"display_data\") || (!output.data.hasOwnProperty(EXEC_MIME_TYPE))) {\n",
       "      return\n",
       "    }\n",
       "\n",
       "    var toinsert = output_area.element.find(\".\" + CLASS_NAME.split(' ')[0]);\n",
       "\n",
       "    if (output.metadata[EXEC_MIME_TYPE][\"id\"] !== undefined) {\n",
       "      toinsert[toinsert.length - 1].firstChild.textContent = output.data[JS_MIME_TYPE];\n",
       "      // store reference to embed id on output_area\n",
       "      output_area._bokeh_element_id = output.metadata[EXEC_MIME_TYPE][\"id\"];\n",
       "    }\n",
       "    if (output.metadata[EXEC_MIME_TYPE][\"server_id\"] !== undefined) {\n",
       "      var bk_div = document.createElement(\"div\");\n",
       "      bk_div.innerHTML = output.data[HTML_MIME_TYPE];\n",
       "      var script_attrs = bk_div.children[0].attributes;\n",
       "      for (var i = 0; i < script_attrs.length; i++) {\n",
       "        toinsert[toinsert.length - 1].firstChild.setAttribute(script_attrs[i].name, script_attrs[i].value);\n",
       "      }\n",
       "      // store reference to server id on output_area\n",
       "      output_area._bokeh_server_id = output.metadata[EXEC_MIME_TYPE][\"server_id\"];\n",
       "    }\n",
       "  }\n",
       "\n",
       "  function register_renderer(events, OutputArea) {\n",
       "\n",
       "    function append_mime(data, metadata, element) {\n",
       "      // create a DOM node to render to\n",
       "      var toinsert = this.create_output_subarea(\n",
       "        metadata,\n",
       "        CLASS_NAME,\n",
       "        EXEC_MIME_TYPE\n",
       "      );\n",
       "      this.keyboard_manager.register_events(toinsert);\n",
       "      // Render to node\n",
       "      var props = {data: data, metadata: metadata[EXEC_MIME_TYPE]};\n",
       "      render(props, toinsert[toinsert.length - 1]);\n",
       "      element.append(toinsert);\n",
       "      return toinsert\n",
       "    }\n",
       "\n",
       "    /* Handle when an output is cleared or removed */\n",
       "    events.on('clear_output.CodeCell', handleClearOutput);\n",
       "    events.on('delete.Cell', handleClearOutput);\n",
       "\n",
       "    /* Handle when a new output is added */\n",
       "    events.on('output_added.OutputArea', handleAddOutput);\n",
       "\n",
       "    /**\n",
       "     * Register the mime type and append_mime function with output_area\n",
       "     */\n",
       "    OutputArea.prototype.register_mime_type(EXEC_MIME_TYPE, append_mime, {\n",
       "      /* Is output safe? */\n",
       "      safe: true,\n",
       "      /* Index of renderer in `output_area.display_order` */\n",
       "      index: 0\n",
       "    });\n",
       "  }\n",
       "\n",
       "  // register the mime type if in Jupyter Notebook environment and previously unregistered\n",
       "  if (root.Jupyter !== undefined) {\n",
       "    var events = require('base/js/events');\n",
       "    var OutputArea = require('notebook/js/outputarea').OutputArea;\n",
       "\n",
       "    if (OutputArea.prototype.mime_types().indexOf(EXEC_MIME_TYPE) == -1) {\n",
       "      register_renderer(events, OutputArea);\n",
       "    }\n",
       "  }\n",
       "\n",
       "  \n",
       "  if (typeof (root._bokeh_timeout) === \"undefined\" || force === true) {\n",
       "    root._bokeh_timeout = Date.now() + 5000;\n",
       "    root._bokeh_failed_load = false;\n",
       "  }\n",
       "\n",
       "  var NB_LOAD_WARNING = {'data': {'text/html':\n",
       "     \"<div style='background-color: #fdd'>\\n\"+\n",
       "     \"<p>\\n\"+\n",
       "     \"BokehJS does not appear to have successfully loaded. If loading BokehJS from CDN, this \\n\"+\n",
       "     \"may be due to a slow or bad network connection. Possible fixes:\\n\"+\n",
       "     \"</p>\\n\"+\n",
       "     \"<ul>\\n\"+\n",
       "     \"<li>re-rerun `output_notebook()` to attempt to load from CDN again, or</li>\\n\"+\n",
       "     \"<li>use INLINE resources instead, as so:</li>\\n\"+\n",
       "     \"</ul>\\n\"+\n",
       "     \"<code>\\n\"+\n",
       "     \"from bokeh.resources import INLINE\\n\"+\n",
       "     \"output_notebook(resources=INLINE)\\n\"+\n",
       "     \"</code>\\n\"+\n",
       "     \"</div>\"}};\n",
       "\n",
       "  function display_loaded() {\n",
       "    var el = document.getElementById(\"1001\");\n",
       "    if (el != null) {\n",
       "      el.textContent = \"BokehJS is loading...\";\n",
       "    }\n",
       "    if (root.Bokeh !== undefined) {\n",
       "      if (el != null) {\n",
       "        el.textContent = \"BokehJS \" + root.Bokeh.version + \" successfully loaded.\";\n",
       "      }\n",
       "    } else if (Date.now() < root._bokeh_timeout) {\n",
       "      setTimeout(display_loaded, 100)\n",
       "    }\n",
       "  }\n",
       "\n",
       "\n",
       "  function run_callbacks() {\n",
       "    try {\n",
       "      root._bokeh_onload_callbacks.forEach(function(callback) {\n",
       "        if (callback != null)\n",
       "          callback();\n",
       "      });\n",
       "    } finally {\n",
       "      delete root._bokeh_onload_callbacks\n",
       "    }\n",
       "    console.debug(\"Bokeh: all callbacks have finished\");\n",
       "  }\n",
       "\n",
       "  function load_libs(css_urls, js_urls, callback) {\n",
       "    if (css_urls == null) css_urls = [];\n",
       "    if (js_urls == null) js_urls = [];\n",
       "\n",
       "    root._bokeh_onload_callbacks.push(callback);\n",
       "    if (root._bokeh_is_loading > 0) {\n",
       "      console.debug(\"Bokeh: BokehJS is being loaded, scheduling callback at\", now());\n",
       "      return null;\n",
       "    }\n",
       "    if (js_urls == null || js_urls.length === 0) {\n",
       "      run_callbacks();\n",
       "      return null;\n",
       "    }\n",
       "    console.debug(\"Bokeh: BokehJS not loaded, scheduling load and callback at\", now());\n",
       "    root._bokeh_is_loading = css_urls.length + js_urls.length;\n",
       "\n",
       "    function on_load() {\n",
       "      root._bokeh_is_loading--;\n",
       "      if (root._bokeh_is_loading === 0) {\n",
       "        console.debug(\"Bokeh: all BokehJS libraries/stylesheets loaded\");\n",
       "        run_callbacks()\n",
       "      }\n",
       "    }\n",
       "\n",
       "    function on_error() {\n",
       "      console.error(\"failed to load \" + url);\n",
       "    }\n",
       "\n",
       "    for (var i = 0; i < css_urls.length; i++) {\n",
       "      var url = css_urls[i];\n",
       "      const element = document.createElement(\"link\");\n",
       "      element.onload = on_load;\n",
       "      element.onerror = on_error;\n",
       "      element.rel = \"stylesheet\";\n",
       "      element.type = \"text/css\";\n",
       "      element.href = url;\n",
       "      console.debug(\"Bokeh: injecting link tag for BokehJS stylesheet: \", url);\n",
       "      document.body.appendChild(element);\n",
       "    }\n",
       "\n",
       "    for (var i = 0; i < js_urls.length; i++) {\n",
       "      var url = js_urls[i];\n",
       "      var element = document.createElement('script');\n",
       "      element.onload = on_load;\n",
       "      element.onerror = on_error;\n",
       "      element.async = false;\n",
       "      element.src = url;\n",
       "      console.debug(\"Bokeh: injecting script tag for BokehJS library: \", url);\n",
       "      document.head.appendChild(element);\n",
       "    }\n",
       "  };var element = document.getElementById(\"1001\");\n",
       "  if (element == null) {\n",
       "    console.error(\"Bokeh: ERROR: autoload.js configured with elementid '1001' but no matching script tag was found. \")\n",
       "    return false;\n",
       "  }\n",
       "\n",
       "  function inject_raw_css(css) {\n",
       "    const element = document.createElement(\"style\");\n",
       "    element.appendChild(document.createTextNode(css));\n",
       "    document.body.appendChild(element);\n",
       "  }\n",
       "\n",
       "  var js_urls = [\"https://cdn.pydata.org/bokeh/release/bokeh-1.3.4.min.js\", \"https://cdn.pydata.org/bokeh/release/bokeh-widgets-1.3.4.min.js\", \"https://cdn.pydata.org/bokeh/release/bokeh-tables-1.3.4.min.js\", \"https://cdn.pydata.org/bokeh/release/bokeh-gl-1.3.4.min.js\"];\n",
       "  var css_urls = [];\n",
       "\n",
       "  var inline_js = [\n",
       "    function(Bokeh) {\n",
       "      Bokeh.set_log_level(\"info\");\n",
       "    },\n",
       "    \n",
       "    function(Bokeh) {\n",
       "      \n",
       "    },\n",
       "    function(Bokeh) {} // ensure no trailing comma for IE\n",
       "  ];\n",
       "\n",
       "  function run_inline_js() {\n",
       "    \n",
       "    if ((root.Bokeh !== undefined) || (force === true)) {\n",
       "      for (var i = 0; i < inline_js.length; i++) {\n",
       "        inline_js[i].call(root, root.Bokeh);\n",
       "      }if (force === true) {\n",
       "        display_loaded();\n",
       "      }} else if (Date.now() < root._bokeh_timeout) {\n",
       "      setTimeout(run_inline_js, 100);\n",
       "    } else if (!root._bokeh_failed_load) {\n",
       "      console.log(\"Bokeh: BokehJS failed to load within specified timeout.\");\n",
       "      root._bokeh_failed_load = true;\n",
       "    } else if (force !== true) {\n",
       "      var cell = $(document.getElementById(\"1001\")).parents('.cell').data().cell;\n",
       "      cell.output_area.append_execute_result(NB_LOAD_WARNING)\n",
       "    }\n",
       "\n",
       "  }\n",
       "\n",
       "  if (root._bokeh_is_loading === 0) {\n",
       "    console.debug(\"Bokeh: BokehJS loaded, going straight to plotting\");\n",
       "    run_inline_js();\n",
       "  } else {\n",
       "    load_libs(css_urls, js_urls, function() {\n",
       "      console.debug(\"Bokeh: BokehJS plotting callback run at\", now());\n",
       "      run_inline_js();\n",
       "    });\n",
       "  }\n",
       "}(window));"
      ],
      "application/vnd.bokehjs_load.v0+json": "\n(function(root) {\n  function now() {\n    return new Date();\n  }\n\n  var force = true;\n\n  if (typeof root._bokeh_onload_callbacks === \"undefined\" || force === true) {\n    root._bokeh_onload_callbacks = [];\n    root._bokeh_is_loading = undefined;\n  }\n\n  \n\n  \n  if (typeof (root._bokeh_timeout) === \"undefined\" || force === true) {\n    root._bokeh_timeout = Date.now() + 5000;\n    root._bokeh_failed_load = false;\n  }\n\n  var NB_LOAD_WARNING = {'data': {'text/html':\n     \"<div style='background-color: #fdd'>\\n\"+\n     \"<p>\\n\"+\n     \"BokehJS does not appear to have successfully loaded. If loading BokehJS from CDN, this \\n\"+\n     \"may be due to a slow or bad network connection. Possible fixes:\\n\"+\n     \"</p>\\n\"+\n     \"<ul>\\n\"+\n     \"<li>re-rerun `output_notebook()` to attempt to load from CDN again, or</li>\\n\"+\n     \"<li>use INLINE resources instead, as so:</li>\\n\"+\n     \"</ul>\\n\"+\n     \"<code>\\n\"+\n     \"from bokeh.resources import INLINE\\n\"+\n     \"output_notebook(resources=INLINE)\\n\"+\n     \"</code>\\n\"+\n     \"</div>\"}};\n\n  function display_loaded() {\n    var el = document.getElementById(\"1001\");\n    if (el != null) {\n      el.textContent = \"BokehJS is loading...\";\n    }\n    if (root.Bokeh !== undefined) {\n      if (el != null) {\n        el.textContent = \"BokehJS \" + root.Bokeh.version + \" successfully loaded.\";\n      }\n    } else if (Date.now() < root._bokeh_timeout) {\n      setTimeout(display_loaded, 100)\n    }\n  }\n\n\n  function run_callbacks() {\n    try {\n      root._bokeh_onload_callbacks.forEach(function(callback) {\n        if (callback != null)\n          callback();\n      });\n    } finally {\n      delete root._bokeh_onload_callbacks\n    }\n    console.debug(\"Bokeh: all callbacks have finished\");\n  }\n\n  function load_libs(css_urls, js_urls, callback) {\n    if (css_urls == null) css_urls = [];\n    if (js_urls == null) js_urls = [];\n\n    root._bokeh_onload_callbacks.push(callback);\n    if (root._bokeh_is_loading > 0) {\n      console.debug(\"Bokeh: BokehJS is being loaded, scheduling callback at\", now());\n      return null;\n    }\n    if (js_urls == null || js_urls.length === 0) {\n      run_callbacks();\n      return null;\n    }\n    console.debug(\"Bokeh: BokehJS not loaded, scheduling load and callback at\", now());\n    root._bokeh_is_loading = css_urls.length + js_urls.length;\n\n    function on_load() {\n      root._bokeh_is_loading--;\n      if (root._bokeh_is_loading === 0) {\n        console.debug(\"Bokeh: all BokehJS libraries/stylesheets loaded\");\n        run_callbacks()\n      }\n    }\n\n    function on_error() {\n      console.error(\"failed to load \" + url);\n    }\n\n    for (var i = 0; i < css_urls.length; i++) {\n      var url = css_urls[i];\n      const element = document.createElement(\"link\");\n      element.onload = on_load;\n      element.onerror = on_error;\n      element.rel = \"stylesheet\";\n      element.type = \"text/css\";\n      element.href = url;\n      console.debug(\"Bokeh: injecting link tag for BokehJS stylesheet: \", url);\n      document.body.appendChild(element);\n    }\n\n    for (var i = 0; i < js_urls.length; i++) {\n      var url = js_urls[i];\n      var element = document.createElement('script');\n      element.onload = on_load;\n      element.onerror = on_error;\n      element.async = false;\n      element.src = url;\n      console.debug(\"Bokeh: injecting script tag for BokehJS library: \", url);\n      document.head.appendChild(element);\n    }\n  };var element = document.getElementById(\"1001\");\n  if (element == null) {\n    console.error(\"Bokeh: ERROR: autoload.js configured with elementid '1001' but no matching script tag was found. \")\n    return false;\n  }\n\n  function inject_raw_css(css) {\n    const element = document.createElement(\"style\");\n    element.appendChild(document.createTextNode(css));\n    document.body.appendChild(element);\n  }\n\n  var js_urls = [\"https://cdn.pydata.org/bokeh/release/bokeh-1.3.4.min.js\", \"https://cdn.pydata.org/bokeh/release/bokeh-widgets-1.3.4.min.js\", \"https://cdn.pydata.org/bokeh/release/bokeh-tables-1.3.4.min.js\", \"https://cdn.pydata.org/bokeh/release/bokeh-gl-1.3.4.min.js\"];\n  var css_urls = [];\n\n  var inline_js = [\n    function(Bokeh) {\n      Bokeh.set_log_level(\"info\");\n    },\n    \n    function(Bokeh) {\n      \n    },\n    function(Bokeh) {} // ensure no trailing comma for IE\n  ];\n\n  function run_inline_js() {\n    \n    if ((root.Bokeh !== undefined) || (force === true)) {\n      for (var i = 0; i < inline_js.length; i++) {\n        inline_js[i].call(root, root.Bokeh);\n      }if (force === true) {\n        display_loaded();\n      }} else if (Date.now() < root._bokeh_timeout) {\n      setTimeout(run_inline_js, 100);\n    } else if (!root._bokeh_failed_load) {\n      console.log(\"Bokeh: BokehJS failed to load within specified timeout.\");\n      root._bokeh_failed_load = true;\n    } else if (force !== true) {\n      var cell = $(document.getElementById(\"1001\")).parents('.cell').data().cell;\n      cell.output_area.append_execute_result(NB_LOAD_WARNING)\n    }\n\n  }\n\n  if (root._bokeh_is_loading === 0) {\n    console.debug(\"Bokeh: BokehJS loaded, going straight to plotting\");\n    run_inline_js();\n  } else {\n    load_libs(css_urls, js_urls, function() {\n      console.debug(\"Bokeh: BokehJS plotting callback run at\", now());\n      run_inline_js();\n    });\n  }\n}(window));"
     },
     "metadata": {},
     "output_type": "display_data"
    }
   ],
   "source": [
    "from bokeh.models import ColumnDataSource, LabelSet\n",
    "from bokeh.plotting import figure, show, output_file\n",
    "from bokeh.io import output_notebook\n",
    "output_notebook()"
   ]
  },
  {
   "cell_type": "markdown",
   "metadata": {},
   "source": [
    "### Part 0: Download the TED dataset"
   ]
  },
  {
   "cell_type": "code",
   "execution_count": 3,
   "metadata": {},
   "outputs": [],
   "source": [
    "import urllib.request\n",
    "import zipfile\n",
    "import lxml.etree"
   ]
  },
  {
   "cell_type": "code",
   "execution_count": 4,
   "metadata": {},
   "outputs": [],
   "source": [
    "# Download the dataset if it's not already there: this may take a minute as it is 75MB\n",
    "if not os.path.isfile('../Data/ted_en-20160408.zip'):\n",
    "    urllib.request.urlretrieve(\"https://wit3.fbk.eu/get.php?path=XML_releases/xml/ted_en-20160408.zip&filename=ted_en-20160408.zip\", filename=\"ted_en-20160408.zip\")"
   ]
  },
  {
   "cell_type": "code",
   "execution_count": 5,
   "metadata": {},
   "outputs": [],
   "source": [
    "# For now, we're only interested in the subtitle text, so let's extract that from the XML:\n",
    "with zipfile.ZipFile('../Data/ted_en-20160408.zip', 'r') as z:\n",
    "    doc = lxml.etree.parse(z.open('ted_en-20160408.xml', 'r'))\n",
    "input_text = '\\n'.join(doc.xpath('//content/text()'))\n",
    "del doc"
   ]
  },
  {
   "cell_type": "markdown",
   "metadata": {},
   "source": [
    "### Part 1: Preprocessing\n",
    "\n",
    "In this part, we attempt to clean up the raw subtitles a bit, so that we get only sentences. The following substring shows examples of what we're trying to get rid of. Since it's hard to define precisely what we want to get rid of, we'll just use some simple heuristics."
   ]
  },
  {
   "cell_type": "code",
   "execution_count": 6,
   "metadata": {
    "scrolled": false
   },
   "outputs": [
    {
     "data": {
      "text/plain": [
       "' baby does.\\n(Video) Hyowon Gweon: See this? (Ball squeaks) Did you see that? (Ball squeaks) Cool. See this one? (Ball squeaks) Wow.\\nLaura Schulz: Told you. (Laughs)\\n(Vide'"
      ]
     },
     "execution_count": 6,
     "metadata": {},
     "output_type": "execute_result"
    }
   ],
   "source": [
    "i = input_text.find(\"Hyowon Gweon: See this?\")\n",
    "input_text[i-20:i+150]"
   ]
  },
  {
   "cell_type": "markdown",
   "metadata": {},
   "source": [
    "Let's start by removing all parenthesized strings using a regex:"
   ]
  },
  {
   "cell_type": "code",
   "execution_count": 7,
   "metadata": {},
   "outputs": [],
   "source": [
    "input_text_noparens = re.sub(r'\\([^)]*\\)', '', input_text)"
   ]
  },
  {
   "cell_type": "markdown",
   "metadata": {},
   "source": [
    "We can verify the same location in the text is now clean as follows. We won't worry about the irregular spaces since we'll later split the text into sentences and tokenize it anyway."
   ]
  },
  {
   "cell_type": "code",
   "execution_count": 8,
   "metadata": {},
   "outputs": [
    {
     "data": {
      "text/plain": [
       "\"hat the baby does.\\n Hyowon Gweon: See this?  Did you see that?  Cool. See this one?  Wow.\\nLaura Schulz: Told you. \\n HG: See this one?  Hey Clara, this one's for you. You \""
      ]
     },
     "execution_count": 8,
     "metadata": {},
     "output_type": "execute_result"
    }
   ],
   "source": [
    "i = input_text_noparens.find(\"Hyowon Gweon: See this?\")\n",
    "input_text_noparens[i-20:i+150]"
   ]
  },
  {
   "cell_type": "markdown",
   "metadata": {},
   "source": [
    "Now, let's attempt to remove speakers' names that occur at the beginning of a line, by deleting pieces of the form \"`<up to 20 characters>:`\", as shown in this example. Of course, this is an imperfect heuristic. "
   ]
  },
  {
   "cell_type": "code",
   "execution_count": 9,
   "metadata": {},
   "outputs": [
    {
     "data": {
      "text/plain": [
       "[\"Here are two reasons companies fail: they only do more of the same, or they only do what's new\",\n",
       " 'To me the real, real solution to quality growth is figuring out the balance between two activities: exploration and exploitation',\n",
       " ' Both are necessary, but it can be too much of a good thing',\n",
       " 'Consider Facit',\n",
       " \" I'm actually old enough to remember them\"]"
      ]
     },
     "execution_count": 9,
     "metadata": {},
     "output_type": "execute_result"
    }
   ],
   "source": [
    "sentences_strings_ted = []\n",
    "for line in input_text_noparens.split('\\n'):\n",
    "    m = re.match(r'^(?:(?P<precolon>[^:]{,20}):)?(?P<postcolon>.*)$', line)\n",
    "    sentences_strings_ted.extend(sent for sent in m.groupdict()['postcolon'].split('.') if sent)\n",
    "\n",
    "# Uncomment if you need to save some RAM: these strings are about 50MB.\n",
    "# del input_text, input_text_noparens\n",
    "\n",
    "# Let's view the first few:\n",
    "sentences_strings_ted[:5]"
   ]
  },
  {
   "cell_type": "markdown",
   "metadata": {},
   "source": [
    "Now that we have sentences, we're ready to tokenize each of them into words. This tokenization is imperfect, of course. For instance, how many tokens is \"can't\", and where/how do we split it? We'll take the simplest naive approach of splitting on spaces. Before splitting, we remove non-alphanumeric characters, such as punctuation. You may want to consider the following question: why do we replace these characters with spaces rather than deleting them? Think of a case where this yields a different answer."
   ]
  },
  {
   "cell_type": "code",
   "execution_count": 10,
   "metadata": {},
   "outputs": [],
   "source": [
    "sentences_ted = []\n",
    "for sent_str in sentences_strings_ted:\n",
    "    tokens = re.sub(r\"[^a-z0-9]+\", \" \", sent_str.lower()).split()\n",
    "    sentences_ted.append(tokens)"
   ]
  },
  {
   "cell_type": "markdown",
   "metadata": {},
   "source": [
    "Two sample processed sentences:"
   ]
  },
  {
   "cell_type": "code",
   "execution_count": 11,
   "metadata": {},
   "outputs": [
    {
     "data": {
      "text/plain": [
       "266694"
      ]
     },
     "execution_count": 11,
     "metadata": {},
     "output_type": "execute_result"
    }
   ],
   "source": [
    "len(sentences_ted)"
   ]
  },
  {
   "cell_type": "code",
   "execution_count": 12,
   "metadata": {},
   "outputs": [
    {
     "name": "stdout",
     "output_type": "stream",
     "text": [
      "['here', 'are', 'two', 'reasons', 'companies', 'fail', 'they', 'only', 'do', 'more', 'of', 'the', 'same', 'or', 'they', 'only', 'do', 'what', 's', 'new']\n",
      "['to', 'me', 'the', 'real', 'real', 'solution', 'to', 'quality', 'growth', 'is', 'figuring', 'out', 'the', 'balance', 'between', 'two', 'activities', 'exploration', 'and', 'exploitation']\n"
     ]
    }
   ],
   "source": [
    "print(sentences_ted[0])\n",
    "print(sentences_ted[1])"
   ]
  },
  {
   "cell_type": "markdown",
   "metadata": {},
   "source": [
    "### Part 2: Word Frequencies"
   ]
  },
  {
   "cell_type": "markdown",
   "metadata": {},
   "source": [
    "If you store the counts of the top 1000 words in a list called `counts_ted_top1000`, the code below will plot the histogram requested in the writeup."
   ]
  },
  {
   "cell_type": "code",
   "execution_count": 13,
   "metadata": {},
   "outputs": [],
   "source": [
    "from collections import Counter"
   ]
  },
  {
   "cell_type": "code",
   "execution_count": 14,
   "metadata": {},
   "outputs": [],
   "source": [
    "sentences_ted_all = [i for row in sentences_ted for i in row]\n",
    "c = Counter(sentences_ted_all)\n",
    "counts_ted_top1000_cunter = c.most_common(1000)"
   ]
  },
  {
   "cell_type": "code",
   "execution_count": 15,
   "metadata": {},
   "outputs": [
    {
     "data": {
      "text/plain": [
       "[('the', 207748),\n",
       " ('and', 149305),\n",
       " ('to', 125169),\n",
       " ('of', 114818),\n",
       " ('a', 105399)]"
      ]
     },
     "execution_count": 15,
     "metadata": {},
     "output_type": "execute_result"
    }
   ],
   "source": [
    "counts_ted_top1000_cunter[:5]\n"
   ]
  },
  {
   "cell_type": "code",
   "execution_count": 16,
   "metadata": {},
   "outputs": [],
   "source": [
    "import sklearn\n",
    "from sklearn.feature_extraction.text import CountVectorizer"
   ]
  },
  {
   "cell_type": "code",
   "execution_count": 17,
   "metadata": {},
   "outputs": [],
   "source": [
    "vec = CountVectorizer()\n",
    "X = vec.fit_transform(sentences_strings_ted)  # 不同点不需要分词 直接用句子处理"
   ]
  },
  {
   "cell_type": "code",
   "execution_count": 18,
   "metadata": {},
   "outputs": [
    {
     "name": "stdout",
     "output_type": "stream",
     "text": [
      "['the' 'and' 'to' 'of' 'that' 'in' 'it' 'you' 'we' 'is' 'this' 'so' 'they'\n",
      " 'was' 'for' 'are' 'have' 'but' 'what' 'on' 'with' 'can' 'about' 'there'\n",
      " 'be' 'as' 'at' 'all' 'not' 'do' 'my' 'one' 're' 'people' 'like' 'if'\n",
      " 'from' 'now' 'our' 'he']\n"
     ]
    }
   ],
   "source": [
    "counts_ted_top40_index = np.array(np.argsort(-X.sum(axis=0))).squeeze()[:40]\n",
    "counts_ted_top40_word = np.array(vec.get_feature_names())[counts_ted_top40_index]\n",
    "counts_ted_top40 = np.array(-1 * np.sort(-X.sum(axis=0))).squeeze()[:40]\n",
    "\n",
    "print(counts_ted_top40_word)"
   ]
  },
  {
   "cell_type": "code",
   "execution_count": 19,
   "metadata": {},
   "outputs": [],
   "source": [
    "counts_ted_top1000_index = np.array(np.argsort(-X.sum(axis=0))).squeeze()[:1000]\n",
    "counts_ted_top1000_word = np.array(vec.get_feature_names())[counts_ted_top1000_index]\n",
    "counts_ted_top1000 = np.array(-1 * np.sort(-X.sum(axis=0))).squeeze()[:1000]"
   ]
  },
  {
   "cell_type": "markdown",
   "metadata": {},
   "source": [
    "Plot distribution of top-1000 words"
   ]
  },
  {
   "cell_type": "code",
   "execution_count": 20,
   "metadata": {},
   "outputs": [
    {
     "name": "stderr",
     "output_type": "stream",
     "text": [
      "D:\\Miniconda3\\lib\\site-packages\\ipykernel_launcher.py:1: DeprecationWarning: The normed argument is ignored when density is provided. In future passing both will result in an error.\n",
      "  \"\"\"Entry point for launching an IPython kernel.\n"
     ]
    },
    {
     "data": {
      "text/html": [
       "\n",
       "\n",
       "\n",
       "\n",
       "\n",
       "\n",
       "  <div class=\"bk-root\" id=\"3ac6c9ec-dcb6-4354-9831-6b0e974fde90\" data-root-id=\"1002\"></div>\n"
      ]
     },
     "metadata": {},
     "output_type": "display_data"
    },
    {
     "data": {
      "application/javascript": [
       "(function(root) {\n",
       "  function embed_document(root) {\n",
       "    \n",
       "  var docs_json = {\"f60eeece-c7c2-4d7d-ac01-114253615a62\":{\"roots\":{\"references\":[{\"attributes\":{\"below\":[{\"id\":\"1013\",\"type\":\"LinearAxis\"}],\"center\":[{\"id\":\"1017\",\"type\":\"Grid\"},{\"id\":\"1022\",\"type\":\"Grid\"}],\"left\":[{\"id\":\"1018\",\"type\":\"LinearAxis\"}],\"renderers\":[{\"id\":\"1035\",\"type\":\"GlyphRenderer\"}],\"title\":{\"id\":\"1003\",\"type\":\"Title\"},\"toolbar\":{\"id\":\"1027\",\"type\":\"Toolbar\"},\"toolbar_location\":\"above\",\"x_range\":{\"id\":\"1005\",\"type\":\"DataRange1d\"},\"x_scale\":{\"id\":\"1009\",\"type\":\"LinearScale\"},\"y_range\":{\"id\":\"1007\",\"type\":\"DataRange1d\"},\"y_scale\":{\"id\":\"1011\",\"type\":\"LinearScale\"}},\"id\":\"1002\",\"subtype\":\"Figure\",\"type\":\"Plot\"},{\"attributes\":{\"ticker\":{\"id\":\"1014\",\"type\":\"BasicTicker\"}},\"id\":\"1017\",\"type\":\"Grid\"},{\"attributes\":{\"formatter\":{\"id\":\"1038\",\"type\":\"BasicTickFormatter\"},\"ticker\":{\"id\":\"1019\",\"type\":\"BasicTicker\"}},\"id\":\"1018\",\"type\":\"LinearAxis\"},{\"attributes\":{},\"id\":\"1019\",\"type\":\"BasicTicker\"},{\"attributes\":{\"dimension\":1,\"ticker\":{\"id\":\"1019\",\"type\":\"BasicTicker\"}},\"id\":\"1022\",\"type\":\"Grid\"},{\"attributes\":{},\"id\":\"1023\",\"type\":\"PanTool\"},{\"attributes\":{\"bottom\":{\"value\":0},\"fill_color\":{\"value\":\"#1f77b4\"},\"left\":{\"field\":\"left\"},\"line_color\":{\"value\":\"#555555\"},\"right\":{\"field\":\"right\"},\"top\":{\"field\":\"top\"}},\"id\":\"1033\",\"type\":\"Quad\"},{\"attributes\":{},\"id\":\"1024\",\"type\":\"WheelZoomTool\"},{\"attributes\":{},\"id\":\"1025\",\"type\":\"ResetTool\"},{\"attributes\":{},\"id\":\"1026\",\"type\":\"SaveTool\"},{\"attributes\":{\"active_drag\":\"auto\",\"active_inspect\":\"auto\",\"active_multi\":null,\"active_scroll\":\"auto\",\"active_tap\":\"auto\",\"tools\":[{\"id\":\"1023\",\"type\":\"PanTool\"},{\"id\":\"1024\",\"type\":\"WheelZoomTool\"},{\"id\":\"1025\",\"type\":\"ResetTool\"},{\"id\":\"1026\",\"type\":\"SaveTool\"}]},\"id\":\"1027\",\"type\":\"Toolbar\"},{\"attributes\":{\"text\":\"Top-1000 words distribution\"},\"id\":\"1003\",\"type\":\"Title\"},{\"attributes\":{\"data_source\":{\"id\":\"1032\",\"type\":\"ColumnDataSource\"},\"glyph\":{\"id\":\"1033\",\"type\":\"Quad\"},\"hover_glyph\":null,\"muted_glyph\":null,\"nonselection_glyph\":{\"id\":\"1034\",\"type\":\"Quad\"},\"selection_glyph\":null,\"view\":{\"id\":\"1036\",\"type\":\"CDSView\"}},\"id\":\"1035\",\"type\":\"GlyphRenderer\"},{\"attributes\":{\"bottom\":{\"value\":0},\"fill_alpha\":{\"value\":0.1},\"fill_color\":{\"value\":\"#1f77b4\"},\"left\":{\"field\":\"left\"},\"line_alpha\":{\"value\":0.1},\"line_color\":{\"value\":\"#1f77b4\"},\"right\":{\"field\":\"right\"},\"top\":{\"field\":\"top\"}},\"id\":\"1034\",\"type\":\"Quad\"},{\"attributes\":{\"source\":{\"id\":\"1032\",\"type\":\"ColumnDataSource\"}},\"id\":\"1036\",\"type\":\"CDSView\"},{\"attributes\":{\"callback\":null},\"id\":\"1007\",\"type\":\"DataRange1d\"},{\"attributes\":{},\"id\":\"1038\",\"type\":\"BasicTickFormatter\"},{\"attributes\":{},\"id\":\"1009\",\"type\":\"LinearScale\"},{\"attributes\":{},\"id\":\"1040\",\"type\":\"BasicTickFormatter\"},{\"attributes\":{},\"id\":\"1011\",\"type\":\"LinearScale\"},{\"attributes\":{},\"id\":\"1042\",\"type\":\"UnionRenderers\"},{\"attributes\":{\"formatter\":{\"id\":\"1040\",\"type\":\"BasicTickFormatter\"},\"ticker\":{\"id\":\"1014\",\"type\":\"BasicTicker\"}},\"id\":\"1013\",\"type\":\"LinearAxis\"},{\"attributes\":{},\"id\":\"1043\",\"type\":\"Selection\"},{\"attributes\":{},\"id\":\"1014\",\"type\":\"BasicTicker\"},{\"attributes\":{\"callback\":null,\"data\":{\"left\":{\"__ndarray__\":\"AAAAAADweEAUrkfh+lCjQBSuR+H6wbFAHoXrUXjbuUAUrkfhevrAQJmZmZk5B8VAHoXrUfgTyUCjcD0KtyDNQBSuR+G6ltBA1qNwPRqd0kCZmZmZeaPUQFyPwvXYqdZAHoXrUTiw2EDgehSul7baQKNwPQr3vNxAZmZmZlbD3kAUrkfh2mTgQPUoXI8KaOFA1qNwPTpr4kC4HoXraW7jQJmZmZmZceRAehSuR8l05UBcj8L1+HfmQD0K16Moe+dAHoXrUVh+6ED/////h4HpQOB6FK63hOpAwvUoXOeH60CjcD0KF4vsQITrUbhGju1AZmZmZnaR7kBH4XoUppTvQBSuR+HqS/BAhetRuILN8ED1KFyPGk/xQGZmZmay0PFA1qNwPUpS8kBH4XoU4tPyQLgehet5VfNAKFyPwhHX80CZmZmZqVj0QArXo3BB2vRAehSuR9lb9UDrUbgecd31QFyPwvUIX/ZAzMzMzKDg9kA9CtejOGL3QK1H4XrQ4/dAHoXrUWhl+ECPwvUoAOf4QP////+XaPlAcD0K1y/q+UDgehSux2v6QFG4HoVf7fpAwvUoXPdu+0AyMzMzj/D7QKNwPQoncvxAFK5H4b7z/ECE61G4VnX9QPUoXI/u9v1AZmZmZoZ4/kDWo3A9Hvr+QEfhehS2e/9Atx6F6039/0AUrkfhcj8AQczMzMw+gABBhetRuArBAEE9Ctej1gEBQfUoXI+iQgFBrkfhem6DAUFmZmZmOsQBQR6F61EGBQJB1qNwPdJFAkGPwvUonoYCQUfhehRqxwJB/////zUIA0G4HoXrAUkDQXA9CtfNiQNBKFyPwpnKA0HhehSuZQsEQZmZmZkxTARBUbgehf2MBEEK16Nwyc0EQcL1KFyVDgVBehSuR2FPBUEzMzMzLZAFQetRuB750AVBo3A9CsURBkFcj8L1kFIGQRSuR+FckwZBzMzMzCjUBkGE61G49BQHQT0K16PAVQdB9Shcj4yWB0GtR+F6WNcHQWZmZmYkGAhBHoXrUfBYCEHWo3A9vJkIQY/C9SiI2ghBR+F6FFQbCUE=\",\"dtype\":\"float64\",\"shape\":[100]},\"right\":{\"__ndarray__\":\"FK5H4fpQo0AUrkfh+sGxQB6F61F427lAFK5H4Xr6wECZmZmZOQfFQB6F61H4E8lAo3A9CrcgzUAUrkfhupbQQNajcD0andJAmZmZmXmj1EBcj8L12KnWQB6F61E4sNhA4HoUrpe22kCjcD0K97zcQGZmZmZWw95AFK5H4dpk4ED1KFyPCmjhQNajcD06a+JAuB6F62lu40CZmZmZmXHkQHoUrkfJdOVAXI/C9fh35kA9CtejKHvnQB6F61FYfuhA/////4eB6UDgehSut4TqQML1KFznh+tAo3A9CheL7ECE61G4Ro7tQGZmZmZ2ke5AR+F6FKaU70AUrkfh6kvwQIXrUbiCzfBA9ShcjxpP8UBmZmZmstDxQNajcD1KUvJAR+F6FOLT8kC4HoXreVXzQChcj8IR1/NAmZmZmalY9EAK16NwQdr0QHoUrkfZW/VA61G4HnHd9UBcj8L1CF/2QMzMzMyg4PZAPQrXozhi90CtR+F60OP3QB6F61FoZfhAj8L1KADn+ED/////l2j5QHA9Ctcv6vlA4HoUrsdr+kBRuB6FX+36QML1KFz3bvtAMjMzM4/w+0CjcD0KJ3L8QBSuR+G+8/xAhOtRuFZ1/UD1KFyP7vb9QGZmZmaGeP5A1qNwPR76/kBH4XoUtnv/QLcehetN/f9AFK5H4XI/AEHMzMzMPoAAQYXrUbgKwQBBPQrXo9YBAUH1KFyPokIBQa5H4XpugwFBZmZmZjrEAUEehetRBgUCQdajcD3SRQJBj8L1KJ6GAkFH4XoUascCQf////81CANBuB6F6wFJA0FwPQrXzYkDQShcj8KZygNB4XoUrmULBEGZmZmZMUwEQVG4HoX9jARBCtejcMnNBEHC9ShclQ4FQXoUrkdhTwVBMzMzMy2QBUHrUbge+dAFQaNwPQrFEQZBXI/C9ZBSBkEUrkfhXJMGQczMzMwo1AZBhOtRuPQUB0E9CtejwFUHQfUoXI+MlgdBrUfheljXB0FmZmZmJBgIQR6F61HwWAhB1qNwPbyZCEGPwvUoiNoIQUfhehRUGwlBAAAAACBcCUE=\",\"dtype\":\"float64\",\"shape\":[100]},\"top\":{\"__ndarray__\":\"ZBqztziyOT+SMBnr7vAAP6NIXWW4VO0+DGJUw5U04j59rPUCvi7gPizNEURFQNY+DGJUw5U00j59rPUCvi7APsKCcAQdRsg+eaz1Ar4uwD55rPUCvi6gPoGs9QK+LrA+gaz1Ar4uwD55rPUCvi6gPnms9QK+LrA+gaz1Ar4uoD4AAAAAAAAAAIGs9QK+LqA+AAAAAAAAAAAAAAAAAAAAAAAAAAAAAAAAAAAAAAAAAAAAAAAAAAAAAIGs9QK+LqA+AAAAAAAAAAAAAAAAAAAAAAAAAAAAAAAAAAAAAAAAAAAAAAAAAAAAAAAAAAAAAAAAgaz1Ar4uoD4AAAAAAAAAAHGs9QK+LqA+AAAAAAAAAABxrPUCvi6gPpGs9QK+LqA+AAAAAAAAAABxrPUCvi6gPgAAAAAAAAAAAAAAAAAAAAAAAAAAAAAAAAAAAAAAAAAAAAAAAAAAAAAAAAAAAAAAAAAAAAAAAAAAcaz1Ar4uoD4AAAAAAAAAAAAAAAAAAAAAAAAAAAAAAAAAAAAAAAAAAAAAAAAAAAAAAAAAAAAAAAAAAAAAAAAAAAAAAAAAAAAAAAAAAAAAAABxrPUCvi6gPgAAAAAAAAAAAAAAAAAAAAAAAAAAAAAAAAAAAAAAAAAAkaz1Ar4uoD4AAAAAAAAAAAAAAAAAAAAAAAAAAAAAAAAAAAAAAAAAAAAAAAAAAAAAAAAAAAAAAAAAAAAAAAAAAAAAAAAAAAAAAAAAAAAAAAAAAAAAAAAAAJGs9QK+LqA+AAAAAAAAAAAAAAAAAAAAAAAAAAAAAAAAAAAAAAAAAAAAAAAAAAAAAAAAAAAAAAAAAAAAAAAAAAAAAAAAAAAAAAAAAAAAAAAAAAAAAAAAAAAAAAAAAAAAAAAAAAAAAAAAAAAAAAAAAAAAAAAAAAAAAAAAAAAAAAAAAAAAAAAAAAAAAAAAAAAAAAAAAAAAAAAAAAAAAAAAAAAAAAAAAAAAAAAAAAAAAAAAAAAAAAAAAAAAAAAAAAAAAAAAAAAAAAAAAAAAAAAAAAAAAAAAAAAAAAAAAAAAAAAAUaz1Ar4uoD4=\",\"dtype\":\"float64\",\"shape\":[100]}},\"selected\":{\"id\":\"1043\",\"type\":\"Selection\"},\"selection_policy\":{\"id\":\"1042\",\"type\":\"UnionRenderers\"}},\"id\":\"1032\",\"type\":\"ColumnDataSource\"},{\"attributes\":{\"callback\":null},\"id\":\"1005\",\"type\":\"DataRange1d\"}],\"root_ids\":[\"1002\"]},\"title\":\"Bokeh Application\",\"version\":\"1.3.4\"}};\n",
       "  var render_items = [{\"docid\":\"f60eeece-c7c2-4d7d-ac01-114253615a62\",\"roots\":{\"1002\":\"3ac6c9ec-dcb6-4354-9831-6b0e974fde90\"}}];\n",
       "  root.Bokeh.embed.embed_items_notebook(docs_json, render_items);\n",
       "\n",
       "  }\n",
       "  if (root.Bokeh !== undefined) {\n",
       "    embed_document(root);\n",
       "  } else {\n",
       "    var attempts = 0;\n",
       "    var timer = setInterval(function(root) {\n",
       "      if (root.Bokeh !== undefined) {\n",
       "        embed_document(root);\n",
       "        clearInterval(timer);\n",
       "      }\n",
       "      attempts++;\n",
       "      if (attempts > 100) {\n",
       "        console.log(\"Bokeh: ERROR: Unable to run BokehJS code because BokehJS library is missing\");\n",
       "        clearInterval(timer);\n",
       "      }\n",
       "    }, 10, root)\n",
       "  }\n",
       "})(window);"
      ],
      "application/vnd.bokehjs_exec.v0+json": ""
     },
     "metadata": {
      "application/vnd.bokehjs_exec.v0+json": {
       "id": "1002"
      }
     },
     "output_type": "display_data"
    }
   ],
   "source": [
    "hist, edges = np.histogram(counts_ted_top1000, density=True, bins=100, normed=True)\n",
    "\n",
    "p = figure(tools=\"pan,wheel_zoom,reset,save\",\n",
    "           toolbar_location=\"above\",\n",
    "           title=\"Top-1000 words distribution\")\n",
    "p.quad(top=hist, bottom=0, left=edges[:-1], right=edges[1:], line_color=\"#555555\")\n",
    "show(p)"
   ]
  },
  {
   "cell_type": "markdown",
   "metadata": {},
   "source": [
    "### Part 3: Train Word2Vec"
   ]
  },
  {
   "cell_type": "code",
   "execution_count": 21,
   "metadata": {},
   "outputs": [],
   "source": [
    "from gensim.models import Word2Vec,FastText\n",
    "from gensim import corpora"
   ]
  },
  {
   "cell_type": "code",
   "execution_count": 22,
   "metadata": {},
   "outputs": [
    {
     "name": "stdout",
     "output_type": "stream",
     "text": [
      "54454 Dictionary(54454 unique tokens: ['are', 'companies', 'do', 'fail', 'here']...)\n"
     ]
    }
   ],
   "source": [
    "model_ted = Word2Vec(sentences=sentences_ted, size=100, window=5, min_count=10, workers=4, sg=0)\n",
    "dictionary_ted = corpora.Dictionary(sentences_ted)\n",
    "print(len(dictionary_ted), dictionary_ted)"
   ]
  },
  {
   "cell_type": "code",
   "execution_count": 23,
   "metadata": {},
   "outputs": [],
   "source": [
    "model_fas = FastText(sentences=sentences_ted, size=100, window=5, min_count=10, workers=4, sg=1)"
   ]
  },
  {
   "cell_type": "markdown",
   "metadata": {},
   "source": [
    "### Part 4: Ted Learnt Representations"
   ]
  },
  {
   "cell_type": "markdown",
   "metadata": {},
   "source": [
    "Finding similar words: (see gensim docs for more functionality of `most_similar`)"
   ]
  },
  {
   "cell_type": "code",
   "execution_count": 24,
   "metadata": {},
   "outputs": [
    {
     "data": {
      "text/plain": [
       "[('woman', 0.8279821276664734),\n",
       " ('guy', 0.8109195232391357),\n",
       " ('boy', 0.7652816772460938),\n",
       " ('lady', 0.7546353936195374),\n",
       " ('girl', 0.7393965721130371),\n",
       " ('gentleman', 0.7377394437789917),\n",
       " ('soldier', 0.7244832515716553),\n",
       " ('poet', 0.6874878406524658),\n",
       " ('kid', 0.6795066595077515),\n",
       " ('king', 0.660785436630249)]"
      ]
     },
     "execution_count": 24,
     "metadata": {},
     "output_type": "execute_result"
    }
   ],
   "source": [
    "model_ted.wv.most_similar(\"man\")"
   ]
  },
  {
   "cell_type": "code",
   "execution_count": 25,
   "metadata": {},
   "outputs": [
    {
     "data": {
      "text/plain": [
       "[('batman', 0.8157356977462769),\n",
       " ('woman', 0.7853835821151733),\n",
       " ('foreman', 0.775435209274292),\n",
       " ('shaman', 0.7752416133880615),\n",
       " ('fireman', 0.7634155750274658),\n",
       " ('guy', 0.7382100224494934),\n",
       " ('anderson', 0.7258508205413818),\n",
       " ('goldman', 0.7238233089447021),\n",
       " ('roman', 0.7079381942749023),\n",
       " ('ottoman', 0.7032468318939209)]"
      ]
     },
     "execution_count": 25,
     "metadata": {},
     "output_type": "execute_result"
    }
   ],
   "source": [
    "model_fas.wv.most_similar('man')"
   ]
  },
  {
   "cell_type": "code",
   "execution_count": 26,
   "metadata": {},
   "outputs": [
    {
     "data": {
      "text/plain": [
       "[('machine', 0.735552191734314),\n",
       " ('software', 0.7269195318222046),\n",
       " ('robot', 0.6898480653762817),\n",
       " ('3d', 0.6603951454162598),\n",
       " ('device', 0.6594791412353516),\n",
       " ('chip', 0.6557748913764954),\n",
       " ('interface', 0.6448720097541809),\n",
       " ('simulation', 0.6298094987869263),\n",
       " ('desktop', 0.628256618976593),\n",
       " ('video', 0.6231306791305542)]"
      ]
     },
     "execution_count": 26,
     "metadata": {},
     "output_type": "execute_result"
    }
   ],
   "source": [
    "model_ted.wv.most_similar(\"computer\")"
   ]
  },
  {
   "cell_type": "code",
   "execution_count": 27,
   "metadata": {},
   "outputs": [
    {
     "data": {
      "text/plain": [
       "[('arthritis', 0.8259387016296387),\n",
       " ('h1n1', 0.7725438475608826),\n",
       " ('adolescent', 0.7597124576568604),\n",
       " ('h5n1', 0.7475234270095825),\n",
       " ('ghraib', 0.7466444969177246),\n",
       " ('cdc', 0.7410764694213867),\n",
       " ('adolescents', 0.7367986440658569),\n",
       " ('mitochondrial', 0.7339369058609009),\n",
       " ('antiangiogenic', 0.7272385358810425),\n",
       " ('astrolabe', 0.7265154123306274)]"
      ]
     },
     "execution_count": 27,
     "metadata": {},
     "output_type": "execute_result"
    }
   ],
   "source": [
    "model_fas.wv.most_similar(\"Gastroenteritis\")"
   ]
  },
  {
   "cell_type": "code",
   "execution_count": 28,
   "metadata": {},
   "outputs": [],
   "source": [
    "words_top_ted = counts_ted_top1000_word"
   ]
  },
  {
   "cell_type": "markdown",
   "metadata": {},
   "source": [
    "#### t-SNE visualization\n",
    "To use the t-SNE code below, first put a list of the top 1000 words (as strings) into a variable `words_top_ted`. The following code gets the corresponding vectors from the model, assuming it's called `model_ted`:"
   ]
  },
  {
   "cell_type": "code",
   "execution_count": 29,
   "metadata": {},
   "outputs": [
    {
     "name": "stderr",
     "output_type": "stream",
     "text": [
      "D:\\Miniconda3\\lib\\site-packages\\ipykernel_launcher.py:2: DeprecationWarning: Call to deprecated `__getitem__` (Method will be removed in 4.0.0, use self.wv.__getitem__() instead).\n",
      "  \n"
     ]
    }
   ],
   "source": [
    "# This assumes words_top_ted is a list of strings, the top 1000 words\n",
    "words_top_vec_ted = model_ted[words_top_ted]"
   ]
  },
  {
   "cell_type": "code",
   "execution_count": 30,
   "metadata": {},
   "outputs": [],
   "source": [
    "from sklearn.manifold import TSNE"
   ]
  },
  {
   "cell_type": "code",
   "execution_count": 31,
   "metadata": {},
   "outputs": [],
   "source": [
    "tsne = TSNE(n_components=2, random_state=0)\n",
    "words_top_ted_tsne = tsne.fit_transform(words_top_vec_ted)"
   ]
  },
  {
   "cell_type": "code",
   "execution_count": 32,
   "metadata": {},
   "outputs": [
    {
     "data": {
      "text/html": [
       "\n",
       "\n",
       "\n",
       "\n",
       "\n",
       "\n",
       "  <div class=\"bk-root\" id=\"35c70a38-395c-433c-87ea-8b5fdd8d569c\" data-root-id=\"1086\"></div>\n"
      ]
     },
     "metadata": {},
     "output_type": "display_data"
    },
    {
     "data": {
      "application/javascript": [
       "(function(root) {\n",
       "  function embed_document(root) {\n",
       "    \n",
       "  var docs_json = {\"3a719185-9e55-4e37-9f55-8c298bc6dcb8\":{\"roots\":{\"references\":[{\"attributes\":{\"below\":[{\"id\":\"1097\",\"type\":\"LinearAxis\"}],\"center\":[{\"id\":\"1101\",\"type\":\"Grid\"},{\"id\":\"1106\",\"type\":\"Grid\"},{\"id\":\"1122\",\"type\":\"LabelSet\"}],\"left\":[{\"id\":\"1102\",\"type\":\"LinearAxis\"}],\"renderers\":[{\"id\":\"1120\",\"type\":\"GlyphRenderer\"}],\"title\":{\"id\":\"1087\",\"type\":\"Title\"},\"toolbar\":{\"id\":\"1111\",\"type\":\"Toolbar\"},\"toolbar_location\":\"above\",\"x_range\":{\"id\":\"1089\",\"type\":\"DataRange1d\"},\"x_scale\":{\"id\":\"1093\",\"type\":\"LinearScale\"},\"y_range\":{\"id\":\"1091\",\"type\":\"DataRange1d\"},\"y_scale\":{\"id\":\"1095\",\"type\":\"LinearScale\"}},\"id\":\"1086\",\"subtype\":\"Figure\",\"type\":\"Plot\"},{\"attributes\":{},\"id\":\"1095\",\"type\":\"LinearScale\"},{\"attributes\":{\"formatter\":{\"id\":\"1134\",\"type\":\"BasicTickFormatter\"},\"ticker\":{\"id\":\"1098\",\"type\":\"BasicTicker\"}},\"id\":\"1097\",\"type\":\"LinearAxis\"},{\"attributes\":{},\"id\":\"1098\",\"type\":\"BasicTicker\"},{\"attributes\":{},\"id\":\"1134\",\"type\":\"BasicTickFormatter\"},{\"attributes\":{\"ticker\":{\"id\":\"1098\",\"type\":\"BasicTicker\"}},\"id\":\"1101\",\"type\":\"Grid\"},{\"attributes\":{},\"id\":\"1136\",\"type\":\"UnionRenderers\"},{\"attributes\":{\"formatter\":{\"id\":\"1132\",\"type\":\"BasicTickFormatter\"},\"ticker\":{\"id\":\"1103\",\"type\":\"BasicTicker\"}},\"id\":\"1102\",\"type\":\"LinearAxis\"},{\"attributes\":{\"callback\":null},\"id\":\"1089\",\"type\":\"DataRange1d\"},{\"attributes\":{},\"id\":\"1137\",\"type\":\"Selection\"},{\"attributes\":{},\"id\":\"1103\",\"type\":\"BasicTicker\"},{\"attributes\":{\"dimension\":1,\"ticker\":{\"id\":\"1103\",\"type\":\"BasicTicker\"}},\"id\":\"1106\",\"type\":\"Grid\"},{\"attributes\":{},\"id\":\"1107\",\"type\":\"PanTool\"},{\"attributes\":{},\"id\":\"1132\",\"type\":\"BasicTickFormatter\"},{\"attributes\":{},\"id\":\"1108\",\"type\":\"WheelZoomTool\"},{\"attributes\":{},\"id\":\"1109\",\"type\":\"ResetTool\"},{\"attributes\":{},\"id\":\"1110\",\"type\":\"SaveTool\"},{\"attributes\":{\"callback\":null,\"data\":{\"names\":[\"the\",\"and\",\"to\",\"of\",\"that\",\"in\",\"it\",\"you\",\"we\",\"is\",\"this\",\"so\",\"they\",\"was\",\"for\",\"are\",\"have\",\"but\",\"what\",\"on\",\"with\",\"can\",\"about\",\"there\",\"be\",\"as\",\"at\",\"all\",\"not\",\"do\",\"my\",\"one\",\"re\",\"people\",\"like\",\"if\",\"from\",\"now\",\"our\",\"he\",\"an\",\"just\",\"these\",\"or\",\"when\",\"because\",\"very\",\"me\",\"out\",\"by\",\"them\",\"how\",\"know\",\"up\",\"going\",\"had\",\"more\",\"think\",\"who\",\"were\",\"see\",\"your\",\"their\",\"which\",\"would\",\"here\",\"really\",\"get\",\"ve\",\"then\",\"world\",\"us\",\"time\",\"some\",\"has\",\"don\",\"actually\",\"into\",\"way\",\"where\",\"will\",\"years\",\"things\",\"other\",\"no\",\"could\",\"go\",\"well\",\"want\",\"been\",\"make\",\"right\",\"she\",\"said\",\"something\",\"those\",\"first\",\"two\",\"than\",\"much\",\"also\",\"look\",\"new\",\"thing\",\"little\",\"got\",\"back\",\"over\",\"most\",\"say\",\"even\",\"his\",\"life\",\"only\",\"work\",\"many\",\"take\",\"need\",\"did\",\"lot\",\"kind\",\"why\",\"good\",\"around\",\"every\",\"different\",\"down\",\"ll\",\"let\",\"her\",\"through\",\"same\",\"being\",\"come\",\"day\",\"year\",\"three\",\"use\",\"doing\",\"put\",\"called\",\"any\",\"today\",\"percent\",\"made\",\"after\",\"thank\",\"tell\",\"great\",\"human\",\"find\",\"didn\",\"fact\",\"talk\",\"change\",\"started\",\"another\",\"idea\",\"big\",\"last\",\"own\",\"before\",\"its\",\"never\",\"should\",\"better\",\"give\",\"thought\",\"went\",\"might\",\"important\",\"000\",\"again\",\"able\",\"together\",\"still\",\"problem\",\"off\",\"next\",\"part\",\"course\",\"system\",\"him\",\"does\",\"each\",\"start\",\"show\",\"long\",\"ago\",\"story\",\"came\",\"brain\",\"few\",\"bit\",\"between\",\"used\",\"place\",\"technology\",\"women\",\"too\",\"old\",\"mean\",\"data\",\"water\",\"looking\",\"question\",\"maybe\",\"found\",\"love\",\"doesn\",\"end\",\"example\",\"10\",\"done\",\"point\",\"four\",\"real\",\"wanted\",\"ever\",\"understand\",\"school\",\"sort\",\"live\",\"call\",\"whole\",\"always\",\"children\",\"trying\",\"may\",\"person\",\"away\",\"believe\",\"feel\",\"try\",\"million\",\"working\",\"help\",\"everything\",\"five\",\"country\",\"thinking\",\"second\",\"using\",\"information\",\"money\",\"means\",\"power\",\"took\",\"times\",\"high\",\"space\",\"number\",\"kids\",\"home\",\"become\",\"create\",\"small\",\"design\",\"making\",\"best\",\"left\",\"getting\",\"future\",\"enough\",\"man\",\"quite\",\"city\",\"without\",\"sense\",\"happened\",\"comes\",\"social\",\"probably\",\"less\",\"light\",\"talking\",\"energy\",\"am\",\"building\",\"science\",\"food\",\"body\",\"told\",\"interesting\",\"ask\",\"half\",\"pretty\",\"hard\",\"play\",\"anything\",\"lives\",\"countries\",\"such\",\"coming\",\"family\",\"stuff\",\"dollars\",\"earth\",\"moment\",\"20\",\"imagine\",\"across\",\"side\",\"saw\",\"while\",\"happen\",\"once\",\"okay\",\"build\",\"having\",\"men\",\"later\",\"experience\",\"makes\",\"asked\",\"living\",\"seen\",\"says\",\"room\",\"hand\",\"simple\",\"health\",\"ways\",\"else\",\"case\",\"almost\",\"yet\",\"young\",\"days\",\"nothing\",\"care\",\"bad\",\"happens\",\"goes\",\"move\",\"states\",\"reason\",\"computer\",\"open\",\"learn\",\"africa\",\"process\",\"inside\",\"someone\",\"six\",\"far\",\"mind\",\"project\",\"remember\",\"single\",\"picture\",\"both\",\"whether\",\"problems\",\"community\",\"basically\",\"saying\",\"already\",\"within\",\"looked\",\"myself\",\"billion\",\"possible\",\"often\",\"business\",\"planet\",\"global\",\"everybody\",\"top\",\"sure\",\"public\",\"set\",\"wrong\",\"car\",\"book\",\"keep\",\"yes\",\"answer\",\"oh\",\"sometimes\",\"hope\",\"history\",\"true\",\"war\",\"guy\",\"child\",\"instead\",\"months\",\"ideas\",\"looks\",\"matter\",\"government\",\"amazing\",\"united\",\"since\",\"bring\",\"age\",\"cells\",\"job\",\"heard\",\"until\",\"face\",\"wasn\",\"100\",\"read\",\"control\",\"isn\",\"research\",\"30\",\"words\",\"group\",\"under\",\"self\",\"somebody\",\"built\",\"state\",\"woman\",\"turn\",\"beautiful\",\"friends\",\"line\",\"knew\",\"couple\",\"order\",\"form\",\"yeah\",\"internet\",\"middle\",\"music\",\"piece\",\"nature\",\"head\",\"though\",\"stop\",\"everyone\",\"50\",\"places\",\"video\",\"language\",\"learned\",\"run\",\"night\",\"decided\",\"word\",\"study\",\"cancer\",\"taking\",\"works\",\"became\",\"exactly\",\"species\",\"completely\",\"society\",\"education\",\"against\",\"stories\",\"large\",\"share\",\"level\",\"heart\",\"america\",\"model\",\"questions\",\"gets\",\"mother\",\"god\",\"company\",\"turns\",\"ourselves\",\"happening\",\"art\",\"hear\",\"themselves\",\"must\",\"itself\",\"rather\",\"kinds\",\"students\",\"name\",\"hours\",\"disease\",\"front\",\"house\",\"couldn\",\"huge\",\"created\",\"universe\",\"ok\",\"animals\",\"american\",\"environment\",\"worked\",\"minutes\",\"ones\",\"black\",\"perhaps\",\"past\",\"third\",\"along\",\"others\",\"finally\",\"sound\",\"early\",\"game\",\"thousands\",\"century\",\"least\",\"based\",\"per\",\"ted\",\"lots\",\"figure\",\"free\",\"particular\",\"guys\",\"happy\",\"news\",\"learning\",\"entire\",\"won\",\"gave\",\"machine\",\"india\",\"during\",\"systems\",\"air\",\"difference\",\"outside\",\"natural\",\"taken\",\"seven\",\"given\",\"changed\",\"leave\",\"cell\",\"15\",\"close\",\"behind\",\"cities\",\"full\",\"scale\",\"china\",\"difficult\",\"takes\",\"companies\",\"area\",\"yourself\",\"reality\",\"seeing\",\"easy\",\"turned\",\"cost\",\"eyes\",\"team\",\"moving\",\"population\",\"culture\",\"york\",\"hands\",\"whatever\",\"began\",\"terms\",\"needs\",\"image\",\"needed\",\"simply\",\"beginning\",\"father\",\"local\",\"realized\",\"media\",\"parents\",\"death\",\"walk\",\"view\",\"white\",\"market\",\"parts\",\"ocean\",\"eight\",\"economic\",\"powerful\",\"known\",\"week\",\"size\",\"felt\",\"humans\",\"certain\",\"spend\",\"longer\",\"phone\",\"wonderful\",\"cannot\",\"common\",\"grow\",\"center\",\"tried\",\"fish\",\"land\",\"oil\",\"deal\",\"political\",\"interested\",\"red\",\"gone\",\"amount\",\"weeks\",\"spent\",\"opportunity\",\"paper\",\"lost\",\"quickly\",\"national\",\"blue\",\"step\",\"poor\",\"green\",\"buy\",\"wouldn\",\"growth\",\"either\",\"patients\",\"sitting\",\"ability\",\"changes\",\"write\",\"challenge\",\"south\",\"low\",\"friend\",\"growing\",\"field\",\"shows\",\"rest\",\"born\",\"climate\",\"40\",\"test\",\"street\",\"incredible\",\"surface\",\"average\",\"physical\",\"pay\",\"program\",\"morning\",\"scientists\",\"value\",\"behavior\",\"hundreds\",\"met\",\"girl\",\"feeling\",\"economy\",\"dna\",\"complex\",\"access\",\"risk\",\"animal\",\"structure\",\"feet\",\"attention\",\"anyone\",\"areas\",\"deep\",\"watch\",\"short\",\"absolutely\",\"brought\",\"speak\",\"bottom\",\"die\",\"numbers\",\"audience\",\"stage\",\"realize\",\"images\",\"law\",\"wrote\",\"understanding\",\"literally\",\"books\",\"knowledge\",\"movement\",\"giving\",\"ground\",\"eat\",\"force\",\"alone\",\"seems\",\"telling\",\"hold\",\"starting\",\"nice\",\"forward\",\"sea\",\"developed\",\"kid\",\"individual\",\"millions\",\"support\",\"tools\",\"running\",\"miles\",\"online\",\"result\",\"act\",\"medical\",\"technologies\",\"north\",\"development\",\"lab\",\"blood\",\"fear\",\"map\",\"nobody\",\"personal\",\"issue\",\"voice\",\"material\",\"key\",\"recently\",\"12\",\"theory\",\"cut\",\"cars\",\"sun\",\"fast\",\"changing\",\"clear\",\"playing\",\"especially\",\"patient\",\"soon\",\"girls\",\"fly\",\"choice\",\"creating\",\"talked\",\"relationship\",\"normal\",\"europe\",\"discovered\",\"gives\",\"generation\",\"dark\",\"showed\",\"type\",\"asking\",\"chance\",\"industry\",\"seem\",\"rate\",\"fun\",\"designed\",\"issues\",\"hour\",\"color\",\"innovation\",\"several\",\"university\",\"computers\",\"tiny\",\"english\",\"focus\",\"save\",\"allow\",\"class\",\"developing\",\"solve\",\"digital\",\"film\",\"network\",\"special\",\"wall\",\"baby\",\"situation\",\"solution\",\"box\",\"reasons\",\"knows\",\"stand\",\"dead\",\"meet\",\"begin\",\"impact\",\"anybody\",\"haven\",\"term\",\"beyond\",\"pictures\",\"please\",\"produce\",\"ice\",\"shape\",\"non\",\"resources\",\"cool\",\"robot\",\"groups\",\"stay\",\"likely\",\"major\",\"rights\",\"truth\",\"available\",\"writing\",\"experiment\",\"evidence\",\"cause\",\"obviously\",\"modern\",\"drug\",\"becomes\",\"incredibly\",\"bigger\",\"aren\",\"guess\",\"product\",\"nine\",\"drugs\",\"lived\",\"involved\",\"month\",\"google\",\"perfect\",\"effect\",\"putting\",\"similar\",\"eye\",\"pick\",\"message\",\"violence\",\"web\",\"quality\",\"office\",\"security\",\"evolution\",\"general\",\"indeed\",\"basic\",\"solar\",\"towards\",\"present\",\"drive\",\"listen\",\"send\",\"worth\",\"revolution\",\"explain\",\"hundred\",\"died\",\"certainly\",\"teach\",\"ready\",\"25\",\"journey\",\"hit\",\"walking\",\"led\",\"international\",\"approach\",\"200\",\"scientific\",\"games\",\"60\",\"potential\",\"crazy\",\"chinese\",\"communities\",\"device\",\"camera\",\"source\",\"sex\",\"carbon\",\"rules\",\"sounds\",\"boy\",\"reach\",\"starts\",\"west\",\"examples\",\"software\",\"success\",\"measure\",\"particularly\",\"totally\",\"suddenly\",\"action\",\"college\",\"higher\",\"code\",\"eventually\",\"democracy\",\"sit\",\"minute\",\"among\",\"largest\",\"hospital\",\"showing\",\"period\",\"notice\",\"mass\",\"develop\",\"dream\",\"onto\",\"memory\",\"break\",\"add\",\"plants\",\"everywhere\",\"zero\",\"favorite\",\"11\",\"response\",\"moved\",\"speed\",\"schools\",\"wants\",\"movie\",\"extremely\",\"table\",\"individuals\",\"wait\",\"medicine\",\"follow\",\"trust\",\"anyway\",\"plant\",\"biggest\",\"watching\",\"organization\",\"road\",\"creative\",\"worse\",\"choose\",\"lead\",\"results\",\"500\",\"exciting\",\"grew\",\"materials\",\"jobs\",\"positive\",\"poverty\",\"east\",\"strong\",\"safe\",\"fall\",\"plan\",\"essentially\",\"object\",\"door\",\"son\",\"vision\",\"happiness\",\"continue\",\"further\",\"student\",\"doctor\",\"role\",\"named\",\"objects\",\"including\",\"extraordinary\",\"standing\",\"conversation\",\"skin\",\"leaders\",\"usually\",\"african\",\"projects\",\"models\",\"allowed\",\"supposed\",\"faster\",\"interest\",\"families\",\"police\",\"fight\",\"tree\",\"connected\",\"screen\",\"cases\",\"somewhere\",\"goal\",\"buildings\",\"finding\",\"shown\",\"older\",\"meaning\",\"teachers\",\"expect\",\"decision\",\"taught\",\"80\",\"fire\",\"village\",\"mine\",\"wife\"],\"x1\":{\"__ndarray__\":\"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\",\"dtype\":\"float32\",\"shape\":[1000]},\"x2\":{\"__ndarray__\":\"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\",\"dtype\":\"float32\",\"shape\":[1000]}},\"selected\":{\"id\":\"1137\",\"type\":\"Selection\"},\"selection_policy\":{\"id\":\"1136\",\"type\":\"UnionRenderers\"}},\"id\":\"1116\",\"type\":\"ColumnDataSource\"},{\"attributes\":{\"active_drag\":\"auto\",\"active_inspect\":\"auto\",\"active_multi\":null,\"active_scroll\":\"auto\",\"active_tap\":\"auto\",\"tools\":[{\"id\":\"1107\",\"type\":\"PanTool\"},{\"id\":\"1108\",\"type\":\"WheelZoomTool\"},{\"id\":\"1109\",\"type\":\"ResetTool\"},{\"id\":\"1110\",\"type\":\"SaveTool\"}]},\"id\":\"1111\",\"type\":\"Toolbar\"},{\"attributes\":{\"source\":{\"id\":\"1116\",\"type\":\"ColumnDataSource\"},\"text\":{\"field\":\"names\"},\"text_align\":\"center\",\"text_color\":{\"value\":\"#555555\"},\"text_font_size\":{\"value\":\"8pt\"},\"x\":{\"field\":\"x1\"},\"y\":{\"field\":\"x2\"},\"y_offset\":{\"value\":6}},\"id\":\"1122\",\"type\":\"LabelSet\"},{\"attributes\":{\"fill_color\":{\"value\":\"#1f77b4\"},\"line_color\":{\"value\":\"#1f77b4\"},\"size\":{\"units\":\"screen\",\"value\":8},\"x\":{\"field\":\"x1\"},\"y\":{\"field\":\"x2\"}},\"id\":\"1118\",\"type\":\"Scatter\"},{\"attributes\":{\"text\":\"word2vec T-SNE for most common words\"},\"id\":\"1087\",\"type\":\"Title\"},{\"attributes\":{\"fill_alpha\":{\"value\":0.1},\"fill_color\":{\"value\":\"#1f77b4\"},\"line_alpha\":{\"value\":0.1},\"line_color\":{\"value\":\"#1f77b4\"},\"size\":{\"units\":\"screen\",\"value\":8},\"x\":{\"field\":\"x1\"},\"y\":{\"field\":\"x2\"}},\"id\":\"1119\",\"type\":\"Scatter\"},{\"attributes\":{\"data_source\":{\"id\":\"1116\",\"type\":\"ColumnDataSource\"},\"glyph\":{\"id\":\"1118\",\"type\":\"Scatter\"},\"hover_glyph\":null,\"muted_glyph\":null,\"nonselection_glyph\":{\"id\":\"1119\",\"type\":\"Scatter\"},\"selection_glyph\":null,\"view\":{\"id\":\"1121\",\"type\":\"CDSView\"}},\"id\":\"1120\",\"type\":\"GlyphRenderer\"},{\"attributes\":{\"callback\":null},\"id\":\"1091\",\"type\":\"DataRange1d\"},{\"attributes\":{\"source\":{\"id\":\"1116\",\"type\":\"ColumnDataSource\"}},\"id\":\"1121\",\"type\":\"CDSView\"},{\"attributes\":{},\"id\":\"1093\",\"type\":\"LinearScale\"}],\"root_ids\":[\"1086\"]},\"title\":\"Bokeh Application\",\"version\":\"1.3.4\"}};\n",
       "  var render_items = [{\"docid\":\"3a719185-9e55-4e37-9f55-8c298bc6dcb8\",\"roots\":{\"1086\":\"35c70a38-395c-433c-87ea-8b5fdd8d569c\"}}];\n",
       "  root.Bokeh.embed.embed_items_notebook(docs_json, render_items);\n",
       "\n",
       "  }\n",
       "  if (root.Bokeh !== undefined) {\n",
       "    embed_document(root);\n",
       "  } else {\n",
       "    var attempts = 0;\n",
       "    var timer = setInterval(function(root) {\n",
       "      if (root.Bokeh !== undefined) {\n",
       "        embed_document(root);\n",
       "        clearInterval(timer);\n",
       "      }\n",
       "      attempts++;\n",
       "      if (attempts > 100) {\n",
       "        console.log(\"Bokeh: ERROR: Unable to run BokehJS code because BokehJS library is missing\");\n",
       "        clearInterval(timer);\n",
       "      }\n",
       "    }, 10, root)\n",
       "  }\n",
       "})(window);"
      ],
      "application/vnd.bokehjs_exec.v0+json": ""
     },
     "metadata": {
      "application/vnd.bokehjs_exec.v0+json": {
       "id": "1086"
      }
     },
     "output_type": "display_data"
    }
   ],
   "source": [
    "p = figure(tools=\"pan,wheel_zoom,reset,save\",\n",
    "           toolbar_location=\"above\",\n",
    "           title=\"word2vec T-SNE for most common words\")\n",
    "\n",
    "source = ColumnDataSource(data=dict(x1=words_top_ted_tsne[:,0],\n",
    "                                    x2=words_top_ted_tsne[:,1],\n",
    "                                    names=words_top_ted))\n",
    "\n",
    "p.scatter(x=\"x1\", y=\"x2\", size=8, source=source)\n",
    "\n",
    "labels = LabelSet(x=\"x1\", y=\"x2\", text=\"names\", y_offset=6,\n",
    "                  text_font_size=\"8pt\", text_color=\"#555555\",\n",
    "                  source=source, text_align='center')\n",
    "p.add_layout(labels)\n",
    "\n",
    "show(p)"
   ]
  },
  {
   "cell_type": "markdown",
   "metadata": {},
   "source": [
    "### Part 5: Wiki Learnt Representations"
   ]
  },
  {
   "cell_type": "markdown",
   "metadata": {},
   "source": [
    "Download dataset"
   ]
  },
  {
   "cell_type": "code",
   "execution_count": 33,
   "metadata": {},
   "outputs": [],
   "source": [
    "if not os.path.isfile('../Data/wikitext-103-raw-v1.zip'):\n",
    "    urllib.request.urlretrieve(\"https://s3.amazonaws.com/research.metamind.io/wikitext/wikitext-103-raw-v1.zip\", filename=\"wikitext-103-raw-v1.zip\")"
   ]
  },
  {
   "cell_type": "code",
   "execution_count": 34,
   "metadata": {},
   "outputs": [],
   "source": [
    "with zipfile.ZipFile('../Data/wikitext-103-raw-v1.zip', 'r') as z:\n",
    "    input_text = str(z.open('wikitext-103-raw/wiki.train.raw', 'r').read(), encoding='utf-8') # Thanks Robert Bastian"
   ]
  },
  {
   "cell_type": "markdown",
   "metadata": {},
   "source": [
    "Preprocess sentences (note that it's important to remove small sentences for performance)"
   ]
  },
  {
   "cell_type": "code",
   "execution_count": 35,
   "metadata": {},
   "outputs": [],
   "source": [
    "sentences_wiki = []\n",
    "for line in input_text.split('\\n'):\n",
    "    s = [x for x in line.split('.') if x and len(x.split()) >= 5]\n",
    "    sentences_wiki.extend(s)\n",
    "    \n",
    "for s_i in range(len(sentences_wiki)):\n",
    "    sentences_wiki[s_i] = re.sub(\"[^a-z0-9]\", \" \", sentences_wiki[s_i].lower())\n",
    "    sentences_wiki[s_i] = re.sub(r'\\([^)]*\\)', '', sentences_wiki[s_i])\n",
    "del input_text"
   ]
  },
  {
   "cell_type": "code",
   "execution_count": 36,
   "metadata": {},
   "outputs": [
    {
     "name": "stdout",
     "output_type": "stream",
     "text": [
      "4267112\n",
      "853422\n"
     ]
    }
   ],
   "source": [
    "# sample 1/5 of the data\n",
    "shuffle(sentences_wiki)\n",
    "print(len(sentences_wiki))\n",
    "sentences_wiki = sentences_wiki[:int(len(sentences_wiki)/5)]\n",
    "print(len(sentences_wiki))"
   ]
  },
  {
   "cell_type": "markdown",
   "metadata": {},
   "source": [
    "Now, repeat all the same steps that you performed above. You should be able to reuse essentially all the code."
   ]
  },
  {
   "cell_type": "code",
   "execution_count": 37,
   "metadata": {},
   "outputs": [],
   "source": [
    "wiki_ted = []\n",
    "for wiki_str in sentences_wiki:\n",
    "    tokens = re.sub(r\"[^a-z0-9]+\", \" \", wiki_str.lower()).split()\n",
    "    # tokens = re.sub(r'[{}]+'.format('-!:,.;?\"'), \" \", sent_str.lower()).split()\n",
    "    wiki_ted.append(tokens)"
   ]
  },
  {
   "cell_type": "code",
   "execution_count": 38,
   "metadata": {},
   "outputs": [
    {
     "name": "stdout",
     "output_type": "stream",
     "text": [
      "244747 Dictionary(244747 unique tokens: ['16', 'a', 'africa', 'atlantic', 'coast']...)\n"
     ]
    }
   ],
   "source": [
    "model_wiki = Word2Vec(sentences=wiki_ted, size=100, window=5, min_count=10, workers=4, sg=0)\n",
    "dictionary_wiki = corpora.Dictionary(wiki_ted)\n",
    "print(len(dictionary_wiki), dictionary_wiki)"
   ]
  },
  {
   "cell_type": "code",
   "execution_count": 39,
   "metadata": {},
   "outputs": [],
   "source": [
    "wiki = CountVectorizer()\n",
    "Y = wiki.fit_transform(sentences_wiki)\n",
    "wiki_ted_top1000_index = np.array(np.argsort(-Y.sum(axis=0))).squeeze()[:1000]\n",
    "wiki_ted_top1000_word = np.array(wiki.get_feature_names())[wiki_ted_top1000_index]\n",
    "wiki_ted_top1000 = np.array(-1 * np.sort(-Y.sum(axis=0))).squeeze()[:1000]"
   ]
  },
  {
   "cell_type": "markdown",
   "metadata": {},
   "source": [
    "#### t-SNE visualization"
   ]
  },
  {
   "cell_type": "code",
   "execution_count": 40,
   "metadata": {},
   "outputs": [
    {
     "name": "stderr",
     "output_type": "stream",
     "text": [
      "D:\\Miniconda3\\lib\\site-packages\\ipykernel_launcher.py:3: DeprecationWarning: Call to deprecated `__getitem__` (Method will be removed in 4.0.0, use self.wv.__getitem__() instead).\n",
      "  This is separate from the ipykernel package so we can avoid doing imports until\n"
     ]
    }
   ],
   "source": [
    "# This assumes words_top_wiki is a list of strings, the top 1000 words\n",
    "words_top_wiki = wiki_ted_top1000_word\n",
    "words_top_vec_wiki = model_wiki[words_top_wiki]\n",
    "\n",
    "tsne = TSNE(n_components=2, random_state=0)\n",
    "words_top_wiki_tsne = tsne.fit_transform(words_top_vec_wiki)"
   ]
  },
  {
   "cell_type": "code",
   "execution_count": 41,
   "metadata": {},
   "outputs": [
    {
     "data": {
      "text/html": [
       "\n",
       "\n",
       "\n",
       "\n",
       "\n",
       "\n",
       "  <div class=\"bk-root\" id=\"0099066b-52ac-4d5b-ac24-490e2e92c2ea\" data-root-id=\"1180\"></div>\n"
      ]
     },
     "metadata": {},
     "output_type": "display_data"
    },
    {
     "data": {
      "application/javascript": [
       "(function(root) {\n",
       "  function embed_document(root) {\n",
       "    \n",
       "  var docs_json = {\"5d0ab3d2-878b-44ad-adf2-5298cc64cbc7\":{\"roots\":{\"references\":[{\"attributes\":{\"below\":[{\"id\":\"1191\",\"type\":\"LinearAxis\"}],\"center\":[{\"id\":\"1195\",\"type\":\"Grid\"},{\"id\":\"1200\",\"type\":\"Grid\"},{\"id\":\"1216\",\"type\":\"LabelSet\"}],\"left\":[{\"id\":\"1196\",\"type\":\"LinearAxis\"}],\"renderers\":[{\"id\":\"1214\",\"type\":\"GlyphRenderer\"}],\"title\":{\"id\":\"1181\",\"type\":\"Title\"},\"toolbar\":{\"id\":\"1205\",\"type\":\"Toolbar\"},\"toolbar_location\":\"above\",\"x_range\":{\"id\":\"1183\",\"type\":\"DataRange1d\"},\"x_scale\":{\"id\":\"1187\",\"type\":\"LinearScale\"},\"y_range\":{\"id\":\"1185\",\"type\":\"DataRange1d\"},\"y_scale\":{\"id\":\"1189\",\"type\":\"LinearScale\"}},\"id\":\"1180\",\"subtype\":\"Figure\",\"type\":\"Plot\"},{\"attributes\":{\"callback\":null},\"id\":\"1185\",\"type\":\"DataRange1d\"},{\"attributes\":{\"data_source\":{\"id\":\"1210\",\"type\":\"ColumnDataSource\"},\"glyph\":{\"id\":\"1212\",\"type\":\"Scatter\"},\"hover_glyph\":null,\"muted_glyph\":null,\"nonselection_glyph\":{\"id\":\"1213\",\"type\":\"Scatter\"},\"selection_glyph\":null,\"view\":{\"id\":\"1215\",\"type\":\"CDSView\"}},\"id\":\"1214\",\"type\":\"GlyphRenderer\"},{\"attributes\":{},\"id\":\"1187\",\"type\":\"LinearScale\"},{\"attributes\":{\"source\":{\"id\":\"1210\",\"type\":\"ColumnDataSource\"}},\"id\":\"1215\",\"type\":\"CDSView\"},{\"attributes\":{},\"id\":\"1189\",\"type\":\"LinearScale\"},{\"attributes\":{\"formatter\":{\"id\":\"1235\",\"type\":\"BasicTickFormatter\"},\"ticker\":{\"id\":\"1192\",\"type\":\"BasicTicker\"}},\"id\":\"1191\",\"type\":\"LinearAxis\"},{\"attributes\":{},\"id\":\"1238\",\"type\":\"Selection\"},{\"attributes\":{},\"id\":\"1192\",\"type\":\"BasicTicker\"},{\"attributes\":{},\"id\":\"1233\",\"type\":\"BasicTickFormatter\"},{\"attributes\":{\"ticker\":{\"id\":\"1192\",\"type\":\"BasicTicker\"}},\"id\":\"1195\",\"type\":\"Grid\"},{\"attributes\":{},\"id\":\"1235\",\"type\":\"BasicTickFormatter\"},{\"attributes\":{\"formatter\":{\"id\":\"1233\",\"type\":\"BasicTickFormatter\"},\"ticker\":{\"id\":\"1197\",\"type\":\"BasicTicker\"}},\"id\":\"1196\",\"type\":\"LinearAxis\"},{\"attributes\":{},\"id\":\"1197\",\"type\":\"BasicTicker\"},{\"attributes\":{\"dimension\":1,\"ticker\":{\"id\":\"1197\",\"type\":\"BasicTicker\"}},\"id\":\"1200\",\"type\":\"Grid\"},{\"attributes\":{},\"id\":\"1237\",\"type\":\"UnionRenderers\"},{\"attributes\":{},\"id\":\"1201\",\"type\":\"PanTool\"},{\"attributes\":{},\"id\":\"1202\",\"type\":\"WheelZoomTool\"},{\"attributes\":{\"callback\":null,\"data\":{\"names\":[\"the\",\"of\",\"and\",\"in\",\"to\",\"was\",\"on\",\"as\",\"for\",\"that\",\"with\",\"by\",\"is\",\"his\",\"at\",\"he\",\"from\",\"it\",\"were\",\"an\",\"had\",\"which\",\"be\",\"this\",\"but\",\"are\",\"first\",\"not\",\"their\",\"after\",\"one\",\"her\",\"its\",\"also\",\"they\",\"two\",\"or\",\"have\",\"who\",\"new\",\"been\",\"has\",\"she\",\"when\",\"during\",\"time\",\"other\",\"would\",\"into\",\"all\",\"more\",\"while\",\"over\",\"him\",\"game\",\"later\",\"only\",\"three\",\"up\",\"about\",\"most\",\"out\",\"between\",\"than\",\"there\",\"some\",\"film\",\"may\",\"year\",\"before\",\"no\",\"made\",\"such\",\"season\",\"000\",\"second\",\"where\",\"world\",\"years\",\"war\",\"both\",\"then\",\"them\",\"used\",\"however\",\"being\",\"through\",\"these\",\"series\",\"song\",\"against\",\"many\",\"album\",\"became\",\"part\",\"city\",\"team\",\"four\",\"well\",\"number\",\"several\",\"north\",\"united\",\"including\",\"under\",\"can\",\"state\",\"early\",\"south\",\"music\",\"day\",\"so\",\"episode\",\"states\",\"following\",\"said\",\"did\",\"although\",\"known\",\"american\",\"work\",\"could\",\"began\",\"until\",\"because\",\"released\",\"like\",\"called\",\"people\",\"high\",\"10\",\"end\",\"since\",\"around\",\"british\",\"each\",\"best\",\"national\",\"long\",\"life\",\"back\",\"west\",\"same\",\"september\",\"if\",\"found\",\"us\",\"five\",\"million\",\"another\",\"took\",\"show\",\"along\",\"any\",\"use\",\"area\",\"you\",\"group\",\"received\",\"final\",\"off\",\"october\",\"century\",\"john\",\"august\",\"school\",\"government\",\"line\",\"due\",\"what\",\"will\",\"km\",\"east\",\"june\",\"july\",\"system\",\"march\",\"games\",\"home\",\"single\",\"november\",\"down\",\"much\",\"large\",\"third\",\"april\",\"major\",\"general\",\"set\",\"left\",\"based\",\"family\",\"just\",\"12\",\"company\",\"house\",\"we\",\"place\",\"history\",\"20\",\"road\",\"king\",\"included\",\"york\",\"name\",\"december\",\"army\",\"played\",\"within\",\"now\",\"character\",\"six\",\"january\",\"band\",\"according\",\"won\",\"wrote\",\"near\",\"led\",\"15\",\"main\",\"described\",\"last\",\"times\",\"those\",\"river\",\"video\",\"own\",\"death\",\"record\",\"men\",\"next\",\"top\",\"de\",\"named\",\"release\",\"way\",\"league\",\"still\",\"late\",\"air\",\"make\",\"battle\",\"man\",\"30\",\"production\",\"original\",\"very\",\"species\",\"club\",\"great\",\"route\",\"small\",\"even\",\"force\",\"old\",\"though\",\"ship\",\"storm\",\"again\",\"february\",\"built\",\"days\",\"play\",\"university\",\"division\",\"public\",\"11\",\"service\",\"role\",\"french\",\"2010\",\"further\",\"among\",\"story\",\"held\",\"do\",\"power\",\"side\",\"book\",\"members\",\"match\",\"white\",\"having\",\"player\",\"point\",\"german\",\"career\",\"town\",\"water\",\"100\",\"2009\",\"park\",\"often\",\"local\",\"came\",\"considered\",\"without\",\"england\",\"order\",\"continued\",\"despite\",\"18\",\"2011\",\"former\",\"2008\",\"black\",\"party\",\"16\",\"county\",\"take\",\"half\",\"14\",\"songs\",\"form\",\"development\",\"support\",\"2007\",\"13\",\"written\",\"few\",\"island\",\"military\",\"version\",\"period\",\"different\",\"become\",\"moved\",\"lost\",\"building\",\"english\",\"25\",\"forces\",\"international\",\"court\",\"ii\",\"country\",\"president\",\"tropical\",\"london\",\"given\",\"little\",\"re\",\"2012\",\"church\",\"never\",\"street\",\"my\",\"lead\",\"produced\",\"performance\",\"position\",\"attack\",\"using\",\"gave\",\"returned\",\"similar\",\"royal\",\"aircraft\",\"went\",\"published\",\"track\",\"land\",\"tour\",\"television\",\"short\",\"children\",\"per\",\"western\",\"total\",\"week\",\"stated\",\"how\",\"control\",\"father\",\"good\",\"2006\",\"right\",\"live\",\"include\",\"17\",\"recorded\",\"once\",\"making\",\"run\",\"fire\",\"star\",\"throughout\",\"women\",\"highway\",\"ships\",\"class\",\"less\",\"characters\",\"upon\",\"2013\",\"me\",\"age\",\"australia\",\"himself\",\"love\",\"central\",\"head\",\"instead\",\"months\",\"light\",\"design\",\"station\",\"young\",\"24\",\"result\",\"players\",\"title\",\"political\",\"previous\",\"ten\",\"developed\",\"sea\",\"away\",\"remained\",\"seven\",\"red\",\"eight\",\"ft\",\"across\",\"writing\",\"james\",\"died\",\"night\",\"center\",\"reported\",\"hurricane\",\"eventually\",\"return\",\"office\",\"southern\",\"law\",\"rock\",\"21\",\"low\",\"too\",\"areas\",\"son\",\"america\",\"felt\",\"william\",\"race\",\"announced\",\"win\",\"noted\",\"field\",\"various\",\"sent\",\"created\",\"followed\",\"miles\",\"act\",\"award\",\"college\",\"st\",\"construction\",\"together\",\"member\",\"seen\",\"reached\",\"2005\",\"style\",\"50\",\"japanese\",\"performed\",\"should\",\"taken\",\"served\",\"2014\",\"full\",\"19\",\"born\",\"works\",\"northern\",\"campaign\",\"22\",\"established\",\"level\",\"range\",\"originally\",\"able\",\"killed\",\"success\",\"chart\",\"body\",\"george\",\"action\",\"common\",\"present\",\"appeared\",\"started\",\"thought\",\"special\",\"modern\",\"feet\",\"others\",\"rather\",\"post\",\"front\",\"australian\",\"points\",\"caused\",\"critics\",\"located\",\"formed\",\"bridge\",\"features\",\"addition\",\"football\",\"stage\",\"get\",\"23\",\"sold\",\"mm\",\"championship\",\"project\",\"fourth\",\"behind\",\"heavy\",\"decided\",\"popular\",\"close\",\"almost\",\"every\",\"40\",\"population\",\"director\",\"playing\",\"saw\",\"site\",\"damage\",\"non\",\"awards\",\"added\",\"command\",\"see\",\"initially\",\"opened\",\"region\",\"important\",\"strong\",\"28\",\"kingdom\",\"go\",\"open\",\"completed\",\"fleet\",\"2004\",\"27\",\"case\",\"soon\",\"france\",\"art\",\"weeks\",\"leading\",\"towards\",\"hall\",\"eastern\",\"guns\",\"ground\",\"free\",\"2015\",\"worked\",\"26\",\"coast\",\"david\",\"mother\",\"least\",\"sound\",\"records\",\"working\",\"training\",\"event\",\"placed\",\"scene\",\"help\",\"union\",\"generally\",\"featured\",\"michael\",\"wanted\",\"provided\",\"does\",\"scored\",\"ever\",\"recording\",\"brought\",\"troops\",\"either\",\"500\",\"victory\",\"henry\",\"council\",\"average\",\"200\",\"allowed\",\"events\",\"hit\",\"studio\",\"joined\",\"cup\",\"summer\",\"europe\",\"mi\",\"far\",\"wife\",\"put\",\"navy\",\"magazine\",\"29\",\"human\",\"runs\",\"start\",\"2003\",\"washington\",\"example\",\"mid\",\"designed\",\"list\",\"society\",\"radio\",\"japan\",\"robert\",\"nine\",\"replaced\",\"believed\",\"hours\",\"minutes\",\"earlier\",\"forced\",\"al\",\"opening\",\"media\",\"brown\",\"possible\",\"beginning\",\"finished\",\"official\",\"particularly\",\"saying\",\"significant\",\"involved\",\"change\",\"rest\",\"shot\",\"base\",\"co\",\"crew\",\"operation\",\"european\",\"largest\",\"available\",\"met\",\"successful\",\"big\",\"squadron\",\"process\",\"must\",\"films\",\"police\",\"space\",\"lower\",\"units\",\"2000\",\"month\",\"real\",\"ended\",\"test\",\"turned\",\"going\",\"charles\",\"outside\",\"increased\",\"review\",\"cast\",\"praised\",\"association\",\"taking\",\"business\",\"community\",\"thus\",\"above\",\"move\",\"captain\",\"enough\",\"social\",\"2002\",\"research\",\"canada\",\"highest\",\"mph\",\"goal\",\"reviews\",\"section\",\"additional\",\"2001\",\"stone\",\"come\",\"relationship\",\"previously\",\"elements\",\"san\",\"thomas\",\"better\",\"hill\",\"gold\",\"middle\",\"chief\",\"lake\",\"passed\",\"future\",\"ordered\",\"give\",\"appearance\",\"rights\",\"cross\",\"round\",\"california\",\"staff\",\"signed\",\"positive\",\"brother\",\"interest\",\"critical\",\"failed\",\"board\",\"winds\",\"31\",\"spent\",\"told\",\"plan\",\"castle\",\"parts\",\"find\",\"infantry\",\"gun\",\"money\",\"program\",\"committee\",\"germany\",\"lines\",\"musical\",\"female\",\"type\",\"overall\",\"india\",\"directed\",\"attempt\",\"room\",\"idea\",\"whose\",\"term\",\"green\",\"news\",\"claimed\",\"district\",\"personal\",\"cover\",\"don\",\"evidence\",\"required\",\"grand\",\"prior\",\"paul\",\"hand\",\"complete\",\"square\",\"port\",\"election\",\"itself\",\"asked\",\"our\",\"already\",\"reception\",\"bill\",\"press\",\"groups\",\"entire\",\"sometimes\",\"debut\",\"uk\",\"flight\",\"whom\",\"study\",\"smith\",\"novel\",\"speed\",\"introduced\",\"governor\",\"centre\",\"person\",\"limited\",\"turn\",\"fifth\",\"past\",\"movement\",\"quickly\",\"background\",\"response\",\"especially\",\"issue\",\"minister\",\"usually\",\"education\",\"stars\",\"battalion\",\"indian\",\"loss\",\"self\",\"plot\",\"students\",\"score\",\"la\",\"department\",\"carried\",\"surface\",\"episodes\",\"material\",\"britain\",\"richard\",\"car\",\"estimated\",\"defeated\",\"arrived\",\"woman\",\"might\",\"writer\",\"industry\",\"services\",\"hot\",\"effects\",\"anti\",\"food\",\"peter\",\"queen\",\"science\",\"decision\",\"structure\",\"leaving\",\"mark\",\"village\",\"ny\",\"larger\",\"pressure\",\"shows\",\"becoming\",\"remaining\",\"date\",\"voice\",\"blue\",\"commander\",\"changes\",\"current\",\"earth\",\"finally\",\"length\",\"report\",\"1999\",\"operations\",\"islands\",\"commercial\",\"bay\",\"nature\",\"entered\",\"approximately\",\"running\",\"leader\",\"course\",\"depression\",\"child\",\"suggested\",\"teams\",\"cut\",\"scenes\",\"civil\",\"network\",\"whether\",\"cost\",\"los\",\"lack\",\"dark\",\"virginia\",\"view\",\"nearly\",\"living\",\"appointed\",\"helped\",\"fans\",\"higher\",\"latter\",\"language\",\"upper\",\"intended\",\"professional\",\"influence\",\"wide\",\"fact\",\"spanish\",\"proposed\",\"museum\",\"percent\",\"agreed\",\"officer\",\"daughter\",\"shortly\",\"natural\",\"brigade\",\"provide\",\"today\",\"longer\",\"pop\",\"compared\",\"god\",\"supported\",\"railway\",\"chicago\",\"winning\",\"regular\",\"experience\",\"pacific\",\"married\",\"face\",\"destroyed\",\"awarded\",\"related\",\"subsequently\",\"something\",\"immediately\",\"effect\",\"trade\",\"manager\",\"your\",\"friends\",\"contract\",\"1998\",\"planned\",\"associated\",\"naval\",\"captured\",\"done\",\"create\",\"billboard\",\"themselves\",\"soviet\",\"buildings\",\"soldiers\",\"ball\",\"size\",\"empire\",\"chinese\",\"initial\",\"producer\",\"tracks\",\"plans\",\"health\",\"mostly\",\"changed\",\"lord\",\"remains\",\"private\",\"information\",\"appear\",\"johnson\",\"regiment\",\"feature\",\"60\",\"corps\",\"friend\",\"extended\",\"singles\",\"books\",\"1997\",\"lyrics\",\"key\",\"energy\",\"mixed\",\"got\",\"300\",\"guitar\",\"unit\",\"conference\",\"minor\",\"leave\",\"fort\",\"status\",\"roman\",\"albums\",\"officers\",\"jackson\",\"federal\",\"edition\",\"always\",\"includes\",\"problems\",\"yet\"],\"x1\":{\"__ndarray__\":\"rWQEP5JscD9ARwFAXj04wLXrnsDfAgrCRmFDwFUUVMGT2J2+hybmQTbHEEAFAn7ANFAKwkfzmkEsuhNBGw3NQb7a1b1idd9AviAVwp0Bvj+b7wHCrDbtQXt2+8GTtv4/xBEEQl0RFcL/21jBx6WPQGCXa8CRl+/AxzlaQToqnEEuXzfAeP+/PxkMw0E9rTVBm7aLQB/hBsLEifpBmGi4wPmDAcJeSQLC5hvNQTPchDyuXnrAPiUHQd/TJkGkaw7CqosaP5IPWEGqzALBaDn+QTo9iEBPQo9B8BjnQKO/HcEYc45AWC8pQdXOFMB6DptAeVYEQUim574iuW6/GNzxQLjmEUJlrlNBXeyPP64wJMEUR2bBkovqwNt6hUDlVIfB2e2uwRaZ2ECjVc9ABwFswY4mIT8ssYBBKG2JwYN23UGAnfdAktgevpv2jUE1ms/BzNwAQpnFAML9Aoo/C3ElQRWpQ0Am+g9BkSX7wZjhUUFSMxtBHfkCwrK5ucCHEAJCCmkIQbnILEH5zK7BQiCOQKSqS0HgKQdC7RxnQSOpOME49LtAgzEUwuBs5EEUlgDBP7oGQg7z5EDNXkrB19DDQSelKkBSEnZB8nEJwZ8BlMHdoBDCZSEAQoU8wMFWtoRB9j4lQezIEcLuHvzBY9C4wDlN/0FVFWfBH+42QX4eosF1U2lBDsjmwNUeX0DJdhzBX1OWwD5/SEAmxohBoF4SP3DkisGBolJBQW2gwKkSVEFUWMS+bJcDQmJBQL+vitzAzlvsQUZtq8G5Qk5BPdcaQVyY2kAw53M/dgqowbRkVEBwsBhAJj8pQD/KH8Ggz+lBNCq4Qb3Ad0EcoEnBnS9SwbBst7+17+nAJ0NWQU8XnMFVl/bAp2C1QUaW5EHvohVC5kYcwTOk00HAMw/CkEQhQjk2BELvB9zA4BnSwDRMhUHMyfjArUjnQFCFvEGEejVBuOAHwScmDL/vBeVAyLkYwbsYccENZPPAwfFmwD45tcESGJ/BW9fkwfotGcHQ1ZVBxc13QPcERUDR2H5BvdHfQew0vEFmLx1BNxTdQIdDIUAwkRVCUjm7wasXWcEbtqTBkPq6wS5DAMFzmc5BG9K4wXqrg0BLQgVBGk7fQAWGIkGhdwjBQqPqQDcJiMGp8OfBNtiNwRMN2UHkyc3BLdgCQLZzvL+q4ZLBHfdHwXA4jcE/wxtB60sJQp8SlkCCYjFAXSKXQQrtpr+w+W9BS/g3wZyEkcFoyePBqw2lwQlaucBDU2FB/lcFQeWsqUBTHvvAk/TRQf4Hd8FsN/JBznKYQTS/yT+pMk1BABEJvyZXvUHzDNlBBIYaQclB4MDAWB1CwEkYwZDUs0A+8s1BPGkuQZ/yAEK4z+tBtu0nQuV7p781RAzB3dfMwQbMgMGBrK3BZLO2Qf5o3EHyRKFBhsNXQNTnxEGNvwRBSKKGQbPThsHMox/A1mteQVzCp0BMn7XBRaVUwadnMMDdST2/yL4Wv42VlcCJXCRAmz9cwXrLAsImBSVB4gWrQQAHjUGHZDxBzuD+QY85ukEee5dAxgeSwdBj3UHViMBA7bybQaIEz8HkVqLB9eKevww7l0GKvdzA0AQBwvcJ3sDgOVRAAveQwQ+3isHCRorBJq1ewcAWdUFpQ6c/GMn+QY0Rl8H0GNg/UYcMQLIXIEFlMjNBZwNVQfbf5MAcdIPB3aQXQNPAhcHdGUFBjEv7Qd5kuEEYkIrAyp9HQd8dMsHZuwHC7v3bwSMj5sHWO/9BEIh0QT7ngD9ZKchB4rNdQdu1EMC4T7/BQgWBQcH3pME90SlCqn7TQdp1rsEP76hAgT2EwC3fjsElfu1Bx4uFQNg0F0LaZaJBrUCIwZjni8F8/ENAPfuWQRZr8kEM+B7BTlA6wbN44cH4jCLBqpbUwWZV3kH9ztPBWEl1wUMEGkEZ3uBBun2CQDhQgEH8Bp7AzviJQQGyIkDm2O5BTkCeQKCuWcFoxpfBgPfTQWakM8B1y59BkT3jwNNJiMFXoYc/YjeAQAQAPcGYark/lk+HwZ0qkz9QIobB8Eifwe32AEIw+5DBzYtLwGU5fkGHuRtCNwLtQW6VUkGwkgHBwM/VQP3XY8Aoo5fBfDarQSrmE0Ek+I5BLEuOQWLsnkGpouhB8k4avyHlU7/1ZYPBGs8rwa48T0FcnwxCGTmFQQjfFkBHg7zAo/whQWqYusGY0/xAlG0lwUC5CEEuULDB8t4CQtiZrb8VfPjB9nkYQREEXsEjCyFB9BIcQpiQCEDqwVXByCWawcQsE8In2EHBeNDNQU5ZrsHJwylCL2CAv4TchMH0esRB+mLzQSzrLr8nqQ5BDQnMPyGP58Dbab9B02zqQWkdqkEN3olBN5+LwWdXo8Frk4FA+mikwYAt5MFqFJPB6RS3QdztU0EF+fTBAtKwwTvHxsHoYiBCE8oyvxmewsGPBrVBl4DsQdLwA0J5PN8/MZScwJult8He9O/BZNV+wQe5zUD1H2xAM/GPQajSg8Hohw/CXzOwwVUD6cG9a5XBbTdHwKW/Ej/EDhjCH3YjQS/H9UHXDeJBX2G7PQf2vMGtn6FBLbE5QWaMwj+zHf3B5QINwsuAJMDe3l1BlIzcPl8tocFuCvFB90y/vUC8Tz/YJ3fBvvH2wUPWoMFtW82/zvyuP7lWHEJfABlBzavSwMYUxMA6GLK/Ocp8QT+5o8Ge69DB2DQoweHSnMFGarrBabsRQrowP8Fm2gfBjOoiQfN+KEBGtn3BdxwQPpmql8GBcBdCK5GwQH14YkGG3XPBw21uQBcTFsGPP/XBOkeQvyxh3sCcrr5AoT4kP0P7SUBxZNdBEOB6wTkSscGD4OLBzOr9QXJL0cG9/ZhACZHCwf+Np8HBs8nB0oBmwfvHCz/16NDBQc3iQVf0k7/H+PbAaJSiP0tNdkGsnILBq19TQNRrzsGngOZBiVWMwUqLwT6HpJq/lY8cwCdImEFL4P1AuNp+wXEkMcHvQ2A/y4TeQewa9EFzeAdCz0i3QZ8TgkBX5o3B2avpwZndTT9SJ/1BD6iPwbePn0GJGPxAau/oQB61oL/drgzBYHLOQUpbU0AmJK3B6YKLQJ/X4MDcTqBBhInMQG4HYME3R4nB/iH5wfUltsF34BDC0qTMwSDDtEAg+8tAdlzDwSNOwEG4E3FA8Vy1QFE65MF7s67BLM7eQTlGYEC1t6ZAeDDzwQtBSEBpuLjB867BQJrM98FSDq9Ah47jwIhFjEFpzSBCU2TqQIH2pkFADL7B6si9QT8ZQ8Fg7wW/oNaqQIUmn8EycRHBXliGwRFhxUEaU9xAA/HzwMhp0MGcIZjBEwSkQYtfg0E6c41BZ8uUwaMJE0EPnsbBMCeiweoqe8EmK3jBugojwVIr+sHy0KrBz5hEwdH4AME8wV/BEfZYwQ7aC8Eq7/TBsJZFQQ0U5kDX343BG0JmwDhTQ8FXsAlAfXm/v1pBscFgP7RBuPuMwXttrkENcuBBzv1sQeDcfcFlu2rBASX6wbN40r/AX4PBLynlQTDvLUGeIhHCum+VP7dcnkFQcC/B0L++QYBuykFsL27BncxfwUa8U0DIxPHBUFmKwG+JycEsjMXB8SKnwXB8dkA1RI7As2UlwbelmkBdCYLBINekQUEvocF0B49B7SqhQeMdFECbfLtBOIZ1wde3vcEM58BBTUX4QPnRgMF8XEpBipVxQaH1fsF8iCJCIZ2zwGUBHMHmmBBC6z0wwGUIdcFNC1TBzKiJwdGJuUGE9ChAGOtPQbZJvsFN/ZrBXFHnwEaj8EHMp2nBjsfHQeBxusG19gRCsRbQwYafJEAjQfbBgJ1uwWQk3D8HHonBXHRQwbGln0B48r3BqSanQUUEAMJeaAbBJZGpQbUKrkBtKwbBLKz/wVSL1UFw4iRCCrQxv71ABMKqZ53BAgN2wGAe9kEGMFNBgdZvwQF920GM6gZCQHCVQVAcc0FvodlBC+uVQW6WFkJZh9hAJRmIQejFKUEmZ2DAxN2FQRSnkMEFq9/Alf84wOwr2EBWJ+5BTaciQTBiTsGZ+AnBkkWnwYVT/kG+Sc5A9UGFQPMLmMGDbwRBXxvwwUfwXsH51ATBYomIwe81kz4YAQPAiyPpQa6ABEIGzofAa9hKP8Lg6sFQAJxBlJY6QF2BDMFLIXfBG3D+wNM8d0GAD4W/DIO1QA9gicHVTGNBoCLaQaSC+kE7t0lBVYR2walqGj16xZpBSwKwwSV+o8FpkM5BrfCbQWhGVsA7d2jBzlp6wQZuVkAG/29BFBXFv0OKqkBdyPvApmDlQJqUv79MIKTB2S+sQLm+pEEm5JDBs1ThQRqcekHnnNnBs07OQKZDtEBxFKlBMC2twMmz48HtK9lBkEa+wXUrskEFpCdAvJsZQdFTmkHon5bBCCFFwCYmucHLm/PBiCL7wWa0lUFtUw3C/+VhwZGZgkFmqMRBhDhlQa7wO0CxD45BrpW/QRjHiMFdlb7BdJEGQYQ+LsBstjpBP6zkwRaigMEqg/1BTjofQim1EcE0QaVB6q1LQP4zAsJ0tsFAE1aVwNWRc0CWoVbBTezEwd2SD0Db4sE/5omtQVgEdL940j1BeVTowEnCfcEKE91BFuX5QQBih0HP6AJCykq0QLgv8cH4n7FAdQGgwZdkssGDNYtA2oQnQrgnmEGux5/BjMYQQc00o8GPpYtA22ljQdoOgEErKutBk3EDv17NDr9+P5NACK8/wR87z0HWgbZAQXa6QIMgB0FNiuDBikcCwrMQR0EixPrAiDVyvnpkfEH318FBGhXnwfuYL0E8nolAeAUKweovFz9ZU4JBpLS/wQCzykEgutFAFVnzwZuXwsEvP6hB6qpDwKwNmkAicN9BCHFXwacFCEF53gxCCdMJQcSGjMFItpNBmoS9wYVqDkKJw8NBsNHhwQkFAcCWPplANITvQeHKFsIQr+6+TDkKwh9tpsHeayrBBWKqvo/ywEGHtfa/aytUQNgKjEEYLmnBqU2hQcYmrEEPydHBX2x3wQyQ5cFsyynB5yS6QYXZCcK89rbBHtBcwTIXX0Hy+YxBw22bQZh3/UFklL5B91uTwBvlOkFbkKdB/SeAQXSSpb+0tnbBU9ceQbqJfsDOKZ1B8QbSQMunoMGtnrDBHM8ZQYacmUENGw5BrrAgwUN3d8FYnttB6swXwWGLUEAW59VBziuuQd4EqcHv8jpBIt9Rvz3xg8F8GghBO6tfwOxQJkEsMwfBBZrNwScxoECtwARBOo3KQRtNEUGUIHjA8iaEwUwm+EFlr5BB26xgQdcCM0HZSa9Bt2JnwSzy4UHo33/Ago6WQGQ3RsGrR1VAyUN4QA==\",\"dtype\":\"float32\",\"shape\":[1000]},\"x2\":{\"__ndarray__\":\"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\",\"dtype\":\"float32\",\"shape\":[1000]}},\"selected\":{\"id\":\"1238\",\"type\":\"Selection\"},\"selection_policy\":{\"id\":\"1237\",\"type\":\"UnionRenderers\"}},\"id\":\"1210\",\"type\":\"ColumnDataSource\"},{\"attributes\":{},\"id\":\"1203\",\"type\":\"ResetTool\"},{\"attributes\":{},\"id\":\"1204\",\"type\":\"SaveTool\"},{\"attributes\":{\"active_drag\":\"auto\",\"active_inspect\":\"auto\",\"active_multi\":null,\"active_scroll\":\"auto\",\"active_tap\":\"auto\",\"tools\":[{\"id\":\"1201\",\"type\":\"PanTool\"},{\"id\":\"1202\",\"type\":\"WheelZoomTool\"},{\"id\":\"1203\",\"type\":\"ResetTool\"},{\"id\":\"1204\",\"type\":\"SaveTool\"}]},\"id\":\"1205\",\"type\":\"Toolbar\"},{\"attributes\":{\"fill_color\":{\"value\":\"#1f77b4\"},\"line_color\":{\"value\":\"#1f77b4\"},\"size\":{\"units\":\"screen\",\"value\":8},\"x\":{\"field\":\"x1\"},\"y\":{\"field\":\"x2\"}},\"id\":\"1212\",\"type\":\"Scatter\"},{\"attributes\":{\"text\":\"word2vec T-SNE for most common words\"},\"id\":\"1181\",\"type\":\"Title\"},{\"attributes\":{\"source\":{\"id\":\"1210\",\"type\":\"ColumnDataSource\"},\"text\":{\"field\":\"names\"},\"text_align\":\"center\",\"text_color\":{\"value\":\"#555555\"},\"text_font_size\":{\"value\":\"8pt\"},\"x\":{\"field\":\"x1\"},\"y\":{\"field\":\"x2\"},\"y_offset\":{\"value\":6}},\"id\":\"1216\",\"type\":\"LabelSet\"},{\"attributes\":{\"fill_alpha\":{\"value\":0.1},\"fill_color\":{\"value\":\"#1f77b4\"},\"line_alpha\":{\"value\":0.1},\"line_color\":{\"value\":\"#1f77b4\"},\"size\":{\"units\":\"screen\",\"value\":8},\"x\":{\"field\":\"x1\"},\"y\":{\"field\":\"x2\"}},\"id\":\"1213\",\"type\":\"Scatter\"},{\"attributes\":{\"callback\":null},\"id\":\"1183\",\"type\":\"DataRange1d\"}],\"root_ids\":[\"1180\"]},\"title\":\"Bokeh Application\",\"version\":\"1.3.4\"}};\n",
       "  var render_items = [{\"docid\":\"5d0ab3d2-878b-44ad-adf2-5298cc64cbc7\",\"roots\":{\"1180\":\"0099066b-52ac-4d5b-ac24-490e2e92c2ea\"}}];\n",
       "  root.Bokeh.embed.embed_items_notebook(docs_json, render_items);\n",
       "\n",
       "  }\n",
       "  if (root.Bokeh !== undefined) {\n",
       "    embed_document(root);\n",
       "  } else {\n",
       "    var attempts = 0;\n",
       "    var timer = setInterval(function(root) {\n",
       "      if (root.Bokeh !== undefined) {\n",
       "        embed_document(root);\n",
       "        clearInterval(timer);\n",
       "      }\n",
       "      attempts++;\n",
       "      if (attempts > 100) {\n",
       "        console.log(\"Bokeh: ERROR: Unable to run BokehJS code because BokehJS library is missing\");\n",
       "        clearInterval(timer);\n",
       "      }\n",
       "    }, 10, root)\n",
       "  }\n",
       "})(window);"
      ],
      "application/vnd.bokehjs_exec.v0+json": ""
     },
     "metadata": {
      "application/vnd.bokehjs_exec.v0+json": {
       "id": "1180"
      }
     },
     "output_type": "display_data"
    }
   ],
   "source": [
    "p = figure(tools=\"pan,wheel_zoom,reset,save\",\n",
    "           toolbar_location=\"above\",\n",
    "           title=\"word2vec T-SNE for most common words\")\n",
    "\n",
    "source = ColumnDataSource(data=dict(x1=words_top_wiki_tsne[:,0],\n",
    "                                    x2=words_top_wiki_tsne[:,1],\n",
    "                                    names=words_top_wiki))\n",
    "\n",
    "p.scatter(x=\"x1\", y=\"x2\", size=8, source=source)\n",
    "\n",
    "labels = LabelSet(x=\"x1\", y=\"x2\", text=\"names\", y_offset=6,\n",
    "                  text_font_size=\"8pt\", text_color=\"#555555\",\n",
    "                  source=source, text_align='center')\n",
    "p.add_layout(labels)\n",
    "\n",
    "show(p)"
   ]
  },
  {
   "cell_type": "code",
   "execution_count": 42,
   "metadata": {},
   "outputs": [],
   "source": [
    "from sklearn.cluster import KMeans"
   ]
  },
  {
   "cell_type": "code",
   "execution_count": 43,
   "metadata": {},
   "outputs": [
    {
     "name": "stdout",
     "output_type": "stream",
     "text": [
      "['king' 'ii' 'royal' 'queen']\n",
      "['10' '12' '20' '15' '30' '11' '18' '16' '14' '13' '25' '17' '24' '21'\n",
      " '19' '22' '23' '28' '27' '26' '29' '31']\n"
     ]
    }
   ],
   "source": [
    "clustering = KMeans(n_clusters=100)  # 聚几个类\n",
    "\n",
    "clustering.fit(words_top_vec_wiki)\n",
    "clu_labels = clustering.labels_  # 0-100 个标签\n",
    "\n",
    "print(wiki_ted_top1000_word[clu_labels == 0])\n",
    "print(wiki_ted_top1000_word[clu_labels == 1])"
   ]
  },
  {
   "cell_type": "code",
   "execution_count": 44,
   "metadata": {},
   "outputs": [],
   "source": [
    "colors = ['#%d%d%d' % (int(2.55 * r), int(1.5 * r), int(1 * r)) for r in clu_labels]\n"
   ]
  },
  {
   "cell_type": "code",
   "execution_count": 45,
   "metadata": {
    "scrolled": false
   },
   "outputs": [
    {
     "data": {
      "text/html": [
       "\n",
       "\n",
       "\n",
       "\n",
       "\n",
       "\n",
       "  <div class=\"bk-root\" id=\"2f04574c-76be-4423-94ce-a19007991a29\" data-root-id=\"1281\"></div>\n"
      ]
     },
     "metadata": {},
     "output_type": "display_data"
    },
    {
     "data": {
      "application/javascript": [
       "(function(root) {\n",
       "  function embed_document(root) {\n",
       "    \n",
       "  var docs_json = {\"3bdef73e-5fe5-4e69-b961-06e8e93f0bf4\":{\"roots\":{\"references\":[{\"attributes\":{\"below\":[{\"id\":\"1292\",\"type\":\"LinearAxis\"}],\"center\":[{\"id\":\"1296\",\"type\":\"Grid\"},{\"id\":\"1301\",\"type\":\"Grid\"},{\"id\":\"1317\",\"type\":\"LabelSet\"}],\"left\":[{\"id\":\"1297\",\"type\":\"LinearAxis\"}],\"renderers\":[{\"id\":\"1315\",\"type\":\"GlyphRenderer\"}],\"title\":{\"id\":\"1282\",\"type\":\"Title\"},\"toolbar\":{\"id\":\"1306\",\"type\":\"Toolbar\"},\"toolbar_location\":\"above\",\"x_range\":{\"id\":\"1284\",\"type\":\"DataRange1d\"},\"x_scale\":{\"id\":\"1288\",\"type\":\"LinearScale\"},\"y_range\":{\"id\":\"1286\",\"type\":\"DataRange1d\"},\"y_scale\":{\"id\":\"1290\",\"type\":\"LinearScale\"}},\"id\":\"1281\",\"subtype\":\"Figure\",\"type\":\"Plot\"},{\"attributes\":{\"text\":\"word2vec T-SNE for most common words\"},\"id\":\"1282\",\"type\":\"Title\"},{\"attributes\":{},\"id\":\"1343\",\"type\":\"BasicTickFormatter\"},{\"attributes\":{\"callback\":null},\"id\":\"1286\",\"type\":\"DataRange1d\"},{\"attributes\":{\"data_source\":{\"id\":\"1311\",\"type\":\"ColumnDataSource\"},\"glyph\":{\"id\":\"1313\",\"type\":\"Scatter\"},\"hover_glyph\":null,\"muted_glyph\":null,\"nonselection_glyph\":{\"id\":\"1314\",\"type\":\"Scatter\"},\"selection_glyph\":null,\"view\":{\"id\":\"1316\",\"type\":\"CDSView\"}},\"id\":\"1315\",\"type\":\"GlyphRenderer\"},{\"attributes\":{},\"id\":\"1288\",\"type\":\"LinearScale\"},{\"attributes\":{\"source\":{\"id\":\"1311\",\"type\":\"ColumnDataSource\"}},\"id\":\"1316\",\"type\":\"CDSView\"},{\"attributes\":{},\"id\":\"1290\",\"type\":\"LinearScale\"},{\"attributes\":{\"formatter\":{\"id\":\"1343\",\"type\":\"BasicTickFormatter\"},\"ticker\":{\"id\":\"1293\",\"type\":\"BasicTicker\"}},\"id\":\"1292\",\"type\":\"LinearAxis\"},{\"attributes\":{},\"id\":\"1293\",\"type\":\"BasicTicker\"},{\"attributes\":{\"ticker\":{\"id\":\"1293\",\"type\":\"BasicTicker\"}},\"id\":\"1296\",\"type\":\"Grid\"},{\"attributes\":{},\"id\":\"1341\",\"type\":\"BasicTickFormatter\"},{\"attributes\":{},\"id\":\"1345\",\"type\":\"UnionRenderers\"},{\"attributes\":{\"formatter\":{\"id\":\"1341\",\"type\":\"BasicTickFormatter\"},\"ticker\":{\"id\":\"1298\",\"type\":\"BasicTicker\"}},\"id\":\"1297\",\"type\":\"LinearAxis\"},{\"attributes\":{},\"id\":\"1346\",\"type\":\"Selection\"},{\"attributes\":{},\"id\":\"1298\",\"type\":\"BasicTicker\"},{\"attributes\":{\"dimension\":1,\"ticker\":{\"id\":\"1298\",\"type\":\"BasicTicker\"}},\"id\":\"1301\",\"type\":\"Grid\"},{\"attributes\":{\"fill_color\":{\"field\":\"colors\"},\"line_color\":{\"value\":\"#1f77b4\"},\"size\":{\"units\":\"screen\",\"value\":8},\"x\":{\"field\":\"x1\"},\"y\":{\"field\":\"x2\"}},\"id\":\"1313\",\"type\":\"Scatter\"},{\"attributes\":{\"source\":{\"id\":\"1311\",\"type\":\"ColumnDataSource\"},\"text\":{\"field\":\"names\"},\"text_align\":\"center\",\"text_color\":{\"value\":\"#555555\"},\"text_font_size\":{\"value\":\"8pt\"},\"x\":{\"field\":\"x1\"},\"y\":{\"field\":\"x2\"},\"y_offset\":{\"value\":6}},\"id\":\"1317\",\"type\":\"LabelSet\"},{\"attributes\":{\"callback\":null},\"id\":\"1284\",\"type\":\"DataRange1d\"},{\"attributes\":{},\"id\":\"1302\",\"type\":\"PanTool\"},{\"attributes\":{},\"id\":\"1303\",\"type\":\"WheelZoomTool\"},{\"attributes\":{},\"id\":\"1304\",\"type\":\"ResetTool\"},{\"attributes\":{\"callback\":null,\"data\":{\"colors\":[\"#764530\",\"#764530\",\"#331913\",\"#331913\",\"#22139\",\"#1639664\",\"#331913\",\"#684027\",\"#764530\",\"#1076342\",\"#331913\",\"#331913\",\"#1639664\",\"#18310872\",\"#331913\",\"#19311476\",\"#331913\",\"#19311476\",\"#1639664\",\"#764530\",\"#1659765\",\"#1076342\",\"#1639664\",\"#764530\",\"#1076342\",\"#1639664\",\"#1378154\",\"#17107\",\"#18310872\",\"#1408255\",\"#764530\",\"#18310872\",\"#764530\",\"#17107\",\"#19311476\",\"#633725\",\"#1277550\",\"#1659765\",\"#1076342\",\"#382215\",\"#1639664\",\"#1659765\",\"#19311476\",\"#1076342\",\"#331913\",\"#945537\",\"#1277550\",\"#1227248\",\"#21912986\",\"#1277550\",\"#814832\",\"#1076342\",\"#965738\",\"#18310872\",\"#743\",\"#22139\",\"#17107\",\"#17310268\",\"#21912986\",\"#965738\",\"#814832\",\"#21912986\",\"#331913\",\"#25214899\",\"#352114\",\"#1277550\",\"#20412080\",\"#432517\",\"#663926\",\"#1408255\",\"#17107\",\"#1096443\",\"#1277550\",\"#663926\",\"#1357953\",\"#1378154\",\"#1076342\",\"#583423\",\"#1247349\",\"#714228\",\"#1277550\",\"#22139\",\"#18310872\",\"#352114\",\"#1076342\",\"#1639664\",\"#331913\",\"#1277550\",\"#482819\",\"#20912382\",\"#1559161\",\"#1277550\",\"#20912382\",\"#1176946\",\"#764530\",\"#20612181\",\"#743\",\"#17310268\",\"#1277550\",\"#251510\",\"#633725\",\"#1146745\",\"#583423\",\"#613624\",\"#331913\",\"#1227248\",\"#513020\",\"#331913\",\"#1146745\",\"#20912382\",\"#663926\",\"#24714597\",\"#20412080\",\"#583423\",\"#1408255\",\"#532\",\"#1227248\",\"#1076342\",\"#18610973\",\"#1428456\",\"#17510369\",\"#1227248\",\"#734329\",\"#331913\",\"#1076342\",\"#19111275\",\"#402416\",\"#1609463\",\"#20111879\",\"#24414496\",\"#211\",\"#18110671\",\"#331913\",\"#331913\",\"#1428456\",\"#764530\",\"#23213691\",\"#583423\",\"#24214295\",\"#945537\",\"#21912986\",\"#1146745\",\"#382215\",\"#432517\",\"#1076342\",\"#532\",\"#251510\",\"#17310268\",\"#1357953\",\"#764530\",\"#1176946\",\"#23914194\",\"#331913\",\"#764530\",\"#684027\",\"#20612181\",\"#19311476\",\"#23713993\",\"#1689966\",\"#1378154\",\"#21912986\",\"#432517\",\"#1126644\",\"#533121\",\"#432517\",\"#24914798\",\"#513020\",\"#18811174\",\"#402416\",\"#24714597\",\"#1227248\",\"#21112483\",\"#1146745\",\"#432517\",\"#432517\",\"#1327852\",\"#432517\",\"#743\",\"#24914798\",\"#23914194\",\"#432517\",\"#21912986\",\"#684027\",\"#1589362\",\"#1378154\",\"#432517\",\"#402416\",\"#794631\",\"#1064\",\"#1689966\",\"#382215\",\"#895235\",\"#18110671\",\"#211\",\"#1327852\",\"#20612181\",\"#19311476\",\"#764530\",\"#684027\",\"#211\",\"#18811174\",\"#000\",\"#613624\",\"#24914798\",\"#684027\",\"#432517\",\"#915436\",\"#19111275\",\"#331913\",\"#17107\",\"#482819\",\"#17310268\",\"#432517\",\"#20912382\",\"#532\",\"#734329\",\"#22913590\",\"#1146745\",\"#19611577\",\"#211\",\"#764530\",\"#18610973\",\"#1378154\",\"#251510\",\"#1277550\",\"#18811174\",\"#23914194\",\"#382215\",\"#895235\",\"#23914194\",\"#20111879\",\"#1378154\",\"#251510\",\"#22113087\",\"#1609463\",\"#23914194\",\"#18110671\",\"#743\",\"#17107\",\"#331913\",\"#1275\",\"#1096443\",\"#714228\",\"#1458557\",\"#211\",\"#1327852\",\"#382215\",\"#24714597\",\"#684027\",\"#743\",\"#1589362\",\"#1508859\",\"#1589362\",\"#1277550\",\"#915436\",\"#382215\",\"#1076342\",\"#22413288\",\"#301812\",\"#22139\",\"#432517\",\"#1609463\",\"#1247349\",\"#23914194\",\"#24914798\",\"#17810570\",\"#995839\",\"#211\",\"#1046141\",\"#945537\",\"#1428456\",\"#563322\",\"#22139\",\"#402416\",\"#482819\",\"#452718\",\"#1026040\",\"#764530\",\"#18110671\",\"#17510369\",\"#23713993\",\"#1559161\",\"#22613389\",\"#1659765\",\"#1458557\",\"#1307651\",\"#1428456\",\"#945537\",\"#20612181\",\"#1307651\",\"#23413892\",\"#563322\",\"#20612181\",\"#1277550\",\"#995839\",\"#1176946\",\"#532\",\"#17107\",\"#583423\",\"#352114\",\"#21412684\",\"#1408255\",\"#211\",\"#563322\",\"#794631\",\"#563322\",\"#22613389\",\"#23713993\",\"#211\",\"#20612181\",\"#1026040\",\"#764530\",\"#211\",\"#20912382\",\"#684027\",\"#1327852\",\"#764530\",\"#563322\",\"#211\",\"#22913590\",\"#633725\",\"#20612181\",\"#1046141\",\"#20128\",\"#945537\",\"#1277550\",\"#1026040\",\"#19611577\",\"#734329\",\"#20612181\",\"#1428456\",\"#211\",\"#915436\",\"#583423\",\"#513020\",\"#000\",\"#583423\",\"#794631\",\"#301812\",\"#24914798\",\"#352114\",\"#17107\",\"#22139\",\"#563322\",\"#20612181\",\"#17107\",\"#18811174\",\"#18310872\",\"#18110671\",\"#19111275\",\"#23914194\",\"#18110671\",\"#714228\",\"#352114\",\"#1176946\",\"#734329\",\"#402416\",\"#000\",\"#1275\",\"#21412684\",\"#22913590\",\"#20128\",\"#20612181\",\"#23914194\",\"#20412080\",\"#24214295\",\"#20111879\",\"#965738\",\"#1146745\",\"#965738\",\"#663926\",\"#532\",\"#24714597\",\"#764530\",\"#895235\",\"#18310872\",\"#563322\",\"#18110671\",\"#23914194\",\"#613624\",\"#211\",\"#19111275\",\"#22139\",\"#1096443\",\"#1064\",\"#21612785\",\"#22613389\",\"#331913\",\"#20111879\",\"#1508859\",\"#22413288\",\"#1307651\",\"#814832\",\"#482819\",\"#1408255\",\"#563322\",\"#19311476\",\"#1307651\",\"#583423\",\"#18310872\",\"#18310872\",\"#1146745\",\"#18110671\",\"#22139\",\"#1247349\",\"#22613389\",\"#1327852\",\"#18811174\",\"#1458557\",\"#211\",\"#684027\",\"#743\",\"#23914194\",\"#995839\",\"#382215\",\"#17310268\",\"#1609463\",\"#1428456\",\"#21912986\",\"#734329\",\"#17310268\",\"#22613389\",\"#17310268\",\"#865134\",\"#331913\",\"#17510369\",\"#533121\",\"#1689966\",\"#663926\",\"#24914798\",\"#532\",\"#301812\",\"#22139\",\"#1026040\",\"#1596\",\"#1146745\",\"#513020\",\"#20128\",\"#211\",\"#24414496\",\"#24714597\",\"#20612181\",\"#895235\",\"#583423\",\"#532\",\"#533121\",\"#1559161\",\"#532\",\"#1559161\",\"#532\",\"#18110671\",\"#1277550\",\"#844933\",\"#1609463\",\"#19611577\",\"#21112483\",\"#513020\",\"#17010067\",\"#24914798\",\"#20612181\",\"#1327852\",\"#22139\",\"#23713993\",\"#18610973\",\"#734329\",\"#563322\",\"#17510369\",\"#23413892\",\"#1428456\",\"#19111275\",\"#1227248\",\"#19611577\",\"#281611\",\"#563322\",\"#764530\",\"#211\",\"#895235\",\"#17510369\",\"#1146745\",\"#714228\",\"#211\",\"#1609463\",\"#1307651\",\"#1307651\",\"#17107\",\"#1197047\",\"#21612785\",\"#945537\",\"#251510\",\"#18110671\",\"#533121\",\"#714228\",\"#402416\",\"#382215\",\"#18610973\",\"#734329\",\"#532\",\"#764530\",\"#382215\",\"#865134\",\"#1277550\",\"#814832\",\"#794631\",\"#18110671\",\"#1428456\",\"#1559161\",\"#19611577\",\"#19811778\",\"#1609463\",\"#1609463\",\"#18811174\",\"#613624\",\"#402416\",\"#743\",\"#23914194\",\"#1026040\",\"#211\",\"#19111275\",\"#1478758\",\"#743\",\"#1327852\",\"#1378154\",\"#331913\",\"#1589362\",\"#1197047\",\"#402416\",\"#22139\",\"#965738\",\"#764530\",\"#23413892\",\"#20111879\",\"#794631\",\"#23914194\",\"#1176946\",\"#20612181\",\"#301812\",\"#995839\",\"#17010067\",\"#352114\",\"#1046141\",\"#1026040\",\"#22139\",\"#1609463\",\"#1146745\",\"#402416\",\"#1589362\",\"#211\",\"#583423\",\"#1026040\",\"#764530\",\"#1609463\",\"#22413288\",\"#563322\",\"#211\",\"#684027\",\"#22139\",\"#583423\",\"#17510369\",\"#1247349\",\"#402416\",\"#331913\",\"#24914798\",\"#1146745\",\"#21612785\",\"#1307651\",\"#764530\",\"#563322\",\"#281611\",\"#211\",\"#1146745\",\"#533121\",\"#895235\",\"#965738\",\"#20128\",\"#251510\",\"#281611\",\"#1046141\",\"#23914194\",\"#452718\",\"#482819\",\"#1026040\",\"#583423\",\"#1277550\",\"#613624\",\"#533121\",\"#1197047\",\"#352114\",\"#1227248\",\"#1539060\",\"#17107\",\"#23914194\",\"#19611577\",\"#915436\",\"#1277550\",\"#1357953\",\"#1559161\",\"#533121\",\"#513020\",\"#965738\",\"#23413892\",\"#1197047\",\"#945537\",\"#18110671\",\"#23914194\",\"#1689966\",\"#743\",\"#331913\",\"#583423\",\"#21112483\",\"#18610973\",\"#895235\",\"#19611577\",\"#22413288\",\"#251510\",\"#211\",\"#684027\",\"#1559161\",\"#1307651\",\"#563322\",\"#24914798\",\"#684027\",\"#331913\",\"#352114\",\"#251510\",\"#995839\",\"#251510\",\"#583423\",\"#533121\",\"#17310268\",\"#1609463\",\"#532\",\"#1247349\",\"#1247349\",\"#382215\",\"#1197047\",\"#794631\",\"#1378154\",\"#995839\",\"#22613389\",\"#352114\",\"#331913\",\"#734329\",\"#382215\",\"#1277550\",\"#532\",\"#1589362\",\"#402416\",\"#382215\",\"#764530\",\"#1064\",\"#1307651\",\"#794631\",\"#22413288\",\"#714228\",\"#583423\",\"#23213691\",\"#352114\",\"#1689966\",\"#402416\",\"#22613389\",\"#17810570\",\"#1327852\",\"#1227248\",\"#20412080\",\"#1046141\",\"#764530\",\"#24414496\",\"#1046141\",\"#563322\",\"#663926\",\"#382215\",\"#734329\",\"#1275\",\"#19611577\",\"#21412684\",\"#533121\",\"#331913\",\"#24414496\",\"#19811778\",\"#482819\",\"#19811778\",\"#995839\",\"#1096443\",\"#995839\",\"#995839\",\"#764530\",\"#24414496\",\"#1026040\",\"#794631\",\"#24714597\",\"#995839\",\"#563322\",\"#995839\",\"#583423\",\"#23213691\",\"#21112483\",\"#1559161\",\"#19811778\",\"#18811174\",\"#764530\",\"#563322\",\"#533121\",\"#1026040\",\"#945537\",\"#17107\",\"#20128\",\"#22113087\",\"#533121\",\"#814832\",\"#20612181\",\"#22613389\",\"#1146745\",\"#794631\",\"#20612181\",\"#19611577\",\"#382215\",\"#844933\",\"#1026040\",\"#23914194\",\"#513020\",\"#22613389\",\"#743\",\"#24914798\",\"#1046141\",\"#1689966\",\"#19811778\",\"#895235\",\"#945537\",\"#19811778\",\"#1197047\",\"#513020\",\"#301812\",\"#211\",\"#1689966\",\"#532\",\"#1327852\",\"#20612181\",\"#20128\",\"#1026040\",\"#17810570\",\"#21612785\",\"#945537\",\"#1327852\",\"#513020\",\"#583423\",\"#20128\",\"#17510369\",\"#1458557\",\"#684027\",\"#764530\",\"#583423\",\"#22913590\",\"#1197047\",\"#18110671\",\"#945537\",\"#402416\",\"#684027\",\"#22613389\",\"#794631\",\"#532\",\"#20612181\",\"#995839\",\"#764530\",\"#533121\",\"#684027\",\"#352114\",\"#764530\",\"#1408255\",\"#533121\",\"#18110671\",\"#764530\",\"#24914798\",\"#22413288\",\"#714228\",\"#764530\",\"#1197047\",\"#18310872\",\"#17107\",\"#19811778\",\"#794631\",\"#794631\",\"#23713993\",\"#764530\",\"#1277550\",\"#23914194\",\"#251510\",\"#1275\",\"#1076342\",\"#684027\",\"#794631\",\"#482819\",\"#1307651\",\"#1609463\",\"#794631\",\"#20612181\",\"#1458557\",\"#1589362\",\"#18110671\",\"#1378154\",\"#382215\",\"#23713993\",\"#22139\",\"#382215\",\"#19811778\",\"#1277550\",\"#684027\",\"#794631\",\"#1277550\",\"#995839\",\"#20128\",\"#17810570\",\"#1428456\",\"#1559161\",\"#684027\",\"#482819\",\"#20111879\",\"#23914194\",\"#22113087\",\"#24914798\",\"#19611577\",\"#1307651\",\"#20412080\",\"#684027\",\"#583423\",\"#533121\",\"#18110671\",\"#965738\",\"#734329\",\"#1689966\",\"#1458557\",\"#1227248\",\"#533121\",\"#583423\",\"#1046141\",\"#251510\",\"#945537\",\"#1428456\",\"#1277550\",\"#533121\",\"#000\",\"#995839\",\"#1327852\",\"#684027\",\"#22139\",\"#533121\",\"#20612181\",\"#1508859\",\"#24414496\",\"#1307651\",\"#613624\",\"#1096443\",\"#764530\",\"#684027\",\"#23914194\",\"#22613389\",\"#1046141\",\"#382215\",\"#382215\",\"#684027\",\"#22139\",\"#1064\",\"#794631\",\"#563322\",\"#1046141\",\"#1146745\",\"#1589362\",\"#20612181\",\"#684027\",\"#734329\",\"#965738\",\"#1064\",\"#794631\",\"#945537\",\"#301812\",\"#895235\",\"#532\",\"#743\",\"#1064\",\"#482819\",\"#1428456\",\"#1327852\",\"#1076342\",\"#1307651\",\"#24914798\",\"#684027\",\"#22613389\",\"#24914798\",\"#684027\",\"#965738\",\"#684027\",\"#1609463\",\"#1197047\",\"#20111879\",\"#24414496\",\"#382215\",\"#684027\",\"#24414496\",\"#1197047\",\"#995839\",\"#945537\",\"#1589362\",\"#684027\",\"#1428456\",\"#1609463\",\"#24914798\",\"#965738\",\"#1197047\",\"#1046141\",\"#895235\",\"#22139\",\"#684027\",\"#17810570\",\"#1026040\",\"#684027\",\"#814832\",\"#20912382\",\"#19811778\",\"#18310872\",\"#1609463\",\"#18811174\",\"#24914798\",\"#1559161\",\"#764530\",\"#945537\",\"#583423\",\"#895235\",\"#18110671\",\"#21612785\",\"#452718\",\"#402416\",\"#22139\",\"#24714597\",\"#22139\",\"#945537\",\"#583423\",\"#794631\",\"#18310872\",\"#895235\",\"#1327852\",\"#563322\",\"#1197047\",\"#402416\",\"#1046141\",\"#21612785\",\"#18610973\",\"#1026040\",\"#251510\",\"#1277550\",\"#1428456\",\"#20612181\",\"#915436\",\"#18110671\",\"#1307651\",\"#583423\",\"#1428456\",\"#382215\",\"#794631\",\"#20128\",\"#1327852\",\"#995839\",\"#1277550\",\"#382215\",\"#533121\",\"#684027\",\"#995839\",\"#684027\",\"#1026040\",\"#794631\",\"#17810570\",\"#613624\",\"#23413892\",\"#17810570\",\"#895235\",\"#1064\",\"#20912382\",\"#17510369\",\"#563322\",\"#20912382\",\"#402416\",\"#684027\",\"#19811778\",\"#1176946\",\"#23413892\",\"#20128\",\"#1046141\",\"#743\",\"#402416\",\"#1026040\",\"#20612181\",\"#684027\",\"#1428456\",\"#20912382\",\"#1046141\",\"#794631\",\"#513020\",\"#23914194\",\"#17107\",\"#613624\",\"#945537\",\"#684027\"],\"names\":[\"the\",\"of\",\"and\",\"in\",\"to\",\"was\",\"on\",\"as\",\"for\",\"that\",\"with\",\"by\",\"is\",\"his\",\"at\",\"he\",\"from\",\"it\",\"were\",\"an\",\"had\",\"which\",\"be\",\"this\",\"but\",\"are\",\"first\",\"not\",\"their\",\"after\",\"one\",\"her\",\"its\",\"also\",\"they\",\"two\",\"or\",\"have\",\"who\",\"new\",\"been\",\"has\",\"she\",\"when\",\"during\",\"time\",\"other\",\"would\",\"into\",\"all\",\"more\",\"while\",\"over\",\"him\",\"game\",\"later\",\"only\",\"three\",\"up\",\"about\",\"most\",\"out\",\"between\",\"than\",\"there\",\"some\",\"film\",\"may\",\"year\",\"before\",\"no\",\"made\",\"such\",\"season\",\"000\",\"second\",\"where\",\"world\",\"years\",\"war\",\"both\",\"then\",\"them\",\"used\",\"however\",\"being\",\"through\",\"these\",\"series\",\"song\",\"against\",\"many\",\"album\",\"became\",\"part\",\"city\",\"team\",\"four\",\"well\",\"number\",\"several\",\"north\",\"united\",\"including\",\"under\",\"can\",\"state\",\"early\",\"south\",\"music\",\"day\",\"so\",\"episode\",\"states\",\"following\",\"said\",\"did\",\"although\",\"known\",\"american\",\"work\",\"could\",\"began\",\"until\",\"because\",\"released\",\"like\",\"called\",\"people\",\"high\",\"10\",\"end\",\"since\",\"around\",\"british\",\"each\",\"best\",\"national\",\"long\",\"life\",\"back\",\"west\",\"same\",\"september\",\"if\",\"found\",\"us\",\"five\",\"million\",\"another\",\"took\",\"show\",\"along\",\"any\",\"use\",\"area\",\"you\",\"group\",\"received\",\"final\",\"off\",\"october\",\"century\",\"john\",\"august\",\"school\",\"government\",\"line\",\"due\",\"what\",\"will\",\"km\",\"east\",\"june\",\"july\",\"system\",\"march\",\"games\",\"home\",\"single\",\"november\",\"down\",\"much\",\"large\",\"third\",\"april\",\"major\",\"general\",\"set\",\"left\",\"based\",\"family\",\"just\",\"12\",\"company\",\"house\",\"we\",\"place\",\"history\",\"20\",\"road\",\"king\",\"included\",\"york\",\"name\",\"december\",\"army\",\"played\",\"within\",\"now\",\"character\",\"six\",\"january\",\"band\",\"according\",\"won\",\"wrote\",\"near\",\"led\",\"15\",\"main\",\"described\",\"last\",\"times\",\"those\",\"river\",\"video\",\"own\",\"death\",\"record\",\"men\",\"next\",\"top\",\"de\",\"named\",\"release\",\"way\",\"league\",\"still\",\"late\",\"air\",\"make\",\"battle\",\"man\",\"30\",\"production\",\"original\",\"very\",\"species\",\"club\",\"great\",\"route\",\"small\",\"even\",\"force\",\"old\",\"though\",\"ship\",\"storm\",\"again\",\"february\",\"built\",\"days\",\"play\",\"university\",\"division\",\"public\",\"11\",\"service\",\"role\",\"french\",\"2010\",\"further\",\"among\",\"story\",\"held\",\"do\",\"power\",\"side\",\"book\",\"members\",\"match\",\"white\",\"having\",\"player\",\"point\",\"german\",\"career\",\"town\",\"water\",\"100\",\"2009\",\"park\",\"often\",\"local\",\"came\",\"considered\",\"without\",\"england\",\"order\",\"continued\",\"despite\",\"18\",\"2011\",\"former\",\"2008\",\"black\",\"party\",\"16\",\"county\",\"take\",\"half\",\"14\",\"songs\",\"form\",\"development\",\"support\",\"2007\",\"13\",\"written\",\"few\",\"island\",\"military\",\"version\",\"period\",\"different\",\"become\",\"moved\",\"lost\",\"building\",\"english\",\"25\",\"forces\",\"international\",\"court\",\"ii\",\"country\",\"president\",\"tropical\",\"london\",\"given\",\"little\",\"re\",\"2012\",\"church\",\"never\",\"street\",\"my\",\"lead\",\"produced\",\"performance\",\"position\",\"attack\",\"using\",\"gave\",\"returned\",\"similar\",\"royal\",\"aircraft\",\"went\",\"published\",\"track\",\"land\",\"tour\",\"television\",\"short\",\"children\",\"per\",\"western\",\"total\",\"week\",\"stated\",\"how\",\"control\",\"father\",\"good\",\"2006\",\"right\",\"live\",\"include\",\"17\",\"recorded\",\"once\",\"making\",\"run\",\"fire\",\"star\",\"throughout\",\"women\",\"highway\",\"ships\",\"class\",\"less\",\"characters\",\"upon\",\"2013\",\"me\",\"age\",\"australia\",\"himself\",\"love\",\"central\",\"head\",\"instead\",\"months\",\"light\",\"design\",\"station\",\"young\",\"24\",\"result\",\"players\",\"title\",\"political\",\"previous\",\"ten\",\"developed\",\"sea\",\"away\",\"remained\",\"seven\",\"red\",\"eight\",\"ft\",\"across\",\"writing\",\"james\",\"died\",\"night\",\"center\",\"reported\",\"hurricane\",\"eventually\",\"return\",\"office\",\"southern\",\"law\",\"rock\",\"21\",\"low\",\"too\",\"areas\",\"son\",\"america\",\"felt\",\"william\",\"race\",\"announced\",\"win\",\"noted\",\"field\",\"various\",\"sent\",\"created\",\"followed\",\"miles\",\"act\",\"award\",\"college\",\"st\",\"construction\",\"together\",\"member\",\"seen\",\"reached\",\"2005\",\"style\",\"50\",\"japanese\",\"performed\",\"should\",\"taken\",\"served\",\"2014\",\"full\",\"19\",\"born\",\"works\",\"northern\",\"campaign\",\"22\",\"established\",\"level\",\"range\",\"originally\",\"able\",\"killed\",\"success\",\"chart\",\"body\",\"george\",\"action\",\"common\",\"present\",\"appeared\",\"started\",\"thought\",\"special\",\"modern\",\"feet\",\"others\",\"rather\",\"post\",\"front\",\"australian\",\"points\",\"caused\",\"critics\",\"located\",\"formed\",\"bridge\",\"features\",\"addition\",\"football\",\"stage\",\"get\",\"23\",\"sold\",\"mm\",\"championship\",\"project\",\"fourth\",\"behind\",\"heavy\",\"decided\",\"popular\",\"close\",\"almost\",\"every\",\"40\",\"population\",\"director\",\"playing\",\"saw\",\"site\",\"damage\",\"non\",\"awards\",\"added\",\"command\",\"see\",\"initially\",\"opened\",\"region\",\"important\",\"strong\",\"28\",\"kingdom\",\"go\",\"open\",\"completed\",\"fleet\",\"2004\",\"27\",\"case\",\"soon\",\"france\",\"art\",\"weeks\",\"leading\",\"towards\",\"hall\",\"eastern\",\"guns\",\"ground\",\"free\",\"2015\",\"worked\",\"26\",\"coast\",\"david\",\"mother\",\"least\",\"sound\",\"records\",\"working\",\"training\",\"event\",\"placed\",\"scene\",\"help\",\"union\",\"generally\",\"featured\",\"michael\",\"wanted\",\"provided\",\"does\",\"scored\",\"ever\",\"recording\",\"brought\",\"troops\",\"either\",\"500\",\"victory\",\"henry\",\"council\",\"average\",\"200\",\"allowed\",\"events\",\"hit\",\"studio\",\"joined\",\"cup\",\"summer\",\"europe\",\"mi\",\"far\",\"wife\",\"put\",\"navy\",\"magazine\",\"29\",\"human\",\"runs\",\"start\",\"2003\",\"washington\",\"example\",\"mid\",\"designed\",\"list\",\"society\",\"radio\",\"japan\",\"robert\",\"nine\",\"replaced\",\"believed\",\"hours\",\"minutes\",\"earlier\",\"forced\",\"al\",\"opening\",\"media\",\"brown\",\"possible\",\"beginning\",\"finished\",\"official\",\"particularly\",\"saying\",\"significant\",\"involved\",\"change\",\"rest\",\"shot\",\"base\",\"co\",\"crew\",\"operation\",\"european\",\"largest\",\"available\",\"met\",\"successful\",\"big\",\"squadron\",\"process\",\"must\",\"films\",\"police\",\"space\",\"lower\",\"units\",\"2000\",\"month\",\"real\",\"ended\",\"test\",\"turned\",\"going\",\"charles\",\"outside\",\"increased\",\"review\",\"cast\",\"praised\",\"association\",\"taking\",\"business\",\"community\",\"thus\",\"above\",\"move\",\"captain\",\"enough\",\"social\",\"2002\",\"research\",\"canada\",\"highest\",\"mph\",\"goal\",\"reviews\",\"section\",\"additional\",\"2001\",\"stone\",\"come\",\"relationship\",\"previously\",\"elements\",\"san\",\"thomas\",\"better\",\"hill\",\"gold\",\"middle\",\"chief\",\"lake\",\"passed\",\"future\",\"ordered\",\"give\",\"appearance\",\"rights\",\"cross\",\"round\",\"california\",\"staff\",\"signed\",\"positive\",\"brother\",\"interest\",\"critical\",\"failed\",\"board\",\"winds\",\"31\",\"spent\",\"told\",\"plan\",\"castle\",\"parts\",\"find\",\"infantry\",\"gun\",\"money\",\"program\",\"committee\",\"germany\",\"lines\",\"musical\",\"female\",\"type\",\"overall\",\"india\",\"directed\",\"attempt\",\"room\",\"idea\",\"whose\",\"term\",\"green\",\"news\",\"claimed\",\"district\",\"personal\",\"cover\",\"don\",\"evidence\",\"required\",\"grand\",\"prior\",\"paul\",\"hand\",\"complete\",\"square\",\"port\",\"election\",\"itself\",\"asked\",\"our\",\"already\",\"reception\",\"bill\",\"press\",\"groups\",\"entire\",\"sometimes\",\"debut\",\"uk\",\"flight\",\"whom\",\"study\",\"smith\",\"novel\",\"speed\",\"introduced\",\"governor\",\"centre\",\"person\",\"limited\",\"turn\",\"fifth\",\"past\",\"movement\",\"quickly\",\"background\",\"response\",\"especially\",\"issue\",\"minister\",\"usually\",\"education\",\"stars\",\"battalion\",\"indian\",\"loss\",\"self\",\"plot\",\"students\",\"score\",\"la\",\"department\",\"carried\",\"surface\",\"episodes\",\"material\",\"britain\",\"richard\",\"car\",\"estimated\",\"defeated\",\"arrived\",\"woman\",\"might\",\"writer\",\"industry\",\"services\",\"hot\",\"effects\",\"anti\",\"food\",\"peter\",\"queen\",\"science\",\"decision\",\"structure\",\"leaving\",\"mark\",\"village\",\"ny\",\"larger\",\"pressure\",\"shows\",\"becoming\",\"remaining\",\"date\",\"voice\",\"blue\",\"commander\",\"changes\",\"current\",\"earth\",\"finally\",\"length\",\"report\",\"1999\",\"operations\",\"islands\",\"commercial\",\"bay\",\"nature\",\"entered\",\"approximately\",\"running\",\"leader\",\"course\",\"depression\",\"child\",\"suggested\",\"teams\",\"cut\",\"scenes\",\"civil\",\"network\",\"whether\",\"cost\",\"los\",\"lack\",\"dark\",\"virginia\",\"view\",\"nearly\",\"living\",\"appointed\",\"helped\",\"fans\",\"higher\",\"latter\",\"language\",\"upper\",\"intended\",\"professional\",\"influence\",\"wide\",\"fact\",\"spanish\",\"proposed\",\"museum\",\"percent\",\"agreed\",\"officer\",\"daughter\",\"shortly\",\"natural\",\"brigade\",\"provide\",\"today\",\"longer\",\"pop\",\"compared\",\"god\",\"supported\",\"railway\",\"chicago\",\"winning\",\"regular\",\"experience\",\"pacific\",\"married\",\"face\",\"destroyed\",\"awarded\",\"related\",\"subsequently\",\"something\",\"immediately\",\"effect\",\"trade\",\"manager\",\"your\",\"friends\",\"contract\",\"1998\",\"planned\",\"associated\",\"naval\",\"captured\",\"done\",\"create\",\"billboard\",\"themselves\",\"soviet\",\"buildings\",\"soldiers\",\"ball\",\"size\",\"empire\",\"chinese\",\"initial\",\"producer\",\"tracks\",\"plans\",\"health\",\"mostly\",\"changed\",\"lord\",\"remains\",\"private\",\"information\",\"appear\",\"johnson\",\"regiment\",\"feature\",\"60\",\"corps\",\"friend\",\"extended\",\"singles\",\"books\",\"1997\",\"lyrics\",\"key\",\"energy\",\"mixed\",\"got\",\"300\",\"guitar\",\"unit\",\"conference\",\"minor\",\"leave\",\"fort\",\"status\",\"roman\",\"albums\",\"officers\",\"jackson\",\"federal\",\"edition\",\"always\",\"includes\",\"problems\",\"yet\"],\"x1\":{\"__ndarray__\":\"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\",\"dtype\":\"float32\",\"shape\":[1000]},\"x2\":{\"__ndarray__\":\"bU/JwPiCPcCUhlHAbmmowRvUWEE5kbQ+Gt+dwb13BMGVBwfASDV7QShyHsD4ZzrBJyPBPnTtf0GxBqLBysi6QRcRocEz5QXBxo5AvfzU98CyQMHA9kOCQXTI2L/iUsjAEQJ+QVFRFL3/ZZnB/tFiwd2JE8Ewp5PBk7AjwoPqgEH+DgjBODI6wenzpUFL6hfCljqDwGRgxMAxC7ZBIOibPiTdsUBYHdPAgCO7QfvXiMGh97nBuQeAwdcuCMGtsSBCSUbCwdtY+MF5yDHB66eOQXXRwsFasmFB6zgcQrY7iMFBbQ/B6R4Ywp3H3cGWOdHB2q8JwMo53sFR1bDBmtO9wUvnEkED4gLC/tvQQb9/UsLZfA3CHX+UwaRoJsH5ELlBt7sYwVxi60E0ogbC6hmfwbamj8F8y5XBiYgZwkyWlsFCjnXA5W1xwUXvUkHXhg1CunB/QXlf87/noLnBJnEswbljs0HgtZZB/XhvQUP3BMLOPaBBsPMTQeOUBkG0G2XAmPYDQhpYG8IdyxjBxqTwwbZDC8JR0GbBE3uQwZ7+1EGGhKDBc9gnQlcVjUD0L9vBGV5mwc3xYUGeKgzC5btjQaKDwUE6TbbBq4KUwZZNJEJ58BdCFmZ7QeRzE0LHb1XBX9IiQZdJIUJnkrZB26yqwbKgZkFxY/9BI7JPQeu2DEJXueJB5bHPwPSdHcKqWsLBwTunwQr1vMHMBTrBi4sWwRvegsHH4WjBc6t/wNFfvUFphdLBqiZYwX2+CsFOWlXCpYFYQUaqGEL0o5DBAcoYwmVxBML0O/TAVhutQd59qUElPrLBWQ0VwdCyikF0lfHACBCiQdzZg8DSmAdCgcShwfoO18EQq1LCbhTuwBWeTEAoWlbCjT7jQKWI4UCLcc6+du4NQW5Ld0GhtyZCJAeLwWgXWcGUz07CNM9Rwl7jwUB4w0/CPi8cQncpNT+7soRBr+RUwvOT2cEgVjPBZxjOwD8XncEq20zCtuK+P6ZLacCtG4BBLXmZQf5CpUGJa/JB7oMAwW6KIcKJX3tAKAYYv9T6okFO31jBodMSQZoUHMLsQGDAnXteQOal6EEivFjBEvCfwbp6UsI/penBf8WRQeRGqcGzRc7AP3vIQQ/vG8LYPE7CNQKQQYkL2kFu4XVBtNccQnP3PcEcA+BByIYfwokTtcDAVBNC1K+cwVHj6sD2zRzByEXDwEbLZkFDm1VAjQUDQqJenkHsQd9BBBOXwXVal8E/MWzBrbIJQgiJ0UFJ+2lB7XoJQooPB8GvRNjBW+i2wckSrEFHGp/B99DKQdQ0GsJ2XbxAM9V7wAPWUEExnRXBle0IQk/oCMD4lJnA4knNwDlf3cA90N7Bp128we12dUEtkc3B0OtGwQbbgsE5ZFHCjG0FQoz6G8JkDJBBIabBQBcs+sHNW0dAwPwkwsuTk8EbLchB5DQswZNY8cFvRUrBOvo4QfyUwEEs/tlBct+RQXsA70G3PmdBW/i/QT2qC0IRcANCE2sXwHxLusBYJflBtxNuwBFZLcH5Y8ZByhd0wDTT+sCWjBLCcYHiwe6TKMD6nq7ApErYP7katUFc8BRCWYcvwSYZk8Fr7WdBMQC4QUE6Z8EH+CjCyCbpwWQAyT/S5ejBM4EgwLYLB8BvzSHCn0FIQEE8o0F2/A7CUVkjwry1lUGQkek/4nSvQDLMQUFbuuvBNGAmwsxDB0INfhHCO7YNweW8qMEetMtBNL/AwFjPG8FqK/hApArEQXqPhEGHvxy/rl0iwR7oHcIi1+HBNVJzwTxi8kBjZahApPmLwV0Fob/gRjbBtCIIviUK4kG5einBvLpjwWiW78HfHKi/F1JWweogPcAh9JRBSl4YQVrpAkI0moZB681hwD//rsG2uopBPtUBQhN6w0Fnij5BLYwwQByaxMGYDLVBJioLQlvxiUFoo8jAYHCRQdYxF0El53rAiD3gQf8eCcL/rlTBprj5wR5YDsJ3NyNCef5yQXen70FWIfZB4X0twGWP4sH8C01BgFucQTo110GnQyXCn2L/QZ82bcEJlLZBPbNVQes5tcF/eK/AexK4wQBe3kHrDpbAxajNwQtNC0J29y/B3irKQaNMkcFvMerBM9uiQTJE4sH4Zo7BE15qQQRltEG37lvBuNZCQQLxPcGvGBrC+UEgwDk7fUD6SQzAvBzHQbdtK8K+VwhBenf7Qab/n8FahjtA6lt3wbxPGsIW5gNCLsEdwb9a08Fu/JhBr6UbwhgxX8C08B7CmrKqwRtzuMGNHeZALWSGQG38t0G4IwvCTLFOwO6UIULlkkbBSf9mwS8DekG9RFlADvZZwRpx5UBuBGlBuNkowu3XzcBAHU1BoCD5wF5c+UHZe2XB58siQrynH0CmLv5B1HIrQoXsP0HWOh9CzBZTwJl1CMJgP/hBpMUBQuuD50FQHZHBWQ/NQKLszcFd1s5AjQFewIqbgD3nh4LBUiULQmIdEEKR4cNBui/mwQdRQkE7vhDC0RsywQpt+kFDfiNCHYDJQQTi4UHrKPLB6XYzwMTgI8LyGL1BAsUsQdjkWcEsEaLBMscgwuyg/0GlUrbAGUBTwLIKT8EZPgZCnY+PQeGOnEBRLJ5BZrE6QcrMc0CUIJjB1Y4iQKZE1z4B3O1BppG1QeWmGUIV7Te/c9KNPx1vqsGHVQjBADwywabYaEDdcldBijtWwZZJLkEAc99BxIlFQDFhzUF8zfxBbGJowG7g5EH4FSZBLy8JQlhek0GCmJRB/lQmwmov/kHXlq7BarwLQuX0tUASTaHB8J+ewc6QIcAvlBBCQZ1EQJl6i8AHdcbBJcASwfMgEsJGoPrAAwHAQFlokEFTrbJBRQLLv7J7UkHbuCTAfvfNwdPV9kHVdce/rgCYQeOoSsEqPvxBJcABwQO59D9zVF/AJMoswscwtsH2549BkfCMwfk5/UHF6dbBkYTZwdVZK8ISpAhBEYRswW3ZgcG2xjtBO0EawoqZIkEnVbPBkZKKv+lcUcEll73BSdCgwGZuG8Bq1PbBg+rdQe9AKMLS4TTBCkKOQF+08UHtGdbBRbt1QbpDnkFwWZ9BEeKlwSVY9kFXuNZB2ILTQXwRU0Hx8EjBXvOJwJZG7EFYc49AbZ0UQjdU60Hi7RdCVliEQUuSUcFQI4pB2xjHQQsK48EtQ6PA0ssKwl1nPkH+rl9AI+TrQM/QAcIx7g7ChywIQqrn8kGCf2ZBaFqMQTzU1EF4yQtCQqTHwej9hcHO1o3BHFo1wb6X70H9ZcFBbaeywfE3uECTZSnCW+g1QGKEUEHGTsPB+jvbwdcLA0BB1HY+0rjWwbvECUKRnJnBmaWxPuGwCkEtX4DBuRM3QEN0HsJSGvFBkCsbQhs4HsLwoiDC3X17wZl5A0KINN9AdXenwdk8m0DxW1W/sJIpQfDZxMFhI6pBRDyAwdyywL9yoyhCDauAPlTlTkGeqrVABC7hwOhpZ0E8j4fAP+G5QDbgxsEDSq3BncRxwV7pbcE/vjRB2ijSQXSzYEDybPW/SCLdwXZmk0DSIiZCDpDQQTq8xcFZGkXBYSxIwe/1ycEtxtnBqu0Nwsp33D8XBLFBqG6sQeriw0FL7KhBjp5SQDGxo8Fx+cC/P/K2QIhArkF1ph5CFq4cvxPGqUHNuChA/ngcPx2ThcB6jzvBOn2GQSkoA7+ZSUBBUeo/QKD23cFs7wVB5ZCCwZ3Vb8EDUIPB6GWiQUn/SEDOJZY9SGSMwHaL4MEjr/A/gpmRQc6Z40GypUXBniFvPzAecsGW7xRA3Q8qwR/pcMCNVJnAYcRfwXgZQsC3scTA/DLLQTm8rz5pFABCEw6mQZCdhkFvSSnB9iyewK45AUJ/93HBMwPFwV1Y40EpcK0/Iv/+QVtyAkHS/QNA028NQjy82UApDlrBkxskwt93zUEF8yVCdkwvQecKHcCJPB8/lmqbQT/l68GY2rzB3axFQMF40EAVN+dAtVOBwVBSdb4b7VRBCPvJQTcYJj+Plb3A4peAwakXBkIHDXFB77eEQSiztkHeT6VBhpNkQCJHW8DBGb9A+ncgQoOyQ0A8SmxA88FGQRLp1kDNAuVA0ZMHQnhbMsGWRpvBts1VQKVQWEFXyUjA/AOMPyAhBcETvNFACoi6wC1rFUJlBpZBGUtCwWoFRkA+E14/egeqQBrRkMDa8czAXWqnwBCOwsHV/ofBuGfAwdTAtkFc5QdBTeosQHsnw0EN6rbAX0oAQuY8eb8mUkPAn53OQYBPrr/dzoFBlxefwQIBD70LAjHAGy9gwaIIREGSJyVBGlKiv0uXDEHSzQrAFRqYwFKz10BowLTAoK3vwVpyTMHINGJBC1GQQKEFv0FIkfVAYG+eQWBcbMG1VZtA9YnMQY07/sBFw8JBoMMLQT97iMHtEmFA0TeFQa7WJEJsl31BD5zLQVKdzkGXQCNCoNXRQEI98z8U7pHBVOKWQeKLD0GeHQfB+oXwwKV6cEAuR0RARuguQc0dG0EcEM4/d1GZQc5rhUBv5YfAnoCgwCoJBcGc1MjAREakQfD9C0Hya4zBgmPowB+Qe0GPZlLAOs7Jv8vpu0CkAXG+IrQHwRFFdcHU1/a/RCPBQKkc18GFUa7Bh4kSwYRzEUDtDwXBP5uoQGpYwUEFU9rBooFiQcnqIb/a7BC+pT0+wTN82UHzjh9C0AMDQpWEbEHw2NNBlEA/wawv9EAEClZBhAcBwjGuG0LYK6hAIdEmwFDI5D+mEdtAGQzIwVEuPr6MRPJBFV8RQtPB6UFIoA/B8ZCfwPSr98DnGE3Bd4cLQpP2CELtSRZBli6QwP6GCkFm0iXBsmIEQpwpx7/4OfDBOxERQnqiPsAm9vNBpp57watwDEBkZfHBSyKoQYBTx8CQtgdBGXJpQSpy4EE+xadBmxHrQTWSE8Amwog/KZlnQVnRtL+W8P9AVmowwSMAvEGV70xBHEuOQXVd4UE9HUpBRrJewWXqekE233HBbYEQQb3NTj53toRAcVCVQYlb4kEyAiHBLhjSwdzeCkLwIlhB1JmrwZ55jkGzQw9CMweqQbWwmkEuiktBEz9EwZuqrb4M5eLByG2WQQ1q17+7QoTBA30QwdoHiMD2FtNASCyOQd0gMUFcL85AZv10wHDC70HwxBVAduegwKGpKUCxSuxAEBW7QarGAkBaX/DBND2/QWWMDsIRKffB0ofmQU128kF5e5lB/3K9QeJ80sG3q5pB9S4OQHYTw0BCc2c/3o6sQQi5DMLhroNB/dTFwa14DkKFdMQ/x29+QY5losCQaTPAHjoGwVn5mkGb8tnB3mokQDhsl0AspcpBNHvowP/M4kFEKt1AI9fUwA==\",\"dtype\":\"float32\",\"shape\":[1000]}},\"selected\":{\"id\":\"1346\",\"type\":\"Selection\"},\"selection_policy\":{\"id\":\"1345\",\"type\":\"UnionRenderers\"}},\"id\":\"1311\",\"type\":\"ColumnDataSource\"},{\"attributes\":{},\"id\":\"1305\",\"type\":\"SaveTool\"},{\"attributes\":{\"active_drag\":\"auto\",\"active_inspect\":\"auto\",\"active_multi\":null,\"active_scroll\":\"auto\",\"active_tap\":\"auto\",\"tools\":[{\"id\":\"1302\",\"type\":\"PanTool\"},{\"id\":\"1303\",\"type\":\"WheelZoomTool\"},{\"id\":\"1304\",\"type\":\"ResetTool\"},{\"id\":\"1305\",\"type\":\"SaveTool\"}]},\"id\":\"1306\",\"type\":\"Toolbar\"},{\"attributes\":{\"fill_alpha\":{\"value\":0.1},\"fill_color\":{\"value\":\"#1f77b4\"},\"line_alpha\":{\"value\":0.1},\"line_color\":{\"value\":\"#1f77b4\"},\"size\":{\"units\":\"screen\",\"value\":8},\"x\":{\"field\":\"x1\"},\"y\":{\"field\":\"x2\"}},\"id\":\"1314\",\"type\":\"Scatter\"}],\"root_ids\":[\"1281\"]},\"title\":\"Bokeh Application\",\"version\":\"1.3.4\"}};\n",
       "  var render_items = [{\"docid\":\"3bdef73e-5fe5-4e69-b961-06e8e93f0bf4\",\"roots\":{\"1281\":\"2f04574c-76be-4423-94ce-a19007991a29\"}}];\n",
       "  root.Bokeh.embed.embed_items_notebook(docs_json, render_items);\n",
       "\n",
       "  }\n",
       "  if (root.Bokeh !== undefined) {\n",
       "    embed_document(root);\n",
       "  } else {\n",
       "    var attempts = 0;\n",
       "    var timer = setInterval(function(root) {\n",
       "      if (root.Bokeh !== undefined) {\n",
       "        embed_document(root);\n",
       "        clearInterval(timer);\n",
       "      }\n",
       "      attempts++;\n",
       "      if (attempts > 100) {\n",
       "        console.log(\"Bokeh: ERROR: Unable to run BokehJS code because BokehJS library is missing\");\n",
       "        clearInterval(timer);\n",
       "      }\n",
       "    }, 10, root)\n",
       "  }\n",
       "})(window);"
      ],
      "application/vnd.bokehjs_exec.v0+json": ""
     },
     "metadata": {
      "application/vnd.bokehjs_exec.v0+json": {
       "id": "1281"
      }
     },
     "output_type": "display_data"
    }
   ],
   "source": [
    "p = figure(tools=\"pan,wheel_zoom,reset,save\",\n",
    "           toolbar_location=\"above\",\n",
    "           title=\"word2vec T-SNE for most common words\")\n",
    "\n",
    "clustering_source = ColumnDataSource(data=dict(x1=words_top_wiki_tsne[:, 0],\n",
    "                                               x2=words_top_wiki_tsne[:, 1],\n",
    "                                               names=words_top_wiki,\n",
    "                                               colors=colors))\n",
    "\n",
    "p.scatter(x=\"x1\", y=\"x2\", size=8, source=clustering_source, fill_color='colors')\n",
    "\n",
    "labels = LabelSet(x=\"x1\", y=\"x2\", text=\"names\", y_offset=6,\n",
    "                  text_font_size=\"8pt\", text_color=\"#555555\",\n",
    "                  source=clustering_source, text_align='center')\n",
    "p.add_layout(labels)\n",
    "\n",
    "show(p)"
   ]
  },
  {
   "cell_type": "code",
   "execution_count": null,
   "metadata": {},
   "outputs": [],
   "source": []
  }
 ],
 "metadata": {
  "anaconda-cloud": {},
  "kernelspec": {
   "display_name": "Python 3",
   "language": "python",
   "name": "python3"
  },
  "language_info": {
   "codemirror_mode": {
    "name": "ipython",
    "version": 3
   },
   "file_extension": ".py",
   "mimetype": "text/x-python",
   "name": "python",
   "nbconvert_exporter": "python",
   "pygments_lexer": "ipython3",
   "version": "3.7.3"
  },
  "pycharm": {
   "stem_cell": {
    "cell_type": "raw",
    "metadata": {
     "collapsed": false
    },
    "source": []
   }
  }
 },
 "nbformat": 4,
 "nbformat_minor": 1
}
