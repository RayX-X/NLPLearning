{
 "cells": [
  {
   "cell_type": "markdown",
   "metadata": {},
   "source": [
    "## Practical 1: word2vec\n",
    "<p>Oxford CS - Deep NLP 2017<br>\n",
    "https://www.cs.ox.ac.uk/teaching/courses/2016-2017/dl/</p>\n",
    "<p>[Yannis Assael, Brendan Shillingford, Chris Dyer]</p>"
   ]
  },
  {
   "cell_type": "markdown",
   "metadata": {},
   "source": [
    "* IPython notebooks: <https://ipython.org/ipython-doc/3/notebook/notebook.html#introduction>\n",
    "* Numpy numerical array library: <https://docs.scipy.org/doc/>\n",
    "* Gensim's word2vec: <https://radimrehurek.com/gensim/models/word2vec.html>\n",
    "* Bokeh interactive plots: <http://bokeh.pydata.org/en/latest/> (we provide plotting code here, but click the thumbnails for more examples to copy-paste)\n",
    "* scikit-learn ML library (aka `sklearn`): <http://scikit-learn.org/stable/documentation.html>\n",
    "* nltk NLP toolkit: <http://www.nltk.org/>\n",
    "* tutorial for processing xml in python using `lxml`: <http://lxml.de/tutorial.html> (we did this for you below, but in case you need it in the future)"
   ]
  },
  {
   "cell_type": "code",
   "execution_count": 4,
   "metadata": {},
   "outputs": [],
   "source": [
    "import numpy as np\n",
    "import os\n",
    "from random import shuffle\n",
    "import re"
   ]
  },
  {
   "cell_type": "code",
   "execution_count": 5,
   "metadata": {},
   "outputs": [
    {
     "data": {
      "text/html": [
       "\n",
       "    <div class=\"bk-root\">\n",
       "        <a href=\"https://bokeh.pydata.org\" target=\"_blank\" class=\"bk-logo bk-logo-small bk-logo-notebook\"></a>\n",
       "        <span id=\"1001\">Loading BokehJS ...</span>\n",
       "    </div>"
      ]
     },
     "metadata": {},
     "output_type": "display_data"
    },
    {
     "data": {
      "application/javascript": [
       "\n",
       "(function(root) {\n",
       "  function now() {\n",
       "    return new Date();\n",
       "  }\n",
       "\n",
       "  var force = true;\n",
       "\n",
       "  if (typeof root._bokeh_onload_callbacks === \"undefined\" || force === true) {\n",
       "    root._bokeh_onload_callbacks = [];\n",
       "    root._bokeh_is_loading = undefined;\n",
       "  }\n",
       "\n",
       "  var JS_MIME_TYPE = 'application/javascript';\n",
       "  var HTML_MIME_TYPE = 'text/html';\n",
       "  var EXEC_MIME_TYPE = 'application/vnd.bokehjs_exec.v0+json';\n",
       "  var CLASS_NAME = 'output_bokeh rendered_html';\n",
       "\n",
       "  /**\n",
       "   * Render data to the DOM node\n",
       "   */\n",
       "  function render(props, node) {\n",
       "    var script = document.createElement(\"script\");\n",
       "    node.appendChild(script);\n",
       "  }\n",
       "\n",
       "  /**\n",
       "   * Handle when an output is cleared or removed\n",
       "   */\n",
       "  function handleClearOutput(event, handle) {\n",
       "    var cell = handle.cell;\n",
       "\n",
       "    var id = cell.output_area._bokeh_element_id;\n",
       "    var server_id = cell.output_area._bokeh_server_id;\n",
       "    // Clean up Bokeh references\n",
       "    if (id != null && id in Bokeh.index) {\n",
       "      Bokeh.index[id].model.document.clear();\n",
       "      delete Bokeh.index[id];\n",
       "    }\n",
       "\n",
       "    if (server_id !== undefined) {\n",
       "      // Clean up Bokeh references\n",
       "      var cmd = \"from bokeh.io.state import curstate; print(curstate().uuid_to_server['\" + server_id + \"'].get_sessions()[0].document.roots[0]._id)\";\n",
       "      cell.notebook.kernel.execute(cmd, {\n",
       "        iopub: {\n",
       "          output: function(msg) {\n",
       "            var id = msg.content.text.trim();\n",
       "            if (id in Bokeh.index) {\n",
       "              Bokeh.index[id].model.document.clear();\n",
       "              delete Bokeh.index[id];\n",
       "            }\n",
       "          }\n",
       "        }\n",
       "      });\n",
       "      // Destroy server and session\n",
       "      var cmd = \"import bokeh.io.notebook as ion; ion.destroy_server('\" + server_id + \"')\";\n",
       "      cell.notebook.kernel.execute(cmd);\n",
       "    }\n",
       "  }\n",
       "\n",
       "  /**\n",
       "   * Handle when a new output is added\n",
       "   */\n",
       "  function handleAddOutput(event, handle) {\n",
       "    var output_area = handle.output_area;\n",
       "    var output = handle.output;\n",
       "\n",
       "    // limit handleAddOutput to display_data with EXEC_MIME_TYPE content only\n",
       "    if ((output.output_type != \"display_data\") || (!output.data.hasOwnProperty(EXEC_MIME_TYPE))) {\n",
       "      return\n",
       "    }\n",
       "\n",
       "    var toinsert = output_area.element.find(\".\" + CLASS_NAME.split(' ')[0]);\n",
       "\n",
       "    if (output.metadata[EXEC_MIME_TYPE][\"id\"] !== undefined) {\n",
       "      toinsert[toinsert.length - 1].firstChild.textContent = output.data[JS_MIME_TYPE];\n",
       "      // store reference to embed id on output_area\n",
       "      output_area._bokeh_element_id = output.metadata[EXEC_MIME_TYPE][\"id\"];\n",
       "    }\n",
       "    if (output.metadata[EXEC_MIME_TYPE][\"server_id\"] !== undefined) {\n",
       "      var bk_div = document.createElement(\"div\");\n",
       "      bk_div.innerHTML = output.data[HTML_MIME_TYPE];\n",
       "      var script_attrs = bk_div.children[0].attributes;\n",
       "      for (var i = 0; i < script_attrs.length; i++) {\n",
       "        toinsert[toinsert.length - 1].firstChild.setAttribute(script_attrs[i].name, script_attrs[i].value);\n",
       "      }\n",
       "      // store reference to server id on output_area\n",
       "      output_area._bokeh_server_id = output.metadata[EXEC_MIME_TYPE][\"server_id\"];\n",
       "    }\n",
       "  }\n",
       "\n",
       "  function register_renderer(events, OutputArea) {\n",
       "\n",
       "    function append_mime(data, metadata, element) {\n",
       "      // create a DOM node to render to\n",
       "      var toinsert = this.create_output_subarea(\n",
       "        metadata,\n",
       "        CLASS_NAME,\n",
       "        EXEC_MIME_TYPE\n",
       "      );\n",
       "      this.keyboard_manager.register_events(toinsert);\n",
       "      // Render to node\n",
       "      var props = {data: data, metadata: metadata[EXEC_MIME_TYPE]};\n",
       "      render(props, toinsert[toinsert.length - 1]);\n",
       "      element.append(toinsert);\n",
       "      return toinsert\n",
       "    }\n",
       "\n",
       "    /* Handle when an output is cleared or removed */\n",
       "    events.on('clear_output.CodeCell', handleClearOutput);\n",
       "    events.on('delete.Cell', handleClearOutput);\n",
       "\n",
       "    /* Handle when a new output is added */\n",
       "    events.on('output_added.OutputArea', handleAddOutput);\n",
       "\n",
       "    /**\n",
       "     * Register the mime type and append_mime function with output_area\n",
       "     */\n",
       "    OutputArea.prototype.register_mime_type(EXEC_MIME_TYPE, append_mime, {\n",
       "      /* Is output safe? */\n",
       "      safe: true,\n",
       "      /* Index of renderer in `output_area.display_order` */\n",
       "      index: 0\n",
       "    });\n",
       "  }\n",
       "\n",
       "  // register the mime type if in Jupyter Notebook environment and previously unregistered\n",
       "  if (root.Jupyter !== undefined) {\n",
       "    var events = require('base/js/events');\n",
       "    var OutputArea = require('notebook/js/outputarea').OutputArea;\n",
       "\n",
       "    if (OutputArea.prototype.mime_types().indexOf(EXEC_MIME_TYPE) == -1) {\n",
       "      register_renderer(events, OutputArea);\n",
       "    }\n",
       "  }\n",
       "\n",
       "  \n",
       "  if (typeof (root._bokeh_timeout) === \"undefined\" || force === true) {\n",
       "    root._bokeh_timeout = Date.now() + 5000;\n",
       "    root._bokeh_failed_load = false;\n",
       "  }\n",
       "\n",
       "  var NB_LOAD_WARNING = {'data': {'text/html':\n",
       "     \"<div style='background-color: #fdd'>\\n\"+\n",
       "     \"<p>\\n\"+\n",
       "     \"BokehJS does not appear to have successfully loaded. If loading BokehJS from CDN, this \\n\"+\n",
       "     \"may be due to a slow or bad network connection. Possible fixes:\\n\"+\n",
       "     \"</p>\\n\"+\n",
       "     \"<ul>\\n\"+\n",
       "     \"<li>re-rerun `output_notebook()` to attempt to load from CDN again, or</li>\\n\"+\n",
       "     \"<li>use INLINE resources instead, as so:</li>\\n\"+\n",
       "     \"</ul>\\n\"+\n",
       "     \"<code>\\n\"+\n",
       "     \"from bokeh.resources import INLINE\\n\"+\n",
       "     \"output_notebook(resources=INLINE)\\n\"+\n",
       "     \"</code>\\n\"+\n",
       "     \"</div>\"}};\n",
       "\n",
       "  function display_loaded() {\n",
       "    var el = document.getElementById(\"1001\");\n",
       "    if (el != null) {\n",
       "      el.textContent = \"BokehJS is loading...\";\n",
       "    }\n",
       "    if (root.Bokeh !== undefined) {\n",
       "      if (el != null) {\n",
       "        el.textContent = \"BokehJS \" + root.Bokeh.version + \" successfully loaded.\";\n",
       "      }\n",
       "    } else if (Date.now() < root._bokeh_timeout) {\n",
       "      setTimeout(display_loaded, 100)\n",
       "    }\n",
       "  }\n",
       "\n",
       "\n",
       "  function run_callbacks() {\n",
       "    try {\n",
       "      root._bokeh_onload_callbacks.forEach(function(callback) {\n",
       "        if (callback != null)\n",
       "          callback();\n",
       "      });\n",
       "    } finally {\n",
       "      delete root._bokeh_onload_callbacks\n",
       "    }\n",
       "    console.debug(\"Bokeh: all callbacks have finished\");\n",
       "  }\n",
       "\n",
       "  function load_libs(css_urls, js_urls, callback) {\n",
       "    if (css_urls == null) css_urls = [];\n",
       "    if (js_urls == null) js_urls = [];\n",
       "\n",
       "    root._bokeh_onload_callbacks.push(callback);\n",
       "    if (root._bokeh_is_loading > 0) {\n",
       "      console.debug(\"Bokeh: BokehJS is being loaded, scheduling callback at\", now());\n",
       "      return null;\n",
       "    }\n",
       "    if (js_urls == null || js_urls.length === 0) {\n",
       "      run_callbacks();\n",
       "      return null;\n",
       "    }\n",
       "    console.debug(\"Bokeh: BokehJS not loaded, scheduling load and callback at\", now());\n",
       "    root._bokeh_is_loading = css_urls.length + js_urls.length;\n",
       "\n",
       "    function on_load() {\n",
       "      root._bokeh_is_loading--;\n",
       "      if (root._bokeh_is_loading === 0) {\n",
       "        console.debug(\"Bokeh: all BokehJS libraries/stylesheets loaded\");\n",
       "        run_callbacks()\n",
       "      }\n",
       "    }\n",
       "\n",
       "    function on_error() {\n",
       "      console.error(\"failed to load \" + url);\n",
       "    }\n",
       "\n",
       "    for (var i = 0; i < css_urls.length; i++) {\n",
       "      var url = css_urls[i];\n",
       "      const element = document.createElement(\"link\");\n",
       "      element.onload = on_load;\n",
       "      element.onerror = on_error;\n",
       "      element.rel = \"stylesheet\";\n",
       "      element.type = \"text/css\";\n",
       "      element.href = url;\n",
       "      console.debug(\"Bokeh: injecting link tag for BokehJS stylesheet: \", url);\n",
       "      document.body.appendChild(element);\n",
       "    }\n",
       "\n",
       "    for (var i = 0; i < js_urls.length; i++) {\n",
       "      var url = js_urls[i];\n",
       "      var element = document.createElement('script');\n",
       "      element.onload = on_load;\n",
       "      element.onerror = on_error;\n",
       "      element.async = false;\n",
       "      element.src = url;\n",
       "      console.debug(\"Bokeh: injecting script tag for BokehJS library: \", url);\n",
       "      document.head.appendChild(element);\n",
       "    }\n",
       "  };var element = document.getElementById(\"1001\");\n",
       "  if (element == null) {\n",
       "    console.error(\"Bokeh: ERROR: autoload.js configured with elementid '1001' but no matching script tag was found. \")\n",
       "    return false;\n",
       "  }\n",
       "\n",
       "  function inject_raw_css(css) {\n",
       "    const element = document.createElement(\"style\");\n",
       "    element.appendChild(document.createTextNode(css));\n",
       "    document.body.appendChild(element);\n",
       "  }\n",
       "\n",
       "  var js_urls = [\"https://cdn.pydata.org/bokeh/release/bokeh-1.3.4.min.js\", \"https://cdn.pydata.org/bokeh/release/bokeh-widgets-1.3.4.min.js\", \"https://cdn.pydata.org/bokeh/release/bokeh-tables-1.3.4.min.js\", \"https://cdn.pydata.org/bokeh/release/bokeh-gl-1.3.4.min.js\"];\n",
       "  var css_urls = [];\n",
       "\n",
       "  var inline_js = [\n",
       "    function(Bokeh) {\n",
       "      Bokeh.set_log_level(\"info\");\n",
       "    },\n",
       "    \n",
       "    function(Bokeh) {\n",
       "      \n",
       "    },\n",
       "    function(Bokeh) {} // ensure no trailing comma for IE\n",
       "  ];\n",
       "\n",
       "  function run_inline_js() {\n",
       "    \n",
       "    if ((root.Bokeh !== undefined) || (force === true)) {\n",
       "      for (var i = 0; i < inline_js.length; i++) {\n",
       "        inline_js[i].call(root, root.Bokeh);\n",
       "      }if (force === true) {\n",
       "        display_loaded();\n",
       "      }} else if (Date.now() < root._bokeh_timeout) {\n",
       "      setTimeout(run_inline_js, 100);\n",
       "    } else if (!root._bokeh_failed_load) {\n",
       "      console.log(\"Bokeh: BokehJS failed to load within specified timeout.\");\n",
       "      root._bokeh_failed_load = true;\n",
       "    } else if (force !== true) {\n",
       "      var cell = $(document.getElementById(\"1001\")).parents('.cell').data().cell;\n",
       "      cell.output_area.append_execute_result(NB_LOAD_WARNING)\n",
       "    }\n",
       "\n",
       "  }\n",
       "\n",
       "  if (root._bokeh_is_loading === 0) {\n",
       "    console.debug(\"Bokeh: BokehJS loaded, going straight to plotting\");\n",
       "    run_inline_js();\n",
       "  } else {\n",
       "    load_libs(css_urls, js_urls, function() {\n",
       "      console.debug(\"Bokeh: BokehJS plotting callback run at\", now());\n",
       "      run_inline_js();\n",
       "    });\n",
       "  }\n",
       "}(window));"
      ],
      "application/vnd.bokehjs_load.v0+json": "\n(function(root) {\n  function now() {\n    return new Date();\n  }\n\n  var force = true;\n\n  if (typeof root._bokeh_onload_callbacks === \"undefined\" || force === true) {\n    root._bokeh_onload_callbacks = [];\n    root._bokeh_is_loading = undefined;\n  }\n\n  \n\n  \n  if (typeof (root._bokeh_timeout) === \"undefined\" || force === true) {\n    root._bokeh_timeout = Date.now() + 5000;\n    root._bokeh_failed_load = false;\n  }\n\n  var NB_LOAD_WARNING = {'data': {'text/html':\n     \"<div style='background-color: #fdd'>\\n\"+\n     \"<p>\\n\"+\n     \"BokehJS does not appear to have successfully loaded. If loading BokehJS from CDN, this \\n\"+\n     \"may be due to a slow or bad network connection. Possible fixes:\\n\"+\n     \"</p>\\n\"+\n     \"<ul>\\n\"+\n     \"<li>re-rerun `output_notebook()` to attempt to load from CDN again, or</li>\\n\"+\n     \"<li>use INLINE resources instead, as so:</li>\\n\"+\n     \"</ul>\\n\"+\n     \"<code>\\n\"+\n     \"from bokeh.resources import INLINE\\n\"+\n     \"output_notebook(resources=INLINE)\\n\"+\n     \"</code>\\n\"+\n     \"</div>\"}};\n\n  function display_loaded() {\n    var el = document.getElementById(\"1001\");\n    if (el != null) {\n      el.textContent = \"BokehJS is loading...\";\n    }\n    if (root.Bokeh !== undefined) {\n      if (el != null) {\n        el.textContent = \"BokehJS \" + root.Bokeh.version + \" successfully loaded.\";\n      }\n    } else if (Date.now() < root._bokeh_timeout) {\n      setTimeout(display_loaded, 100)\n    }\n  }\n\n\n  function run_callbacks() {\n    try {\n      root._bokeh_onload_callbacks.forEach(function(callback) {\n        if (callback != null)\n          callback();\n      });\n    } finally {\n      delete root._bokeh_onload_callbacks\n    }\n    console.debug(\"Bokeh: all callbacks have finished\");\n  }\n\n  function load_libs(css_urls, js_urls, callback) {\n    if (css_urls == null) css_urls = [];\n    if (js_urls == null) js_urls = [];\n\n    root._bokeh_onload_callbacks.push(callback);\n    if (root._bokeh_is_loading > 0) {\n      console.debug(\"Bokeh: BokehJS is being loaded, scheduling callback at\", now());\n      return null;\n    }\n    if (js_urls == null || js_urls.length === 0) {\n      run_callbacks();\n      return null;\n    }\n    console.debug(\"Bokeh: BokehJS not loaded, scheduling load and callback at\", now());\n    root._bokeh_is_loading = css_urls.length + js_urls.length;\n\n    function on_load() {\n      root._bokeh_is_loading--;\n      if (root._bokeh_is_loading === 0) {\n        console.debug(\"Bokeh: all BokehJS libraries/stylesheets loaded\");\n        run_callbacks()\n      }\n    }\n\n    function on_error() {\n      console.error(\"failed to load \" + url);\n    }\n\n    for (var i = 0; i < css_urls.length; i++) {\n      var url = css_urls[i];\n      const element = document.createElement(\"link\");\n      element.onload = on_load;\n      element.onerror = on_error;\n      element.rel = \"stylesheet\";\n      element.type = \"text/css\";\n      element.href = url;\n      console.debug(\"Bokeh: injecting link tag for BokehJS stylesheet: \", url);\n      document.body.appendChild(element);\n    }\n\n    for (var i = 0; i < js_urls.length; i++) {\n      var url = js_urls[i];\n      var element = document.createElement('script');\n      element.onload = on_load;\n      element.onerror = on_error;\n      element.async = false;\n      element.src = url;\n      console.debug(\"Bokeh: injecting script tag for BokehJS library: \", url);\n      document.head.appendChild(element);\n    }\n  };var element = document.getElementById(\"1001\");\n  if (element == null) {\n    console.error(\"Bokeh: ERROR: autoload.js configured with elementid '1001' but no matching script tag was found. \")\n    return false;\n  }\n\n  function inject_raw_css(css) {\n    const element = document.createElement(\"style\");\n    element.appendChild(document.createTextNode(css));\n    document.body.appendChild(element);\n  }\n\n  var js_urls = [\"https://cdn.pydata.org/bokeh/release/bokeh-1.3.4.min.js\", \"https://cdn.pydata.org/bokeh/release/bokeh-widgets-1.3.4.min.js\", \"https://cdn.pydata.org/bokeh/release/bokeh-tables-1.3.4.min.js\", \"https://cdn.pydata.org/bokeh/release/bokeh-gl-1.3.4.min.js\"];\n  var css_urls = [];\n\n  var inline_js = [\n    function(Bokeh) {\n      Bokeh.set_log_level(\"info\");\n    },\n    \n    function(Bokeh) {\n      \n    },\n    function(Bokeh) {} // ensure no trailing comma for IE\n  ];\n\n  function run_inline_js() {\n    \n    if ((root.Bokeh !== undefined) || (force === true)) {\n      for (var i = 0; i < inline_js.length; i++) {\n        inline_js[i].call(root, root.Bokeh);\n      }if (force === true) {\n        display_loaded();\n      }} else if (Date.now() < root._bokeh_timeout) {\n      setTimeout(run_inline_js, 100);\n    } else if (!root._bokeh_failed_load) {\n      console.log(\"Bokeh: BokehJS failed to load within specified timeout.\");\n      root._bokeh_failed_load = true;\n    } else if (force !== true) {\n      var cell = $(document.getElementById(\"1001\")).parents('.cell').data().cell;\n      cell.output_area.append_execute_result(NB_LOAD_WARNING)\n    }\n\n  }\n\n  if (root._bokeh_is_loading === 0) {\n    console.debug(\"Bokeh: BokehJS loaded, going straight to plotting\");\n    run_inline_js();\n  } else {\n    load_libs(css_urls, js_urls, function() {\n      console.debug(\"Bokeh: BokehJS plotting callback run at\", now());\n      run_inline_js();\n    });\n  }\n}(window));"
     },
     "metadata": {},
     "output_type": "display_data"
    }
   ],
   "source": [
    "from bokeh.models import ColumnDataSource, LabelSet\n",
    "from bokeh.plotting import figure, show, output_file\n",
    "from bokeh.io import output_notebook\n",
    "output_notebook()"
   ]
  },
  {
   "cell_type": "markdown",
   "metadata": {},
   "source": [
    "### Part 0: Download the TED dataset"
   ]
  },
  {
   "cell_type": "code",
   "execution_count": 3,
   "metadata": {},
   "outputs": [],
   "source": [
    "import urllib.request\n",
    "import zipfile\n",
    "import lxml.etree"
   ]
  },
  {
   "cell_type": "code",
   "execution_count": 4,
   "metadata": {},
   "outputs": [],
   "source": [
    "# Download the dataset if it's not already there: this may take a minute as it is 75MB\n",
    "if not os.path.isfile('../Data/ted_en-20160408.zip'):\n",
    "    urllib.request.urlretrieve(\"https://wit3.fbk.eu/get.php?path=XML_releases/xml/ted_en-20160408.zip&filename=ted_en-20160408.zip\", filename=\"ted_en-20160408.zip\")"
   ]
  },
  {
   "cell_type": "code",
   "execution_count": 5,
   "metadata": {},
   "outputs": [],
   "source": [
    "# For now, we're only interested in the subtitle text, so let's extract that from the XML:\n",
    "with zipfile.ZipFile('../Data/ted_en-20160408.zip', 'r') as z:\n",
    "    doc = lxml.etree.parse(z.open('ted_en-20160408.xml', 'r'))\n",
    "input_text = '\\n'.join(doc.xpath('//content/text()'))\n",
    "del doc"
   ]
  },
  {
   "cell_type": "markdown",
   "metadata": {},
   "source": [
    "### Part 1: Preprocessing\n",
    "\n",
    "In this part, we attempt to clean up the raw subtitles a bit, so that we get only sentences. The following substring shows examples of what we're trying to get rid of. Since it's hard to define precisely what we want to get rid of, we'll just use some simple heuristics."
   ]
  },
  {
   "cell_type": "code",
   "execution_count": 6,
   "metadata": {
    "scrolled": false
   },
   "outputs": [
    {
     "data": {
      "text/plain": [
       "' baby does.\\n(Video) Hyowon Gweon: See this? (Ball squeaks) Did you see that? (Ball squeaks) Cool. See this one? (Ball squeaks) Wow.\\nLaura Schulz: Told you. (Laughs)\\n(Vide'"
      ]
     },
     "execution_count": 6,
     "metadata": {},
     "output_type": "execute_result"
    }
   ],
   "source": [
    "i = input_text.find(\"Hyowon Gweon: See this?\")\n",
    "input_text[i-20:i+150]"
   ]
  },
  {
   "cell_type": "markdown",
   "metadata": {},
   "source": [
    "Let's start by removing all parenthesized strings using a regex:"
   ]
  },
  {
   "cell_type": "code",
   "execution_count": 7,
   "metadata": {},
   "outputs": [],
   "source": [
    "input_text_noparens = re.sub(r'\\([^)]*\\)', '', input_text)"
   ]
  },
  {
   "cell_type": "markdown",
   "metadata": {},
   "source": [
    "We can verify the same location in the text is now clean as follows. We won't worry about the irregular spaces since we'll later split the text into sentences and tokenize it anyway."
   ]
  },
  {
   "cell_type": "code",
   "execution_count": 8,
   "metadata": {},
   "outputs": [
    {
     "data": {
      "text/plain": [
       "\"hat the baby does.\\n Hyowon Gweon: See this?  Did you see that?  Cool. See this one?  Wow.\\nLaura Schulz: Told you. \\n HG: See this one?  Hey Clara, this one's for you. You \""
      ]
     },
     "execution_count": 8,
     "metadata": {},
     "output_type": "execute_result"
    }
   ],
   "source": [
    "i = input_text_noparens.find(\"Hyowon Gweon: See this?\")\n",
    "input_text_noparens[i-20:i+150]"
   ]
  },
  {
   "cell_type": "markdown",
   "metadata": {},
   "source": [
    "Now, let's attempt to remove speakers' names that occur at the beginning of a line, by deleting pieces of the form \"`<up to 20 characters>:`\", as shown in this example. Of course, this is an imperfect heuristic. "
   ]
  },
  {
   "cell_type": "code",
   "execution_count": 9,
   "metadata": {},
   "outputs": [
    {
     "data": {
      "text/plain": [
       "[\"Here are two reasons companies fail: they only do more of the same, or they only do what's new\",\n",
       " 'To me the real, real solution to quality growth is figuring out the balance between two activities: exploration and exploitation',\n",
       " ' Both are necessary, but it can be too much of a good thing',\n",
       " 'Consider Facit',\n",
       " \" I'm actually old enough to remember them\"]"
      ]
     },
     "execution_count": 9,
     "metadata": {},
     "output_type": "execute_result"
    }
   ],
   "source": [
    "sentences_strings_ted = []\n",
    "for line in input_text_noparens.split('\\n'):\n",
    "    m = re.match(r'^(?:(?P<precolon>[^:]{,20}):)?(?P<postcolon>.*)$', line)\n",
    "    sentences_strings_ted.extend(sent for sent in m.groupdict()['postcolon'].split('.') if sent)\n",
    "\n",
    "# Uncomment if you need to save some RAM: these strings are about 50MB.\n",
    "# del input_text, input_text_noparens\n",
    "\n",
    "# Let's view the first few:\n",
    "sentences_strings_ted[:5]"
   ]
  },
  {
   "cell_type": "markdown",
   "metadata": {},
   "source": [
    "Now that we have sentences, we're ready to tokenize each of them into words. This tokenization is imperfect, of course. For instance, how many tokens is \"can't\", and where/how do we split it? We'll take the simplest naive approach of splitting on spaces. Before splitting, we remove non-alphanumeric characters, such as punctuation. You may want to consider the following question: why do we replace these characters with spaces rather than deleting them? Think of a case where this yields a different answer."
   ]
  },
  {
   "cell_type": "code",
   "execution_count": 11,
   "metadata": {},
   "outputs": [],
   "source": [
    "sentences_ted = []\n",
    "for sent_str in sentences_strings_ted:\n",
    "    tokens = re.sub(r\"[^a-z0-9]+\", \" \", sent_str.lower()).split()\n",
    "    sentences_ted.append(tokens)"
   ]
  },
  {
   "cell_type": "markdown",
   "metadata": {},
   "source": [
    "Two sample processed sentences:"
   ]
  },
  {
   "cell_type": "code",
   "execution_count": 12,
   "metadata": {},
   "outputs": [
    {
     "data": {
      "text/plain": [
       "266694"
      ]
     },
     "execution_count": 12,
     "metadata": {},
     "output_type": "execute_result"
    }
   ],
   "source": [
    "len(sentences_ted)"
   ]
  },
  {
   "cell_type": "code",
   "execution_count": 13,
   "metadata": {},
   "outputs": [
    {
     "name": "stdout",
     "output_type": "stream",
     "text": [
      "['here', 'are', 'two', 'reasons', 'companies', 'fail', 'they', 'only', 'do', 'more', 'of', 'the', 'same', 'or', 'they', 'only', 'do', 'what', 's', 'new']\n",
      "['to', 'me', 'the', 'real', 'real', 'solution', 'to', 'quality', 'growth', 'is', 'figuring', 'out', 'the', 'balance', 'between', 'two', 'activities', 'exploration', 'and', 'exploitation']\n"
     ]
    }
   ],
   "source": [
    "print(sentences_ted[0])\n",
    "print(sentences_ted[1])"
   ]
  },
  {
   "cell_type": "markdown",
   "metadata": {},
   "source": [
    "### Part 2: Word Frequencies"
   ]
  },
  {
   "cell_type": "markdown",
   "metadata": {},
   "source": [
    "If you store the counts of the top 1000 words in a list called `counts_ted_top1000`, the code below will plot the histogram requested in the writeup."
   ]
  },
  {
   "cell_type": "code",
   "execution_count": 14,
   "metadata": {},
   "outputs": [],
   "source": [
    "from collections import Counter"
   ]
  },
  {
   "cell_type": "code",
   "execution_count": 15,
   "metadata": {},
   "outputs": [],
   "source": [
    "sentences_ted_all = [i for row in sentences_ted for i in row]\n",
    "c = Counter(sentences_ted_all)\n",
    "counts_ted_top1000_cunter = c.most_common(1000)"
   ]
  },
  {
   "cell_type": "code",
   "execution_count": 16,
   "metadata": {},
   "outputs": [
    {
     "data": {
      "text/plain": [
       "[('the', 207748),\n",
       " ('and', 149305),\n",
       " ('to', 125169),\n",
       " ('of', 114818),\n",
       " ('a', 105399)]"
      ]
     },
     "execution_count": 16,
     "metadata": {},
     "output_type": "execute_result"
    }
   ],
   "source": [
    "counts_ted_top1000_cunter[:5]\n"
   ]
  },
  {
   "cell_type": "code",
   "execution_count": 19,
   "metadata": {},
   "outputs": [],
   "source": [
    "import sklearn\n",
    "from sklearn.feature_extraction.text import CountVectorizer"
   ]
  },
  {
   "cell_type": "code",
   "execution_count": 18,
   "metadata": {},
   "outputs": [],
   "source": [
    "vec = CountVectorizer()\n",
    "X = vec.fit_transform(sentences_strings_ted)  # 不同点不需要分词 直接用句子处理"
   ]
  },
  {
   "cell_type": "code",
   "execution_count": 19,
   "metadata": {},
   "outputs": [
    {
     "name": "stdout",
     "output_type": "stream",
     "text": [
      "['the' 'and' 'to' 'of' 'that' 'in' 'it' 'you' 'we' 'is' 'this' 'so' 'they'\n",
      " 'was' 'for' 'are' 'have' 'but' 'what' 'on' 'with' 'can' 'about' 'there'\n",
      " 'be' 'as' 'at' 'all' 'not' 'do' 'my' 'one' 're' 'people' 'like' 'if'\n",
      " 'from' 'now' 'our' 'he']\n"
     ]
    }
   ],
   "source": [
    "counts_ted_top40_index = np.array(np.argsort(-X.sum(axis=0))).squeeze()[:40]\n",
    "counts_ted_top40_word = np.array(vec.get_feature_names())[counts_ted_top40_index]\n",
    "counts_ted_top40 = np.array(-1 * np.sort(-X.sum(axis=0))).squeeze()[:40]\n",
    "\n",
    "print(counts_ted_top40_word)"
   ]
  },
  {
   "cell_type": "code",
   "execution_count": 20,
   "metadata": {},
   "outputs": [],
   "source": [
    "counts_ted_top1000_index = np.array(np.argsort(-X.sum(axis=0))).squeeze()[:1000]\n",
    "counts_ted_top1000_word = np.array(vec.get_feature_names())[counts_ted_top1000_index]\n",
    "counts_ted_top1000 = np.array(-1 * np.sort(-X.sum(axis=0))).squeeze()[:1000]"
   ]
  },
  {
   "cell_type": "markdown",
   "metadata": {},
   "source": [
    "Plot distribution of top-1000 words"
   ]
  },
  {
   "cell_type": "code",
   "execution_count": 21,
   "metadata": {},
   "outputs": [
    {
     "name": "stderr",
     "output_type": "stream",
     "text": [
      "D:\\Miniconda3\\lib\\site-packages\\ipykernel_launcher.py:1: DeprecationWarning: The normed argument is ignored when density is provided. In future passing both will result in an error.\n",
      "  \"\"\"Entry point for launching an IPython kernel.\n"
     ]
    },
    {
     "data": {
      "text/html": [
       "\n",
       "\n",
       "\n",
       "\n",
       "\n",
       "\n",
       "  <div class=\"bk-root\" id=\"0e36ffc1-4e22-41e5-a9d7-2d8844d1e7e8\" data-root-id=\"1002\"></div>\n"
      ]
     },
     "metadata": {},
     "output_type": "display_data"
    },
    {
     "data": {
      "application/javascript": [
       "(function(root) {\n",
       "  function embed_document(root) {\n",
       "    \n",
       "  var docs_json = {\"2ce54e96-8a24-4763-943a-5b59a70c8f28\":{\"roots\":{\"references\":[{\"attributes\":{\"below\":[{\"id\":\"1013\",\"type\":\"LinearAxis\"}],\"center\":[{\"id\":\"1017\",\"type\":\"Grid\"},{\"id\":\"1022\",\"type\":\"Grid\"}],\"left\":[{\"id\":\"1018\",\"type\":\"LinearAxis\"}],\"renderers\":[{\"id\":\"1035\",\"type\":\"GlyphRenderer\"}],\"title\":{\"id\":\"1003\",\"type\":\"Title\"},\"toolbar\":{\"id\":\"1027\",\"type\":\"Toolbar\"},\"toolbar_location\":\"above\",\"x_range\":{\"id\":\"1005\",\"type\":\"DataRange1d\"},\"x_scale\":{\"id\":\"1009\",\"type\":\"LinearScale\"},\"y_range\":{\"id\":\"1007\",\"type\":\"DataRange1d\"},\"y_scale\":{\"id\":\"1011\",\"type\":\"LinearScale\"}},\"id\":\"1002\",\"subtype\":\"Figure\",\"type\":\"Plot\"},{\"attributes\":{\"dimension\":1,\"ticker\":{\"id\":\"1019\",\"type\":\"BasicTicker\"}},\"id\":\"1022\",\"type\":\"Grid\"},{\"attributes\":{},\"id\":\"1023\",\"type\":\"PanTool\"},{\"attributes\":{\"bottom\":{\"value\":0},\"fill_color\":{\"value\":\"#1f77b4\"},\"left\":{\"field\":\"left\"},\"line_color\":{\"value\":\"#555555\"},\"right\":{\"field\":\"right\"},\"top\":{\"field\":\"top\"}},\"id\":\"1033\",\"type\":\"Quad\"},{\"attributes\":{},\"id\":\"1038\",\"type\":\"BasicTickFormatter\"},{\"attributes\":{\"text\":\"Top-1000 words distribution\"},\"id\":\"1003\",\"type\":\"Title\"},{\"attributes\":{},\"id\":\"1024\",\"type\":\"WheelZoomTool\"},{\"attributes\":{},\"id\":\"1025\",\"type\":\"ResetTool\"},{\"attributes\":{},\"id\":\"1042\",\"type\":\"Selection\"},{\"attributes\":{},\"id\":\"1026\",\"type\":\"SaveTool\"},{\"attributes\":{\"active_drag\":\"auto\",\"active_inspect\":\"auto\",\"active_multi\":null,\"active_scroll\":\"auto\",\"active_tap\":\"auto\",\"tools\":[{\"id\":\"1023\",\"type\":\"PanTool\"},{\"id\":\"1024\",\"type\":\"WheelZoomTool\"},{\"id\":\"1025\",\"type\":\"ResetTool\"},{\"id\":\"1026\",\"type\":\"SaveTool\"}]},\"id\":\"1027\",\"type\":\"Toolbar\"},{\"attributes\":{\"data_source\":{\"id\":\"1032\",\"type\":\"ColumnDataSource\"},\"glyph\":{\"id\":\"1033\",\"type\":\"Quad\"},\"hover_glyph\":null,\"muted_glyph\":null,\"nonselection_glyph\":{\"id\":\"1034\",\"type\":\"Quad\"},\"selection_glyph\":null,\"view\":{\"id\":\"1036\",\"type\":\"CDSView\"}},\"id\":\"1035\",\"type\":\"GlyphRenderer\"},{\"attributes\":{\"callback\":null,\"data\":{\"left\":{\"__ndarray__\":\"AAAAAADweEAUrkfh+lCjQBSuR+H6wbFAHoXrUXjbuUAUrkfhevrAQJmZmZk5B8VAHoXrUfgTyUCjcD0KtyDNQBSuR+G6ltBA1qNwPRqd0kCZmZmZeaPUQFyPwvXYqdZAHoXrUTiw2EDgehSul7baQKNwPQr3vNxAZmZmZlbD3kAUrkfh2mTgQPUoXI8KaOFA1qNwPTpr4kC4HoXraW7jQJmZmZmZceRAehSuR8l05UBcj8L1+HfmQD0K16Moe+dAHoXrUVh+6ED/////h4HpQOB6FK63hOpAwvUoXOeH60CjcD0KF4vsQITrUbhGju1AZmZmZnaR7kBH4XoUppTvQBSuR+HqS/BAhetRuILN8ED1KFyPGk/xQGZmZmay0PFA1qNwPUpS8kBH4XoU4tPyQLgehet5VfNAKFyPwhHX80CZmZmZqVj0QArXo3BB2vRAehSuR9lb9UDrUbgecd31QFyPwvUIX/ZAzMzMzKDg9kA9CtejOGL3QK1H4XrQ4/dAHoXrUWhl+ECPwvUoAOf4QP////+XaPlAcD0K1y/q+UDgehSux2v6QFG4HoVf7fpAwvUoXPdu+0AyMzMzj/D7QKNwPQoncvxAFK5H4b7z/ECE61G4VnX9QPUoXI/u9v1AZmZmZoZ4/kDWo3A9Hvr+QEfhehS2e/9Atx6F6039/0AUrkfhcj8AQczMzMw+gABBhetRuArBAEE9Ctej1gEBQfUoXI+iQgFBrkfhem6DAUFmZmZmOsQBQR6F61EGBQJB1qNwPdJFAkGPwvUonoYCQUfhehRqxwJB/////zUIA0G4HoXrAUkDQXA9CtfNiQNBKFyPwpnKA0HhehSuZQsEQZmZmZkxTARBUbgehf2MBEEK16Nwyc0EQcL1KFyVDgVBehSuR2FPBUEzMzMzLZAFQetRuB750AVBo3A9CsURBkFcj8L1kFIGQRSuR+FckwZBzMzMzCjUBkGE61G49BQHQT0K16PAVQdB9Shcj4yWB0GtR+F6WNcHQWZmZmYkGAhBHoXrUfBYCEHWo3A9vJkIQY/C9SiI2ghBR+F6FFQbCUE=\",\"dtype\":\"float64\",\"shape\":[100]},\"right\":{\"__ndarray__\":\"FK5H4fpQo0AUrkfh+sGxQB6F61F427lAFK5H4Xr6wECZmZmZOQfFQB6F61H4E8lAo3A9CrcgzUAUrkfhupbQQNajcD0andJAmZmZmXmj1EBcj8L12KnWQB6F61E4sNhA4HoUrpe22kCjcD0K97zcQGZmZmZWw95AFK5H4dpk4ED1KFyPCmjhQNajcD06a+JAuB6F62lu40CZmZmZmXHkQHoUrkfJdOVAXI/C9fh35kA9CtejKHvnQB6F61FYfuhA/////4eB6UDgehSut4TqQML1KFznh+tAo3A9CheL7ECE61G4Ro7tQGZmZmZ2ke5AR+F6FKaU70AUrkfh6kvwQIXrUbiCzfBA9ShcjxpP8UBmZmZmstDxQNajcD1KUvJAR+F6FOLT8kC4HoXreVXzQChcj8IR1/NAmZmZmalY9EAK16NwQdr0QHoUrkfZW/VA61G4HnHd9UBcj8L1CF/2QMzMzMyg4PZAPQrXozhi90CtR+F60OP3QB6F61FoZfhAj8L1KADn+ED/////l2j5QHA9Ctcv6vlA4HoUrsdr+kBRuB6FX+36QML1KFz3bvtAMjMzM4/w+0CjcD0KJ3L8QBSuR+G+8/xAhOtRuFZ1/UD1KFyP7vb9QGZmZmaGeP5A1qNwPR76/kBH4XoUtnv/QLcehetN/f9AFK5H4XI/AEHMzMzMPoAAQYXrUbgKwQBBPQrXo9YBAUH1KFyPokIBQa5H4XpugwFBZmZmZjrEAUEehetRBgUCQdajcD3SRQJBj8L1KJ6GAkFH4XoUascCQf////81CANBuB6F6wFJA0FwPQrXzYkDQShcj8KZygNB4XoUrmULBEGZmZmZMUwEQVG4HoX9jARBCtejcMnNBEHC9ShclQ4FQXoUrkdhTwVBMzMzMy2QBUHrUbge+dAFQaNwPQrFEQZBXI/C9ZBSBkEUrkfhXJMGQczMzMwo1AZBhOtRuPQUB0E9CtejwFUHQfUoXI+MlgdBrUfheljXB0FmZmZmJBgIQR6F61HwWAhB1qNwPbyZCEGPwvUoiNoIQUfhehRUGwlBAAAAACBcCUE=\",\"dtype\":\"float64\",\"shape\":[100]},\"top\":{\"__ndarray__\":\"ZBqztziyOT+SMBnr7vAAP6NIXWW4VO0+DGJUw5U04j59rPUCvi7gPizNEURFQNY+DGJUw5U00j59rPUCvi7APsKCcAQdRsg+eaz1Ar4uwD55rPUCvi6gPoGs9QK+LrA+gaz1Ar4uwD55rPUCvi6gPnms9QK+LrA+gaz1Ar4uoD4AAAAAAAAAAIGs9QK+LqA+AAAAAAAAAAAAAAAAAAAAAAAAAAAAAAAAAAAAAAAAAAAAAAAAAAAAAIGs9QK+LqA+AAAAAAAAAAAAAAAAAAAAAAAAAAAAAAAAAAAAAAAAAAAAAAAAAAAAAAAAAAAAAAAAgaz1Ar4uoD4AAAAAAAAAAHGs9QK+LqA+AAAAAAAAAABxrPUCvi6gPpGs9QK+LqA+AAAAAAAAAABxrPUCvi6gPgAAAAAAAAAAAAAAAAAAAAAAAAAAAAAAAAAAAAAAAAAAAAAAAAAAAAAAAAAAAAAAAAAAAAAAAAAAcaz1Ar4uoD4AAAAAAAAAAAAAAAAAAAAAAAAAAAAAAAAAAAAAAAAAAAAAAAAAAAAAAAAAAAAAAAAAAAAAAAAAAAAAAAAAAAAAAAAAAAAAAABxrPUCvi6gPgAAAAAAAAAAAAAAAAAAAAAAAAAAAAAAAAAAAAAAAAAAkaz1Ar4uoD4AAAAAAAAAAAAAAAAAAAAAAAAAAAAAAAAAAAAAAAAAAAAAAAAAAAAAAAAAAAAAAAAAAAAAAAAAAAAAAAAAAAAAAAAAAAAAAAAAAAAAAAAAAJGs9QK+LqA+AAAAAAAAAAAAAAAAAAAAAAAAAAAAAAAAAAAAAAAAAAAAAAAAAAAAAAAAAAAAAAAAAAAAAAAAAAAAAAAAAAAAAAAAAAAAAAAAAAAAAAAAAAAAAAAAAAAAAAAAAAAAAAAAAAAAAAAAAAAAAAAAAAAAAAAAAAAAAAAAAAAAAAAAAAAAAAAAAAAAAAAAAAAAAAAAAAAAAAAAAAAAAAAAAAAAAAAAAAAAAAAAAAAAAAAAAAAAAAAAAAAAAAAAAAAAAAAAAAAAAAAAAAAAAAAAAAAAAAAAAAAAAAAAUaz1Ar4uoD4=\",\"dtype\":\"float64\",\"shape\":[100]}},\"selected\":{\"id\":\"1042\",\"type\":\"Selection\"},\"selection_policy\":{\"id\":\"1043\",\"type\":\"UnionRenderers\"}},\"id\":\"1032\",\"type\":\"ColumnDataSource\"},{\"attributes\":{\"bottom\":{\"value\":0},\"fill_alpha\":{\"value\":0.1},\"fill_color\":{\"value\":\"#1f77b4\"},\"left\":{\"field\":\"left\"},\"line_alpha\":{\"value\":0.1},\"line_color\":{\"value\":\"#1f77b4\"},\"right\":{\"field\":\"right\"},\"top\":{\"field\":\"top\"}},\"id\":\"1034\",\"type\":\"Quad\"},{\"attributes\":{\"source\":{\"id\":\"1032\",\"type\":\"ColumnDataSource\"}},\"id\":\"1036\",\"type\":\"CDSView\"},{\"attributes\":{\"callback\":null},\"id\":\"1005\",\"type\":\"DataRange1d\"},{\"attributes\":{\"callback\":null},\"id\":\"1007\",\"type\":\"DataRange1d\"},{\"attributes\":{},\"id\":\"1040\",\"type\":\"BasicTickFormatter\"},{\"attributes\":{},\"id\":\"1009\",\"type\":\"LinearScale\"},{\"attributes\":{},\"id\":\"1011\",\"type\":\"LinearScale\"},{\"attributes\":{},\"id\":\"1043\",\"type\":\"UnionRenderers\"},{\"attributes\":{\"formatter\":{\"id\":\"1040\",\"type\":\"BasicTickFormatter\"},\"ticker\":{\"id\":\"1014\",\"type\":\"BasicTicker\"}},\"id\":\"1013\",\"type\":\"LinearAxis\"},{\"attributes\":{},\"id\":\"1014\",\"type\":\"BasicTicker\"},{\"attributes\":{\"ticker\":{\"id\":\"1014\",\"type\":\"BasicTicker\"}},\"id\":\"1017\",\"type\":\"Grid\"},{\"attributes\":{\"formatter\":{\"id\":\"1038\",\"type\":\"BasicTickFormatter\"},\"ticker\":{\"id\":\"1019\",\"type\":\"BasicTicker\"}},\"id\":\"1018\",\"type\":\"LinearAxis\"},{\"attributes\":{},\"id\":\"1019\",\"type\":\"BasicTicker\"}],\"root_ids\":[\"1002\"]},\"title\":\"Bokeh Application\",\"version\":\"1.3.4\"}};\n",
       "  var render_items = [{\"docid\":\"2ce54e96-8a24-4763-943a-5b59a70c8f28\",\"roots\":{\"1002\":\"0e36ffc1-4e22-41e5-a9d7-2d8844d1e7e8\"}}];\n",
       "  root.Bokeh.embed.embed_items_notebook(docs_json, render_items);\n",
       "\n",
       "  }\n",
       "  if (root.Bokeh !== undefined) {\n",
       "    embed_document(root);\n",
       "  } else {\n",
       "    var attempts = 0;\n",
       "    var timer = setInterval(function(root) {\n",
       "      if (root.Bokeh !== undefined) {\n",
       "        embed_document(root);\n",
       "        clearInterval(timer);\n",
       "      }\n",
       "      attempts++;\n",
       "      if (attempts > 100) {\n",
       "        console.log(\"Bokeh: ERROR: Unable to run BokehJS code because BokehJS library is missing\");\n",
       "        clearInterval(timer);\n",
       "      }\n",
       "    }, 10, root)\n",
       "  }\n",
       "})(window);"
      ],
      "application/vnd.bokehjs_exec.v0+json": ""
     },
     "metadata": {
      "application/vnd.bokehjs_exec.v0+json": {
       "id": "1002"
      }
     },
     "output_type": "display_data"
    }
   ],
   "source": [
    "hist, edges = np.histogram(counts_ted_top1000, density=True, bins=100, normed=True)\n",
    "\n",
    "p = figure(tools=\"pan,wheel_zoom,reset,save\",\n",
    "           toolbar_location=\"above\",\n",
    "           title=\"Top-1000 words distribution\")\n",
    "p.quad(top=hist, bottom=0, left=edges[:-1], right=edges[1:], line_color=\"#555555\")\n",
    "show(p)"
   ]
  },
  {
   "cell_type": "markdown",
   "metadata": {},
   "source": [
    "### Part 3: Train Word2Vec"
   ]
  },
  {
   "cell_type": "code",
   "execution_count": 15,
   "metadata": {},
   "outputs": [],
   "source": [
    "from gensim.models import Word2Vec,FastText\n",
    "from gensim import corpora"
   ]
  },
  {
   "cell_type": "code",
   "execution_count": 26,
   "metadata": {},
   "outputs": [
    {
     "name": "stdout",
     "output_type": "stream",
     "text": [
      "54454 Dictionary(54454 unique tokens: ['are', 'companies', 'do', 'fail', 'here']...)\n"
     ]
    }
   ],
   "source": [
    "model_ted = Word2Vec(sentences=sentences_ted, size=100, window=5, min_count=10, workers=4, sg=0)\n",
    "dictionary_ted = corpora.Dictionary(sentences_ted)\n",
    "print(len(dictionary_ted), dictionary_ted)"
   ]
  },
  {
   "cell_type": "code",
   "execution_count": 27,
   "metadata": {},
   "outputs": [],
   "source": [
    "model_fas = FastText(sentences=sentences_ted, size=100, window=5, min_count=10, workers=4, sg=1)"
   ]
  },
  {
   "cell_type": "markdown",
   "metadata": {},
   "source": [
    "### Part 4: Ted Learnt Representations"
   ]
  },
  {
   "cell_type": "markdown",
   "metadata": {},
   "source": [
    "Finding similar words: (see gensim docs for more functionality of `most_similar`)"
   ]
  },
  {
   "cell_type": "code",
   "execution_count": 30,
   "metadata": {},
   "outputs": [
    {
     "data": {
      "text/plain": [
       "[('woman', 0.8375369906425476),\n",
       " ('guy', 0.8316255211830139),\n",
       " ('gentleman', 0.762170672416687),\n",
       " ('lady', 0.7582734227180481),\n",
       " ('boy', 0.7424250841140747),\n",
       " ('girl', 0.7392549514770508),\n",
       " ('kid', 0.7149066925048828),\n",
       " ('soldier', 0.7003762125968933),\n",
       " ('poet', 0.6889200210571289),\n",
       " ('david', 0.6748576164245605)]"
      ]
     },
     "execution_count": 30,
     "metadata": {},
     "output_type": "execute_result"
    }
   ],
   "source": [
    "model_ted.wv.most_similar(\"man\")"
   ]
  },
  {
   "cell_type": "code",
   "execution_count": 34,
   "metadata": {},
   "outputs": [
    {
     "data": {
      "text/plain": [
       "[('batman', 0.8018248677253723),\n",
       " ('woman', 0.785014271736145),\n",
       " ('shaman', 0.7629657983779907),\n",
       " ('foreman', 0.7365020513534546),\n",
       " ('guy', 0.7283130288124084),\n",
       " ('van', 0.7156551480293274),\n",
       " ('anderson', 0.711168110370636),\n",
       " ('soldier', 0.7072361707687378),\n",
       " ('jefferson', 0.7063894271850586),\n",
       " ('shepherd', 0.7054215669631958)]"
      ]
     },
     "execution_count": 34,
     "metadata": {},
     "output_type": "execute_result"
    }
   ],
   "source": [
    "model_fas.wv.most_similar('man')"
   ]
  },
  {
   "cell_type": "code",
   "execution_count": 35,
   "metadata": {},
   "outputs": [
    {
     "data": {
      "text/plain": [
       "[('machine', 0.7045372128486633),\n",
       " ('software', 0.6940385103225708),\n",
       " ('device', 0.6708378791809082),\n",
       " ('3d', 0.6671026945114136),\n",
       " ('robot', 0.6579882502555847),\n",
       " ('chip', 0.6350446939468384),\n",
       " ('camera', 0.6345258355140686),\n",
       " ('mechanical', 0.6254967451095581),\n",
       " ('printer', 0.6132377982139587),\n",
       " ('program', 0.6072694063186646)]"
      ]
     },
     "execution_count": 35,
     "metadata": {},
     "output_type": "execute_result"
    }
   ],
   "source": [
    "model_ted.wv.most_similar(\"computer\")"
   ]
  },
  {
   "cell_type": "code",
   "execution_count": 36,
   "metadata": {},
   "outputs": [
    {
     "data": {
      "text/plain": [
       "[('arthritis', 0.7575085759162903),\n",
       " ('h1n1', 0.7479996681213379),\n",
       " ('disembodied', 0.7372597455978394),\n",
       " ('embroidery', 0.7301926612854004),\n",
       " ('epa', 0.726107656955719),\n",
       " ('respiratory', 0.7254592180252075),\n",
       " ('homicide', 0.7155354022979736),\n",
       " ('cardiovascular', 0.7088590860366821),\n",
       " ('pneumonia', 0.7087223529815674),\n",
       " ('embryonic', 0.7074483633041382)]"
      ]
     },
     "execution_count": 36,
     "metadata": {},
     "output_type": "execute_result"
    }
   ],
   "source": [
    "model_fas.wv.most_similar(\"Gastroenteritis\")"
   ]
  },
  {
   "cell_type": "code",
   "execution_count": 37,
   "metadata": {},
   "outputs": [],
   "source": [
    "words_top_ted = counts_ted_top1000_word"
   ]
  },
  {
   "cell_type": "markdown",
   "metadata": {},
   "source": [
    "#### t-SNE visualization\n",
    "To use the t-SNE code below, first put a list of the top 1000 words (as strings) into a variable `words_top_ted`. The following code gets the corresponding vectors from the model, assuming it's called `model_ted`:"
   ]
  },
  {
   "cell_type": "code",
   "execution_count": 38,
   "metadata": {},
   "outputs": [
    {
     "name": "stderr",
     "output_type": "stream",
     "text": [
      "D:\\Miniconda3\\lib\\site-packages\\ipykernel_launcher.py:2: DeprecationWarning: Call to deprecated `__getitem__` (Method will be removed in 4.0.0, use self.wv.__getitem__() instead).\n",
      "  \n"
     ]
    }
   ],
   "source": [
    "# This assumes words_top_ted is a list of strings, the top 1000 words\n",
    "words_top_vec_ted = model_ted[words_top_ted]"
   ]
  },
  {
   "cell_type": "code",
   "execution_count": 16,
   "metadata": {},
   "outputs": [],
   "source": [
    "from sklearn.manifold import TSNE"
   ]
  },
  {
   "cell_type": "code",
   "execution_count": null,
   "metadata": {},
   "outputs": [],
   "source": [
    "tsne = TSNE(n_components=2, random_state=0)\n",
    "words_top_ted_tsne = tsne.fit_transform(words_top_vec_ted)"
   ]
  },
  {
   "cell_type": "code",
   "execution_count": 40,
   "metadata": {},
   "outputs": [
    {
     "data": {
      "text/html": [
       "\n",
       "\n",
       "\n",
       "\n",
       "\n",
       "\n",
       "  <div class=\"bk-root\" id=\"4d45d2a8-5c41-4aa6-ad8b-1092817b4b26\" data-root-id=\"1086\"></div>\n"
      ]
     },
     "metadata": {},
     "output_type": "display_data"
    },
    {
     "data": {
      "application/javascript": [
       "(function(root) {\n",
       "  function embed_document(root) {\n",
       "    \n",
       "  var docs_json = {\"02828ce2-fb74-42b6-8790-7447fde7bc8e\":{\"roots\":{\"references\":[{\"attributes\":{\"below\":[{\"id\":\"1097\",\"type\":\"LinearAxis\"}],\"center\":[{\"id\":\"1101\",\"type\":\"Grid\"},{\"id\":\"1106\",\"type\":\"Grid\"},{\"id\":\"1122\",\"type\":\"LabelSet\"}],\"left\":[{\"id\":\"1102\",\"type\":\"LinearAxis\"}],\"renderers\":[{\"id\":\"1120\",\"type\":\"GlyphRenderer\"}],\"title\":{\"id\":\"1087\",\"type\":\"Title\"},\"toolbar\":{\"id\":\"1111\",\"type\":\"Toolbar\"},\"toolbar_location\":\"above\",\"x_range\":{\"id\":\"1089\",\"type\":\"DataRange1d\"},\"x_scale\":{\"id\":\"1093\",\"type\":\"LinearScale\"},\"y_range\":{\"id\":\"1091\",\"type\":\"DataRange1d\"},\"y_scale\":{\"id\":\"1095\",\"type\":\"LinearScale\"}},\"id\":\"1086\",\"subtype\":\"Figure\",\"type\":\"Plot\"},{\"attributes\":{},\"id\":\"1110\",\"type\":\"SaveTool\"},{\"attributes\":{\"active_drag\":\"auto\",\"active_inspect\":\"auto\",\"active_multi\":null,\"active_scroll\":\"auto\",\"active_tap\":\"auto\",\"tools\":[{\"id\":\"1107\",\"type\":\"PanTool\"},{\"id\":\"1108\",\"type\":\"WheelZoomTool\"},{\"id\":\"1109\",\"type\":\"ResetTool\"},{\"id\":\"1110\",\"type\":\"SaveTool\"}]},\"id\":\"1111\",\"type\":\"Toolbar\"},{\"attributes\":{\"fill_alpha\":{\"value\":0.1},\"fill_color\":{\"value\":\"#1f77b4\"},\"line_alpha\":{\"value\":0.1},\"line_color\":{\"value\":\"#1f77b4\"},\"size\":{\"units\":\"screen\",\"value\":8},\"x\":{\"field\":\"x1\"},\"y\":{\"field\":\"x2\"}},\"id\":\"1119\",\"type\":\"Scatter\"},{\"attributes\":{\"fill_color\":{\"value\":\"#1f77b4\"},\"line_color\":{\"value\":\"#1f77b4\"},\"size\":{\"units\":\"screen\",\"value\":8},\"x\":{\"field\":\"x1\"},\"y\":{\"field\":\"x2\"}},\"id\":\"1118\",\"type\":\"Scatter\"},{\"attributes\":{\"text\":\"word2vec T-SNE for most common words\"},\"id\":\"1087\",\"type\":\"Title\"},{\"attributes\":{\"data_source\":{\"id\":\"1116\",\"type\":\"ColumnDataSource\"},\"glyph\":{\"id\":\"1118\",\"type\":\"Scatter\"},\"hover_glyph\":null,\"muted_glyph\":null,\"nonselection_glyph\":{\"id\":\"1119\",\"type\":\"Scatter\"},\"selection_glyph\":null,\"view\":{\"id\":\"1121\",\"type\":\"CDSView\"}},\"id\":\"1120\",\"type\":\"GlyphRenderer\"},{\"attributes\":{\"callback\":null},\"id\":\"1089\",\"type\":\"DataRange1d\"},{\"attributes\":{},\"id\":\"1132\",\"type\":\"BasicTickFormatter\"},{\"attributes\":{\"callback\":null},\"id\":\"1091\",\"type\":\"DataRange1d\"},{\"attributes\":{\"source\":{\"id\":\"1116\",\"type\":\"ColumnDataSource\"}},\"id\":\"1121\",\"type\":\"CDSView\"},{\"attributes\":{},\"id\":\"1093\",\"type\":\"LinearScale\"},{\"attributes\":{},\"id\":\"1095\",\"type\":\"LinearScale\"},{\"attributes\":{\"formatter\":{\"id\":\"1134\",\"type\":\"BasicTickFormatter\"},\"ticker\":{\"id\":\"1098\",\"type\":\"BasicTicker\"}},\"id\":\"1097\",\"type\":\"LinearAxis\"},{\"attributes\":{},\"id\":\"1134\",\"type\":\"BasicTickFormatter\"},{\"attributes\":{},\"id\":\"1098\",\"type\":\"BasicTicker\"},{\"attributes\":{},\"id\":\"1136\",\"type\":\"Selection\"},{\"attributes\":{\"ticker\":{\"id\":\"1098\",\"type\":\"BasicTicker\"}},\"id\":\"1101\",\"type\":\"Grid\"},{\"attributes\":{},\"id\":\"1137\",\"type\":\"UnionRenderers\"},{\"attributes\":{\"formatter\":{\"id\":\"1132\",\"type\":\"BasicTickFormatter\"},\"ticker\":{\"id\":\"1103\",\"type\":\"BasicTicker\"}},\"id\":\"1102\",\"type\":\"LinearAxis\"},{\"attributes\":{},\"id\":\"1103\",\"type\":\"BasicTicker\"},{\"attributes\":{\"dimension\":1,\"ticker\":{\"id\":\"1103\",\"type\":\"BasicTicker\"}},\"id\":\"1106\",\"type\":\"Grid\"},{\"attributes\":{\"source\":{\"id\":\"1116\",\"type\":\"ColumnDataSource\"},\"text\":{\"field\":\"names\"},\"text_align\":\"center\",\"text_color\":{\"value\":\"#555555\"},\"text_font_size\":{\"value\":\"8pt\"},\"x\":{\"field\":\"x1\"},\"y\":{\"field\":\"x2\"},\"y_offset\":{\"value\":6}},\"id\":\"1122\",\"type\":\"LabelSet\"},{\"attributes\":{},\"id\":\"1107\",\"type\":\"PanTool\"},{\"attributes\":{},\"id\":\"1108\",\"type\":\"WheelZoomTool\"},{\"attributes\":{},\"id\":\"1109\",\"type\":\"ResetTool\"},{\"attributes\":{\"callback\":null,\"data\":{\"names\":[\"the\",\"and\",\"to\",\"of\",\"that\",\"in\",\"it\",\"you\",\"we\",\"is\",\"this\",\"so\",\"they\",\"was\",\"for\",\"are\",\"have\",\"but\",\"what\",\"on\",\"with\",\"can\",\"about\",\"there\",\"be\",\"as\",\"at\",\"all\",\"not\",\"do\",\"my\",\"one\",\"re\",\"people\",\"like\",\"if\",\"from\",\"now\",\"our\",\"he\",\"an\",\"just\",\"these\",\"or\",\"when\",\"because\",\"very\",\"me\",\"out\",\"by\",\"them\",\"how\",\"know\",\"up\",\"going\",\"had\",\"more\",\"think\",\"who\",\"were\",\"see\",\"your\",\"their\",\"which\",\"would\",\"here\",\"really\",\"get\",\"ve\",\"then\",\"world\",\"us\",\"time\",\"some\",\"has\",\"don\",\"actually\",\"into\",\"way\",\"where\",\"will\",\"years\",\"things\",\"other\",\"no\",\"could\",\"go\",\"well\",\"want\",\"been\",\"make\",\"right\",\"she\",\"said\",\"something\",\"those\",\"first\",\"two\",\"than\",\"much\",\"also\",\"look\",\"new\",\"thing\",\"little\",\"got\",\"back\",\"over\",\"most\",\"say\",\"even\",\"his\",\"life\",\"only\",\"work\",\"many\",\"take\",\"need\",\"did\",\"lot\",\"kind\",\"why\",\"good\",\"around\",\"every\",\"different\",\"down\",\"ll\",\"let\",\"her\",\"through\",\"same\",\"being\",\"come\",\"day\",\"year\",\"three\",\"use\",\"doing\",\"put\",\"called\",\"any\",\"today\",\"percent\",\"made\",\"after\",\"thank\",\"tell\",\"great\",\"human\",\"find\",\"didn\",\"fact\",\"talk\",\"change\",\"started\",\"another\",\"idea\",\"big\",\"last\",\"own\",\"before\",\"its\",\"never\",\"should\",\"better\",\"give\",\"thought\",\"went\",\"might\",\"important\",\"000\",\"again\",\"able\",\"together\",\"still\",\"problem\",\"off\",\"next\",\"part\",\"course\",\"system\",\"him\",\"does\",\"each\",\"start\",\"show\",\"long\",\"ago\",\"story\",\"came\",\"brain\",\"few\",\"bit\",\"between\",\"used\",\"place\",\"technology\",\"women\",\"too\",\"old\",\"mean\",\"data\",\"water\",\"looking\",\"question\",\"maybe\",\"found\",\"love\",\"doesn\",\"end\",\"example\",\"10\",\"done\",\"point\",\"four\",\"real\",\"wanted\",\"ever\",\"understand\",\"school\",\"sort\",\"live\",\"call\",\"whole\",\"always\",\"children\",\"trying\",\"may\",\"person\",\"away\",\"believe\",\"feel\",\"try\",\"million\",\"working\",\"help\",\"everything\",\"five\",\"country\",\"thinking\",\"second\",\"using\",\"information\",\"money\",\"means\",\"power\",\"took\",\"times\",\"high\",\"space\",\"number\",\"kids\",\"home\",\"become\",\"create\",\"small\",\"design\",\"making\",\"best\",\"left\",\"getting\",\"future\",\"enough\",\"man\",\"quite\",\"city\",\"without\",\"sense\",\"happened\",\"comes\",\"social\",\"probably\",\"less\",\"light\",\"talking\",\"energy\",\"am\",\"building\",\"science\",\"food\",\"body\",\"told\",\"interesting\",\"ask\",\"half\",\"pretty\",\"hard\",\"play\",\"anything\",\"lives\",\"countries\",\"such\",\"coming\",\"family\",\"stuff\",\"dollars\",\"earth\",\"moment\",\"20\",\"imagine\",\"across\",\"side\",\"saw\",\"while\",\"happen\",\"once\",\"okay\",\"build\",\"having\",\"men\",\"later\",\"experience\",\"makes\",\"asked\",\"living\",\"seen\",\"says\",\"room\",\"hand\",\"simple\",\"health\",\"ways\",\"else\",\"case\",\"almost\",\"yet\",\"young\",\"days\",\"nothing\",\"care\",\"bad\",\"happens\",\"goes\",\"move\",\"states\",\"reason\",\"computer\",\"open\",\"learn\",\"africa\",\"process\",\"inside\",\"someone\",\"six\",\"far\",\"mind\",\"project\",\"remember\",\"single\",\"picture\",\"both\",\"whether\",\"problems\",\"community\",\"basically\",\"saying\",\"already\",\"within\",\"looked\",\"myself\",\"billion\",\"possible\",\"often\",\"business\",\"planet\",\"global\",\"everybody\",\"top\",\"sure\",\"public\",\"set\",\"wrong\",\"car\",\"book\",\"keep\",\"yes\",\"answer\",\"oh\",\"sometimes\",\"hope\",\"history\",\"true\",\"war\",\"guy\",\"child\",\"instead\",\"months\",\"ideas\",\"looks\",\"matter\",\"government\",\"amazing\",\"united\",\"since\",\"bring\",\"age\",\"cells\",\"job\",\"heard\",\"until\",\"face\",\"wasn\",\"100\",\"read\",\"control\",\"isn\",\"research\",\"30\",\"words\",\"group\",\"under\",\"self\",\"somebody\",\"built\",\"state\",\"woman\",\"turn\",\"beautiful\",\"friends\",\"line\",\"knew\",\"couple\",\"order\",\"form\",\"yeah\",\"internet\",\"middle\",\"music\",\"piece\",\"nature\",\"head\",\"though\",\"stop\",\"everyone\",\"50\",\"places\",\"video\",\"language\",\"learned\",\"run\",\"night\",\"decided\",\"word\",\"study\",\"cancer\",\"taking\",\"works\",\"became\",\"exactly\",\"species\",\"completely\",\"society\",\"education\",\"against\",\"stories\",\"large\",\"share\",\"level\",\"heart\",\"america\",\"model\",\"questions\",\"gets\",\"mother\",\"god\",\"company\",\"turns\",\"ourselves\",\"happening\",\"art\",\"hear\",\"themselves\",\"must\",\"itself\",\"rather\",\"kinds\",\"students\",\"name\",\"hours\",\"disease\",\"front\",\"house\",\"couldn\",\"huge\",\"created\",\"universe\",\"ok\",\"animals\",\"american\",\"environment\",\"worked\",\"minutes\",\"ones\",\"black\",\"perhaps\",\"past\",\"third\",\"along\",\"others\",\"finally\",\"sound\",\"early\",\"game\",\"thousands\",\"century\",\"least\",\"based\",\"per\",\"ted\",\"lots\",\"figure\",\"free\",\"particular\",\"guys\",\"happy\",\"news\",\"learning\",\"entire\",\"won\",\"gave\",\"machine\",\"india\",\"during\",\"systems\",\"air\",\"difference\",\"outside\",\"natural\",\"taken\",\"seven\",\"given\",\"changed\",\"leave\",\"cell\",\"15\",\"close\",\"behind\",\"cities\",\"full\",\"scale\",\"china\",\"difficult\",\"takes\",\"companies\",\"area\",\"yourself\",\"reality\",\"seeing\",\"easy\",\"turned\",\"cost\",\"eyes\",\"team\",\"moving\",\"population\",\"culture\",\"york\",\"hands\",\"whatever\",\"began\",\"terms\",\"needs\",\"image\",\"needed\",\"simply\",\"beginning\",\"father\",\"local\",\"realized\",\"media\",\"parents\",\"death\",\"walk\",\"view\",\"white\",\"market\",\"parts\",\"ocean\",\"eight\",\"economic\",\"powerful\",\"known\",\"week\",\"size\",\"felt\",\"humans\",\"certain\",\"spend\",\"longer\",\"phone\",\"wonderful\",\"cannot\",\"common\",\"grow\",\"center\",\"tried\",\"fish\",\"land\",\"oil\",\"deal\",\"political\",\"interested\",\"red\",\"gone\",\"amount\",\"weeks\",\"spent\",\"opportunity\",\"paper\",\"lost\",\"quickly\",\"national\",\"blue\",\"step\",\"poor\",\"green\",\"buy\",\"wouldn\",\"growth\",\"either\",\"patients\",\"sitting\",\"ability\",\"changes\",\"write\",\"challenge\",\"south\",\"low\",\"friend\",\"growing\",\"field\",\"shows\",\"rest\",\"born\",\"climate\",\"40\",\"test\",\"street\",\"incredible\",\"surface\",\"average\",\"physical\",\"pay\",\"program\",\"morning\",\"scientists\",\"value\",\"behavior\",\"hundreds\",\"met\",\"girl\",\"feeling\",\"economy\",\"dna\",\"complex\",\"access\",\"risk\",\"animal\",\"structure\",\"feet\",\"attention\",\"anyone\",\"areas\",\"deep\",\"watch\",\"short\",\"absolutely\",\"brought\",\"speak\",\"bottom\",\"die\",\"numbers\",\"audience\",\"stage\",\"realize\",\"images\",\"law\",\"wrote\",\"understanding\",\"literally\",\"books\",\"knowledge\",\"movement\",\"giving\",\"ground\",\"eat\",\"force\",\"alone\",\"seems\",\"telling\",\"hold\",\"starting\",\"nice\",\"forward\",\"sea\",\"developed\",\"kid\",\"individual\",\"millions\",\"support\",\"tools\",\"running\",\"miles\",\"online\",\"result\",\"act\",\"medical\",\"technologies\",\"north\",\"development\",\"lab\",\"blood\",\"fear\",\"map\",\"nobody\",\"personal\",\"issue\",\"voice\",\"material\",\"key\",\"recently\",\"12\",\"theory\",\"cut\",\"cars\",\"sun\",\"fast\",\"changing\",\"clear\",\"playing\",\"especially\",\"patient\",\"soon\",\"girls\",\"fly\",\"choice\",\"creating\",\"talked\",\"relationship\",\"normal\",\"europe\",\"discovered\",\"gives\",\"generation\",\"dark\",\"showed\",\"type\",\"asking\",\"chance\",\"industry\",\"seem\",\"rate\",\"fun\",\"designed\",\"issues\",\"hour\",\"color\",\"innovation\",\"several\",\"university\",\"computers\",\"tiny\",\"english\",\"focus\",\"save\",\"allow\",\"class\",\"developing\",\"solve\",\"digital\",\"film\",\"network\",\"special\",\"wall\",\"baby\",\"situation\",\"solution\",\"box\",\"reasons\",\"knows\",\"stand\",\"dead\",\"meet\",\"begin\",\"impact\",\"anybody\",\"haven\",\"term\",\"beyond\",\"pictures\",\"please\",\"produce\",\"ice\",\"shape\",\"non\",\"resources\",\"cool\",\"robot\",\"groups\",\"stay\",\"likely\",\"major\",\"rights\",\"truth\",\"available\",\"writing\",\"experiment\",\"evidence\",\"cause\",\"obviously\",\"modern\",\"drug\",\"becomes\",\"incredibly\",\"bigger\",\"aren\",\"guess\",\"product\",\"nine\",\"drugs\",\"lived\",\"involved\",\"month\",\"google\",\"perfect\",\"effect\",\"putting\",\"similar\",\"eye\",\"pick\",\"message\",\"violence\",\"web\",\"quality\",\"office\",\"security\",\"evolution\",\"general\",\"indeed\",\"basic\",\"solar\",\"towards\",\"present\",\"drive\",\"listen\",\"send\",\"worth\",\"revolution\",\"explain\",\"hundred\",\"died\",\"certainly\",\"teach\",\"ready\",\"25\",\"journey\",\"hit\",\"walking\",\"led\",\"international\",\"approach\",\"200\",\"scientific\",\"games\",\"60\",\"potential\",\"crazy\",\"chinese\",\"communities\",\"device\",\"camera\",\"source\",\"sex\",\"carbon\",\"rules\",\"sounds\",\"boy\",\"reach\",\"starts\",\"west\",\"examples\",\"software\",\"success\",\"measure\",\"particularly\",\"totally\",\"suddenly\",\"action\",\"college\",\"higher\",\"code\",\"eventually\",\"democracy\",\"sit\",\"minute\",\"among\",\"largest\",\"hospital\",\"showing\",\"period\",\"notice\",\"mass\",\"develop\",\"dream\",\"onto\",\"memory\",\"break\",\"add\",\"plants\",\"everywhere\",\"zero\",\"favorite\",\"11\",\"response\",\"moved\",\"speed\",\"schools\",\"wants\",\"movie\",\"extremely\",\"table\",\"individuals\",\"wait\",\"medicine\",\"follow\",\"trust\",\"anyway\",\"plant\",\"biggest\",\"watching\",\"organization\",\"road\",\"creative\",\"worse\",\"choose\",\"lead\",\"results\",\"500\",\"exciting\",\"grew\",\"materials\",\"jobs\",\"positive\",\"poverty\",\"east\",\"strong\",\"safe\",\"fall\",\"plan\",\"essentially\",\"object\",\"door\",\"son\",\"vision\",\"happiness\",\"continue\",\"further\",\"student\",\"doctor\",\"role\",\"named\",\"objects\",\"including\",\"extraordinary\",\"standing\",\"conversation\",\"skin\",\"leaders\",\"usually\",\"african\",\"projects\",\"models\",\"allowed\",\"supposed\",\"faster\",\"interest\",\"families\",\"police\",\"fight\",\"tree\",\"connected\",\"screen\",\"cases\",\"somewhere\",\"goal\",\"buildings\",\"finding\",\"shown\",\"older\",\"meaning\",\"teachers\",\"expect\",\"decision\",\"taught\",\"80\",\"fire\",\"village\",\"mine\",\"wife\"],\"x1\":{\"__ndarray__\":\"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\",\"dtype\":\"float32\",\"shape\":[1000]},\"x2\":{\"__ndarray__\":\"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\",\"dtype\":\"float32\",\"shape\":[1000]}},\"selected\":{\"id\":\"1136\",\"type\":\"Selection\"},\"selection_policy\":{\"id\":\"1137\",\"type\":\"UnionRenderers\"}},\"id\":\"1116\",\"type\":\"ColumnDataSource\"}],\"root_ids\":[\"1086\"]},\"title\":\"Bokeh Application\",\"version\":\"1.3.4\"}};\n",
       "  var render_items = [{\"docid\":\"02828ce2-fb74-42b6-8790-7447fde7bc8e\",\"roots\":{\"1086\":\"4d45d2a8-5c41-4aa6-ad8b-1092817b4b26\"}}];\n",
       "  root.Bokeh.embed.embed_items_notebook(docs_json, render_items);\n",
       "\n",
       "  }\n",
       "  if (root.Bokeh !== undefined) {\n",
       "    embed_document(root);\n",
       "  } else {\n",
       "    var attempts = 0;\n",
       "    var timer = setInterval(function(root) {\n",
       "      if (root.Bokeh !== undefined) {\n",
       "        embed_document(root);\n",
       "        clearInterval(timer);\n",
       "      }\n",
       "      attempts++;\n",
       "      if (attempts > 100) {\n",
       "        console.log(\"Bokeh: ERROR: Unable to run BokehJS code because BokehJS library is missing\");\n",
       "        clearInterval(timer);\n",
       "      }\n",
       "    }, 10, root)\n",
       "  }\n",
       "})(window);"
      ],
      "application/vnd.bokehjs_exec.v0+json": ""
     },
     "metadata": {
      "application/vnd.bokehjs_exec.v0+json": {
       "id": "1086"
      }
     },
     "output_type": "display_data"
    }
   ],
   "source": [
    "p = figure(tools=\"pan,wheel_zoom,reset,save\",\n",
    "           toolbar_location=\"above\",\n",
    "           title=\"word2vec T-SNE for most common words\")\n",
    "\n",
    "source = ColumnDataSource(data=dict(x1=words_top_ted_tsne[:,0],\n",
    "                                    x2=words_top_ted_tsne[:,1],\n",
    "                                    names=words_top_ted))\n",
    "\n",
    "p.scatter(x=\"x1\", y=\"x2\", size=8, source=source)\n",
    "\n",
    "labels = LabelSet(x=\"x1\", y=\"x2\", text=\"names\", y_offset=6,\n",
    "                  text_font_size=\"8pt\", text_color=\"#555555\",\n",
    "                  source=source, text_align='center')\n",
    "p.add_layout(labels)\n",
    "\n",
    "show(p)"
   ]
  },
  {
   "cell_type": "markdown",
   "metadata": {},
   "source": [
    "### Part 5: Wiki Learnt Representations"
   ]
  },
  {
   "cell_type": "markdown",
   "metadata": {},
   "source": [
    "Download dataset"
   ]
  },
  {
   "cell_type": "code",
   "execution_count": 7,
   "metadata": {},
   "outputs": [],
   "source": [
    "if not os.path.isfile('../Data/wikitext-103-raw-v1.zip'):\n",
    "    urllib.request.urlretrieve(\"https://s3.amazonaws.com/research.metamind.io/wikitext/wikitext-103-raw-v1.zip\", filename=\"wikitext-103-raw-v1.zip\")"
   ]
  },
  {
   "cell_type": "code",
   "execution_count": 10,
   "metadata": {},
   "outputs": [],
   "source": [
    "with zipfile.ZipFile('../Data/wikitext-103-raw-v1.zip', 'r') as z:\n",
    "    input_text = str(z.open('wikitext-103-raw/wiki.train.raw', 'r').read(), encoding='utf-8') # Thanks Robert Bastian"
   ]
  },
  {
   "cell_type": "markdown",
   "metadata": {},
   "source": [
    "Preprocess sentences (note that it's important to remove small sentences for performance)"
   ]
  },
  {
   "cell_type": "code",
   "execution_count": 11,
   "metadata": {},
   "outputs": [],
   "source": [
    "sentences_wiki = []\n",
    "for line in input_text.split('\\n'):\n",
    "    s = [x for x in line.split('.') if x and len(x.split()) >= 5]\n",
    "    sentences_wiki.extend(s)\n",
    "    \n",
    "for s_i in range(len(sentences_wiki)):\n",
    "    sentences_wiki[s_i] = re.sub(\"[^a-z0-9]\", \" \", sentences_wiki[s_i].lower())\n",
    "    sentences_wiki[s_i] = re.sub(r'\\([^)]*\\)', '', sentences_wiki[s_i])\n",
    "del input_text"
   ]
  },
  {
   "cell_type": "code",
   "execution_count": 12,
   "metadata": {},
   "outputs": [
    {
     "name": "stdout",
     "output_type": "stream",
     "text": [
      "4267112\n",
      "853422\n"
     ]
    }
   ],
   "source": [
    "# sample 1/5 of the data\n",
    "shuffle(sentences_wiki)\n",
    "print(len(sentences_wiki))\n",
    "sentences_wiki = sentences_wiki[:int(len(sentences_wiki)/5)]\n",
    "print(len(sentences_wiki))"
   ]
  },
  {
   "cell_type": "markdown",
   "metadata": {},
   "source": [
    "Now, repeat all the same steps that you performed above. You should be able to reuse essentially all the code."
   ]
  },
  {
   "cell_type": "code",
   "execution_count": 13,
   "metadata": {},
   "outputs": [],
   "source": [
    "wiki_ted = []\n",
    "for wiki_str in sentences_wiki:\n",
    "    tokens = re.sub(r\"[^a-z0-9]+\", \" \", wiki_str.lower()).split()\n",
    "    # tokens = re.sub(r'[{}]+'.format('-!:,.;?\"'), \" \", sent_str.lower()).split()\n",
    "    wiki_ted.append(tokens)"
   ]
  },
  {
   "cell_type": "code",
   "execution_count": 17,
   "metadata": {},
   "outputs": [
    {
     "name": "stdout",
     "output_type": "stream",
     "text": [
      "244359 Dictionary(244359 unique tokens: ['a', 'and', 'as', 'center', 'city']...)\n"
     ]
    }
   ],
   "source": [
    "model_wiki = Word2Vec(sentences=wiki_ted, size=100, window=5, min_count=10, workers=4, sg=0)\n",
    "dictionary_wiki = corpora.Dictionary(wiki_ted)\n",
    "print(len(dictionary_wiki), dictionary_wiki)"
   ]
  },
  {
   "cell_type": "code",
   "execution_count": 20,
   "metadata": {},
   "outputs": [],
   "source": [
    "wiki = CountVectorizer()\n",
    "Y = wiki.fit_transform(sentences_wiki)\n",
    "wiki_ted_top1000_index = np.array(np.argsort(-Y.sum(axis=0))).squeeze()[:1000]\n",
    "wiki_ted_top1000_word = np.array(wiki.get_feature_names())[wiki_ted_top1000_index]\n",
    "wiki_ted_top1000 = np.array(-1 * np.sort(-Y.sum(axis=0))).squeeze()[:1000]"
   ]
  },
  {
   "cell_type": "markdown",
   "metadata": {},
   "source": [
    "#### t-SNE visualization"
   ]
  },
  {
   "cell_type": "code",
   "execution_count": 21,
   "metadata": {},
   "outputs": [
    {
     "name": "stderr",
     "output_type": "stream",
     "text": [
      "D:\\Miniconda3\\lib\\site-packages\\ipykernel_launcher.py:3: DeprecationWarning: Call to deprecated `__getitem__` (Method will be removed in 4.0.0, use self.wv.__getitem__() instead).\n",
      "  This is separate from the ipykernel package so we can avoid doing imports until\n"
     ]
    }
   ],
   "source": [
    "# This assumes words_top_wiki is a list of strings, the top 1000 words\n",
    "words_top_wiki = wiki_ted_top1000_word\n",
    "words_top_vec_wiki = model_wiki[words_top_wiki]\n",
    "\n",
    "tsne = TSNE(n_components=2, random_state=0)\n",
    "words_top_wiki_tsne = tsne.fit_transform(words_top_vec_wiki)"
   ]
  },
  {
   "cell_type": "code",
   "execution_count": 22,
   "metadata": {},
   "outputs": [
    {
     "data": {
      "text/html": [
       "\n",
       "\n",
       "\n",
       "\n",
       "\n",
       "\n",
       "  <div class=\"bk-root\" id=\"f024f0e3-37a2-4790-997a-33f95f94f7e8\" data-root-id=\"1002\"></div>\n"
      ]
     },
     "metadata": {},
     "output_type": "display_data"
    },
    {
     "data": {
      "application/javascript": [
       "(function(root) {\n",
       "  function embed_document(root) {\n",
       "    \n",
       "  var docs_json = {\"157f7442-47b1-4a32-ae2f-5f2803510aaf\":{\"roots\":{\"references\":[{\"attributes\":{\"below\":[{\"id\":\"1013\",\"type\":\"LinearAxis\"}],\"center\":[{\"id\":\"1017\",\"type\":\"Grid\"},{\"id\":\"1022\",\"type\":\"Grid\"},{\"id\":\"1038\",\"type\":\"LabelSet\"}],\"left\":[{\"id\":\"1018\",\"type\":\"LinearAxis\"}],\"renderers\":[{\"id\":\"1036\",\"type\":\"GlyphRenderer\"}],\"title\":{\"id\":\"1003\",\"type\":\"Title\"},\"toolbar\":{\"id\":\"1027\",\"type\":\"Toolbar\"},\"toolbar_location\":\"above\",\"x_range\":{\"id\":\"1005\",\"type\":\"DataRange1d\"},\"x_scale\":{\"id\":\"1009\",\"type\":\"LinearScale\"},\"y_range\":{\"id\":\"1007\",\"type\":\"DataRange1d\"},\"y_scale\":{\"id\":\"1011\",\"type\":\"LinearScale\"}},\"id\":\"1002\",\"subtype\":\"Figure\",\"type\":\"Plot\"},{\"attributes\":{\"text\":\"word2vec T-SNE for most common words\"},\"id\":\"1003\",\"type\":\"Title\"},{\"attributes\":{},\"id\":\"1043\",\"type\":\"BasicTickFormatter\"},{\"attributes\":{\"callback\":null},\"id\":\"1005\",\"type\":\"DataRange1d\"},{\"attributes\":{\"callback\":null},\"id\":\"1007\",\"type\":\"DataRange1d\"},{\"attributes\":{},\"id\":\"1009\",\"type\":\"LinearScale\"},{\"attributes\":{\"data_source\":{\"id\":\"1032\",\"type\":\"ColumnDataSource\"},\"glyph\":{\"id\":\"1034\",\"type\":\"Scatter\"},\"hover_glyph\":null,\"muted_glyph\":null,\"nonselection_glyph\":{\"id\":\"1035\",\"type\":\"Scatter\"},\"selection_glyph\":null,\"view\":{\"id\":\"1037\",\"type\":\"CDSView\"}},\"id\":\"1036\",\"type\":\"GlyphRenderer\"},{\"attributes\":{},\"id\":\"1011\",\"type\":\"LinearScale\"},{\"attributes\":{\"source\":{\"id\":\"1032\",\"type\":\"ColumnDataSource\"}},\"id\":\"1037\",\"type\":\"CDSView\"},{\"attributes\":{\"formatter\":{\"id\":\"1043\",\"type\":\"BasicTickFormatter\"},\"ticker\":{\"id\":\"1014\",\"type\":\"BasicTicker\"}},\"id\":\"1013\",\"type\":\"LinearAxis\"},{\"attributes\":{},\"id\":\"1045\",\"type\":\"Selection\"},{\"attributes\":{},\"id\":\"1014\",\"type\":\"BasicTicker\"},{\"attributes\":{\"ticker\":{\"id\":\"1014\",\"type\":\"BasicTicker\"}},\"id\":\"1017\",\"type\":\"Grid\"},{\"attributes\":{},\"id\":\"1041\",\"type\":\"BasicTickFormatter\"},{\"attributes\":{\"fill_alpha\":{\"value\":0.1},\"fill_color\":{\"value\":\"#1f77b4\"},\"line_alpha\":{\"value\":0.1},\"line_color\":{\"value\":\"#1f77b4\"},\"size\":{\"units\":\"screen\",\"value\":8},\"x\":{\"field\":\"x1\"},\"y\":{\"field\":\"x2\"}},\"id\":\"1035\",\"type\":\"Scatter\"},{\"attributes\":{\"formatter\":{\"id\":\"1041\",\"type\":\"BasicTickFormatter\"},\"ticker\":{\"id\":\"1019\",\"type\":\"BasicTicker\"}},\"id\":\"1018\",\"type\":\"LinearAxis\"},{\"attributes\":{},\"id\":\"1019\",\"type\":\"BasicTicker\"},{\"attributes\":{},\"id\":\"1046\",\"type\":\"UnionRenderers\"},{\"attributes\":{\"dimension\":1,\"ticker\":{\"id\":\"1019\",\"type\":\"BasicTicker\"}},\"id\":\"1022\",\"type\":\"Grid\"},{\"attributes\":{},\"id\":\"1023\",\"type\":\"PanTool\"},{\"attributes\":{\"source\":{\"id\":\"1032\",\"type\":\"ColumnDataSource\"},\"text\":{\"field\":\"names\"},\"text_align\":\"center\",\"text_color\":{\"value\":\"#555555\"},\"text_font_size\":{\"value\":\"8pt\"},\"x\":{\"field\":\"x1\"},\"y\":{\"field\":\"x2\"},\"y_offset\":{\"value\":6}},\"id\":\"1038\",\"type\":\"LabelSet\"},{\"attributes\":{\"active_drag\":\"auto\",\"active_inspect\":\"auto\",\"active_multi\":null,\"active_scroll\":\"auto\",\"active_tap\":\"auto\",\"tools\":[{\"id\":\"1023\",\"type\":\"PanTool\"},{\"id\":\"1024\",\"type\":\"WheelZoomTool\"},{\"id\":\"1025\",\"type\":\"ResetTool\"},{\"id\":\"1026\",\"type\":\"SaveTool\"}]},\"id\":\"1027\",\"type\":\"Toolbar\"},{\"attributes\":{},\"id\":\"1024\",\"type\":\"WheelZoomTool\"},{\"attributes\":{},\"id\":\"1025\",\"type\":\"ResetTool\"},{\"attributes\":{\"callback\":null,\"data\":{\"names\":[\"the\",\"of\",\"and\",\"in\",\"to\",\"was\",\"on\",\"as\",\"for\",\"that\",\"with\",\"by\",\"is\",\"his\",\"at\",\"he\",\"from\",\"it\",\"were\",\"an\",\"had\",\"which\",\"be\",\"this\",\"but\",\"are\",\"first\",\"not\",\"their\",\"after\",\"one\",\"her\",\"its\",\"also\",\"they\",\"two\",\"or\",\"have\",\"who\",\"new\",\"been\",\"has\",\"she\",\"when\",\"time\",\"during\",\"other\",\"would\",\"into\",\"all\",\"more\",\"while\",\"over\",\"game\",\"him\",\"later\",\"only\",\"most\",\"three\",\"up\",\"about\",\"out\",\"between\",\"than\",\"there\",\"some\",\"may\",\"film\",\"before\",\"year\",\"made\",\"no\",\"season\",\"such\",\"second\",\"where\",\"000\",\"world\",\"war\",\"years\",\"then\",\"both\",\"however\",\"used\",\"them\",\"through\",\"song\",\"these\",\"being\",\"series\",\"against\",\"many\",\"album\",\"team\",\"city\",\"became\",\"part\",\"can\",\"north\",\"four\",\"including\",\"number\",\"several\",\"united\",\"well\",\"state\",\"early\",\"under\",\"south\",\"music\",\"day\",\"so\",\"episode\",\"following\",\"states\",\"said\",\"known\",\"american\",\"although\",\"began\",\"could\",\"did\",\"work\",\"until\",\"because\",\"like\",\"released\",\"called\",\"10\",\"people\",\"high\",\"end\",\"british\",\"since\",\"around\",\"west\",\"each\",\"if\",\"national\",\"life\",\"long\",\"september\",\"us\",\"best\",\"found\",\"same\",\"along\",\"million\",\"another\",\"back\",\"any\",\"five\",\"show\",\"you\",\"took\",\"use\",\"august\",\"area\",\"century\",\"off\",\"october\",\"final\",\"received\",\"school\",\"group\",\"km\",\"government\",\"due\",\"john\",\"east\",\"line\",\"will\",\"what\",\"march\",\"june\",\"system\",\"july\",\"home\",\"single\",\"games\",\"third\",\"general\",\"november\",\"large\",\"much\",\"major\",\"april\",\"set\",\"family\",\"down\",\"left\",\"york\",\"house\",\"based\",\"december\",\"place\",\"road\",\"just\",\"played\",\"company\",\"we\",\"12\",\"history\",\"name\",\"army\",\"band\",\"character\",\"included\",\"wrote\",\"six\",\"now\",\"king\",\"january\",\"won\",\"20\",\"near\",\"times\",\"main\",\"named\",\"led\",\"within\",\"last\",\"death\",\"own\",\"air\",\"those\",\"15\",\"late\",\"according\",\"described\",\"river\",\"de\",\"release\",\"men\",\"next\",\"make\",\"video\",\"way\",\"record\",\"battle\",\"league\",\"route\",\"still\",\"species\",\"man\",\"production\",\"club\",\"even\",\"force\",\"30\",\"great\",\"ship\",\"original\",\"very\",\"public\",\"top\",\"february\",\"old\",\"though\",\"again\",\"storm\",\"small\",\"built\",\"play\",\"days\",\"held\",\"11\",\"service\",\"among\",\"book\",\"2010\",\"members\",\"white\",\"university\",\"story\",\"role\",\"division\",\"do\",\"french\",\"having\",\"further\",\"german\",\"side\",\"power\",\"player\",\"match\",\"water\",\"point\",\"continued\",\"often\",\"2008\",\"career\",\"came\",\"without\",\"order\",\"former\",\"100\",\"2009\",\"2011\",\"black\",\"considered\",\"local\",\"18\",\"14\",\"park\",\"16\",\"town\",\"island\",\"england\",\"despite\",\"county\",\"2007\",\"development\",\"support\",\"13\",\"party\",\"songs\",\"become\",\"written\",\"different\",\"take\",\"few\",\"half\",\"version\",\"25\",\"military\",\"form\",\"moved\",\"period\",\"2012\",\"ii\",\"president\",\"given\",\"english\",\"forces\",\"london\",\"little\",\"building\",\"tropical\",\"church\",\"court\",\"international\",\"lost\",\"country\",\"my\",\"re\",\"tour\",\"lead\",\"published\",\"produced\",\"returned\",\"street\",\"using\",\"gave\",\"royal\",\"short\",\"class\",\"stated\",\"track\",\"similar\",\"went\",\"performance\",\"never\",\"position\",\"live\",\"2006\",\"aircraft\",\"attack\",\"children\",\"highway\",\"land\",\"once\",\"17\",\"television\",\"recorded\",\"good\",\"how\",\"fire\",\"star\",\"upon\",\"week\",\"control\",\"western\",\"run\",\"per\",\"ships\",\"making\",\"total\",\"include\",\"love\",\"throughout\",\"2013\",\"head\",\"right\",\"women\",\"himself\",\"australia\",\"me\",\"age\",\"light\",\"father\",\"central\",\"less\",\"characters\",\"away\",\"24\",\"months\",\"writing\",\"instead\",\"law\",\"young\",\"died\",\"seven\",\"ten\",\"design\",\"players\",\"across\",\"developed\",\"return\",\"red\",\"title\",\"result\",\"hurricane\",\"ft\",\"rock\",\"remained\",\"previous\",\"eight\",\"station\",\"21\",\"political\",\"sea\",\"james\",\"low\",\"william\",\"reported\",\"night\",\"son\",\"too\",\"various\",\"southern\",\"areas\",\"center\",\"eventually\",\"st\",\"office\",\"race\",\"japanese\",\"act\",\"noted\",\"construction\",\"field\",\"felt\",\"2005\",\"created\",\"america\",\"college\",\"announced\",\"miles\",\"reached\",\"seen\",\"sent\",\"should\",\"19\",\"followed\",\"able\",\"22\",\"together\",\"style\",\"served\",\"performed\",\"award\",\"full\",\"campaign\",\"win\",\"northern\",\"member\",\"established\",\"common\",\"50\",\"taken\",\"range\",\"level\",\"points\",\"killed\",\"originally\",\"2014\",\"23\",\"works\",\"success\",\"born\",\"action\",\"george\",\"chart\",\"body\",\"playing\",\"australian\",\"appeared\",\"bridge\",\"mm\",\"project\",\"every\",\"started\",\"others\",\"features\",\"football\",\"front\",\"thought\",\"special\",\"caused\",\"present\",\"addition\",\"rather\",\"added\",\"located\",\"behind\",\"stage\",\"modern\",\"feet\",\"heavy\",\"formed\",\"post\",\"completed\",\"get\",\"fourth\",\"popular\",\"go\",\"site\",\"decided\",\"saw\",\"critics\",\"sold\",\"strong\",\"championship\",\"close\",\"guns\",\"almost\",\"population\",\"command\",\"fleet\",\"leading\",\"40\",\"david\",\"see\",\"important\",\"28\",\"initially\",\"soon\",\"damage\",\"art\",\"non\",\"2004\",\"director\",\"27\",\"opened\",\"towards\",\"kingdom\",\"eastern\",\"free\",\"open\",\"michael\",\"ground\",\"case\",\"region\",\"awards\",\"event\",\"recording\",\"scene\",\"2015\",\"coast\",\"worked\",\"working\",\"hall\",\"france\",\"union\",\"weeks\",\"mother\",\"put\",\"ever\",\"26\",\"provided\",\"sound\",\"does\",\"least\",\"featured\",\"wife\",\"brought\",\"help\",\"navy\",\"training\",\"allowed\",\"victory\",\"mi\",\"wanted\",\"henry\",\"studio\",\"placed\",\"scored\",\"troops\",\"generally\",\"either\",\"records\",\"2003\",\"magazine\",\"europe\",\"cup\",\"average\",\"joined\",\"500\",\"washington\",\"events\",\"example\",\"runs\",\"200\",\"far\",\"mid\",\"hit\",\"co\",\"rest\",\"human\",\"believed\",\"base\",\"hours\",\"summer\",\"designed\",\"nine\",\"opening\",\"29\",\"robert\",\"list\",\"brown\",\"media\",\"replaced\",\"japan\",\"start\",\"finished\",\"involved\",\"crew\",\"council\",\"official\",\"al\",\"police\",\"european\",\"mph\",\"squadron\",\"particularly\",\"2000\",\"successful\",\"radio\",\"operation\",\"minutes\",\"society\",\"association\",\"met\",\"month\",\"largest\",\"come\",\"big\",\"test\",\"possible\",\"taking\",\"significant\",\"process\",\"change\",\"available\",\"outside\",\"earlier\",\"relationship\",\"beginning\",\"units\",\"highest\",\"saying\",\"passed\",\"social\",\"research\",\"ended\",\"2001\",\"turned\",\"review\",\"2002\",\"move\",\"captain\",\"increased\",\"real\",\"shot\",\"san\",\"praised\",\"above\",\"forced\",\"must\",\"winds\",\"better\",\"films\",\"signed\",\"previously\",\"community\",\"appearance\",\"chief\",\"cast\",\"charles\",\"middle\",\"thus\",\"going\",\"canada\",\"enough\",\"additional\",\"stone\",\"future\",\"elements\",\"lower\",\"space\",\"section\",\"spent\",\"board\",\"positive\",\"interest\",\"ordered\",\"hill\",\"gun\",\"program\",\"31\",\"california\",\"directed\",\"musical\",\"business\",\"reviews\",\"cross\",\"rights\",\"gold\",\"thomas\",\"staff\",\"parts\",\"goal\",\"asked\",\"female\",\"lines\",\"don\",\"hand\",\"give\",\"lake\",\"critical\",\"infantry\",\"plan\",\"failed\",\"attempt\",\"told\",\"committee\",\"prior\",\"round\",\"money\",\"germany\",\"groups\",\"brother\",\"room\",\"type\",\"required\",\"paul\",\"district\",\"evidence\",\"india\",\"find\",\"castle\",\"green\",\"cover\",\"grand\",\"square\",\"sometimes\",\"news\",\"election\",\"study\",\"whose\",\"term\",\"students\",\"overall\",\"especially\",\"our\",\"itself\",\"response\",\"reception\",\"claimed\",\"battalion\",\"uk\",\"quickly\",\"entire\",\"indian\",\"person\",\"port\",\"idea\",\"introduced\",\"personal\",\"press\",\"governor\",\"effects\",\"bill\",\"background\",\"turn\",\"past\",\"arrived\",\"shows\",\"speed\",\"smith\",\"voice\",\"commander\",\"anti\",\"plot\",\"ny\",\"complete\",\"already\",\"minister\",\"fifth\",\"novel\",\"movement\",\"limited\",\"whom\",\"blue\",\"surface\",\"decision\",\"structure\",\"flight\",\"usually\",\"debut\",\"pressure\",\"peter\",\"department\",\"loss\",\"la\",\"civil\",\"score\",\"larger\",\"education\",\"village\",\"britain\",\"food\",\"queen\",\"issue\",\"becoming\",\"science\",\"islands\",\"bay\",\"teams\",\"operations\",\"changes\",\"earth\",\"car\",\"virginia\",\"episodes\",\"woman\",\"daughter\",\"services\",\"suggested\",\"stars\",\"commercial\",\"cut\",\"industry\",\"centre\",\"living\",\"remaining\",\"mark\",\"appointed\",\"might\",\"nearly\",\"view\",\"latter\",\"scenes\",\"leaving\",\"god\",\"naval\",\"length\",\"carried\",\"today\",\"finally\",\"depression\",\"defeated\",\"course\",\"material\",\"estimated\",\"self\",\"1999\",\"date\",\"dark\",\"los\",\"child\",\"winning\",\"running\",\"influence\",\"agreed\",\"richard\",\"fort\",\"entered\",\"empire\",\"percent\",\"planned\",\"hot\",\"current\",\"destroyed\",\"report\",\"proposed\",\"leader\",\"experience\",\"lack\",\"shortly\",\"writer\",\"pop\",\"immediately\",\"officers\",\"chicago\",\"approximately\",\"regular\",\"fact\",\"language\",\"size\",\"manager\",\"married\",\"face\",\"network\",\"contract\",\"supported\",\"brigade\",\"compared\",\"whether\",\"tracks\",\"wide\",\"trade\",\"edward\",\"officer\",\"create\",\"natural\",\"buildings\",\"helped\",\"countries\",\"ball\",\"federal\",\"soldiers\",\"provide\",\"railway\",\"subsequently\",\"books\",\"your\",\"appear\",\"upper\",\"producer\",\"chinese\",\"museum\",\"spanish\",\"changed\",\"higher\",\"mostly\",\"fans\",\"intended\",\"corps\",\"awarded\",\"lyrics\",\"effect\",\"lord\",\"done\",\"longer\",\"health\",\"friend\",\"private\",\"dance\",\"guitar\",\"remains\",\"something\",\"cost\",\"pacific\",\"professional\",\"plans\",\"really\",\"themselves\",\"1998\",\"minor\",\"soviet\",\"related\",\"singles\",\"atlantic\",\"ran\",\"friends\",\"initial\",\"feature\",\"mixed\",\"key\",\"information\",\"captured\",\"1997\",\"increase\",\"copies\",\"christian\",\"yet\",\"got\",\"nature\",\"difficult\",\"numerous\",\"regiment\",\"florida\",\"conference\",\"jackson\",\"fight\",\"billboard\",\"likely\",\"double\"],\"x1\":{\"__ndarray__\":\"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\",\"dtype\":\"float32\",\"shape\":[1000]},\"x2\":{\"__ndarray__\":\"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\",\"dtype\":\"float32\",\"shape\":[1000]}},\"selected\":{\"id\":\"1045\",\"type\":\"Selection\"},\"selection_policy\":{\"id\":\"1046\",\"type\":\"UnionRenderers\"}},\"id\":\"1032\",\"type\":\"ColumnDataSource\"},{\"attributes\":{},\"id\":\"1026\",\"type\":\"SaveTool\"},{\"attributes\":{\"fill_color\":{\"value\":\"#1f77b4\"},\"line_color\":{\"value\":\"#1f77b4\"},\"size\":{\"units\":\"screen\",\"value\":8},\"x\":{\"field\":\"x1\"},\"y\":{\"field\":\"x2\"}},\"id\":\"1034\",\"type\":\"Scatter\"}],\"root_ids\":[\"1002\"]},\"title\":\"Bokeh Application\",\"version\":\"1.3.4\"}};\n",
       "  var render_items = [{\"docid\":\"157f7442-47b1-4a32-ae2f-5f2803510aaf\",\"roots\":{\"1002\":\"f024f0e3-37a2-4790-997a-33f95f94f7e8\"}}];\n",
       "  root.Bokeh.embed.embed_items_notebook(docs_json, render_items);\n",
       "\n",
       "  }\n",
       "  if (root.Bokeh !== undefined) {\n",
       "    embed_document(root);\n",
       "  } else {\n",
       "    var attempts = 0;\n",
       "    var timer = setInterval(function(root) {\n",
       "      if (root.Bokeh !== undefined) {\n",
       "        embed_document(root);\n",
       "        clearInterval(timer);\n",
       "      }\n",
       "      attempts++;\n",
       "      if (attempts > 100) {\n",
       "        console.log(\"Bokeh: ERROR: Unable to run BokehJS code because BokehJS library is missing\");\n",
       "        clearInterval(timer);\n",
       "      }\n",
       "    }, 10, root)\n",
       "  }\n",
       "})(window);"
      ],
      "application/vnd.bokehjs_exec.v0+json": ""
     },
     "metadata": {
      "application/vnd.bokehjs_exec.v0+json": {
       "id": "1002"
      }
     },
     "output_type": "display_data"
    }
   ],
   "source": [
    "p = figure(tools=\"pan,wheel_zoom,reset,save\",\n",
    "           toolbar_location=\"above\",\n",
    "           title=\"word2vec T-SNE for most common words\")\n",
    "\n",
    "source = ColumnDataSource(data=dict(x1=words_top_wiki_tsne[:,0],\n",
    "                                    x2=words_top_wiki_tsne[:,1],\n",
    "                                    names=words_top_wiki))\n",
    "\n",
    "p.scatter(x=\"x1\", y=\"x2\", size=8, source=source)\n",
    "\n",
    "labels = LabelSet(x=\"x1\", y=\"x2\", text=\"names\", y_offset=6,\n",
    "                  text_font_size=\"8pt\", text_color=\"#555555\",\n",
    "                  source=source, text_align='center')\n",
    "p.add_layout(labels)\n",
    "\n",
    "show(p)"
   ]
  },
  {
   "cell_type": "code",
   "execution_count": 23,
   "metadata": {},
   "outputs": [],
   "source": [
    "from sklearn.cluster import KMeans"
   ]
  },
  {
   "cell_type": "code",
   "execution_count": 24,
   "metadata": {},
   "outputs": [
    {
     "name": "stdout",
     "output_type": "stream",
     "text": [
      "['national' 'government' 'public' 'local' 'law' 'act' 'council' 'police'\n",
      " 'association' 'community' 'board' 'rights' 'committee' 'department'\n",
      " 'civil' 'trade' 'federal' 'private']\n",
      "['became' 'remained']\n"
     ]
    }
   ],
   "source": [
    "clustering = KMeans(n_clusters=100)  # 聚几个类\n",
    "\n",
    "clustering.fit(words_top_vec_wiki)\n",
    "clu_labels = clustering.labels_  # 0-100 个标签\n",
    "\n",
    "print(wiki_ted_top1000_word[clu_labels == 0])\n",
    "print(wiki_ted_top1000_word[clu_labels == 1])"
   ]
  },
  {
   "cell_type": "code",
   "execution_count": 31,
   "metadata": {},
   "outputs": [],
   "source": [
    "colors = ['#%d%d%d' % (int(2.55 * r), int(1.5 * r), int(1 * r)) for r in clu_labels]\n"
   ]
  },
  {
   "cell_type": "code",
   "execution_count": 32,
   "metadata": {
    "scrolled": false
   },
   "outputs": [
    {
     "data": {
      "text/html": [
       "\n",
       "\n",
       "\n",
       "\n",
       "\n",
       "\n",
       "  <div class=\"bk-root\" id=\"407f6534-38ad-4de7-bab5-38fd549a7349\" data-root-id=\"1392\"></div>\n"
      ]
     },
     "metadata": {},
     "output_type": "display_data"
    },
    {
     "data": {
      "application/javascript": [
       "(function(root) {\n",
       "  function embed_document(root) {\n",
       "    \n",
       "  var docs_json = {\"74f93c84-0a85-46a1-a057-ffd57f732fb7\":{\"roots\":{\"references\":[{\"attributes\":{\"below\":[{\"id\":\"1403\",\"type\":\"LinearAxis\"}],\"center\":[{\"id\":\"1407\",\"type\":\"Grid\"},{\"id\":\"1412\",\"type\":\"Grid\"},{\"id\":\"1428\",\"type\":\"LabelSet\"}],\"left\":[{\"id\":\"1408\",\"type\":\"LinearAxis\"}],\"renderers\":[{\"id\":\"1426\",\"type\":\"GlyphRenderer\"}],\"title\":{\"id\":\"1393\",\"type\":\"Title\"},\"toolbar\":{\"id\":\"1417\",\"type\":\"Toolbar\"},\"toolbar_location\":\"above\",\"x_range\":{\"id\":\"1395\",\"type\":\"DataRange1d\"},\"x_scale\":{\"id\":\"1399\",\"type\":\"LinearScale\"},\"y_range\":{\"id\":\"1397\",\"type\":\"DataRange1d\"},\"y_scale\":{\"id\":\"1401\",\"type\":\"LinearScale\"}},\"id\":\"1392\",\"subtype\":\"Figure\",\"type\":\"Plot\"},{\"attributes\":{},\"id\":\"1409\",\"type\":\"BasicTicker\"},{\"attributes\":{\"dimension\":1,\"ticker\":{\"id\":\"1409\",\"type\":\"BasicTicker\"}},\"id\":\"1412\",\"type\":\"Grid\"},{\"attributes\":{\"source\":{\"id\":\"1422\",\"type\":\"ColumnDataSource\"},\"text\":{\"field\":\"names\"},\"text_align\":\"center\",\"text_color\":{\"value\":\"#555555\"},\"text_font_size\":{\"value\":\"8pt\"},\"x\":{\"field\":\"x1\"},\"y\":{\"field\":\"x2\"},\"y_offset\":{\"value\":6}},\"id\":\"1428\",\"type\":\"LabelSet\"},{\"attributes\":{},\"id\":\"1413\",\"type\":\"PanTool\"},{\"attributes\":{},\"id\":\"1414\",\"type\":\"WheelZoomTool\"},{\"attributes\":{\"callback\":null,\"data\":{\"colors\":[\"#1327852\",\"#1327852\",\"#482819\",\"#1327852\",\"#432517\",\"#1076342\",\"#23213691\",\"#432517\",\"#17107\",\"#23713993\",\"#17107\",\"#432517\",\"#1076342\",\"#21912986\",\"#1357953\",\"#533121\",\"#513020\",\"#1478758\",\"#1076342\",\"#23413892\",\"#20612181\",\"#482819\",\"#24714597\",\"#20912382\",\"#482819\",\"#1076342\",\"#21112483\",\"#17310268\",\"#21912986\",\"#1146745\",\"#633725\",\"#1176946\",\"#21912986\",\"#432517\",\"#1378154\",\"#1046141\",\"#1478758\",\"#20612181\",\"#482819\",\"#17107\",\"#533121\",\"#20612181\",\"#1176946\",\"#482819\",\"#1596\",\"#1126644\",\"#18310872\",\"#1458557\",\"#513020\",\"#18310872\",\"#1609463\",\"#482819\",\"#513020\",\"#21412684\",\"#25214899\",\"#1126644\",\"#17310268\",\"#18110671\",\"#1046141\",\"#23213691\",\"#1478758\",\"#23213691\",\"#513020\",\"#1596\",\"#17310268\",\"#18310872\",\"#583423\",\"#20412080\",\"#1146745\",\"#915436\",\"#352114\",\"#17310268\",\"#915436\",\"#18310872\",\"#21112483\",\"#482819\",\"#1559161\",\"#301812\",\"#402416\",\"#895235\",\"#23213691\",\"#18310872\",\"#482819\",\"#1064\",\"#25214899\",\"#513020\",\"#20128\",\"#18310872\",\"#533121\",\"#331913\",\"#1689966\",\"#18310872\",\"#20128\",\"#995839\",\"#563322\",\"#211\",\"#1327852\",\"#663926\",\"#764530\",\"#1046141\",\"#1639664\",\"#18310872\",\"#18310872\",\"#301812\",\"#24414496\",\"#563322\",\"#1126644\",\"#23213691\",\"#764530\",\"#17010067\",\"#915436\",\"#1096443\",\"#20412080\",\"#1146745\",\"#301812\",\"#18610973\",\"#1428456\",\"#301812\",\"#482819\",\"#18811174\",\"#1458557\",\"#1458557\",\"#24214295\",\"#482819\",\"#482819\",\"#1096443\",\"#1026040\",\"#1428456\",\"#743\",\"#1478758\",\"#24414496\",\"#1126644\",\"#1227248\",\"#482819\",\"#513020\",\"#764530\",\"#1327852\",\"#23713993\",\"#000\",\"#19611577\",\"#24414496\",\"#583423\",\"#1478758\",\"#18110671\",\"#281611\",\"#1327852\",\"#513020\",\"#1559161\",\"#1327852\",\"#23213691\",\"#20912382\",\"#1046141\",\"#331913\",\"#1378154\",\"#22413288\",\"#20912382\",\"#583423\",\"#563322\",\"#402416\",\"#23213691\",\"#583423\",\"#21112483\",\"#352114\",\"#865134\",\"#1247349\",\"#734329\",\"#000\",\"#1639664\",\"#532\",\"#764530\",\"#844933\",\"#1458557\",\"#1096443\",\"#583423\",\"#583423\",\"#1277550\",\"#583423\",\"#17107\",\"#633725\",\"#21412684\",\"#21112483\",\"#1659765\",\"#583423\",\"#24414496\",\"#1478758\",\"#17107\",\"#583423\",\"#19311476\",\"#23914194\",\"#23213691\",\"#613624\",\"#24914798\",\"#1357953\",\"#281611\",\"#583423\",\"#1357953\",\"#844933\",\"#1478758\",\"#19811778\",\"#24214295\",\"#1378154\",\"#743\",\"#19611577\",\"#432517\",\"#794631\",\"#17010067\",\"#684027\",\"#1026040\",\"#18610973\",\"#1046141\",\"#17310268\",\"#402416\",\"#583423\",\"#1689966\",\"#743\",\"#1357953\",\"#1197047\",\"#1327852\",\"#1428456\",\"#352114\",\"#513020\",\"#21112483\",\"#23914194\",\"#19611577\",\"#1277550\",\"#18310872\",\"#743\",\"#1126644\",\"#1639664\",\"#18610973\",\"#844933\",\"#17810570\",\"#331913\",\"#1408255\",\"#21112483\",\"#24714597\",\"#20412080\",\"#1478758\",\"#633725\",\"#402416\",\"#995839\",\"#382215\",\"#17310268\",\"#17510369\",\"#533121\",\"#24214295\",\"#995839\",\"#17310268\",\"#794631\",\"#743\",\"#24414496\",\"#1408255\",\"#1327852\",\"#1096443\",\"#000\",\"#21112483\",\"#583423\",\"#1197047\",\"#482819\",\"#23213691\",\"#714228\",\"#24414496\",\"#21612785\",\"#19811778\",\"#895235\",\"#352114\",\"#743\",\"#1277550\",\"#18310872\",\"#20412080\",\"#1275\",\"#1659765\",\"#965738\",\"#865134\",\"#684027\",\"#19611577\",\"#814832\",\"#24714597\",\"#1227248\",\"#20612181\",\"#432517\",\"#1227248\",\"#1357953\",\"#1327852\",\"#21412684\",\"#1589362\",\"#251510\",\"#1357953\",\"#18811174\",\"#18310872\",\"#1275\",\"#19611577\",\"#22413288\",\"#17310268\",\"#25214899\",\"#1197047\",\"#1559161\",\"#1275\",\"#1275\",\"#965738\",\"#281611\",\"#000\",\"#743\",\"#743\",\"#1357953\",\"#743\",\"#563322\",\"#1357953\",\"#301812\",\"#1639664\",\"#563322\",\"#1275\",\"#24214295\",\"#1247349\",\"#743\",\"#1247349\",\"#20128\",\"#24714597\",\"#1026040\",\"#1609463\",\"#24714597\",\"#1046141\",\"#633725\",\"#331913\",\"#743\",\"#1227248\",\"#17510369\",\"#22413288\",\"#402416\",\"#1275\",\"#1327852\",\"#22113087\",\"#352114\",\"#1227248\",\"#794631\",\"#1357953\",\"#17310268\",\"#24214295\",\"#714228\",\"#865134\",\"#22139\",\"#301812\",\"#613624\",\"#301812\",\"#21912986\",\"#432517\",\"#17010067\",\"#19311476\",\"#1026040\",\"#1026040\",\"#613624\",\"#844933\",\"#17510369\",\"#1428456\",\"#1227248\",\"#24414496\",\"#17510369\",\"#18610973\",\"#22913590\",\"#20111879\",\"#22413288\",\"#22913590\",\"#1596\",\"#23213691\",\"#331913\",\"#1275\",\"#1408255\",\"#794631\",\"#1176946\",\"#382215\",\"#563322\",\"#1596\",\"#743\",\"#331913\",\"#1026040\",\"#24414496\",\"#1096443\",\"#1408255\",\"#331913\",\"#23213691\",\"#915436\",\"#23213691\",\"#764530\",\"#19311476\",\"#1559161\",\"#1408255\",\"#19311476\",\"#1559161\",\"#1639664\",\"#1096443\",\"#513020\",\"#1275\",\"#23213691\",\"#1478758\",\"#1176946\",\"#533121\",\"#301812\",\"#1096443\",\"#865134\",\"#633725\",\"#23914194\",\"#764530\",\"#1609463\",\"#684027\",\"#513020\",\"#743\",\"#895235\",\"#1197047\",\"#432517\",\"#000\",\"#1197047\",\"#613624\",\"#1046141\",\"#1046141\",\"#24214295\",\"#995839\",\"#513020\",\"#21612785\",\"#452718\",\"#965738\",\"#1197047\",\"#24414496\",\"#714228\",\"#1307651\",\"#17010067\",\"#211\",\"#1126644\",\"#1046141\",\"#844933\",\"#743\",\"#1247349\",\"#251510\",\"#532\",\"#24414496\",\"#532\",\"#1539060\",\"#915436\",\"#23914194\",\"#1096443\",\"#18310872\",\"#764530\",\"#563322\",\"#24914798\",\"#23213691\",\"#1357953\",\"#1277550\",\"#19311476\",\"#1227248\",\"#000\",\"#18610973\",\"#24214295\",\"#1357953\",\"#18610973\",\"#1275\",\"#21612785\",\"#301812\",\"#865134\",\"#1539060\",\"#734329\",\"#613624\",\"#281611\",\"#352114\",\"#1458557\",\"#743\",\"#352114\",\"#1064\",\"#743\",\"#23213691\",\"#22913590\",\"#22413288\",\"#1026040\",\"#1508859\",\"#17107\",\"#1247349\",\"#1689966\",\"#764530\",\"#1659765\",\"#21612785\",\"#20111879\",\"#1559161\",\"#352114\",\"#17510369\",\"#1277550\",\"#1689966\",\"#19111275\",\"#432517\",\"#1275\",\"#743\",\"#22913590\",\"#945537\",\"#1026040\",\"#684027\",\"#532\",\"#22613389\",\"#17510369\",\"#19811778\",\"#301812\",\"#1026040\",\"#844933\",\"#1307651\",\"#24214295\",\"#1327852\",\"#18811174\",\"#432517\",\"#331913\",\"#995839\",\"#1357953\",\"#281611\",\"#17107\",\"#352114\",\"#20111879\",\"#1639664\",\"#1609463\",\"#281611\",\"#1357953\",\"#513020\",\"#331913\",\"#20111879\",\"#1307651\",\"#24414496\",\"#21612785\",\"#1197047\",\"#21612785\",\"#24714597\",\"#21112483\",\"#20111879\",\"#24714597\",\"#1357953\",\"#1064\",\"#18811174\",\"#945537\",\"#1026040\",\"#24414496\",\"#1589362\",\"#24414496\",\"#1408255\",\"#1478758\",\"#402416\",\"#814832\",\"#794631\",\"#1639664\",\"#1559161\",\"#532\",\"#24714597\",\"#20111879\",\"#743\",\"#432517\",\"#23213691\",\"#20912382\",\"#1197047\",\"#17107\",\"#1275\",\"#1659765\",\"#743\",\"#21612785\",\"#513020\",\"#402416\",\"#764530\",\"#17107\",\"#1327852\",\"#1197047\",\"#1357953\",\"#22139\",\"#563322\",\"#1508859\",\"#331913\",\"#22913590\",\"#684027\",\"#1275\",\"#764530\",\"#22413288\",\"#19311476\",\"#865134\",\"#301812\",\"#1247349\",\"#895235\",\"#23914194\",\"#352114\",\"#1478758\",\"#743\",\"#352114\",\"#22913590\",\"#1458557\",\"#17310268\",\"#1026040\",\"#23914194\",\"#352114\",\"#452718\",\"#1227248\",\"#1277550\",\"#1064\",\"#1689966\",\"#734329\",\"#1064\",\"#532\",\"#22913590\",\"#281611\",\"#1689966\",\"#794631\",\"#17310268\",\"#17310268\",\"#22139\",\"#1275\",\"#1197047\",\"#301812\",\"#1589362\",\"#1559161\",\"#613624\",\"#1559161\",\"#24914798\",\"#684027\",\"#17510369\",\"#1689966\",\"#1559161\",\"#1478758\",\"#1126644\",\"#633725\",\"#1197047\",\"#1327852\",\"#21912986\",\"#1539060\",\"#1357953\",\"#895235\",\"#1126644\",\"#1064\",\"#1046141\",\"#1327852\",\"#743\",\"#532\",\"#22139\",\"#965738\",\"#945537\",\"#21612785\",\"#301812\",\"#452718\",\"#1689966\",\"#17107\",\"#1408255\",\"#000\",\"#22139\",\"#1197047\",\"#000\",\"#301812\",\"#734329\",\"#814832\",\"#17310268\",\"#1275\",\"#17107\",\"#945537\",\"#794631\",\"#895235\",\"#1247349\",\"#000\",\"#613624\",\"#915436\",\"#18110671\",\"#24714597\",\"#1478758\",\"#17107\",\"#20912382\",\"#19311476\",\"#24414496\",\"#24214295\",\"#20912382\",\"#17107\",\"#513020\",\"#1126644\",\"#19611577\",\"#1126644\",\"#814832\",\"#18110671\",\"#1096443\",\"#22413288\",\"#1247349\",\"#1277550\",\"#613624\",\"#1275\",\"#22413288\",\"#945537\",\"#1275\",\"#24714597\",\"#1659765\",\"#24414496\",\"#21912986\",\"#19311476\",\"#17810570\",\"#18610973\",\"#251510\",\"#1064\",\"#663926\",\"#714228\",\"#1609463\",\"#20412080\",\"#21612785\",\"#432517\",\"#000\",\"#331913\",\"#1659765\",\"#684027\",\"#532\",\"#1327852\",\"#432517\",\"#1064\",\"#301812\",\"#1096443\",\"#1327852\",\"#1357953\",\"#19611577\",\"#684027\",\"#1609463\",\"#1277550\",\"#17510369\",\"#613624\",\"#000\",\"#945537\",\"#19611577\",\"#1064\",\"#1357953\",\"#1408255\",\"#1277550\",\"#743\",\"#24914798\",\"#1026040\",\"#22913590\",\"#1277550\",\"#945537\",\"#965738\",\"#000\",\"#633725\",\"#532\",\"#1659765\",\"#1327852\",\"#1689966\",\"#1064\",\"#1176946\",\"#19311476\",\"#1197047\",\"#533121\",\"#24714597\",\"#1357953\",\"#945537\",\"#814832\",\"#24214295\",\"#1064\",\"#1064\",\"#1539060\",\"#000\",\"#1146745\",\"#633725\",\"#25214899\",\"#301812\",\"#1247349\",\"#23914194\",\"#1357953\",\"#17510369\",\"#1064\",\"#1197047\",\"#563322\",\"#22139\",\"#301812\",\"#24714597\",\"#1357953\",\"#965738\",\"#22913590\",\"#633725\",\"#1357953\",\"#17310268\",\"#945537\",\"#22113087\",\"#22139\",\"#482819\",\"#1247349\",\"#865134\",\"#1327852\",\"#17310268\",\"#21912986\",\"#1327852\",\"#1639664\",\"#945537\",\"#1539060\",\"#814832\",\"#301812\",\"#23213691\",\"#1327852\",\"#301812\",\"#1176946\",\"#24914798\",\"#684027\",\"#21612785\",\"#19611577\",\"#945537\",\"#22113087\",\"#20912382\",\"#1197047\",\"#19611577\",\"#23213691\",\"#1478758\",\"#613624\",\"#331913\",\"#633725\",\"#1197047\",\"#22913590\",\"#1659765\",\"#1247349\",\"#684027\",\"#382215\",\"#17107\",\"#432517\",\"#22113087\",\"#21112483\",\"#20412080\",\"#1247349\",\"#17107\",\"#482819\",\"#965738\",\"#251510\",\"#22139\",\"#17510369\",\"#1277550\",\"#17310268\",\"#21112483\",\"#251510\",\"#1197047\",\"#000\",\"#1689966\",\"#17810570\",\"#000\",\"#1689966\",\"#1609463\",\"#865134\",\"#1357953\",\"#301812\",\"#25214899\",\"#1176946\",\"#22139\",\"#19311476\",\"#1277550\",\"#764530\",\"#24914798\",\"#995839\",\"#794631\",\"#20912382\",\"#251510\",\"#19311476\",\"#24914798\",\"#20412080\",\"#1176946\",\"#23914194\",\"#1277550\",\"#1539060\",\"#331913\",\"#17107\",\"#19311476\",\"#301812\",\"#1357953\",\"#20111879\",\"#1327852\",\"#1197047\",\"#1659765\",\"#1458557\",\"#1478758\",\"#19611577\",\"#1327852\",\"#684027\",\"#19311476\",\"#21912986\",\"#1227248\",\"#633725\",\"#352114\",\"#17310268\",\"#23213691\",\"#714228\",\"#1689966\",\"#19311476\",\"#22913590\",\"#1539060\",\"#1247349\",\"#1275\",\"#22139\",\"#965738\",\"#24914798\",\"#1176946\",\"#1689966\",\"#19311476\",\"#19611577\",\"#1064\",\"#532\",\"#1357953\",\"#613624\",\"#402416\",\"#1559161\",\"#1064\",\"#17010067\",\"#1327852\",\"#19111275\",\"#22139\",\"#21612785\",\"#1659765\",\"#19611577\",\"#20912382\",\"#23213691\",\"#1197047\",\"#17010067\",\"#23213691\",\"#1408255\",\"#24914798\",\"#1559161\",\"#17107\",\"#20912382\",\"#1247349\",\"#17510369\",\"#1659765\",\"#23914194\",\"#1478758\",\"#1277550\",\"#24214295\",\"#352114\",\"#814832\",\"#1639664\",\"#23713993\",\"#22913590\",\"#24414496\",\"#000\",\"#532\",\"#1659765\",\"#24714597\",\"#20111879\",\"#1357953\",\"#1064\",\"#301812\",\"#633725\",\"#000\",\"#794631\",\"#24714597\",\"#844933\",\"#432517\",\"#20412080\",\"#21912986\",\"#331913\",\"#764530\",\"#1197047\",\"#1227248\",\"#865134\",\"#1227248\",\"#352114\",\"#1609463\",\"#17310268\",\"#945537\",\"#1064\",\"#814832\",\"#1428456\",\"#20128\",\"#20912382\",\"#532\",\"#281611\",\"#1609463\",\"#1277550\",\"#23914194\",\"#000\",\"#17010067\",\"#22913590\",\"#17310268\",\"#1096443\",\"#24214295\",\"#301812\",\"#17107\",\"#24214295\",\"#1096443\",\"#25214899\",\"#1275\",\"#17107\",\"#1227248\",\"#1639664\",\"#17010067\",\"#301812\",\"#22413288\",\"#23914194\",\"#1327852\",\"#331913\",\"#945537\",\"#17107\",\"#22139\",\"#19111275\",\"#1275\",\"#20912382\",\"#1559161\",\"#1247349\",\"#1478758\",\"#22413288\",\"#19611577\",\"#24414496\",\"#18310872\",\"#814832\",\"#24914798\",\"#995839\",\"#1197047\",\"#24714597\",\"#22613389\",\"#20111879\",\"#633725\"],\"names\":[\"the\",\"of\",\"and\",\"in\",\"to\",\"was\",\"on\",\"as\",\"for\",\"that\",\"with\",\"by\",\"is\",\"his\",\"at\",\"he\",\"from\",\"it\",\"were\",\"an\",\"had\",\"which\",\"be\",\"this\",\"but\",\"are\",\"first\",\"not\",\"their\",\"after\",\"one\",\"her\",\"its\",\"also\",\"they\",\"two\",\"or\",\"have\",\"who\",\"new\",\"been\",\"has\",\"she\",\"when\",\"time\",\"during\",\"other\",\"would\",\"into\",\"all\",\"more\",\"while\",\"over\",\"game\",\"him\",\"later\",\"only\",\"most\",\"three\",\"up\",\"about\",\"out\",\"between\",\"than\",\"there\",\"some\",\"may\",\"film\",\"before\",\"year\",\"made\",\"no\",\"season\",\"such\",\"second\",\"where\",\"000\",\"world\",\"war\",\"years\",\"then\",\"both\",\"however\",\"used\",\"them\",\"through\",\"song\",\"these\",\"being\",\"series\",\"against\",\"many\",\"album\",\"team\",\"city\",\"became\",\"part\",\"can\",\"north\",\"four\",\"including\",\"number\",\"several\",\"united\",\"well\",\"state\",\"early\",\"under\",\"south\",\"music\",\"day\",\"so\",\"episode\",\"following\",\"states\",\"said\",\"known\",\"american\",\"although\",\"began\",\"could\",\"did\",\"work\",\"until\",\"because\",\"like\",\"released\",\"called\",\"10\",\"people\",\"high\",\"end\",\"british\",\"since\",\"around\",\"west\",\"each\",\"if\",\"national\",\"life\",\"long\",\"september\",\"us\",\"best\",\"found\",\"same\",\"along\",\"million\",\"another\",\"back\",\"any\",\"five\",\"show\",\"you\",\"took\",\"use\",\"august\",\"area\",\"century\",\"off\",\"october\",\"final\",\"received\",\"school\",\"group\",\"km\",\"government\",\"due\",\"john\",\"east\",\"line\",\"will\",\"what\",\"march\",\"june\",\"system\",\"july\",\"home\",\"single\",\"games\",\"third\",\"general\",\"november\",\"large\",\"much\",\"major\",\"april\",\"set\",\"family\",\"down\",\"left\",\"york\",\"house\",\"based\",\"december\",\"place\",\"road\",\"just\",\"played\",\"company\",\"we\",\"12\",\"history\",\"name\",\"army\",\"band\",\"character\",\"included\",\"wrote\",\"six\",\"now\",\"king\",\"january\",\"won\",\"20\",\"near\",\"times\",\"main\",\"named\",\"led\",\"within\",\"last\",\"death\",\"own\",\"air\",\"those\",\"15\",\"late\",\"according\",\"described\",\"river\",\"de\",\"release\",\"men\",\"next\",\"make\",\"video\",\"way\",\"record\",\"battle\",\"league\",\"route\",\"still\",\"species\",\"man\",\"production\",\"club\",\"even\",\"force\",\"30\",\"great\",\"ship\",\"original\",\"very\",\"public\",\"top\",\"february\",\"old\",\"though\",\"again\",\"storm\",\"small\",\"built\",\"play\",\"days\",\"held\",\"11\",\"service\",\"among\",\"book\",\"2010\",\"members\",\"white\",\"university\",\"story\",\"role\",\"division\",\"do\",\"french\",\"having\",\"further\",\"german\",\"side\",\"power\",\"player\",\"match\",\"water\",\"point\",\"continued\",\"often\",\"2008\",\"career\",\"came\",\"without\",\"order\",\"former\",\"100\",\"2009\",\"2011\",\"black\",\"considered\",\"local\",\"18\",\"14\",\"park\",\"16\",\"town\",\"island\",\"england\",\"despite\",\"county\",\"2007\",\"development\",\"support\",\"13\",\"party\",\"songs\",\"become\",\"written\",\"different\",\"take\",\"few\",\"half\",\"version\",\"25\",\"military\",\"form\",\"moved\",\"period\",\"2012\",\"ii\",\"president\",\"given\",\"english\",\"forces\",\"london\",\"little\",\"building\",\"tropical\",\"church\",\"court\",\"international\",\"lost\",\"country\",\"my\",\"re\",\"tour\",\"lead\",\"published\",\"produced\",\"returned\",\"street\",\"using\",\"gave\",\"royal\",\"short\",\"class\",\"stated\",\"track\",\"similar\",\"went\",\"performance\",\"never\",\"position\",\"live\",\"2006\",\"aircraft\",\"attack\",\"children\",\"highway\",\"land\",\"once\",\"17\",\"television\",\"recorded\",\"good\",\"how\",\"fire\",\"star\",\"upon\",\"week\",\"control\",\"western\",\"run\",\"per\",\"ships\",\"making\",\"total\",\"include\",\"love\",\"throughout\",\"2013\",\"head\",\"right\",\"women\",\"himself\",\"australia\",\"me\",\"age\",\"light\",\"father\",\"central\",\"less\",\"characters\",\"away\",\"24\",\"months\",\"writing\",\"instead\",\"law\",\"young\",\"died\",\"seven\",\"ten\",\"design\",\"players\",\"across\",\"developed\",\"return\",\"red\",\"title\",\"result\",\"hurricane\",\"ft\",\"rock\",\"remained\",\"previous\",\"eight\",\"station\",\"21\",\"political\",\"sea\",\"james\",\"low\",\"william\",\"reported\",\"night\",\"son\",\"too\",\"various\",\"southern\",\"areas\",\"center\",\"eventually\",\"st\",\"office\",\"race\",\"japanese\",\"act\",\"noted\",\"construction\",\"field\",\"felt\",\"2005\",\"created\",\"america\",\"college\",\"announced\",\"miles\",\"reached\",\"seen\",\"sent\",\"should\",\"19\",\"followed\",\"able\",\"22\",\"together\",\"style\",\"served\",\"performed\",\"award\",\"full\",\"campaign\",\"win\",\"northern\",\"member\",\"established\",\"common\",\"50\",\"taken\",\"range\",\"level\",\"points\",\"killed\",\"originally\",\"2014\",\"23\",\"works\",\"success\",\"born\",\"action\",\"george\",\"chart\",\"body\",\"playing\",\"australian\",\"appeared\",\"bridge\",\"mm\",\"project\",\"every\",\"started\",\"others\",\"features\",\"football\",\"front\",\"thought\",\"special\",\"caused\",\"present\",\"addition\",\"rather\",\"added\",\"located\",\"behind\",\"stage\",\"modern\",\"feet\",\"heavy\",\"formed\",\"post\",\"completed\",\"get\",\"fourth\",\"popular\",\"go\",\"site\",\"decided\",\"saw\",\"critics\",\"sold\",\"strong\",\"championship\",\"close\",\"guns\",\"almost\",\"population\",\"command\",\"fleet\",\"leading\",\"40\",\"david\",\"see\",\"important\",\"28\",\"initially\",\"soon\",\"damage\",\"art\",\"non\",\"2004\",\"director\",\"27\",\"opened\",\"towards\",\"kingdom\",\"eastern\",\"free\",\"open\",\"michael\",\"ground\",\"case\",\"region\",\"awards\",\"event\",\"recording\",\"scene\",\"2015\",\"coast\",\"worked\",\"working\",\"hall\",\"france\",\"union\",\"weeks\",\"mother\",\"put\",\"ever\",\"26\",\"provided\",\"sound\",\"does\",\"least\",\"featured\",\"wife\",\"brought\",\"help\",\"navy\",\"training\",\"allowed\",\"victory\",\"mi\",\"wanted\",\"henry\",\"studio\",\"placed\",\"scored\",\"troops\",\"generally\",\"either\",\"records\",\"2003\",\"magazine\",\"europe\",\"cup\",\"average\",\"joined\",\"500\",\"washington\",\"events\",\"example\",\"runs\",\"200\",\"far\",\"mid\",\"hit\",\"co\",\"rest\",\"human\",\"believed\",\"base\",\"hours\",\"summer\",\"designed\",\"nine\",\"opening\",\"29\",\"robert\",\"list\",\"brown\",\"media\",\"replaced\",\"japan\",\"start\",\"finished\",\"involved\",\"crew\",\"council\",\"official\",\"al\",\"police\",\"european\",\"mph\",\"squadron\",\"particularly\",\"2000\",\"successful\",\"radio\",\"operation\",\"minutes\",\"society\",\"association\",\"met\",\"month\",\"largest\",\"come\",\"big\",\"test\",\"possible\",\"taking\",\"significant\",\"process\",\"change\",\"available\",\"outside\",\"earlier\",\"relationship\",\"beginning\",\"units\",\"highest\",\"saying\",\"passed\",\"social\",\"research\",\"ended\",\"2001\",\"turned\",\"review\",\"2002\",\"move\",\"captain\",\"increased\",\"real\",\"shot\",\"san\",\"praised\",\"above\",\"forced\",\"must\",\"winds\",\"better\",\"films\",\"signed\",\"previously\",\"community\",\"appearance\",\"chief\",\"cast\",\"charles\",\"middle\",\"thus\",\"going\",\"canada\",\"enough\",\"additional\",\"stone\",\"future\",\"elements\",\"lower\",\"space\",\"section\",\"spent\",\"board\",\"positive\",\"interest\",\"ordered\",\"hill\",\"gun\",\"program\",\"31\",\"california\",\"directed\",\"musical\",\"business\",\"reviews\",\"cross\",\"rights\",\"gold\",\"thomas\",\"staff\",\"parts\",\"goal\",\"asked\",\"female\",\"lines\",\"don\",\"hand\",\"give\",\"lake\",\"critical\",\"infantry\",\"plan\",\"failed\",\"attempt\",\"told\",\"committee\",\"prior\",\"round\",\"money\",\"germany\",\"groups\",\"brother\",\"room\",\"type\",\"required\",\"paul\",\"district\",\"evidence\",\"india\",\"find\",\"castle\",\"green\",\"cover\",\"grand\",\"square\",\"sometimes\",\"news\",\"election\",\"study\",\"whose\",\"term\",\"students\",\"overall\",\"especially\",\"our\",\"itself\",\"response\",\"reception\",\"claimed\",\"battalion\",\"uk\",\"quickly\",\"entire\",\"indian\",\"person\",\"port\",\"idea\",\"introduced\",\"personal\",\"press\",\"governor\",\"effects\",\"bill\",\"background\",\"turn\",\"past\",\"arrived\",\"shows\",\"speed\",\"smith\",\"voice\",\"commander\",\"anti\",\"plot\",\"ny\",\"complete\",\"already\",\"minister\",\"fifth\",\"novel\",\"movement\",\"limited\",\"whom\",\"blue\",\"surface\",\"decision\",\"structure\",\"flight\",\"usually\",\"debut\",\"pressure\",\"peter\",\"department\",\"loss\",\"la\",\"civil\",\"score\",\"larger\",\"education\",\"village\",\"britain\",\"food\",\"queen\",\"issue\",\"becoming\",\"science\",\"islands\",\"bay\",\"teams\",\"operations\",\"changes\",\"earth\",\"car\",\"virginia\",\"episodes\",\"woman\",\"daughter\",\"services\",\"suggested\",\"stars\",\"commercial\",\"cut\",\"industry\",\"centre\",\"living\",\"remaining\",\"mark\",\"appointed\",\"might\",\"nearly\",\"view\",\"latter\",\"scenes\",\"leaving\",\"god\",\"naval\",\"length\",\"carried\",\"today\",\"finally\",\"depression\",\"defeated\",\"course\",\"material\",\"estimated\",\"self\",\"1999\",\"date\",\"dark\",\"los\",\"child\",\"winning\",\"running\",\"influence\",\"agreed\",\"richard\",\"fort\",\"entered\",\"empire\",\"percent\",\"planned\",\"hot\",\"current\",\"destroyed\",\"report\",\"proposed\",\"leader\",\"experience\",\"lack\",\"shortly\",\"writer\",\"pop\",\"immediately\",\"officers\",\"chicago\",\"approximately\",\"regular\",\"fact\",\"language\",\"size\",\"manager\",\"married\",\"face\",\"network\",\"contract\",\"supported\",\"brigade\",\"compared\",\"whether\",\"tracks\",\"wide\",\"trade\",\"edward\",\"officer\",\"create\",\"natural\",\"buildings\",\"helped\",\"countries\",\"ball\",\"federal\",\"soldiers\",\"provide\",\"railway\",\"subsequently\",\"books\",\"your\",\"appear\",\"upper\",\"producer\",\"chinese\",\"museum\",\"spanish\",\"changed\",\"higher\",\"mostly\",\"fans\",\"intended\",\"corps\",\"awarded\",\"lyrics\",\"effect\",\"lord\",\"done\",\"longer\",\"health\",\"friend\",\"private\",\"dance\",\"guitar\",\"remains\",\"something\",\"cost\",\"pacific\",\"professional\",\"plans\",\"really\",\"themselves\",\"1998\",\"minor\",\"soviet\",\"related\",\"singles\",\"atlantic\",\"ran\",\"friends\",\"initial\",\"feature\",\"mixed\",\"key\",\"information\",\"captured\",\"1997\",\"increase\",\"copies\",\"christian\",\"yet\",\"got\",\"nature\",\"difficult\",\"numerous\",\"regiment\",\"florida\",\"conference\",\"jackson\",\"fight\",\"billboard\",\"likely\",\"double\"],\"x1\":{\"__ndarray__\":\"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\",\"dtype\":\"float32\",\"shape\":[1000]},\"x2\":{\"__ndarray__\":\"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\",\"dtype\":\"float32\",\"shape\":[1000]}},\"selected\":{\"id\":\"1463\",\"type\":\"Selection\"},\"selection_policy\":{\"id\":\"1464\",\"type\":\"UnionRenderers\"}},\"id\":\"1422\",\"type\":\"ColumnDataSource\"},{\"attributes\":{},\"id\":\"1415\",\"type\":\"ResetTool\"},{\"attributes\":{},\"id\":\"1416\",\"type\":\"SaveTool\"},{\"attributes\":{\"fill_color\":{\"field\":\"colors\"},\"line_color\":{\"value\":\"#1f77b4\"},\"size\":{\"units\":\"screen\",\"value\":8},\"x\":{\"field\":\"x1\"},\"y\":{\"field\":\"x2\"}},\"id\":\"1424\",\"type\":\"Scatter\"},{\"attributes\":{\"text\":\"word2vec T-SNE for most common words\"},\"id\":\"1393\",\"type\":\"Title\"},{\"attributes\":{\"active_drag\":\"auto\",\"active_inspect\":\"auto\",\"active_multi\":null,\"active_scroll\":\"auto\",\"active_tap\":\"auto\",\"tools\":[{\"id\":\"1413\",\"type\":\"PanTool\"},{\"id\":\"1414\",\"type\":\"WheelZoomTool\"},{\"id\":\"1415\",\"type\":\"ResetTool\"},{\"id\":\"1416\",\"type\":\"SaveTool\"}]},\"id\":\"1417\",\"type\":\"Toolbar\"},{\"attributes\":{\"fill_alpha\":{\"value\":0.1},\"fill_color\":{\"value\":\"#1f77b4\"},\"line_alpha\":{\"value\":0.1},\"line_color\":{\"value\":\"#1f77b4\"},\"size\":{\"units\":\"screen\",\"value\":8},\"x\":{\"field\":\"x1\"},\"y\":{\"field\":\"x2\"}},\"id\":\"1425\",\"type\":\"Scatter\"},{\"attributes\":{\"callback\":null},\"id\":\"1395\",\"type\":\"DataRange1d\"},{\"attributes\":{\"callback\":null},\"id\":\"1397\",\"type\":\"DataRange1d\"},{\"attributes\":{\"data_source\":{\"id\":\"1422\",\"type\":\"ColumnDataSource\"},\"glyph\":{\"id\":\"1424\",\"type\":\"Scatter\"},\"hover_glyph\":null,\"muted_glyph\":null,\"nonselection_glyph\":{\"id\":\"1425\",\"type\":\"Scatter\"},\"selection_glyph\":null,\"view\":{\"id\":\"1427\",\"type\":\"CDSView\"}},\"id\":\"1426\",\"type\":\"GlyphRenderer\"},{\"attributes\":{},\"id\":\"1399\",\"type\":\"LinearScale\"},{\"attributes\":{\"source\":{\"id\":\"1422\",\"type\":\"ColumnDataSource\"}},\"id\":\"1427\",\"type\":\"CDSView\"},{\"attributes\":{},\"id\":\"1401\",\"type\":\"LinearScale\"},{\"attributes\":{\"formatter\":{\"id\":\"1461\",\"type\":\"BasicTickFormatter\"},\"ticker\":{\"id\":\"1404\",\"type\":\"BasicTicker\"}},\"id\":\"1403\",\"type\":\"LinearAxis\"},{\"attributes\":{},\"id\":\"1404\",\"type\":\"BasicTicker\"},{\"attributes\":{},\"id\":\"1459\",\"type\":\"BasicTickFormatter\"},{\"attributes\":{\"ticker\":{\"id\":\"1404\",\"type\":\"BasicTicker\"}},\"id\":\"1407\",\"type\":\"Grid\"},{\"attributes\":{},\"id\":\"1461\",\"type\":\"BasicTickFormatter\"},{\"attributes\":{},\"id\":\"1463\",\"type\":\"Selection\"},{\"attributes\":{},\"id\":\"1464\",\"type\":\"UnionRenderers\"},{\"attributes\":{\"formatter\":{\"id\":\"1459\",\"type\":\"BasicTickFormatter\"},\"ticker\":{\"id\":\"1409\",\"type\":\"BasicTicker\"}},\"id\":\"1408\",\"type\":\"LinearAxis\"}],\"root_ids\":[\"1392\"]},\"title\":\"Bokeh Application\",\"version\":\"1.3.4\"}};\n",
       "  var render_items = [{\"docid\":\"74f93c84-0a85-46a1-a057-ffd57f732fb7\",\"roots\":{\"1392\":\"407f6534-38ad-4de7-bab5-38fd549a7349\"}}];\n",
       "  root.Bokeh.embed.embed_items_notebook(docs_json, render_items);\n",
       "\n",
       "  }\n",
       "  if (root.Bokeh !== undefined) {\n",
       "    embed_document(root);\n",
       "  } else {\n",
       "    var attempts = 0;\n",
       "    var timer = setInterval(function(root) {\n",
       "      if (root.Bokeh !== undefined) {\n",
       "        embed_document(root);\n",
       "        clearInterval(timer);\n",
       "      }\n",
       "      attempts++;\n",
       "      if (attempts > 100) {\n",
       "        console.log(\"Bokeh: ERROR: Unable to run BokehJS code because BokehJS library is missing\");\n",
       "        clearInterval(timer);\n",
       "      }\n",
       "    }, 10, root)\n",
       "  }\n",
       "})(window);"
      ],
      "application/vnd.bokehjs_exec.v0+json": ""
     },
     "metadata": {
      "application/vnd.bokehjs_exec.v0+json": {
       "id": "1392"
      }
     },
     "output_type": "display_data"
    }
   ],
   "source": [
    "p = figure(tools=\"pan,wheel_zoom,reset,save\",\n",
    "           toolbar_location=\"above\",\n",
    "           title=\"word2vec T-SNE for most common words\")\n",
    "\n",
    "clustering_source = ColumnDataSource(data=dict(x1=words_top_wiki_tsne[:, 0],\n",
    "                                               x2=words_top_wiki_tsne[:, 1],\n",
    "                                               names=words_top_wiki,\n",
    "                                               colors=colors))\n",
    "\n",
    "p.scatter(x=\"x1\", y=\"x2\", size=8, source=clustering_source, fill_color='colors')\n",
    "\n",
    "labels = LabelSet(x=\"x1\", y=\"x2\", text=\"names\", y_offset=6,\n",
    "                  text_font_size=\"8pt\", text_color=\"#555555\",\n",
    "                  source=clustering_source, text_align='center')\n",
    "p.add_layout(labels)\n",
    "\n",
    "show(p)"
   ]
  },
  {
   "cell_type": "code",
   "execution_count": null,
   "metadata": {},
   "outputs": [],
   "source": []
  }
 ],
 "metadata": {
  "anaconda-cloud": {},
  "kernelspec": {
   "display_name": "Python 3",
   "language": "python",
   "name": "python3"
  },
  "language_info": {
   "codemirror_mode": {
    "name": "ipython",
    "version": 3
   },
   "file_extension": ".py",
   "mimetype": "text/x-python",
   "name": "python",
   "nbconvert_exporter": "python",
   "pygments_lexer": "ipython3",
   "version": "3.7.3"
  },
  "pycharm": {
   "stem_cell": {
    "cell_type": "raw",
    "metadata": {
     "collapsed": false
    },
    "source": []
   }
  }
 },
 "nbformat": 4,
 "nbformat_minor": 1
}
