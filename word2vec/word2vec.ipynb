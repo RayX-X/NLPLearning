{
 "cells": [
  {
   "cell_type": "markdown",
   "metadata": {},
   "source": [
    "## Practical 1: word2vec\n",
    "<p>Oxford CS - Deep NLP 2017<br>\n",
    "https://www.cs.ox.ac.uk/teaching/courses/2016-2017/dl/</p>\n",
    "<p>[Yannis Assael, Brendan Shillingford, Chris Dyer]</p>"
   ]
  },
  {
   "cell_type": "markdown",
   "metadata": {},
   "source": [
    "* IPython notebooks: <https://ipython.org/ipython-doc/3/notebook/notebook.html#introduction>\n",
    "* Numpy numerical array library: <https://docs.scipy.org/doc/>\n",
    "* Gensim's word2vec: <https://radimrehurek.com/gensim/models/word2vec.html>\n",
    "* Bokeh interactive plots: <http://bokeh.pydata.org/en/latest/> (we provide plotting code here, but click the thumbnails for more examples to copy-paste)\n",
    "* scikit-learn ML library (aka `sklearn`): <http://scikit-learn.org/stable/documentation.html>\n",
    "* nltk NLP toolkit: <http://www.nltk.org/>\n",
    "* tutorial for processing xml in python using `lxml`: <http://lxml.de/tutorial.html> (we did this for you below, but in case you need it in the future)"
   ]
  },
  {
   "cell_type": "code",
   "execution_count": 2,
   "metadata": {},
   "outputs": [],
   "source": [
    "import numpy as np\n",
    "import os\n",
    "from random import shuffle\n",
    "import re"
   ]
  },
  {
   "cell_type": "code",
   "execution_count": 3,
   "metadata": {},
   "outputs": [
    {
     "data": {
      "text/html": [
       "\n",
       "    <div class=\"bk-root\">\n",
       "        <a href=\"https://bokeh.pydata.org\" target=\"_blank\" class=\"bk-logo bk-logo-small bk-logo-notebook\"></a>\n",
       "        <span id=\"1001\">Loading BokehJS ...</span>\n",
       "    </div>"
      ]
     },
     "metadata": {},
     "output_type": "display_data"
    },
    {
     "data": {
      "application/javascript": [
       "\n",
       "(function(root) {\n",
       "  function now() {\n",
       "    return new Date();\n",
       "  }\n",
       "\n",
       "  var force = true;\n",
       "\n",
       "  if (typeof root._bokeh_onload_callbacks === \"undefined\" || force === true) {\n",
       "    root._bokeh_onload_callbacks = [];\n",
       "    root._bokeh_is_loading = undefined;\n",
       "  }\n",
       "\n",
       "  var JS_MIME_TYPE = 'application/javascript';\n",
       "  var HTML_MIME_TYPE = 'text/html';\n",
       "  var EXEC_MIME_TYPE = 'application/vnd.bokehjs_exec.v0+json';\n",
       "  var CLASS_NAME = 'output_bokeh rendered_html';\n",
       "\n",
       "  /**\n",
       "   * Render data to the DOM node\n",
       "   */\n",
       "  function render(props, node) {\n",
       "    var script = document.createElement(\"script\");\n",
       "    node.appendChild(script);\n",
       "  }\n",
       "\n",
       "  /**\n",
       "   * Handle when an output is cleared or removed\n",
       "   */\n",
       "  function handleClearOutput(event, handle) {\n",
       "    var cell = handle.cell;\n",
       "\n",
       "    var id = cell.output_area._bokeh_element_id;\n",
       "    var server_id = cell.output_area._bokeh_server_id;\n",
       "    // Clean up Bokeh references\n",
       "    if (id != null && id in Bokeh.index) {\n",
       "      Bokeh.index[id].model.document.clear();\n",
       "      delete Bokeh.index[id];\n",
       "    }\n",
       "\n",
       "    if (server_id !== undefined) {\n",
       "      // Clean up Bokeh references\n",
       "      var cmd = \"from bokeh.io.state import curstate; print(curstate().uuid_to_server['\" + server_id + \"'].get_sessions()[0].document.roots[0]._id)\";\n",
       "      cell.notebook.kernel.execute(cmd, {\n",
       "        iopub: {\n",
       "          output: function(msg) {\n",
       "            var id = msg.content.text.trim();\n",
       "            if (id in Bokeh.index) {\n",
       "              Bokeh.index[id].model.document.clear();\n",
       "              delete Bokeh.index[id];\n",
       "            }\n",
       "          }\n",
       "        }\n",
       "      });\n",
       "      // Destroy server and session\n",
       "      var cmd = \"import bokeh.io.notebook as ion; ion.destroy_server('\" + server_id + \"')\";\n",
       "      cell.notebook.kernel.execute(cmd);\n",
       "    }\n",
       "  }\n",
       "\n",
       "  /**\n",
       "   * Handle when a new output is added\n",
       "   */\n",
       "  function handleAddOutput(event, handle) {\n",
       "    var output_area = handle.output_area;\n",
       "    var output = handle.output;\n",
       "\n",
       "    // limit handleAddOutput to display_data with EXEC_MIME_TYPE content only\n",
       "    if ((output.output_type != \"display_data\") || (!output.data.hasOwnProperty(EXEC_MIME_TYPE))) {\n",
       "      return\n",
       "    }\n",
       "\n",
       "    var toinsert = output_area.element.find(\".\" + CLASS_NAME.split(' ')[0]);\n",
       "\n",
       "    if (output.metadata[EXEC_MIME_TYPE][\"id\"] !== undefined) {\n",
       "      toinsert[toinsert.length - 1].firstChild.textContent = output.data[JS_MIME_TYPE];\n",
       "      // store reference to embed id on output_area\n",
       "      output_area._bokeh_element_id = output.metadata[EXEC_MIME_TYPE][\"id\"];\n",
       "    }\n",
       "    if (output.metadata[EXEC_MIME_TYPE][\"server_id\"] !== undefined) {\n",
       "      var bk_div = document.createElement(\"div\");\n",
       "      bk_div.innerHTML = output.data[HTML_MIME_TYPE];\n",
       "      var script_attrs = bk_div.children[0].attributes;\n",
       "      for (var i = 0; i < script_attrs.length; i++) {\n",
       "        toinsert[toinsert.length - 1].firstChild.setAttribute(script_attrs[i].name, script_attrs[i].value);\n",
       "      }\n",
       "      // store reference to server id on output_area\n",
       "      output_area._bokeh_server_id = output.metadata[EXEC_MIME_TYPE][\"server_id\"];\n",
       "    }\n",
       "  }\n",
       "\n",
       "  function register_renderer(events, OutputArea) {\n",
       "\n",
       "    function append_mime(data, metadata, element) {\n",
       "      // create a DOM node to render to\n",
       "      var toinsert = this.create_output_subarea(\n",
       "        metadata,\n",
       "        CLASS_NAME,\n",
       "        EXEC_MIME_TYPE\n",
       "      );\n",
       "      this.keyboard_manager.register_events(toinsert);\n",
       "      // Render to node\n",
       "      var props = {data: data, metadata: metadata[EXEC_MIME_TYPE]};\n",
       "      render(props, toinsert[toinsert.length - 1]);\n",
       "      element.append(toinsert);\n",
       "      return toinsert\n",
       "    }\n",
       "\n",
       "    /* Handle when an output is cleared or removed */\n",
       "    events.on('clear_output.CodeCell', handleClearOutput);\n",
       "    events.on('delete.Cell', handleClearOutput);\n",
       "\n",
       "    /* Handle when a new output is added */\n",
       "    events.on('output_added.OutputArea', handleAddOutput);\n",
       "\n",
       "    /**\n",
       "     * Register the mime type and append_mime function with output_area\n",
       "     */\n",
       "    OutputArea.prototype.register_mime_type(EXEC_MIME_TYPE, append_mime, {\n",
       "      /* Is output safe? */\n",
       "      safe: true,\n",
       "      /* Index of renderer in `output_area.display_order` */\n",
       "      index: 0\n",
       "    });\n",
       "  }\n",
       "\n",
       "  // register the mime type if in Jupyter Notebook environment and previously unregistered\n",
       "  if (root.Jupyter !== undefined) {\n",
       "    var events = require('base/js/events');\n",
       "    var OutputArea = require('notebook/js/outputarea').OutputArea;\n",
       "\n",
       "    if (OutputArea.prototype.mime_types().indexOf(EXEC_MIME_TYPE) == -1) {\n",
       "      register_renderer(events, OutputArea);\n",
       "    }\n",
       "  }\n",
       "\n",
       "  \n",
       "  if (typeof (root._bokeh_timeout) === \"undefined\" || force === true) {\n",
       "    root._bokeh_timeout = Date.now() + 5000;\n",
       "    root._bokeh_failed_load = false;\n",
       "  }\n",
       "\n",
       "  var NB_LOAD_WARNING = {'data': {'text/html':\n",
       "     \"<div style='background-color: #fdd'>\\n\"+\n",
       "     \"<p>\\n\"+\n",
       "     \"BokehJS does not appear to have successfully loaded. If loading BokehJS from CDN, this \\n\"+\n",
       "     \"may be due to a slow or bad network connection. Possible fixes:\\n\"+\n",
       "     \"</p>\\n\"+\n",
       "     \"<ul>\\n\"+\n",
       "     \"<li>re-rerun `output_notebook()` to attempt to load from CDN again, or</li>\\n\"+\n",
       "     \"<li>use INLINE resources instead, as so:</li>\\n\"+\n",
       "     \"</ul>\\n\"+\n",
       "     \"<code>\\n\"+\n",
       "     \"from bokeh.resources import INLINE\\n\"+\n",
       "     \"output_notebook(resources=INLINE)\\n\"+\n",
       "     \"</code>\\n\"+\n",
       "     \"</div>\"}};\n",
       "\n",
       "  function display_loaded() {\n",
       "    var el = document.getElementById(\"1001\");\n",
       "    if (el != null) {\n",
       "      el.textContent = \"BokehJS is loading...\";\n",
       "    }\n",
       "    if (root.Bokeh !== undefined) {\n",
       "      if (el != null) {\n",
       "        el.textContent = \"BokehJS \" + root.Bokeh.version + \" successfully loaded.\";\n",
       "      }\n",
       "    } else if (Date.now() < root._bokeh_timeout) {\n",
       "      setTimeout(display_loaded, 100)\n",
       "    }\n",
       "  }\n",
       "\n",
       "\n",
       "  function run_callbacks() {\n",
       "    try {\n",
       "      root._bokeh_onload_callbacks.forEach(function(callback) {\n",
       "        if (callback != null)\n",
       "          callback();\n",
       "      });\n",
       "    } finally {\n",
       "      delete root._bokeh_onload_callbacks\n",
       "    }\n",
       "    console.debug(\"Bokeh: all callbacks have finished\");\n",
       "  }\n",
       "\n",
       "  function load_libs(css_urls, js_urls, callback) {\n",
       "    if (css_urls == null) css_urls = [];\n",
       "    if (js_urls == null) js_urls = [];\n",
       "\n",
       "    root._bokeh_onload_callbacks.push(callback);\n",
       "    if (root._bokeh_is_loading > 0) {\n",
       "      console.debug(\"Bokeh: BokehJS is being loaded, scheduling callback at\", now());\n",
       "      return null;\n",
       "    }\n",
       "    if (js_urls == null || js_urls.length === 0) {\n",
       "      run_callbacks();\n",
       "      return null;\n",
       "    }\n",
       "    console.debug(\"Bokeh: BokehJS not loaded, scheduling load and callback at\", now());\n",
       "    root._bokeh_is_loading = css_urls.length + js_urls.length;\n",
       "\n",
       "    function on_load() {\n",
       "      root._bokeh_is_loading--;\n",
       "      if (root._bokeh_is_loading === 0) {\n",
       "        console.debug(\"Bokeh: all BokehJS libraries/stylesheets loaded\");\n",
       "        run_callbacks()\n",
       "      }\n",
       "    }\n",
       "\n",
       "    function on_error() {\n",
       "      console.error(\"failed to load \" + url);\n",
       "    }\n",
       "\n",
       "    for (var i = 0; i < css_urls.length; i++) {\n",
       "      var url = css_urls[i];\n",
       "      const element = document.createElement(\"link\");\n",
       "      element.onload = on_load;\n",
       "      element.onerror = on_error;\n",
       "      element.rel = \"stylesheet\";\n",
       "      element.type = \"text/css\";\n",
       "      element.href = url;\n",
       "      console.debug(\"Bokeh: injecting link tag for BokehJS stylesheet: \", url);\n",
       "      document.body.appendChild(element);\n",
       "    }\n",
       "\n",
       "    for (var i = 0; i < js_urls.length; i++) {\n",
       "      var url = js_urls[i];\n",
       "      var element = document.createElement('script');\n",
       "      element.onload = on_load;\n",
       "      element.onerror = on_error;\n",
       "      element.async = false;\n",
       "      element.src = url;\n",
       "      console.debug(\"Bokeh: injecting script tag for BokehJS library: \", url);\n",
       "      document.head.appendChild(element);\n",
       "    }\n",
       "  };var element = document.getElementById(\"1001\");\n",
       "  if (element == null) {\n",
       "    console.error(\"Bokeh: ERROR: autoload.js configured with elementid '1001' but no matching script tag was found. \")\n",
       "    return false;\n",
       "  }\n",
       "\n",
       "  function inject_raw_css(css) {\n",
       "    const element = document.createElement(\"style\");\n",
       "    element.appendChild(document.createTextNode(css));\n",
       "    document.body.appendChild(element);\n",
       "  }\n",
       "\n",
       "  var js_urls = [\"https://cdn.pydata.org/bokeh/release/bokeh-1.3.4.min.js\", \"https://cdn.pydata.org/bokeh/release/bokeh-widgets-1.3.4.min.js\", \"https://cdn.pydata.org/bokeh/release/bokeh-tables-1.3.4.min.js\", \"https://cdn.pydata.org/bokeh/release/bokeh-gl-1.3.4.min.js\"];\n",
       "  var css_urls = [];\n",
       "\n",
       "  var inline_js = [\n",
       "    function(Bokeh) {\n",
       "      Bokeh.set_log_level(\"info\");\n",
       "    },\n",
       "    \n",
       "    function(Bokeh) {\n",
       "      \n",
       "    },\n",
       "    function(Bokeh) {} // ensure no trailing comma for IE\n",
       "  ];\n",
       "\n",
       "  function run_inline_js() {\n",
       "    \n",
       "    if ((root.Bokeh !== undefined) || (force === true)) {\n",
       "      for (var i = 0; i < inline_js.length; i++) {\n",
       "        inline_js[i].call(root, root.Bokeh);\n",
       "      }if (force === true) {\n",
       "        display_loaded();\n",
       "      }} else if (Date.now() < root._bokeh_timeout) {\n",
       "      setTimeout(run_inline_js, 100);\n",
       "    } else if (!root._bokeh_failed_load) {\n",
       "      console.log(\"Bokeh: BokehJS failed to load within specified timeout.\");\n",
       "      root._bokeh_failed_load = true;\n",
       "    } else if (force !== true) {\n",
       "      var cell = $(document.getElementById(\"1001\")).parents('.cell').data().cell;\n",
       "      cell.output_area.append_execute_result(NB_LOAD_WARNING)\n",
       "    }\n",
       "\n",
       "  }\n",
       "\n",
       "  if (root._bokeh_is_loading === 0) {\n",
       "    console.debug(\"Bokeh: BokehJS loaded, going straight to plotting\");\n",
       "    run_inline_js();\n",
       "  } else {\n",
       "    load_libs(css_urls, js_urls, function() {\n",
       "      console.debug(\"Bokeh: BokehJS plotting callback run at\", now());\n",
       "      run_inline_js();\n",
       "    });\n",
       "  }\n",
       "}(window));"
      ],
      "application/vnd.bokehjs_load.v0+json": "\n(function(root) {\n  function now() {\n    return new Date();\n  }\n\n  var force = true;\n\n  if (typeof root._bokeh_onload_callbacks === \"undefined\" || force === true) {\n    root._bokeh_onload_callbacks = [];\n    root._bokeh_is_loading = undefined;\n  }\n\n  \n\n  \n  if (typeof (root._bokeh_timeout) === \"undefined\" || force === true) {\n    root._bokeh_timeout = Date.now() + 5000;\n    root._bokeh_failed_load = false;\n  }\n\n  var NB_LOAD_WARNING = {'data': {'text/html':\n     \"<div style='background-color: #fdd'>\\n\"+\n     \"<p>\\n\"+\n     \"BokehJS does not appear to have successfully loaded. If loading BokehJS from CDN, this \\n\"+\n     \"may be due to a slow or bad network connection. Possible fixes:\\n\"+\n     \"</p>\\n\"+\n     \"<ul>\\n\"+\n     \"<li>re-rerun `output_notebook()` to attempt to load from CDN again, or</li>\\n\"+\n     \"<li>use INLINE resources instead, as so:</li>\\n\"+\n     \"</ul>\\n\"+\n     \"<code>\\n\"+\n     \"from bokeh.resources import INLINE\\n\"+\n     \"output_notebook(resources=INLINE)\\n\"+\n     \"</code>\\n\"+\n     \"</div>\"}};\n\n  function display_loaded() {\n    var el = document.getElementById(\"1001\");\n    if (el != null) {\n      el.textContent = \"BokehJS is loading...\";\n    }\n    if (root.Bokeh !== undefined) {\n      if (el != null) {\n        el.textContent = \"BokehJS \" + root.Bokeh.version + \" successfully loaded.\";\n      }\n    } else if (Date.now() < root._bokeh_timeout) {\n      setTimeout(display_loaded, 100)\n    }\n  }\n\n\n  function run_callbacks() {\n    try {\n      root._bokeh_onload_callbacks.forEach(function(callback) {\n        if (callback != null)\n          callback();\n      });\n    } finally {\n      delete root._bokeh_onload_callbacks\n    }\n    console.debug(\"Bokeh: all callbacks have finished\");\n  }\n\n  function load_libs(css_urls, js_urls, callback) {\n    if (css_urls == null) css_urls = [];\n    if (js_urls == null) js_urls = [];\n\n    root._bokeh_onload_callbacks.push(callback);\n    if (root._bokeh_is_loading > 0) {\n      console.debug(\"Bokeh: BokehJS is being loaded, scheduling callback at\", now());\n      return null;\n    }\n    if (js_urls == null || js_urls.length === 0) {\n      run_callbacks();\n      return null;\n    }\n    console.debug(\"Bokeh: BokehJS not loaded, scheduling load and callback at\", now());\n    root._bokeh_is_loading = css_urls.length + js_urls.length;\n\n    function on_load() {\n      root._bokeh_is_loading--;\n      if (root._bokeh_is_loading === 0) {\n        console.debug(\"Bokeh: all BokehJS libraries/stylesheets loaded\");\n        run_callbacks()\n      }\n    }\n\n    function on_error() {\n      console.error(\"failed to load \" + url);\n    }\n\n    for (var i = 0; i < css_urls.length; i++) {\n      var url = css_urls[i];\n      const element = document.createElement(\"link\");\n      element.onload = on_load;\n      element.onerror = on_error;\n      element.rel = \"stylesheet\";\n      element.type = \"text/css\";\n      element.href = url;\n      console.debug(\"Bokeh: injecting link tag for BokehJS stylesheet: \", url);\n      document.body.appendChild(element);\n    }\n\n    for (var i = 0; i < js_urls.length; i++) {\n      var url = js_urls[i];\n      var element = document.createElement('script');\n      element.onload = on_load;\n      element.onerror = on_error;\n      element.async = false;\n      element.src = url;\n      console.debug(\"Bokeh: injecting script tag for BokehJS library: \", url);\n      document.head.appendChild(element);\n    }\n  };var element = document.getElementById(\"1001\");\n  if (element == null) {\n    console.error(\"Bokeh: ERROR: autoload.js configured with elementid '1001' but no matching script tag was found. \")\n    return false;\n  }\n\n  function inject_raw_css(css) {\n    const element = document.createElement(\"style\");\n    element.appendChild(document.createTextNode(css));\n    document.body.appendChild(element);\n  }\n\n  var js_urls = [\"https://cdn.pydata.org/bokeh/release/bokeh-1.3.4.min.js\", \"https://cdn.pydata.org/bokeh/release/bokeh-widgets-1.3.4.min.js\", \"https://cdn.pydata.org/bokeh/release/bokeh-tables-1.3.4.min.js\", \"https://cdn.pydata.org/bokeh/release/bokeh-gl-1.3.4.min.js\"];\n  var css_urls = [];\n\n  var inline_js = [\n    function(Bokeh) {\n      Bokeh.set_log_level(\"info\");\n    },\n    \n    function(Bokeh) {\n      \n    },\n    function(Bokeh) {} // ensure no trailing comma for IE\n  ];\n\n  function run_inline_js() {\n    \n    if ((root.Bokeh !== undefined) || (force === true)) {\n      for (var i = 0; i < inline_js.length; i++) {\n        inline_js[i].call(root, root.Bokeh);\n      }if (force === true) {\n        display_loaded();\n      }} else if (Date.now() < root._bokeh_timeout) {\n      setTimeout(run_inline_js, 100);\n    } else if (!root._bokeh_failed_load) {\n      console.log(\"Bokeh: BokehJS failed to load within specified timeout.\");\n      root._bokeh_failed_load = true;\n    } else if (force !== true) {\n      var cell = $(document.getElementById(\"1001\")).parents('.cell').data().cell;\n      cell.output_area.append_execute_result(NB_LOAD_WARNING)\n    }\n\n  }\n\n  if (root._bokeh_is_loading === 0) {\n    console.debug(\"Bokeh: BokehJS loaded, going straight to plotting\");\n    run_inline_js();\n  } else {\n    load_libs(css_urls, js_urls, function() {\n      console.debug(\"Bokeh: BokehJS plotting callback run at\", now());\n      run_inline_js();\n    });\n  }\n}(window));"
     },
     "metadata": {},
     "output_type": "display_data"
    }
   ],
   "source": [
    "from bokeh.models import ColumnDataSource, LabelSet\n",
    "from bokeh.plotting import figure, show, output_file\n",
    "from bokeh.io import output_notebook\n",
    "output_notebook()"
   ]
  },
  {
   "cell_type": "markdown",
   "metadata": {},
   "source": [
    "### Part 0: Download the TED dataset"
   ]
  },
  {
   "cell_type": "code",
   "execution_count": 4,
   "metadata": {},
   "outputs": [],
   "source": [
    "import urllib.request\n",
    "import zipfile\n",
    "import lxml.etree"
   ]
  },
  {
   "cell_type": "code",
   "execution_count": 4,
   "metadata": {},
   "outputs": [],
   "source": [
    "# Download the dataset if it's not already there: this may take a minute as it is 75MB\n",
    "if not os.path.isfile('../Data/ted_en-20160408.zip'):\n",
    "    urllib.request.urlretrieve(\"https://wit3.fbk.eu/get.php?path=XML_releases/xml/ted_en-20160408.zip&filename=ted_en-20160408.zip\", filename=\"ted_en-20160408.zip\")"
   ]
  },
  {
   "cell_type": "code",
   "execution_count": 5,
   "metadata": {},
   "outputs": [],
   "source": [
    "# For now, we're only interested in the subtitle text, so let's extract that from the XML:\n",
    "with zipfile.ZipFile('../Data/ted_en-20160408.zip', 'r') as z:\n",
    "    doc = lxml.etree.parse(z.open('ted_en-20160408.xml', 'r'))\n",
    "input_text = '\\n'.join(doc.xpath('//content/text()'))\n",
    "del doc"
   ]
  },
  {
   "cell_type": "markdown",
   "metadata": {},
   "source": [
    "### Part 1: Preprocessing\n",
    "\n",
    "In this part, we attempt to clean up the raw subtitles a bit, so that we get only sentences. The following substring shows examples of what we're trying to get rid of. Since it's hard to define precisely what we want to get rid of, we'll just use some simple heuristics."
   ]
  },
  {
   "cell_type": "code",
   "execution_count": 6,
   "metadata": {
    "scrolled": false
   },
   "outputs": [
    {
     "data": {
      "text/plain": [
       "' baby does.\\n(Video) Hyowon Gweon: See this? (Ball squeaks) Did you see that? (Ball squeaks) Cool. See this one? (Ball squeaks) Wow.\\nLaura Schulz: Told you. (Laughs)\\n(Vide'"
      ]
     },
     "execution_count": 6,
     "metadata": {},
     "output_type": "execute_result"
    }
   ],
   "source": [
    "i = input_text.find(\"Hyowon Gweon: See this?\")\n",
    "input_text[i-20:i+150]"
   ]
  },
  {
   "cell_type": "markdown",
   "metadata": {},
   "source": [
    "Let's start by removing all parenthesized strings using a regex:"
   ]
  },
  {
   "cell_type": "code",
   "execution_count": 7,
   "metadata": {},
   "outputs": [],
   "source": [
    "input_text_noparens = re.sub(r'\\([^)]*\\)', '', input_text)"
   ]
  },
  {
   "cell_type": "markdown",
   "metadata": {},
   "source": [
    "We can verify the same location in the text is now clean as follows. We won't worry about the irregular spaces since we'll later split the text into sentences and tokenize it anyway."
   ]
  },
  {
   "cell_type": "code",
   "execution_count": 8,
   "metadata": {},
   "outputs": [
    {
     "data": {
      "text/plain": [
       "\"hat the baby does.\\n Hyowon Gweon: See this?  Did you see that?  Cool. See this one?  Wow.\\nLaura Schulz: Told you. \\n HG: See this one?  Hey Clara, this one's for you. You \""
      ]
     },
     "execution_count": 8,
     "metadata": {},
     "output_type": "execute_result"
    }
   ],
   "source": [
    "i = input_text_noparens.find(\"Hyowon Gweon: See this?\")\n",
    "input_text_noparens[i-20:i+150]"
   ]
  },
  {
   "cell_type": "markdown",
   "metadata": {},
   "source": [
    "Now, let's attempt to remove speakers' names that occur at the beginning of a line, by deleting pieces of the form \"`<up to 20 characters>:`\", as shown in this example. Of course, this is an imperfect heuristic. "
   ]
  },
  {
   "cell_type": "code",
   "execution_count": 9,
   "metadata": {},
   "outputs": [
    {
     "data": {
      "text/plain": [
       "[\"Here are two reasons companies fail: they only do more of the same, or they only do what's new\",\n",
       " 'To me the real, real solution to quality growth is figuring out the balance between two activities: exploration and exploitation',\n",
       " ' Both are necessary, but it can be too much of a good thing',\n",
       " 'Consider Facit',\n",
       " \" I'm actually old enough to remember them\"]"
      ]
     },
     "execution_count": 9,
     "metadata": {},
     "output_type": "execute_result"
    }
   ],
   "source": [
    "sentences_strings_ted = []\n",
    "for line in input_text_noparens.split('\\n'):\n",
    "    m = re.match(r'^(?:(?P<precolon>[^:]{,20}):)?(?P<postcolon>.*)$', line)\n",
    "    sentences_strings_ted.extend(sent for sent in m.groupdict()['postcolon'].split('.') if sent)\n",
    "\n",
    "# Uncomment if you need to save some RAM: these strings are about 50MB.\n",
    "# del input_text, input_text_noparens\n",
    "\n",
    "# Let's view the first few:\n",
    "sentences_strings_ted[:5]"
   ]
  },
  {
   "cell_type": "markdown",
   "metadata": {},
   "source": [
    "Now that we have sentences, we're ready to tokenize each of them into words. This tokenization is imperfect, of course. For instance, how many tokens is \"can't\", and where/how do we split it? We'll take the simplest naive approach of splitting on spaces. Before splitting, we remove non-alphanumeric characters, such as punctuation. You may want to consider the following question: why do we replace these characters with spaces rather than deleting them? Think of a case where this yields a different answer."
   ]
  },
  {
   "cell_type": "code",
   "execution_count": 11,
   "metadata": {},
   "outputs": [],
   "source": [
    "sentences_ted = []\n",
    "for sent_str in sentences_strings_ted:\n",
    "    tokens = re.sub(r\"[^a-z0-9]+\", \" \", sent_str.lower()).split()\n",
    "    sentences_ted.append(tokens)"
   ]
  },
  {
   "cell_type": "markdown",
   "metadata": {},
   "source": [
    "Two sample processed sentences:"
   ]
  },
  {
   "cell_type": "code",
   "execution_count": 12,
   "metadata": {},
   "outputs": [
    {
     "data": {
      "text/plain": [
       "266694"
      ]
     },
     "execution_count": 12,
     "metadata": {},
     "output_type": "execute_result"
    }
   ],
   "source": [
    "len(sentences_ted)"
   ]
  },
  {
   "cell_type": "code",
   "execution_count": 13,
   "metadata": {},
   "outputs": [
    {
     "name": "stdout",
     "output_type": "stream",
     "text": [
      "['here', 'are', 'two', 'reasons', 'companies', 'fail', 'they', 'only', 'do', 'more', 'of', 'the', 'same', 'or', 'they', 'only', 'do', 'what', 's', 'new']\n",
      "['to', 'me', 'the', 'real', 'real', 'solution', 'to', 'quality', 'growth', 'is', 'figuring', 'out', 'the', 'balance', 'between', 'two', 'activities', 'exploration', 'and', 'exploitation']\n"
     ]
    }
   ],
   "source": [
    "print(sentences_ted[0])\n",
    "print(sentences_ted[1])"
   ]
  },
  {
   "cell_type": "markdown",
   "metadata": {},
   "source": [
    "### Part 2: Word Frequencies"
   ]
  },
  {
   "cell_type": "markdown",
   "metadata": {},
   "source": [
    "If you store the counts of the top 1000 words in a list called `counts_ted_top1000`, the code below will plot the histogram requested in the writeup."
   ]
  },
  {
   "cell_type": "code",
   "execution_count": 14,
   "metadata": {},
   "outputs": [],
   "source": [
    "from collections import Counter"
   ]
  },
  {
   "cell_type": "code",
   "execution_count": 15,
   "metadata": {},
   "outputs": [],
   "source": [
    "sentences_ted_all = [i for row in sentences_ted for i in row]\n",
    "c = Counter(sentences_ted_all)\n",
    "counts_ted_top1000_cunter = c.most_common(1000)"
   ]
  },
  {
   "cell_type": "code",
   "execution_count": 16,
   "metadata": {},
   "outputs": [
    {
     "data": {
      "text/plain": [
       "[('the', 207748),\n",
       " ('and', 149305),\n",
       " ('to', 125169),\n",
       " ('of', 114818),\n",
       " ('a', 105399)]"
      ]
     },
     "execution_count": 16,
     "metadata": {},
     "output_type": "execute_result"
    }
   ],
   "source": [
    "counts_ted_top1000_cunter[:5]\n"
   ]
  },
  {
   "cell_type": "code",
   "execution_count": 13,
   "metadata": {},
   "outputs": [],
   "source": [
    "import sklearn\n",
    "from sklearn.feature_extraction.text import CountVectorizer"
   ]
  },
  {
   "cell_type": "code",
   "execution_count": 18,
   "metadata": {},
   "outputs": [],
   "source": [
    "vec = CountVectorizer()\n",
    "X = vec.fit_transform(sentences_strings_ted)  # 不同点不需要分词 直接用句子处理"
   ]
  },
  {
   "cell_type": "code",
   "execution_count": 19,
   "metadata": {},
   "outputs": [
    {
     "name": "stdout",
     "output_type": "stream",
     "text": [
      "['the' 'and' 'to' 'of' 'that' 'in' 'it' 'you' 'we' 'is' 'this' 'so' 'they'\n",
      " 'was' 'for' 'are' 'have' 'but' 'what' 'on' 'with' 'can' 'about' 'there'\n",
      " 'be' 'as' 'at' 'all' 'not' 'do' 'my' 'one' 're' 'people' 'like' 'if'\n",
      " 'from' 'now' 'our' 'he']\n"
     ]
    }
   ],
   "source": [
    "counts_ted_top40_index = np.array(np.argsort(-X.sum(axis=0))).squeeze()[:40]\n",
    "counts_ted_top40_word = np.array(vec.get_feature_names())[counts_ted_top40_index]\n",
    "counts_ted_top40 = np.array(-1 * np.sort(-X.sum(axis=0))).squeeze()[:40]\n",
    "\n",
    "print(counts_ted_top40_word)"
   ]
  },
  {
   "cell_type": "code",
   "execution_count": 20,
   "metadata": {},
   "outputs": [],
   "source": [
    "counts_ted_top1000_index = np.array(np.argsort(-X.sum(axis=0))).squeeze()[:1000]\n",
    "counts_ted_top1000_word = np.array(vec.get_feature_names())[counts_ted_top1000_index]\n",
    "counts_ted_top1000 = np.array(-1 * np.sort(-X.sum(axis=0))).squeeze()[:1000]"
   ]
  },
  {
   "cell_type": "markdown",
   "metadata": {},
   "source": [
    "Plot distribution of top-1000 words"
   ]
  },
  {
   "cell_type": "code",
   "execution_count": 21,
   "metadata": {},
   "outputs": [
    {
     "name": "stderr",
     "output_type": "stream",
     "text": [
      "D:\\Miniconda3\\lib\\site-packages\\ipykernel_launcher.py:1: DeprecationWarning: The normed argument is ignored when density is provided. In future passing both will result in an error.\n",
      "  \"\"\"Entry point for launching an IPython kernel.\n"
     ]
    },
    {
     "data": {
      "text/html": [
       "\n",
       "\n",
       "\n",
       "\n",
       "\n",
       "\n",
       "  <div class=\"bk-root\" id=\"0e36ffc1-4e22-41e5-a9d7-2d8844d1e7e8\" data-root-id=\"1002\"></div>\n"
      ]
     },
     "metadata": {},
     "output_type": "display_data"
    },
    {
     "data": {
      "application/javascript": [
       "(function(root) {\n",
       "  function embed_document(root) {\n",
       "    \n",
       "  var docs_json = {\"2ce54e96-8a24-4763-943a-5b59a70c8f28\":{\"roots\":{\"references\":[{\"attributes\":{\"below\":[{\"id\":\"1013\",\"type\":\"LinearAxis\"}],\"center\":[{\"id\":\"1017\",\"type\":\"Grid\"},{\"id\":\"1022\",\"type\":\"Grid\"}],\"left\":[{\"id\":\"1018\",\"type\":\"LinearAxis\"}],\"renderers\":[{\"id\":\"1035\",\"type\":\"GlyphRenderer\"}],\"title\":{\"id\":\"1003\",\"type\":\"Title\"},\"toolbar\":{\"id\":\"1027\",\"type\":\"Toolbar\"},\"toolbar_location\":\"above\",\"x_range\":{\"id\":\"1005\",\"type\":\"DataRange1d\"},\"x_scale\":{\"id\":\"1009\",\"type\":\"LinearScale\"},\"y_range\":{\"id\":\"1007\",\"type\":\"DataRange1d\"},\"y_scale\":{\"id\":\"1011\",\"type\":\"LinearScale\"}},\"id\":\"1002\",\"subtype\":\"Figure\",\"type\":\"Plot\"},{\"attributes\":{\"dimension\":1,\"ticker\":{\"id\":\"1019\",\"type\":\"BasicTicker\"}},\"id\":\"1022\",\"type\":\"Grid\"},{\"attributes\":{},\"id\":\"1023\",\"type\":\"PanTool\"},{\"attributes\":{\"bottom\":{\"value\":0},\"fill_color\":{\"value\":\"#1f77b4\"},\"left\":{\"field\":\"left\"},\"line_color\":{\"value\":\"#555555\"},\"right\":{\"field\":\"right\"},\"top\":{\"field\":\"top\"}},\"id\":\"1033\",\"type\":\"Quad\"},{\"attributes\":{},\"id\":\"1038\",\"type\":\"BasicTickFormatter\"},{\"attributes\":{\"text\":\"Top-1000 words distribution\"},\"id\":\"1003\",\"type\":\"Title\"},{\"attributes\":{},\"id\":\"1024\",\"type\":\"WheelZoomTool\"},{\"attributes\":{},\"id\":\"1025\",\"type\":\"ResetTool\"},{\"attributes\":{},\"id\":\"1042\",\"type\":\"Selection\"},{\"attributes\":{},\"id\":\"1026\",\"type\":\"SaveTool\"},{\"attributes\":{\"active_drag\":\"auto\",\"active_inspect\":\"auto\",\"active_multi\":null,\"active_scroll\":\"auto\",\"active_tap\":\"auto\",\"tools\":[{\"id\":\"1023\",\"type\":\"PanTool\"},{\"id\":\"1024\",\"type\":\"WheelZoomTool\"},{\"id\":\"1025\",\"type\":\"ResetTool\"},{\"id\":\"1026\",\"type\":\"SaveTool\"}]},\"id\":\"1027\",\"type\":\"Toolbar\"},{\"attributes\":{\"data_source\":{\"id\":\"1032\",\"type\":\"ColumnDataSource\"},\"glyph\":{\"id\":\"1033\",\"type\":\"Quad\"},\"hover_glyph\":null,\"muted_glyph\":null,\"nonselection_glyph\":{\"id\":\"1034\",\"type\":\"Quad\"},\"selection_glyph\":null,\"view\":{\"id\":\"1036\",\"type\":\"CDSView\"}},\"id\":\"1035\",\"type\":\"GlyphRenderer\"},{\"attributes\":{\"callback\":null,\"data\":{\"left\":{\"__ndarray__\":\"AAAAAADweEAUrkfh+lCjQBSuR+H6wbFAHoXrUXjbuUAUrkfhevrAQJmZmZk5B8VAHoXrUfgTyUCjcD0KtyDNQBSuR+G6ltBA1qNwPRqd0kCZmZmZeaPUQFyPwvXYqdZAHoXrUTiw2EDgehSul7baQKNwPQr3vNxAZmZmZlbD3kAUrkfh2mTgQPUoXI8KaOFA1qNwPTpr4kC4HoXraW7jQJmZmZmZceRAehSuR8l05UBcj8L1+HfmQD0K16Moe+dAHoXrUVh+6ED/////h4HpQOB6FK63hOpAwvUoXOeH60CjcD0KF4vsQITrUbhGju1AZmZmZnaR7kBH4XoUppTvQBSuR+HqS/BAhetRuILN8ED1KFyPGk/xQGZmZmay0PFA1qNwPUpS8kBH4XoU4tPyQLgehet5VfNAKFyPwhHX80CZmZmZqVj0QArXo3BB2vRAehSuR9lb9UDrUbgecd31QFyPwvUIX/ZAzMzMzKDg9kA9CtejOGL3QK1H4XrQ4/dAHoXrUWhl+ECPwvUoAOf4QP////+XaPlAcD0K1y/q+UDgehSux2v6QFG4HoVf7fpAwvUoXPdu+0AyMzMzj/D7QKNwPQoncvxAFK5H4b7z/ECE61G4VnX9QPUoXI/u9v1AZmZmZoZ4/kDWo3A9Hvr+QEfhehS2e/9Atx6F6039/0AUrkfhcj8AQczMzMw+gABBhetRuArBAEE9Ctej1gEBQfUoXI+iQgFBrkfhem6DAUFmZmZmOsQBQR6F61EGBQJB1qNwPdJFAkGPwvUonoYCQUfhehRqxwJB/////zUIA0G4HoXrAUkDQXA9CtfNiQNBKFyPwpnKA0HhehSuZQsEQZmZmZkxTARBUbgehf2MBEEK16Nwyc0EQcL1KFyVDgVBehSuR2FPBUEzMzMzLZAFQetRuB750AVBo3A9CsURBkFcj8L1kFIGQRSuR+FckwZBzMzMzCjUBkGE61G49BQHQT0K16PAVQdB9Shcj4yWB0GtR+F6WNcHQWZmZmYkGAhBHoXrUfBYCEHWo3A9vJkIQY/C9SiI2ghBR+F6FFQbCUE=\",\"dtype\":\"float64\",\"shape\":[100]},\"right\":{\"__ndarray__\":\"FK5H4fpQo0AUrkfh+sGxQB6F61F427lAFK5H4Xr6wECZmZmZOQfFQB6F61H4E8lAo3A9CrcgzUAUrkfhupbQQNajcD0andJAmZmZmXmj1EBcj8L12KnWQB6F61E4sNhA4HoUrpe22kCjcD0K97zcQGZmZmZWw95AFK5H4dpk4ED1KFyPCmjhQNajcD06a+JAuB6F62lu40CZmZmZmXHkQHoUrkfJdOVAXI/C9fh35kA9CtejKHvnQB6F61FYfuhA/////4eB6UDgehSut4TqQML1KFznh+tAo3A9CheL7ECE61G4Ro7tQGZmZmZ2ke5AR+F6FKaU70AUrkfh6kvwQIXrUbiCzfBA9ShcjxpP8UBmZmZmstDxQNajcD1KUvJAR+F6FOLT8kC4HoXreVXzQChcj8IR1/NAmZmZmalY9EAK16NwQdr0QHoUrkfZW/VA61G4HnHd9UBcj8L1CF/2QMzMzMyg4PZAPQrXozhi90CtR+F60OP3QB6F61FoZfhAj8L1KADn+ED/////l2j5QHA9Ctcv6vlA4HoUrsdr+kBRuB6FX+36QML1KFz3bvtAMjMzM4/w+0CjcD0KJ3L8QBSuR+G+8/xAhOtRuFZ1/UD1KFyP7vb9QGZmZmaGeP5A1qNwPR76/kBH4XoUtnv/QLcehetN/f9AFK5H4XI/AEHMzMzMPoAAQYXrUbgKwQBBPQrXo9YBAUH1KFyPokIBQa5H4XpugwFBZmZmZjrEAUEehetRBgUCQdajcD3SRQJBj8L1KJ6GAkFH4XoUascCQf////81CANBuB6F6wFJA0FwPQrXzYkDQShcj8KZygNB4XoUrmULBEGZmZmZMUwEQVG4HoX9jARBCtejcMnNBEHC9ShclQ4FQXoUrkdhTwVBMzMzMy2QBUHrUbge+dAFQaNwPQrFEQZBXI/C9ZBSBkEUrkfhXJMGQczMzMwo1AZBhOtRuPQUB0E9CtejwFUHQfUoXI+MlgdBrUfheljXB0FmZmZmJBgIQR6F61HwWAhB1qNwPbyZCEGPwvUoiNoIQUfhehRUGwlBAAAAACBcCUE=\",\"dtype\":\"float64\",\"shape\":[100]},\"top\":{\"__ndarray__\":\"ZBqztziyOT+SMBnr7vAAP6NIXWW4VO0+DGJUw5U04j59rPUCvi7gPizNEURFQNY+DGJUw5U00j59rPUCvi7APsKCcAQdRsg+eaz1Ar4uwD55rPUCvi6gPoGs9QK+LrA+gaz1Ar4uwD55rPUCvi6gPnms9QK+LrA+gaz1Ar4uoD4AAAAAAAAAAIGs9QK+LqA+AAAAAAAAAAAAAAAAAAAAAAAAAAAAAAAAAAAAAAAAAAAAAAAAAAAAAIGs9QK+LqA+AAAAAAAAAAAAAAAAAAAAAAAAAAAAAAAAAAAAAAAAAAAAAAAAAAAAAAAAAAAAAAAAgaz1Ar4uoD4AAAAAAAAAAHGs9QK+LqA+AAAAAAAAAABxrPUCvi6gPpGs9QK+LqA+AAAAAAAAAABxrPUCvi6gPgAAAAAAAAAAAAAAAAAAAAAAAAAAAAAAAAAAAAAAAAAAAAAAAAAAAAAAAAAAAAAAAAAAAAAAAAAAcaz1Ar4uoD4AAAAAAAAAAAAAAAAAAAAAAAAAAAAAAAAAAAAAAAAAAAAAAAAAAAAAAAAAAAAAAAAAAAAAAAAAAAAAAAAAAAAAAAAAAAAAAABxrPUCvi6gPgAAAAAAAAAAAAAAAAAAAAAAAAAAAAAAAAAAAAAAAAAAkaz1Ar4uoD4AAAAAAAAAAAAAAAAAAAAAAAAAAAAAAAAAAAAAAAAAAAAAAAAAAAAAAAAAAAAAAAAAAAAAAAAAAAAAAAAAAAAAAAAAAAAAAAAAAAAAAAAAAJGs9QK+LqA+AAAAAAAAAAAAAAAAAAAAAAAAAAAAAAAAAAAAAAAAAAAAAAAAAAAAAAAAAAAAAAAAAAAAAAAAAAAAAAAAAAAAAAAAAAAAAAAAAAAAAAAAAAAAAAAAAAAAAAAAAAAAAAAAAAAAAAAAAAAAAAAAAAAAAAAAAAAAAAAAAAAAAAAAAAAAAAAAAAAAAAAAAAAAAAAAAAAAAAAAAAAAAAAAAAAAAAAAAAAAAAAAAAAAAAAAAAAAAAAAAAAAAAAAAAAAAAAAAAAAAAAAAAAAAAAAAAAAAAAAAAAAAAAAUaz1Ar4uoD4=\",\"dtype\":\"float64\",\"shape\":[100]}},\"selected\":{\"id\":\"1042\",\"type\":\"Selection\"},\"selection_policy\":{\"id\":\"1043\",\"type\":\"UnionRenderers\"}},\"id\":\"1032\",\"type\":\"ColumnDataSource\"},{\"attributes\":{\"bottom\":{\"value\":0},\"fill_alpha\":{\"value\":0.1},\"fill_color\":{\"value\":\"#1f77b4\"},\"left\":{\"field\":\"left\"},\"line_alpha\":{\"value\":0.1},\"line_color\":{\"value\":\"#1f77b4\"},\"right\":{\"field\":\"right\"},\"top\":{\"field\":\"top\"}},\"id\":\"1034\",\"type\":\"Quad\"},{\"attributes\":{\"source\":{\"id\":\"1032\",\"type\":\"ColumnDataSource\"}},\"id\":\"1036\",\"type\":\"CDSView\"},{\"attributes\":{\"callback\":null},\"id\":\"1005\",\"type\":\"DataRange1d\"},{\"attributes\":{\"callback\":null},\"id\":\"1007\",\"type\":\"DataRange1d\"},{\"attributes\":{},\"id\":\"1040\",\"type\":\"BasicTickFormatter\"},{\"attributes\":{},\"id\":\"1009\",\"type\":\"LinearScale\"},{\"attributes\":{},\"id\":\"1011\",\"type\":\"LinearScale\"},{\"attributes\":{},\"id\":\"1043\",\"type\":\"UnionRenderers\"},{\"attributes\":{\"formatter\":{\"id\":\"1040\",\"type\":\"BasicTickFormatter\"},\"ticker\":{\"id\":\"1014\",\"type\":\"BasicTicker\"}},\"id\":\"1013\",\"type\":\"LinearAxis\"},{\"attributes\":{},\"id\":\"1014\",\"type\":\"BasicTicker\"},{\"attributes\":{\"ticker\":{\"id\":\"1014\",\"type\":\"BasicTicker\"}},\"id\":\"1017\",\"type\":\"Grid\"},{\"attributes\":{\"formatter\":{\"id\":\"1038\",\"type\":\"BasicTickFormatter\"},\"ticker\":{\"id\":\"1019\",\"type\":\"BasicTicker\"}},\"id\":\"1018\",\"type\":\"LinearAxis\"},{\"attributes\":{},\"id\":\"1019\",\"type\":\"BasicTicker\"}],\"root_ids\":[\"1002\"]},\"title\":\"Bokeh Application\",\"version\":\"1.3.4\"}};\n",
       "  var render_items = [{\"docid\":\"2ce54e96-8a24-4763-943a-5b59a70c8f28\",\"roots\":{\"1002\":\"0e36ffc1-4e22-41e5-a9d7-2d8844d1e7e8\"}}];\n",
       "  root.Bokeh.embed.embed_items_notebook(docs_json, render_items);\n",
       "\n",
       "  }\n",
       "  if (root.Bokeh !== undefined) {\n",
       "    embed_document(root);\n",
       "  } else {\n",
       "    var attempts = 0;\n",
       "    var timer = setInterval(function(root) {\n",
       "      if (root.Bokeh !== undefined) {\n",
       "        embed_document(root);\n",
       "        clearInterval(timer);\n",
       "      }\n",
       "      attempts++;\n",
       "      if (attempts > 100) {\n",
       "        console.log(\"Bokeh: ERROR: Unable to run BokehJS code because BokehJS library is missing\");\n",
       "        clearInterval(timer);\n",
       "      }\n",
       "    }, 10, root)\n",
       "  }\n",
       "})(window);"
      ],
      "application/vnd.bokehjs_exec.v0+json": ""
     },
     "metadata": {
      "application/vnd.bokehjs_exec.v0+json": {
       "id": "1002"
      }
     },
     "output_type": "display_data"
    }
   ],
   "source": [
    "hist, edges = np.histogram(counts_ted_top1000, density=True, bins=100, normed=True)\n",
    "\n",
    "p = figure(tools=\"pan,wheel_zoom,reset,save\",\n",
    "           toolbar_location=\"above\",\n",
    "           title=\"Top-1000 words distribution\")\n",
    "p.quad(top=hist, bottom=0, left=edges[:-1], right=edges[1:], line_color=\"#555555\")\n",
    "show(p)"
   ]
  },
  {
   "cell_type": "markdown",
   "metadata": {},
   "source": [
    "### Part 3: Train Word2Vec"
   ]
  },
  {
   "cell_type": "code",
   "execution_count": 10,
   "metadata": {},
   "outputs": [],
   "source": [
    "from gensim.models import Word2Vec,FastText\n",
    "from gensim import corpora"
   ]
  },
  {
   "cell_type": "code",
   "execution_count": 26,
   "metadata": {},
   "outputs": [
    {
     "name": "stdout",
     "output_type": "stream",
     "text": [
      "54454 Dictionary(54454 unique tokens: ['are', 'companies', 'do', 'fail', 'here']...)\n"
     ]
    }
   ],
   "source": [
    "model_ted = Word2Vec(sentences=sentences_ted, size=100, window=5, min_count=10, workers=4, sg=0)\n",
    "dictionary_ted = corpora.Dictionary(sentences_ted)\n",
    "print(len(dictionary_ted), dictionary_ted)"
   ]
  },
  {
   "cell_type": "code",
   "execution_count": 27,
   "metadata": {},
   "outputs": [],
   "source": [
    "model_fas = FastText(sentences=sentences_ted, size=100, window=5, min_count=10, workers=4, sg=1)"
   ]
  },
  {
   "cell_type": "markdown",
   "metadata": {},
   "source": [
    "### Part 4: Ted Learnt Representations"
   ]
  },
  {
   "cell_type": "markdown",
   "metadata": {},
   "source": [
    "Finding similar words: (see gensim docs for more functionality of `most_similar`)"
   ]
  },
  {
   "cell_type": "code",
   "execution_count": 30,
   "metadata": {},
   "outputs": [
    {
     "data": {
      "text/plain": [
       "[('woman', 0.8375369906425476),\n",
       " ('guy', 0.8316255211830139),\n",
       " ('gentleman', 0.762170672416687),\n",
       " ('lady', 0.7582734227180481),\n",
       " ('boy', 0.7424250841140747),\n",
       " ('girl', 0.7392549514770508),\n",
       " ('kid', 0.7149066925048828),\n",
       " ('soldier', 0.7003762125968933),\n",
       " ('poet', 0.6889200210571289),\n",
       " ('david', 0.6748576164245605)]"
      ]
     },
     "execution_count": 30,
     "metadata": {},
     "output_type": "execute_result"
    }
   ],
   "source": [
    "model_ted.wv.most_similar(\"man\")"
   ]
  },
  {
   "cell_type": "code",
   "execution_count": 34,
   "metadata": {},
   "outputs": [
    {
     "data": {
      "text/plain": [
       "[('batman', 0.8018248677253723),\n",
       " ('woman', 0.785014271736145),\n",
       " ('shaman', 0.7629657983779907),\n",
       " ('foreman', 0.7365020513534546),\n",
       " ('guy', 0.7283130288124084),\n",
       " ('van', 0.7156551480293274),\n",
       " ('anderson', 0.711168110370636),\n",
       " ('soldier', 0.7072361707687378),\n",
       " ('jefferson', 0.7063894271850586),\n",
       " ('shepherd', 0.7054215669631958)]"
      ]
     },
     "execution_count": 34,
     "metadata": {},
     "output_type": "execute_result"
    }
   ],
   "source": [
    "model_fas.wv.most_similar('man')"
   ]
  },
  {
   "cell_type": "code",
   "execution_count": 35,
   "metadata": {},
   "outputs": [
    {
     "data": {
      "text/plain": [
       "[('machine', 0.7045372128486633),\n",
       " ('software', 0.6940385103225708),\n",
       " ('device', 0.6708378791809082),\n",
       " ('3d', 0.6671026945114136),\n",
       " ('robot', 0.6579882502555847),\n",
       " ('chip', 0.6350446939468384),\n",
       " ('camera', 0.6345258355140686),\n",
       " ('mechanical', 0.6254967451095581),\n",
       " ('printer', 0.6132377982139587),\n",
       " ('program', 0.6072694063186646)]"
      ]
     },
     "execution_count": 35,
     "metadata": {},
     "output_type": "execute_result"
    }
   ],
   "source": [
    "model_ted.wv.most_similar(\"computer\")"
   ]
  },
  {
   "cell_type": "code",
   "execution_count": 36,
   "metadata": {},
   "outputs": [
    {
     "data": {
      "text/plain": [
       "[('arthritis', 0.7575085759162903),\n",
       " ('h1n1', 0.7479996681213379),\n",
       " ('disembodied', 0.7372597455978394),\n",
       " ('embroidery', 0.7301926612854004),\n",
       " ('epa', 0.726107656955719),\n",
       " ('respiratory', 0.7254592180252075),\n",
       " ('homicide', 0.7155354022979736),\n",
       " ('cardiovascular', 0.7088590860366821),\n",
       " ('pneumonia', 0.7087223529815674),\n",
       " ('embryonic', 0.7074483633041382)]"
      ]
     },
     "execution_count": 36,
     "metadata": {},
     "output_type": "execute_result"
    }
   ],
   "source": [
    "model_fas.wv.most_similar(\"Gastroenteritis\")"
   ]
  },
  {
   "cell_type": "code",
   "execution_count": 37,
   "metadata": {},
   "outputs": [],
   "source": [
    "words_top_ted = counts_ted_top1000_word"
   ]
  },
  {
   "cell_type": "markdown",
   "metadata": {},
   "source": [
    "#### t-SNE visualization\n",
    "To use the t-SNE code below, first put a list of the top 1000 words (as strings) into a variable `words_top_ted`. The following code gets the corresponding vectors from the model, assuming it's called `model_ted`:"
   ]
  },
  {
   "cell_type": "code",
   "execution_count": 38,
   "metadata": {},
   "outputs": [
    {
     "name": "stderr",
     "output_type": "stream",
     "text": [
      "D:\\Miniconda3\\lib\\site-packages\\ipykernel_launcher.py:2: DeprecationWarning: Call to deprecated `__getitem__` (Method will be removed in 4.0.0, use self.wv.__getitem__() instead).\n",
      "  \n"
     ]
    }
   ],
   "source": [
    "# This assumes words_top_ted is a list of strings, the top 1000 words\n",
    "words_top_vec_ted = model_ted[words_top_ted]"
   ]
  },
  {
   "cell_type": "code",
   "execution_count": 17,
   "metadata": {},
   "outputs": [],
   "source": [
    "from sklearn.manifold import TSNE"
   ]
  },
  {
   "cell_type": "code",
   "execution_count": null,
   "metadata": {},
   "outputs": [],
   "source": [
    "tsne = TSNE(n_components=2, random_state=0)\n",
    "words_top_ted_tsne = tsne.fit_transform(words_top_vec_ted)"
   ]
  },
  {
   "cell_type": "code",
   "execution_count": 40,
   "metadata": {},
   "outputs": [
    {
     "data": {
      "text/html": [
       "\n",
       "\n",
       "\n",
       "\n",
       "\n",
       "\n",
       "  <div class=\"bk-root\" id=\"4d45d2a8-5c41-4aa6-ad8b-1092817b4b26\" data-root-id=\"1086\"></div>\n"
      ]
     },
     "metadata": {},
     "output_type": "display_data"
    },
    {
     "data": {
      "application/javascript": [
       "(function(root) {\n",
       "  function embed_document(root) {\n",
       "    \n",
       "  var docs_json = {\"02828ce2-fb74-42b6-8790-7447fde7bc8e\":{\"roots\":{\"references\":[{\"attributes\":{\"below\":[{\"id\":\"1097\",\"type\":\"LinearAxis\"}],\"center\":[{\"id\":\"1101\",\"type\":\"Grid\"},{\"id\":\"1106\",\"type\":\"Grid\"},{\"id\":\"1122\",\"type\":\"LabelSet\"}],\"left\":[{\"id\":\"1102\",\"type\":\"LinearAxis\"}],\"renderers\":[{\"id\":\"1120\",\"type\":\"GlyphRenderer\"}],\"title\":{\"id\":\"1087\",\"type\":\"Title\"},\"toolbar\":{\"id\":\"1111\",\"type\":\"Toolbar\"},\"toolbar_location\":\"above\",\"x_range\":{\"id\":\"1089\",\"type\":\"DataRange1d\"},\"x_scale\":{\"id\":\"1093\",\"type\":\"LinearScale\"},\"y_range\":{\"id\":\"1091\",\"type\":\"DataRange1d\"},\"y_scale\":{\"id\":\"1095\",\"type\":\"LinearScale\"}},\"id\":\"1086\",\"subtype\":\"Figure\",\"type\":\"Plot\"},{\"attributes\":{},\"id\":\"1110\",\"type\":\"SaveTool\"},{\"attributes\":{\"active_drag\":\"auto\",\"active_inspect\":\"auto\",\"active_multi\":null,\"active_scroll\":\"auto\",\"active_tap\":\"auto\",\"tools\":[{\"id\":\"1107\",\"type\":\"PanTool\"},{\"id\":\"1108\",\"type\":\"WheelZoomTool\"},{\"id\":\"1109\",\"type\":\"ResetTool\"},{\"id\":\"1110\",\"type\":\"SaveTool\"}]},\"id\":\"1111\",\"type\":\"Toolbar\"},{\"attributes\":{\"fill_alpha\":{\"value\":0.1},\"fill_color\":{\"value\":\"#1f77b4\"},\"line_alpha\":{\"value\":0.1},\"line_color\":{\"value\":\"#1f77b4\"},\"size\":{\"units\":\"screen\",\"value\":8},\"x\":{\"field\":\"x1\"},\"y\":{\"field\":\"x2\"}},\"id\":\"1119\",\"type\":\"Scatter\"},{\"attributes\":{\"fill_color\":{\"value\":\"#1f77b4\"},\"line_color\":{\"value\":\"#1f77b4\"},\"size\":{\"units\":\"screen\",\"value\":8},\"x\":{\"field\":\"x1\"},\"y\":{\"field\":\"x2\"}},\"id\":\"1118\",\"type\":\"Scatter\"},{\"attributes\":{\"text\":\"word2vec T-SNE for most common words\"},\"id\":\"1087\",\"type\":\"Title\"},{\"attributes\":{\"data_source\":{\"id\":\"1116\",\"type\":\"ColumnDataSource\"},\"glyph\":{\"id\":\"1118\",\"type\":\"Scatter\"},\"hover_glyph\":null,\"muted_glyph\":null,\"nonselection_glyph\":{\"id\":\"1119\",\"type\":\"Scatter\"},\"selection_glyph\":null,\"view\":{\"id\":\"1121\",\"type\":\"CDSView\"}},\"id\":\"1120\",\"type\":\"GlyphRenderer\"},{\"attributes\":{\"callback\":null},\"id\":\"1089\",\"type\":\"DataRange1d\"},{\"attributes\":{},\"id\":\"1132\",\"type\":\"BasicTickFormatter\"},{\"attributes\":{\"callback\":null},\"id\":\"1091\",\"type\":\"DataRange1d\"},{\"attributes\":{\"source\":{\"id\":\"1116\",\"type\":\"ColumnDataSource\"}},\"id\":\"1121\",\"type\":\"CDSView\"},{\"attributes\":{},\"id\":\"1093\",\"type\":\"LinearScale\"},{\"attributes\":{},\"id\":\"1095\",\"type\":\"LinearScale\"},{\"attributes\":{\"formatter\":{\"id\":\"1134\",\"type\":\"BasicTickFormatter\"},\"ticker\":{\"id\":\"1098\",\"type\":\"BasicTicker\"}},\"id\":\"1097\",\"type\":\"LinearAxis\"},{\"attributes\":{},\"id\":\"1134\",\"type\":\"BasicTickFormatter\"},{\"attributes\":{},\"id\":\"1098\",\"type\":\"BasicTicker\"},{\"attributes\":{},\"id\":\"1136\",\"type\":\"Selection\"},{\"attributes\":{\"ticker\":{\"id\":\"1098\",\"type\":\"BasicTicker\"}},\"id\":\"1101\",\"type\":\"Grid\"},{\"attributes\":{},\"id\":\"1137\",\"type\":\"UnionRenderers\"},{\"attributes\":{\"formatter\":{\"id\":\"1132\",\"type\":\"BasicTickFormatter\"},\"ticker\":{\"id\":\"1103\",\"type\":\"BasicTicker\"}},\"id\":\"1102\",\"type\":\"LinearAxis\"},{\"attributes\":{},\"id\":\"1103\",\"type\":\"BasicTicker\"},{\"attributes\":{\"dimension\":1,\"ticker\":{\"id\":\"1103\",\"type\":\"BasicTicker\"}},\"id\":\"1106\",\"type\":\"Grid\"},{\"attributes\":{\"source\":{\"id\":\"1116\",\"type\":\"ColumnDataSource\"},\"text\":{\"field\":\"names\"},\"text_align\":\"center\",\"text_color\":{\"value\":\"#555555\"},\"text_font_size\":{\"value\":\"8pt\"},\"x\":{\"field\":\"x1\"},\"y\":{\"field\":\"x2\"},\"y_offset\":{\"value\":6}},\"id\":\"1122\",\"type\":\"LabelSet\"},{\"attributes\":{},\"id\":\"1107\",\"type\":\"PanTool\"},{\"attributes\":{},\"id\":\"1108\",\"type\":\"WheelZoomTool\"},{\"attributes\":{},\"id\":\"1109\",\"type\":\"ResetTool\"},{\"attributes\":{\"callback\":null,\"data\":{\"names\":[\"the\",\"and\",\"to\",\"of\",\"that\",\"in\",\"it\",\"you\",\"we\",\"is\",\"this\",\"so\",\"they\",\"was\",\"for\",\"are\",\"have\",\"but\",\"what\",\"on\",\"with\",\"can\",\"about\",\"there\",\"be\",\"as\",\"at\",\"all\",\"not\",\"do\",\"my\",\"one\",\"re\",\"people\",\"like\",\"if\",\"from\",\"now\",\"our\",\"he\",\"an\",\"just\",\"these\",\"or\",\"when\",\"because\",\"very\",\"me\",\"out\",\"by\",\"them\",\"how\",\"know\",\"up\",\"going\",\"had\",\"more\",\"think\",\"who\",\"were\",\"see\",\"your\",\"their\",\"which\",\"would\",\"here\",\"really\",\"get\",\"ve\",\"then\",\"world\",\"us\",\"time\",\"some\",\"has\",\"don\",\"actually\",\"into\",\"way\",\"where\",\"will\",\"years\",\"things\",\"other\",\"no\",\"could\",\"go\",\"well\",\"want\",\"been\",\"make\",\"right\",\"she\",\"said\",\"something\",\"those\",\"first\",\"two\",\"than\",\"much\",\"also\",\"look\",\"new\",\"thing\",\"little\",\"got\",\"back\",\"over\",\"most\",\"say\",\"even\",\"his\",\"life\",\"only\",\"work\",\"many\",\"take\",\"need\",\"did\",\"lot\",\"kind\",\"why\",\"good\",\"around\",\"every\",\"different\",\"down\",\"ll\",\"let\",\"her\",\"through\",\"same\",\"being\",\"come\",\"day\",\"year\",\"three\",\"use\",\"doing\",\"put\",\"called\",\"any\",\"today\",\"percent\",\"made\",\"after\",\"thank\",\"tell\",\"great\",\"human\",\"find\",\"didn\",\"fact\",\"talk\",\"change\",\"started\",\"another\",\"idea\",\"big\",\"last\",\"own\",\"before\",\"its\",\"never\",\"should\",\"better\",\"give\",\"thought\",\"went\",\"might\",\"important\",\"000\",\"again\",\"able\",\"together\",\"still\",\"problem\",\"off\",\"next\",\"part\",\"course\",\"system\",\"him\",\"does\",\"each\",\"start\",\"show\",\"long\",\"ago\",\"story\",\"came\",\"brain\",\"few\",\"bit\",\"between\",\"used\",\"place\",\"technology\",\"women\",\"too\",\"old\",\"mean\",\"data\",\"water\",\"looking\",\"question\",\"maybe\",\"found\",\"love\",\"doesn\",\"end\",\"example\",\"10\",\"done\",\"point\",\"four\",\"real\",\"wanted\",\"ever\",\"understand\",\"school\",\"sort\",\"live\",\"call\",\"whole\",\"always\",\"children\",\"trying\",\"may\",\"person\",\"away\",\"believe\",\"feel\",\"try\",\"million\",\"working\",\"help\",\"everything\",\"five\",\"country\",\"thinking\",\"second\",\"using\",\"information\",\"money\",\"means\",\"power\",\"took\",\"times\",\"high\",\"space\",\"number\",\"kids\",\"home\",\"become\",\"create\",\"small\",\"design\",\"making\",\"best\",\"left\",\"getting\",\"future\",\"enough\",\"man\",\"quite\",\"city\",\"without\",\"sense\",\"happened\",\"comes\",\"social\",\"probably\",\"less\",\"light\",\"talking\",\"energy\",\"am\",\"building\",\"science\",\"food\",\"body\",\"told\",\"interesting\",\"ask\",\"half\",\"pretty\",\"hard\",\"play\",\"anything\",\"lives\",\"countries\",\"such\",\"coming\",\"family\",\"stuff\",\"dollars\",\"earth\",\"moment\",\"20\",\"imagine\",\"across\",\"side\",\"saw\",\"while\",\"happen\",\"once\",\"okay\",\"build\",\"having\",\"men\",\"later\",\"experience\",\"makes\",\"asked\",\"living\",\"seen\",\"says\",\"room\",\"hand\",\"simple\",\"health\",\"ways\",\"else\",\"case\",\"almost\",\"yet\",\"young\",\"days\",\"nothing\",\"care\",\"bad\",\"happens\",\"goes\",\"move\",\"states\",\"reason\",\"computer\",\"open\",\"learn\",\"africa\",\"process\",\"inside\",\"someone\",\"six\",\"far\",\"mind\",\"project\",\"remember\",\"single\",\"picture\",\"both\",\"whether\",\"problems\",\"community\",\"basically\",\"saying\",\"already\",\"within\",\"looked\",\"myself\",\"billion\",\"possible\",\"often\",\"business\",\"planet\",\"global\",\"everybody\",\"top\",\"sure\",\"public\",\"set\",\"wrong\",\"car\",\"book\",\"keep\",\"yes\",\"answer\",\"oh\",\"sometimes\",\"hope\",\"history\",\"true\",\"war\",\"guy\",\"child\",\"instead\",\"months\",\"ideas\",\"looks\",\"matter\",\"government\",\"amazing\",\"united\",\"since\",\"bring\",\"age\",\"cells\",\"job\",\"heard\",\"until\",\"face\",\"wasn\",\"100\",\"read\",\"control\",\"isn\",\"research\",\"30\",\"words\",\"group\",\"under\",\"self\",\"somebody\",\"built\",\"state\",\"woman\",\"turn\",\"beautiful\",\"friends\",\"line\",\"knew\",\"couple\",\"order\",\"form\",\"yeah\",\"internet\",\"middle\",\"music\",\"piece\",\"nature\",\"head\",\"though\",\"stop\",\"everyone\",\"50\",\"places\",\"video\",\"language\",\"learned\",\"run\",\"night\",\"decided\",\"word\",\"study\",\"cancer\",\"taking\",\"works\",\"became\",\"exactly\",\"species\",\"completely\",\"society\",\"education\",\"against\",\"stories\",\"large\",\"share\",\"level\",\"heart\",\"america\",\"model\",\"questions\",\"gets\",\"mother\",\"god\",\"company\",\"turns\",\"ourselves\",\"happening\",\"art\",\"hear\",\"themselves\",\"must\",\"itself\",\"rather\",\"kinds\",\"students\",\"name\",\"hours\",\"disease\",\"front\",\"house\",\"couldn\",\"huge\",\"created\",\"universe\",\"ok\",\"animals\",\"american\",\"environment\",\"worked\",\"minutes\",\"ones\",\"black\",\"perhaps\",\"past\",\"third\",\"along\",\"others\",\"finally\",\"sound\",\"early\",\"game\",\"thousands\",\"century\",\"least\",\"based\",\"per\",\"ted\",\"lots\",\"figure\",\"free\",\"particular\",\"guys\",\"happy\",\"news\",\"learning\",\"entire\",\"won\",\"gave\",\"machine\",\"india\",\"during\",\"systems\",\"air\",\"difference\",\"outside\",\"natural\",\"taken\",\"seven\",\"given\",\"changed\",\"leave\",\"cell\",\"15\",\"close\",\"behind\",\"cities\",\"full\",\"scale\",\"china\",\"difficult\",\"takes\",\"companies\",\"area\",\"yourself\",\"reality\",\"seeing\",\"easy\",\"turned\",\"cost\",\"eyes\",\"team\",\"moving\",\"population\",\"culture\",\"york\",\"hands\",\"whatever\",\"began\",\"terms\",\"needs\",\"image\",\"needed\",\"simply\",\"beginning\",\"father\",\"local\",\"realized\",\"media\",\"parents\",\"death\",\"walk\",\"view\",\"white\",\"market\",\"parts\",\"ocean\",\"eight\",\"economic\",\"powerful\",\"known\",\"week\",\"size\",\"felt\",\"humans\",\"certain\",\"spend\",\"longer\",\"phone\",\"wonderful\",\"cannot\",\"common\",\"grow\",\"center\",\"tried\",\"fish\",\"land\",\"oil\",\"deal\",\"political\",\"interested\",\"red\",\"gone\",\"amount\",\"weeks\",\"spent\",\"opportunity\",\"paper\",\"lost\",\"quickly\",\"national\",\"blue\",\"step\",\"poor\",\"green\",\"buy\",\"wouldn\",\"growth\",\"either\",\"patients\",\"sitting\",\"ability\",\"changes\",\"write\",\"challenge\",\"south\",\"low\",\"friend\",\"growing\",\"field\",\"shows\",\"rest\",\"born\",\"climate\",\"40\",\"test\",\"street\",\"incredible\",\"surface\",\"average\",\"physical\",\"pay\",\"program\",\"morning\",\"scientists\",\"value\",\"behavior\",\"hundreds\",\"met\",\"girl\",\"feeling\",\"economy\",\"dna\",\"complex\",\"access\",\"risk\",\"animal\",\"structure\",\"feet\",\"attention\",\"anyone\",\"areas\",\"deep\",\"watch\",\"short\",\"absolutely\",\"brought\",\"speak\",\"bottom\",\"die\",\"numbers\",\"audience\",\"stage\",\"realize\",\"images\",\"law\",\"wrote\",\"understanding\",\"literally\",\"books\",\"knowledge\",\"movement\",\"giving\",\"ground\",\"eat\",\"force\",\"alone\",\"seems\",\"telling\",\"hold\",\"starting\",\"nice\",\"forward\",\"sea\",\"developed\",\"kid\",\"individual\",\"millions\",\"support\",\"tools\",\"running\",\"miles\",\"online\",\"result\",\"act\",\"medical\",\"technologies\",\"north\",\"development\",\"lab\",\"blood\",\"fear\",\"map\",\"nobody\",\"personal\",\"issue\",\"voice\",\"material\",\"key\",\"recently\",\"12\",\"theory\",\"cut\",\"cars\",\"sun\",\"fast\",\"changing\",\"clear\",\"playing\",\"especially\",\"patient\",\"soon\",\"girls\",\"fly\",\"choice\",\"creating\",\"talked\",\"relationship\",\"normal\",\"europe\",\"discovered\",\"gives\",\"generation\",\"dark\",\"showed\",\"type\",\"asking\",\"chance\",\"industry\",\"seem\",\"rate\",\"fun\",\"designed\",\"issues\",\"hour\",\"color\",\"innovation\",\"several\",\"university\",\"computers\",\"tiny\",\"english\",\"focus\",\"save\",\"allow\",\"class\",\"developing\",\"solve\",\"digital\",\"film\",\"network\",\"special\",\"wall\",\"baby\",\"situation\",\"solution\",\"box\",\"reasons\",\"knows\",\"stand\",\"dead\",\"meet\",\"begin\",\"impact\",\"anybody\",\"haven\",\"term\",\"beyond\",\"pictures\",\"please\",\"produce\",\"ice\",\"shape\",\"non\",\"resources\",\"cool\",\"robot\",\"groups\",\"stay\",\"likely\",\"major\",\"rights\",\"truth\",\"available\",\"writing\",\"experiment\",\"evidence\",\"cause\",\"obviously\",\"modern\",\"drug\",\"becomes\",\"incredibly\",\"bigger\",\"aren\",\"guess\",\"product\",\"nine\",\"drugs\",\"lived\",\"involved\",\"month\",\"google\",\"perfect\",\"effect\",\"putting\",\"similar\",\"eye\",\"pick\",\"message\",\"violence\",\"web\",\"quality\",\"office\",\"security\",\"evolution\",\"general\",\"indeed\",\"basic\",\"solar\",\"towards\",\"present\",\"drive\",\"listen\",\"send\",\"worth\",\"revolution\",\"explain\",\"hundred\",\"died\",\"certainly\",\"teach\",\"ready\",\"25\",\"journey\",\"hit\",\"walking\",\"led\",\"international\",\"approach\",\"200\",\"scientific\",\"games\",\"60\",\"potential\",\"crazy\",\"chinese\",\"communities\",\"device\",\"camera\",\"source\",\"sex\",\"carbon\",\"rules\",\"sounds\",\"boy\",\"reach\",\"starts\",\"west\",\"examples\",\"software\",\"success\",\"measure\",\"particularly\",\"totally\",\"suddenly\",\"action\",\"college\",\"higher\",\"code\",\"eventually\",\"democracy\",\"sit\",\"minute\",\"among\",\"largest\",\"hospital\",\"showing\",\"period\",\"notice\",\"mass\",\"develop\",\"dream\",\"onto\",\"memory\",\"break\",\"add\",\"plants\",\"everywhere\",\"zero\",\"favorite\",\"11\",\"response\",\"moved\",\"speed\",\"schools\",\"wants\",\"movie\",\"extremely\",\"table\",\"individuals\",\"wait\",\"medicine\",\"follow\",\"trust\",\"anyway\",\"plant\",\"biggest\",\"watching\",\"organization\",\"road\",\"creative\",\"worse\",\"choose\",\"lead\",\"results\",\"500\",\"exciting\",\"grew\",\"materials\",\"jobs\",\"positive\",\"poverty\",\"east\",\"strong\",\"safe\",\"fall\",\"plan\",\"essentially\",\"object\",\"door\",\"son\",\"vision\",\"happiness\",\"continue\",\"further\",\"student\",\"doctor\",\"role\",\"named\",\"objects\",\"including\",\"extraordinary\",\"standing\",\"conversation\",\"skin\",\"leaders\",\"usually\",\"african\",\"projects\",\"models\",\"allowed\",\"supposed\",\"faster\",\"interest\",\"families\",\"police\",\"fight\",\"tree\",\"connected\",\"screen\",\"cases\",\"somewhere\",\"goal\",\"buildings\",\"finding\",\"shown\",\"older\",\"meaning\",\"teachers\",\"expect\",\"decision\",\"taught\",\"80\",\"fire\",\"village\",\"mine\",\"wife\"],\"x1\":{\"__ndarray__\":\"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\",\"dtype\":\"float32\",\"shape\":[1000]},\"x2\":{\"__ndarray__\":\"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\",\"dtype\":\"float32\",\"shape\":[1000]}},\"selected\":{\"id\":\"1136\",\"type\":\"Selection\"},\"selection_policy\":{\"id\":\"1137\",\"type\":\"UnionRenderers\"}},\"id\":\"1116\",\"type\":\"ColumnDataSource\"}],\"root_ids\":[\"1086\"]},\"title\":\"Bokeh Application\",\"version\":\"1.3.4\"}};\n",
       "  var render_items = [{\"docid\":\"02828ce2-fb74-42b6-8790-7447fde7bc8e\",\"roots\":{\"1086\":\"4d45d2a8-5c41-4aa6-ad8b-1092817b4b26\"}}];\n",
       "  root.Bokeh.embed.embed_items_notebook(docs_json, render_items);\n",
       "\n",
       "  }\n",
       "  if (root.Bokeh !== undefined) {\n",
       "    embed_document(root);\n",
       "  } else {\n",
       "    var attempts = 0;\n",
       "    var timer = setInterval(function(root) {\n",
       "      if (root.Bokeh !== undefined) {\n",
       "        embed_document(root);\n",
       "        clearInterval(timer);\n",
       "      }\n",
       "      attempts++;\n",
       "      if (attempts > 100) {\n",
       "        console.log(\"Bokeh: ERROR: Unable to run BokehJS code because BokehJS library is missing\");\n",
       "        clearInterval(timer);\n",
       "      }\n",
       "    }, 10, root)\n",
       "  }\n",
       "})(window);"
      ],
      "application/vnd.bokehjs_exec.v0+json": ""
     },
     "metadata": {
      "application/vnd.bokehjs_exec.v0+json": {
       "id": "1086"
      }
     },
     "output_type": "display_data"
    }
   ],
   "source": [
    "p = figure(tools=\"pan,wheel_zoom,reset,save\",\n",
    "           toolbar_location=\"above\",\n",
    "           title=\"word2vec T-SNE for most common words\")\n",
    "\n",
    "source = ColumnDataSource(data=dict(x1=words_top_ted_tsne[:,0],\n",
    "                                    x2=words_top_ted_tsne[:,1],\n",
    "                                    names=words_top_ted))\n",
    "\n",
    "p.scatter(x=\"x1\", y=\"x2\", size=8, source=source)\n",
    "\n",
    "labels = LabelSet(x=\"x1\", y=\"x2\", text=\"names\", y_offset=6,\n",
    "                  text_font_size=\"8pt\", text_color=\"#555555\",\n",
    "                  source=source, text_align='center')\n",
    "p.add_layout(labels)\n",
    "\n",
    "show(p)"
   ]
  },
  {
   "cell_type": "markdown",
   "metadata": {},
   "source": [
    "### Part 5: Wiki Learnt Representations"
   ]
  },
  {
   "cell_type": "markdown",
   "metadata": {},
   "source": [
    "Download dataset"
   ]
  },
  {
   "cell_type": "code",
   "execution_count": null,
   "metadata": {
    "collapsed": true
   },
   "outputs": [],
   "source": [
    "if not os.path.isfile('wikitext-103-raw-v1.zip'):\n",
    "    urllib.request.urlretrieve(\"https://s3.amazonaws.com/research.metamind.io/wikitext/wikitext-103-raw-v1.zip\", filename=\"wikitext-103-raw-v1.zip\")"
   ]
  },
  {
   "cell_type": "code",
   "execution_count": 5,
   "metadata": {},
   "outputs": [],
   "source": [
    "with zipfile.ZipFile('wikitext-103-raw-v1.zip', 'r') as z:\n",
    "    input_text = str(z.open('wikitext-103-raw/wiki.train.raw', 'r').read(), encoding='utf-8') # Thanks Robert Bastian"
   ]
  },
  {
   "cell_type": "markdown",
   "metadata": {},
   "source": [
    "Preprocess sentences (note that it's important to remove small sentences for performance)"
   ]
  },
  {
   "cell_type": "code",
   "execution_count": 6,
   "metadata": {},
   "outputs": [],
   "source": [
    "sentences_wiki = []\n",
    "for line in input_text.split('\\n'):\n",
    "    s = [x for x in line.split('.') if x and len(x.split()) >= 5]\n",
    "    sentences_wiki.extend(s)\n",
    "    \n",
    "for s_i in range(len(sentences_wiki)):\n",
    "    sentences_wiki[s_i] = re.sub(\"[^a-z0-9]\", \" \", sentences_wiki[s_i].lower())\n",
    "    sentences_wiki[s_i] = re.sub(r'\\([^)]*\\)', '', sentences_wiki[s_i])\n",
    "del input_text"
   ]
  },
  {
   "cell_type": "code",
   "execution_count": 7,
   "metadata": {},
   "outputs": [
    {
     "name": "stdout",
     "output_type": "stream",
     "text": [
      "4267112\n",
      "853422\n"
     ]
    }
   ],
   "source": [
    "# sample 1/5 of the data\n",
    "shuffle(sentences_wiki)\n",
    "print(len(sentences_wiki))\n",
    "sentences_wiki = sentences_wiki[:int(len(sentences_wiki)/5)]\n",
    "print(len(sentences_wiki))"
   ]
  },
  {
   "cell_type": "markdown",
   "metadata": {},
   "source": [
    "Now, repeat all the same steps that you performed above. You should be able to reuse essentially all the code."
   ]
  },
  {
   "cell_type": "code",
   "execution_count": 8,
   "metadata": {},
   "outputs": [],
   "source": [
    "wiki_ted = []\n",
    "for wiki_str in sentences_wiki:\n",
    "    tokens = re.sub(r\"[^a-z0-9]+\", \" \", wiki_str.lower()).split()\n",
    "    # tokens = re.sub(r'[{}]+'.format('-!:,.;?\"'), \" \", sent_str.lower()).split()\n",
    "    wiki_ted.append(tokens)"
   ]
  },
  {
   "cell_type": "code",
   "execution_count": 11,
   "metadata": {},
   "outputs": [
    {
     "name": "stdout",
     "output_type": "stream",
     "text": [
      "243869 Dictionary(243869 unique tokens: ['a', 'and', 'art', 'bold', 'character']...)\n"
     ]
    }
   ],
   "source": [
    "model_wiki = Word2Vec(sentences=wiki_ted, size=100, window=5, min_count=10, workers=4, sg=0)\n",
    "dictionary_wiki = corpora.Dictionary(wiki_ted)\n",
    "print(len(dictionary_wiki), dictionary_wiki)"
   ]
  },
  {
   "cell_type": "code",
   "execution_count": 15,
   "metadata": {},
   "outputs": [],
   "source": [
    "wiki = CountVectorizer()\n",
    "Y = wiki.fit_transform(sentences_wiki)\n",
    "wiki_ted_top1000_index = np.array(np.argsort(-Y.sum(axis=0))).squeeze()[:1000]\n",
    "wiki_ted_top1000_word = np.array(wiki.get_feature_names())[wiki_ted_top1000_index]\n",
    "wiki_ted_top1000 = np.array(-1 * np.sort(-Y.sum(axis=0))).squeeze()[:1000]"
   ]
  },
  {
   "cell_type": "markdown",
   "metadata": {},
   "source": [
    "#### t-SNE visualization"
   ]
  },
  {
   "cell_type": "code",
   "execution_count": 18,
   "metadata": {},
   "outputs": [
    {
     "name": "stderr",
     "output_type": "stream",
     "text": [
      "D:\\Miniconda3\\lib\\site-packages\\ipykernel_launcher.py:3: DeprecationWarning: Call to deprecated `__getitem__` (Method will be removed in 4.0.0, use self.wv.__getitem__() instead).\n",
      "  This is separate from the ipykernel package so we can avoid doing imports until\n"
     ]
    }
   ],
   "source": [
    "# This assumes words_top_wiki is a list of strings, the top 1000 words\n",
    "words_top_wiki = wiki_ted_top1000_word\n",
    "words_top_vec_wiki = model_wiki[words_top_wiki]\n",
    "\n",
    "tsne = TSNE(n_components=2, random_state=0)\n",
    "words_top_wiki_tsne = tsne.fit_transform(words_top_vec_wiki)"
   ]
  },
  {
   "cell_type": "code",
   "execution_count": 19,
   "metadata": {},
   "outputs": [
    {
     "data": {
      "text/html": [
       "\n",
       "\n",
       "\n",
       "\n",
       "\n",
       "\n",
       "  <div class=\"bk-root\" id=\"c4622b3f-a4ab-4827-af65-dc735715fc26\" data-root-id=\"1002\"></div>\n"
      ]
     },
     "metadata": {},
     "output_type": "display_data"
    },
    {
     "data": {
      "application/javascript": [
       "(function(root) {\n",
       "  function embed_document(root) {\n",
       "    \n",
       "  var docs_json = {\"b541506b-f919-451f-b660-1998550ab849\":{\"roots\":{\"references\":[{\"attributes\":{\"below\":[{\"id\":\"1013\",\"type\":\"LinearAxis\"}],\"center\":[{\"id\":\"1017\",\"type\":\"Grid\"},{\"id\":\"1022\",\"type\":\"Grid\"},{\"id\":\"1038\",\"type\":\"LabelSet\"}],\"left\":[{\"id\":\"1018\",\"type\":\"LinearAxis\"}],\"renderers\":[{\"id\":\"1036\",\"type\":\"GlyphRenderer\"}],\"title\":{\"id\":\"1003\",\"type\":\"Title\"},\"toolbar\":{\"id\":\"1027\",\"type\":\"Toolbar\"},\"toolbar_location\":\"above\",\"x_range\":{\"id\":\"1005\",\"type\":\"DataRange1d\"},\"x_scale\":{\"id\":\"1009\",\"type\":\"LinearScale\"},\"y_range\":{\"id\":\"1007\",\"type\":\"DataRange1d\"},\"y_scale\":{\"id\":\"1011\",\"type\":\"LinearScale\"}},\"id\":\"1002\",\"subtype\":\"Figure\",\"type\":\"Plot\"},{\"attributes\":{},\"id\":\"1023\",\"type\":\"PanTool\"},{\"attributes\":{\"fill_color\":{\"value\":\"#1f77b4\"},\"line_color\":{\"value\":\"#1f77b4\"},\"size\":{\"units\":\"screen\",\"value\":8},\"x\":{\"field\":\"x1\"},\"y\":{\"field\":\"x2\"}},\"id\":\"1034\",\"type\":\"Scatter\"},{\"attributes\":{},\"id\":\"1024\",\"type\":\"WheelZoomTool\"},{\"attributes\":{},\"id\":\"1025\",\"type\":\"ResetTool\"},{\"attributes\":{\"callback\":null,\"data\":{\"names\":[\"the\",\"of\",\"and\",\"in\",\"to\",\"was\",\"on\",\"as\",\"for\",\"that\",\"with\",\"by\",\"is\",\"his\",\"he\",\"at\",\"from\",\"it\",\"were\",\"an\",\"had\",\"which\",\"be\",\"this\",\"but\",\"are\",\"first\",\"not\",\"their\",\"after\",\"one\",\"her\",\"its\",\"also\",\"they\",\"two\",\"or\",\"have\",\"who\",\"new\",\"been\",\"has\",\"she\",\"when\",\"time\",\"during\",\"other\",\"would\",\"into\",\"all\",\"more\",\"while\",\"over\",\"game\",\"him\",\"only\",\"later\",\"up\",\"most\",\"three\",\"out\",\"about\",\"between\",\"than\",\"there\",\"some\",\"may\",\"film\",\"before\",\"year\",\"made\",\"no\",\"such\",\"season\",\"second\",\"000\",\"where\",\"war\",\"years\",\"world\",\"however\",\"both\",\"used\",\"through\",\"then\",\"them\",\"being\",\"song\",\"these\",\"series\",\"against\",\"album\",\"many\",\"part\",\"team\",\"number\",\"became\",\"city\",\"including\",\"four\",\"can\",\"several\",\"north\",\"well\",\"united\",\"early\",\"state\",\"under\",\"day\",\"music\",\"so\",\"south\",\"episode\",\"said\",\"states\",\"following\",\"although\",\"could\",\"known\",\"american\",\"did\",\"work\",\"began\",\"until\",\"because\",\"released\",\"called\",\"like\",\"high\",\"10\",\"end\",\"people\",\"british\",\"around\",\"since\",\"each\",\"life\",\"long\",\"found\",\"national\",\"best\",\"west\",\"if\",\"september\",\"same\",\"million\",\"along\",\"five\",\"us\",\"back\",\"use\",\"another\",\"you\",\"show\",\"took\",\"final\",\"group\",\"off\",\"august\",\"any\",\"area\",\"october\",\"received\",\"century\",\"john\",\"due\",\"school\",\"km\",\"government\",\"will\",\"what\",\"june\",\"line\",\"system\",\"east\",\"single\",\"march\",\"much\",\"july\",\"set\",\"home\",\"november\",\"games\",\"third\",\"down\",\"general\",\"april\",\"major\",\"large\",\"family\",\"york\",\"left\",\"based\",\"just\",\"december\",\"road\",\"12\",\"place\",\"house\",\"included\",\"history\",\"army\",\"company\",\"six\",\"we\",\"january\",\"played\",\"20\",\"band\",\"character\",\"name\",\"wrote\",\"king\",\"won\",\"now\",\"15\",\"own\",\"within\",\"according\",\"led\",\"times\",\"river\",\"main\",\"near\",\"next\",\"last\",\"video\",\"those\",\"named\",\"air\",\"men\",\"death\",\"described\",\"league\",\"battle\",\"late\",\"still\",\"original\",\"de\",\"top\",\"make\",\"release\",\"record\",\"even\",\"great\",\"30\",\"ship\",\"man\",\"very\",\"species\",\"way\",\"club\",\"production\",\"old\",\"route\",\"storm\",\"public\",\"small\",\"though\",\"february\",\"again\",\"force\",\"university\",\"among\",\"held\",\"built\",\"play\",\"further\",\"role\",\"days\",\"11\",\"2010\",\"do\",\"service\",\"match\",\"members\",\"side\",\"division\",\"white\",\"book\",\"german\",\"french\",\"story\",\"power\",\"often\",\"2009\",\"water\",\"having\",\"former\",\"point\",\"100\",\"black\",\"order\",\"player\",\"career\",\"park\",\"2008\",\"local\",\"town\",\"came\",\"without\",\"18\",\"2011\",\"continued\",\"england\",\"despite\",\"half\",\"considered\",\"island\",\"13\",\"take\",\"songs\",\"party\",\"14\",\"2007\",\"different\",\"16\",\"county\",\"development\",\"period\",\"military\",\"few\",\"become\",\"written\",\"form\",\"support\",\"moved\",\"2012\",\"version\",\"english\",\"little\",\"building\",\"25\",\"court\",\"ii\",\"tropical\",\"president\",\"given\",\"london\",\"forces\",\"lost\",\"international\",\"country\",\"re\",\"my\",\"tour\",\"using\",\"lead\",\"gave\",\"performance\",\"short\",\"attack\",\"track\",\"published\",\"returned\",\"royal\",\"church\",\"never\",\"similar\",\"recorded\",\"position\",\"run\",\"street\",\"went\",\"land\",\"produced\",\"total\",\"control\",\"children\",\"ships\",\"include\",\"stated\",\"highway\",\"aircraft\",\"western\",\"17\",\"per\",\"live\",\"star\",\"2006\",\"class\",\"how\",\"good\",\"making\",\"television\",\"week\",\"fire\",\"throughout\",\"women\",\"right\",\"father\",\"once\",\"upon\",\"himself\",\"head\",\"characters\",\"me\",\"love\",\"2013\",\"less\",\"australia\",\"central\",\"players\",\"design\",\"writing\",\"title\",\"result\",\"across\",\"seven\",\"light\",\"political\",\"ft\",\"red\",\"24\",\"months\",\"southern\",\"instead\",\"rock\",\"away\",\"died\",\"remained\",\"young\",\"return\",\"law\",\"sea\",\"age\",\"station\",\"developed\",\"ten\",\"james\",\"center\",\"low\",\"night\",\"eight\",\"noted\",\"21\",\"various\",\"previous\",\"hurricane\",\"reported\",\"areas\",\"too\",\"felt\",\"eventually\",\"office\",\"construction\",\"announced\",\"william\",\"win\",\"style\",\"college\",\"america\",\"created\",\"field\",\"22\",\"act\",\"race\",\"should\",\"son\",\"sent\",\"seen\",\"reached\",\"together\",\"action\",\"performed\",\"award\",\"japanese\",\"miles\",\"served\",\"st\",\"2005\",\"19\",\"2014\",\"northern\",\"member\",\"level\",\"range\",\"50\",\"chart\",\"common\",\"established\",\"able\",\"australian\",\"success\",\"followed\",\"campaign\",\"full\",\"killed\",\"thought\",\"points\",\"modern\",\"football\",\"originally\",\"23\",\"taken\",\"project\",\"works\",\"appeared\",\"post\",\"george\",\"front\",\"site\",\"addition\",\"caused\",\"mm\",\"others\",\"bridge\",\"stage\",\"started\",\"born\",\"special\",\"rather\",\"located\",\"features\",\"critics\",\"get\",\"body\",\"damage\",\"sold\",\"decided\",\"fourth\",\"playing\",\"population\",\"feet\",\"popular\",\"added\",\"saw\",\"formed\",\"championship\",\"heavy\",\"completed\",\"present\",\"28\",\"case\",\"awards\",\"behind\",\"strong\",\"initially\",\"go\",\"26\",\"director\",\"every\",\"close\",\"mother\",\"important\",\"40\",\"command\",\"fleet\",\"eastern\",\"almost\",\"27\",\"region\",\"non\",\"opened\",\"kingdom\",\"worked\",\"david\",\"open\",\"art\",\"2004\",\"see\",\"scored\",\"soon\",\"weeks\",\"guns\",\"coast\",\"ground\",\"hall\",\"recording\",\"leading\",\"working\",\"union\",\"free\",\"france\",\"least\",\"records\",\"event\",\"ever\",\"2015\",\"towards\",\"brought\",\"help\",\"michael\",\"hit\",\"average\",\"wanted\",\"cup\",\"does\",\"studio\",\"magazine\",\"either\",\"scene\",\"put\",\"mi\",\"provided\",\"navy\",\"henry\",\"training\",\"wife\",\"sound\",\"summer\",\"mid\",\"robert\",\"allowed\",\"featured\",\"opening\",\"designed\",\"victory\",\"example\",\"council\",\"2003\",\"events\",\"500\",\"troops\",\"hours\",\"runs\",\"media\",\"europe\",\"official\",\"far\",\"joined\",\"human\",\"minutes\",\"list\",\"placed\",\"200\",\"washington\",\"generally\",\"european\",\"involved\",\"earlier\",\"largest\",\"start\",\"police\",\"base\",\"29\",\"month\",\"saying\",\"co\",\"japan\",\"believed\",\"squadron\",\"association\",\"society\",\"successful\",\"operation\",\"replaced\",\"forced\",\"mph\",\"highest\",\"al\",\"research\",\"nine\",\"big\",\"finished\",\"rest\",\"test\",\"possible\",\"met\",\"beginning\",\"films\",\"crew\",\"review\",\"available\",\"brown\",\"outside\",\"particularly\",\"shot\",\"radio\",\"2002\",\"change\",\"section\",\"come\",\"captain\",\"lower\",\"2000\",\"stone\",\"must\",\"social\",\"significant\",\"cast\",\"chief\",\"community\",\"turned\",\"future\",\"better\",\"hill\",\"goal\",\"process\",\"taking\",\"thomas\",\"enough\",\"relationship\",\"2001\",\"business\",\"appearance\",\"ended\",\"passed\",\"san\",\"above\",\"charles\",\"additional\",\"increased\",\"middle\",\"praised\",\"going\",\"reviews\",\"move\",\"units\",\"elements\",\"real\",\"winds\",\"spent\",\"gold\",\"rights\",\"signed\",\"canada\",\"committee\",\"type\",\"ordered\",\"interest\",\"round\",\"don\",\"california\",\"space\",\"program\",\"critical\",\"previously\",\"staff\",\"parts\",\"cross\",\"31\",\"infantry\",\"overall\",\"paul\",\"board\",\"directed\",\"positive\",\"thus\",\"lake\",\"find\",\"grand\",\"brother\",\"evidence\",\"castle\",\"attempt\",\"told\",\"india\",\"required\",\"prior\",\"failed\",\"give\",\"plan\",\"money\",\"groups\",\"district\",\"female\",\"cover\",\"musical\",\"sometimes\",\"entire\",\"news\",\"asked\",\"personal\",\"lines\",\"our\",\"square\",\"itself\",\"uk\",\"already\",\"germany\",\"green\",\"bill\",\"port\",\"battalion\",\"flight\",\"study\",\"whose\",\"gun\",\"term\",\"past\",\"indian\",\"hand\",\"election\",\"plot\",\"smith\",\"press\",\"idea\",\"surface\",\"reception\",\"speed\",\"room\",\"claimed\",\"decision\",\"usually\",\"quickly\",\"whom\",\"stars\",\"introduced\",\"complete\",\"education\",\"loss\",\"score\",\"arrived\",\"science\",\"limited\",\"material\",\"issue\",\"effects\",\"governor\",\"cut\",\"minister\",\"ny\",\"services\",\"turn\",\"blue\",\"centre\",\"anti\",\"mark\",\"teams\",\"industry\",\"especially\",\"response\",\"background\",\"movement\",\"woman\",\"becoming\",\"writer\",\"students\",\"debut\",\"novel\",\"leaving\",\"department\",\"shows\",\"fifth\",\"latter\",\"remaining\",\"voice\",\"la\",\"appointed\",\"person\",\"peter\",\"intended\",\"episodes\",\"defeated\",\"food\",\"car\",\"operations\",\"commander\",\"length\",\"hot\",\"naval\",\"pressure\",\"carried\",\"winning\",\"depression\",\"britain\",\"nearly\",\"might\",\"1999\",\"richard\",\"suggested\",\"size\",\"percent\",\"changes\",\"earth\",\"pop\",\"approximately\",\"queen\",\"larger\",\"finally\",\"view\",\"bay\",\"structure\",\"estimated\",\"provide\",\"commercial\",\"god\",\"village\",\"today\",\"current\",\"scenes\",\"running\",\"virginia\",\"civil\",\"entered\",\"empire\",\"report\",\"self\",\"living\",\"network\",\"nature\",\"proposed\",\"child\",\"shortly\",\"islands\",\"producer\",\"higher\",\"experience\",\"influence\",\"lack\",\"leader\",\"language\",\"regular\",\"dark\",\"date\",\"health\",\"compared\",\"tracks\",\"helped\",\"los\",\"wide\",\"manager\",\"married\",\"planned\",\"daughter\",\"officer\",\"brigade\",\"cost\",\"agreed\",\"fact\",\"plans\",\"course\",\"related\",\"subsequently\",\"spanish\",\"longer\",\"face\",\"captured\",\"railway\",\"contract\",\"your\",\"soviet\",\"guitar\",\"whether\",\"trade\",\"remains\",\"private\",\"create\",\"destroyed\",\"chicago\",\"60\",\"immediately\",\"regiment\",\"mostly\",\"federal\",\"got\",\"1998\",\"themselves\",\"feature\",\"awarded\",\"natural\",\"buildings\",\"professional\",\"soldiers\",\"ball\",\"fans\",\"associated\",\"billboard\",\"fort\",\"done\",\"forward\",\"effect\",\"friends\",\"probably\",\"minor\",\"yet\",\"museum\",\"jackson\",\"copies\",\"officers\",\"extended\",\"location\",\"increase\",\"pacific\",\"issued\",\"corps\",\"meeting\",\"chinese\",\"moving\",\"appear\",\"countries\",\"ran\",\"supported\",\"energy\",\"singles\",\"atlantic\",\"upper\",\"books\",\"lyrics\",\"via\",\"friend\",\"initial\",\"something\",\"includes\",\"changed\",\"cause\",\"mixed\",\"johnson\",\"difficult\"],\"x1\":{\"__ndarray__\":\"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\",\"dtype\":\"float32\",\"shape\":[1000]},\"x2\":{\"__ndarray__\":\"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\",\"dtype\":\"float32\",\"shape\":[1000]}},\"selected\":{\"id\":\"1046\",\"type\":\"Selection\"},\"selection_policy\":{\"id\":\"1045\",\"type\":\"UnionRenderers\"}},\"id\":\"1032\",\"type\":\"ColumnDataSource\"},{\"attributes\":{},\"id\":\"1026\",\"type\":\"SaveTool\"},{\"attributes\":{\"active_drag\":\"auto\",\"active_inspect\":\"auto\",\"active_multi\":null,\"active_scroll\":\"auto\",\"active_tap\":\"auto\",\"tools\":[{\"id\":\"1023\",\"type\":\"PanTool\"},{\"id\":\"1024\",\"type\":\"WheelZoomTool\"},{\"id\":\"1025\",\"type\":\"ResetTool\"},{\"id\":\"1026\",\"type\":\"SaveTool\"}]},\"id\":\"1027\",\"type\":\"Toolbar\"},{\"attributes\":{\"fill_alpha\":{\"value\":0.1},\"fill_color\":{\"value\":\"#1f77b4\"},\"line_alpha\":{\"value\":0.1},\"line_color\":{\"value\":\"#1f77b4\"},\"size\":{\"units\":\"screen\",\"value\":8},\"x\":{\"field\":\"x1\"},\"y\":{\"field\":\"x2\"}},\"id\":\"1035\",\"type\":\"Scatter\"},{\"attributes\":{\"data_source\":{\"id\":\"1032\",\"type\":\"ColumnDataSource\"},\"glyph\":{\"id\":\"1034\",\"type\":\"Scatter\"},\"hover_glyph\":null,\"muted_glyph\":null,\"nonselection_glyph\":{\"id\":\"1035\",\"type\":\"Scatter\"},\"selection_glyph\":null,\"view\":{\"id\":\"1037\",\"type\":\"CDSView\"}},\"id\":\"1036\",\"type\":\"GlyphRenderer\"},{\"attributes\":{\"source\":{\"id\":\"1032\",\"type\":\"ColumnDataSource\"}},\"id\":\"1037\",\"type\":\"CDSView\"},{\"attributes\":{\"text\":\"word2vec T-SNE for most common words\"},\"id\":\"1003\",\"type\":\"Title\"},{\"attributes\":{\"callback\":null},\"id\":\"1005\",\"type\":\"DataRange1d\"},{\"attributes\":{},\"id\":\"1041\",\"type\":\"BasicTickFormatter\"},{\"attributes\":{},\"id\":\"1009\",\"type\":\"LinearScale\"},{\"attributes\":{},\"id\":\"1043\",\"type\":\"BasicTickFormatter\"},{\"attributes\":{},\"id\":\"1011\",\"type\":\"LinearScale\"},{\"attributes\":{},\"id\":\"1045\",\"type\":\"UnionRenderers\"},{\"attributes\":{\"formatter\":{\"id\":\"1041\",\"type\":\"BasicTickFormatter\"},\"ticker\":{\"id\":\"1014\",\"type\":\"BasicTicker\"}},\"id\":\"1013\",\"type\":\"LinearAxis\"},{\"attributes\":{},\"id\":\"1046\",\"type\":\"Selection\"},{\"attributes\":{\"callback\":null},\"id\":\"1007\",\"type\":\"DataRange1d\"},{\"attributes\":{},\"id\":\"1014\",\"type\":\"BasicTicker\"},{\"attributes\":{\"ticker\":{\"id\":\"1014\",\"type\":\"BasicTicker\"}},\"id\":\"1017\",\"type\":\"Grid\"},{\"attributes\":{\"source\":{\"id\":\"1032\",\"type\":\"ColumnDataSource\"},\"text\":{\"field\":\"names\"},\"text_align\":\"center\",\"text_color\":{\"value\":\"#555555\"},\"text_font_size\":{\"value\":\"8pt\"},\"x\":{\"field\":\"x1\"},\"y\":{\"field\":\"x2\"},\"y_offset\":{\"value\":6}},\"id\":\"1038\",\"type\":\"LabelSet\"},{\"attributes\":{\"formatter\":{\"id\":\"1043\",\"type\":\"BasicTickFormatter\"},\"ticker\":{\"id\":\"1019\",\"type\":\"BasicTicker\"}},\"id\":\"1018\",\"type\":\"LinearAxis\"},{\"attributes\":{},\"id\":\"1019\",\"type\":\"BasicTicker\"},{\"attributes\":{\"dimension\":1,\"ticker\":{\"id\":\"1019\",\"type\":\"BasicTicker\"}},\"id\":\"1022\",\"type\":\"Grid\"}],\"root_ids\":[\"1002\"]},\"title\":\"Bokeh Application\",\"version\":\"1.3.4\"}};\n",
       "  var render_items = [{\"docid\":\"b541506b-f919-451f-b660-1998550ab849\",\"roots\":{\"1002\":\"c4622b3f-a4ab-4827-af65-dc735715fc26\"}}];\n",
       "  root.Bokeh.embed.embed_items_notebook(docs_json, render_items);\n",
       "\n",
       "  }\n",
       "  if (root.Bokeh !== undefined) {\n",
       "    embed_document(root);\n",
       "  } else {\n",
       "    var attempts = 0;\n",
       "    var timer = setInterval(function(root) {\n",
       "      if (root.Bokeh !== undefined) {\n",
       "        embed_document(root);\n",
       "        clearInterval(timer);\n",
       "      }\n",
       "      attempts++;\n",
       "      if (attempts > 100) {\n",
       "        console.log(\"Bokeh: ERROR: Unable to run BokehJS code because BokehJS library is missing\");\n",
       "        clearInterval(timer);\n",
       "      }\n",
       "    }, 10, root)\n",
       "  }\n",
       "})(window);"
      ],
      "application/vnd.bokehjs_exec.v0+json": ""
     },
     "metadata": {
      "application/vnd.bokehjs_exec.v0+json": {
       "id": "1002"
      }
     },
     "output_type": "display_data"
    }
   ],
   "source": [
    "p = figure(tools=\"pan,wheel_zoom,reset,save\",\n",
    "           toolbar_location=\"above\",\n",
    "           title=\"word2vec T-SNE for most common words\")\n",
    "\n",
    "source = ColumnDataSource(data=dict(x1=words_top_wiki_tsne[:,0],\n",
    "                                    x2=words_top_wiki_tsne[:,1],\n",
    "                                    names=words_top_wiki))\n",
    "\n",
    "p.scatter(x=\"x1\", y=\"x2\", size=8, source=source)\n",
    "\n",
    "labels = LabelSet(x=\"x1\", y=\"x2\", text=\"names\", y_offset=6,\n",
    "                  text_font_size=\"8pt\", text_color=\"#555555\",\n",
    "                  source=source, text_align='center')\n",
    "p.add_layout(labels)\n",
    "\n",
    "show(p)"
   ]
  },
  {
   "cell_type": "code",
   "execution_count": 20,
   "metadata": {},
   "outputs": [],
   "source": [
    "from sklearn.cluster import KMeans"
   ]
  },
  {
   "cell_type": "code",
   "execution_count": 21,
   "metadata": {},
   "outputs": [
    {
     "name": "stdout",
     "output_type": "stream",
     "text": [
      "['into' 'up' 'out' 'through' 'back' 'off' 'down' 'across' 'away'\n",
      " 'together' 'forward']\n",
      "['general' 'chief' 'governor' 'minister' 'commander']\n"
     ]
    }
   ],
   "source": [
    "clustering = KMeans(n_clusters=100)  # 聚几个类\n",
    "\n",
    "clustering.fit(words_top_vec_wiki)\n",
    "clu_labels = clustering.labels_  # 0-100 个标签\n",
    "\n",
    "print(wiki_ted_top1000_word[clu_labels == 0])\n",
    "print(wiki_ted_top1000_word[clu_labels == 1])"
   ]
  },
  {
   "cell_type": "code",
   "execution_count": 57,
   "metadata": {},
   "outputs": [],
   "source": [
    "colors = ['#%d%d%d' % (int(2.55 * r), 150, 150) for r in clu_labels]\n"
   ]
  },
  {
   "cell_type": "code",
   "execution_count": 58,
   "metadata": {
    "scrolled": true
   },
   "outputs": [],
   "source": [
    "p = figure(tools=\"pan,wheel_zoom,reset,save\",\n",
    "           toolbar_location=\"above\",\n",
    "           title=\"word2vec T-SNE for most common words\")\n",
    "\n",
    "clustering_source = ColumnDataSource(data=dict(x1=words_top_wiki_tsne[:, 0],\n",
    "                                               x2=words_top_wiki_tsne[:, 1],\n",
    "                                               names=words_top_wiki))\n",
    "\n"
   ]
  },
  {
   "cell_type": "code",
   "execution_count": 60,
   "metadata": {},
   "outputs": [
    {
     "data": {
      "text/html": [
       "<div style=\"display: table;\"><div style=\"display: table-row;\"><div style=\"display: table-cell;\"><b title=\"bokeh.models.renderers.GlyphRenderer\">GlyphRenderer</b>(</div><div style=\"display: table-cell;\">id&nbsp;=&nbsp;'1605', <span id=\"1608\" style=\"cursor: pointer;\">&hellip;)</span></div></div><div class=\"1607\" style=\"display: none;\"><div style=\"display: table-cell;\"></div><div style=\"display: table-cell;\">data_source&nbsp;=&nbsp;ColumnDataSource(id='1600', ...),</div></div><div class=\"1607\" style=\"display: none;\"><div style=\"display: table-cell;\"></div><div style=\"display: table-cell;\">glyph&nbsp;=&nbsp;Scatter(id='1603', ...),</div></div><div class=\"1607\" style=\"display: none;\"><div style=\"display: table-cell;\"></div><div style=\"display: table-cell;\">hover_glyph&nbsp;=&nbsp;None,</div></div><div class=\"1607\" style=\"display: none;\"><div style=\"display: table-cell;\"></div><div style=\"display: table-cell;\">js_event_callbacks&nbsp;=&nbsp;{},</div></div><div class=\"1607\" style=\"display: none;\"><div style=\"display: table-cell;\"></div><div style=\"display: table-cell;\">js_property_callbacks&nbsp;=&nbsp;{},</div></div><div class=\"1607\" style=\"display: none;\"><div style=\"display: table-cell;\"></div><div style=\"display: table-cell;\">level&nbsp;=&nbsp;'glyph',</div></div><div class=\"1607\" style=\"display: none;\"><div style=\"display: table-cell;\"></div><div style=\"display: table-cell;\">muted&nbsp;=&nbsp;False,</div></div><div class=\"1607\" style=\"display: none;\"><div style=\"display: table-cell;\"></div><div style=\"display: table-cell;\">muted_glyph&nbsp;=&nbsp;None,</div></div><div class=\"1607\" style=\"display: none;\"><div style=\"display: table-cell;\"></div><div style=\"display: table-cell;\">name&nbsp;=&nbsp;None,</div></div><div class=\"1607\" style=\"display: none;\"><div style=\"display: table-cell;\"></div><div style=\"display: table-cell;\">nonselection_glyph&nbsp;=&nbsp;Scatter(id='1604', ...),</div></div><div class=\"1607\" style=\"display: none;\"><div style=\"display: table-cell;\"></div><div style=\"display: table-cell;\">selection_glyph&nbsp;=&nbsp;None,</div></div><div class=\"1607\" style=\"display: none;\"><div style=\"display: table-cell;\"></div><div style=\"display: table-cell;\">subscribed_events&nbsp;=&nbsp;[],</div></div><div class=\"1607\" style=\"display: none;\"><div style=\"display: table-cell;\"></div><div style=\"display: table-cell;\">tags&nbsp;=&nbsp;[],</div></div><div class=\"1607\" style=\"display: none;\"><div style=\"display: table-cell;\"></div><div style=\"display: table-cell;\">view&nbsp;=&nbsp;CDSView(id='1606', ...),</div></div><div class=\"1607\" style=\"display: none;\"><div style=\"display: table-cell;\"></div><div style=\"display: table-cell;\">visible&nbsp;=&nbsp;True,</div></div><div class=\"1607\" style=\"display: none;\"><div style=\"display: table-cell;\"></div><div style=\"display: table-cell;\">x_range_name&nbsp;=&nbsp;'default',</div></div><div class=\"1607\" style=\"display: none;\"><div style=\"display: table-cell;\"></div><div style=\"display: table-cell;\">y_range_name&nbsp;=&nbsp;'default')</div></div></div>\n",
       "<script>\n",
       "(function() {\n",
       "  var expanded = false;\n",
       "  var ellipsis = document.getElementById(\"1608\");\n",
       "  ellipsis.addEventListener(\"click\", function() {\n",
       "    var rows = document.getElementsByClassName(\"1607\");\n",
       "    for (var i = 0; i < rows.length; i++) {\n",
       "      var el = rows[i];\n",
       "      el.style.display = expanded ? \"none\" : \"table-row\";\n",
       "    }\n",
       "    ellipsis.innerHTML = expanded ? \"&hellip;)\" : \"&lsaquo;&lsaquo;&lsaquo;\";\n",
       "    expanded = !expanded;\n",
       "  });\n",
       "})();\n",
       "</script>\n"
      ],
      "text/plain": [
       "GlyphRenderer(id='1605', ...)"
      ]
     },
     "execution_count": 60,
     "metadata": {},
     "output_type": "execute_result"
    }
   ],
   "source": [
    "p.scatter(x=\"x1\", y=\"x2\", size=8, source=clustering_source)\n",
    "\n"
   ]
  },
  {
   "cell_type": "code",
   "execution_count": 61,
   "metadata": {},
   "outputs": [
    {
     "data": {
      "text/html": [
       "\n",
       "\n",
       "\n",
       "\n",
       "\n",
       "\n",
       "  <div class=\"bk-root\" id=\"fa4918ed-1090-46d7-aacb-b2bd5673c253\" data-root-id=\"1570\"></div>\n"
      ]
     },
     "metadata": {},
     "output_type": "display_data"
    },
    {
     "data": {
      "application/javascript": [
       "(function(root) {\n",
       "  function embed_document(root) {\n",
       "    \n",
       "  var docs_json = {\"fd8343c3-c05d-49d4-9046-779e310ed030\":{\"roots\":{\"references\":[{\"attributes\":{\"below\":[{\"id\":\"1581\",\"type\":\"LinearAxis\"}],\"center\":[{\"id\":\"1585\",\"type\":\"Grid\"},{\"id\":\"1590\",\"type\":\"Grid\"},{\"id\":\"1609\",\"type\":\"LabelSet\"}],\"left\":[{\"id\":\"1586\",\"type\":\"LinearAxis\"}],\"renderers\":[{\"id\":\"1605\",\"type\":\"GlyphRenderer\"}],\"title\":{\"id\":\"1571\",\"type\":\"Title\"},\"toolbar\":{\"id\":\"1595\",\"type\":\"Toolbar\"},\"toolbar_location\":\"above\",\"x_range\":{\"id\":\"1573\",\"type\":\"DataRange1d\"},\"x_scale\":{\"id\":\"1577\",\"type\":\"LinearScale\"},\"y_range\":{\"id\":\"1575\",\"type\":\"DataRange1d\"},\"y_scale\":{\"id\":\"1579\",\"type\":\"LinearScale\"}},\"id\":\"1570\",\"subtype\":\"Figure\",\"type\":\"Plot\"},{\"attributes\":{\"callback\":null},\"id\":\"1575\",\"type\":\"DataRange1d\"},{\"attributes\":{\"callback\":null},\"id\":\"1573\",\"type\":\"DataRange1d\"},{\"attributes\":{\"source\":{\"id\":\"1032\",\"type\":\"ColumnDataSource\"},\"text\":{\"field\":\"names\"},\"text_align\":\"center\",\"text_color\":{\"value\":\"#555555\"},\"text_font_size\":{\"value\":\"8pt\"},\"x\":{\"field\":\"x1\"},\"y\":{\"field\":\"x2\"},\"y_offset\":{\"value\":6}},\"id\":\"1609\",\"type\":\"LabelSet\"},{\"attributes\":{},\"id\":\"1577\",\"type\":\"LinearScale\"},{\"attributes\":{},\"id\":\"1639\",\"type\":\"BasicTickFormatter\"},{\"attributes\":{\"fill_color\":{\"value\":\"#1f77b4\"},\"line_color\":{\"value\":\"#1f77b4\"},\"size\":{\"units\":\"screen\",\"value\":8},\"x\":{\"field\":\"x1\"},\"y\":{\"field\":\"x2\"}},\"id\":\"1603\",\"type\":\"Scatter\"},{\"attributes\":{\"callback\":null,\"data\":{\"names\":[\"the\",\"of\",\"and\",\"in\",\"to\",\"was\",\"on\",\"as\",\"for\",\"that\",\"with\",\"by\",\"is\",\"his\",\"he\",\"at\",\"from\",\"it\",\"were\",\"an\",\"had\",\"which\",\"be\",\"this\",\"but\",\"are\",\"first\",\"not\",\"their\",\"after\",\"one\",\"her\",\"its\",\"also\",\"they\",\"two\",\"or\",\"have\",\"who\",\"new\",\"been\",\"has\",\"she\",\"when\",\"time\",\"during\",\"other\",\"would\",\"into\",\"all\",\"more\",\"while\",\"over\",\"game\",\"him\",\"only\",\"later\",\"up\",\"most\",\"three\",\"out\",\"about\",\"between\",\"than\",\"there\",\"some\",\"may\",\"film\",\"before\",\"year\",\"made\",\"no\",\"such\",\"season\",\"second\",\"000\",\"where\",\"war\",\"years\",\"world\",\"however\",\"both\",\"used\",\"through\",\"then\",\"them\",\"being\",\"song\",\"these\",\"series\",\"against\",\"album\",\"many\",\"part\",\"team\",\"number\",\"became\",\"city\",\"including\",\"four\",\"can\",\"several\",\"north\",\"well\",\"united\",\"early\",\"state\",\"under\",\"day\",\"music\",\"so\",\"south\",\"episode\",\"said\",\"states\",\"following\",\"although\",\"could\",\"known\",\"american\",\"did\",\"work\",\"began\",\"until\",\"because\",\"released\",\"called\",\"like\",\"high\",\"10\",\"end\",\"people\",\"british\",\"around\",\"since\",\"each\",\"life\",\"long\",\"found\",\"national\",\"best\",\"west\",\"if\",\"september\",\"same\",\"million\",\"along\",\"five\",\"us\",\"back\",\"use\",\"another\",\"you\",\"show\",\"took\",\"final\",\"group\",\"off\",\"august\",\"any\",\"area\",\"october\",\"received\",\"century\",\"john\",\"due\",\"school\",\"km\",\"government\",\"will\",\"what\",\"june\",\"line\",\"system\",\"east\",\"single\",\"march\",\"much\",\"july\",\"set\",\"home\",\"november\",\"games\",\"third\",\"down\",\"general\",\"april\",\"major\",\"large\",\"family\",\"york\",\"left\",\"based\",\"just\",\"december\",\"road\",\"12\",\"place\",\"house\",\"included\",\"history\",\"army\",\"company\",\"six\",\"we\",\"january\",\"played\",\"20\",\"band\",\"character\",\"name\",\"wrote\",\"king\",\"won\",\"now\",\"15\",\"own\",\"within\",\"according\",\"led\",\"times\",\"river\",\"main\",\"near\",\"next\",\"last\",\"video\",\"those\",\"named\",\"air\",\"men\",\"death\",\"described\",\"league\",\"battle\",\"late\",\"still\",\"original\",\"de\",\"top\",\"make\",\"release\",\"record\",\"even\",\"great\",\"30\",\"ship\",\"man\",\"very\",\"species\",\"way\",\"club\",\"production\",\"old\",\"route\",\"storm\",\"public\",\"small\",\"though\",\"february\",\"again\",\"force\",\"university\",\"among\",\"held\",\"built\",\"play\",\"further\",\"role\",\"days\",\"11\",\"2010\",\"do\",\"service\",\"match\",\"members\",\"side\",\"division\",\"white\",\"book\",\"german\",\"french\",\"story\",\"power\",\"often\",\"2009\",\"water\",\"having\",\"former\",\"point\",\"100\",\"black\",\"order\",\"player\",\"career\",\"park\",\"2008\",\"local\",\"town\",\"came\",\"without\",\"18\",\"2011\",\"continued\",\"england\",\"despite\",\"half\",\"considered\",\"island\",\"13\",\"take\",\"songs\",\"party\",\"14\",\"2007\",\"different\",\"16\",\"county\",\"development\",\"period\",\"military\",\"few\",\"become\",\"written\",\"form\",\"support\",\"moved\",\"2012\",\"version\",\"english\",\"little\",\"building\",\"25\",\"court\",\"ii\",\"tropical\",\"president\",\"given\",\"london\",\"forces\",\"lost\",\"international\",\"country\",\"re\",\"my\",\"tour\",\"using\",\"lead\",\"gave\",\"performance\",\"short\",\"attack\",\"track\",\"published\",\"returned\",\"royal\",\"church\",\"never\",\"similar\",\"recorded\",\"position\",\"run\",\"street\",\"went\",\"land\",\"produced\",\"total\",\"control\",\"children\",\"ships\",\"include\",\"stated\",\"highway\",\"aircraft\",\"western\",\"17\",\"per\",\"live\",\"star\",\"2006\",\"class\",\"how\",\"good\",\"making\",\"television\",\"week\",\"fire\",\"throughout\",\"women\",\"right\",\"father\",\"once\",\"upon\",\"himself\",\"head\",\"characters\",\"me\",\"love\",\"2013\",\"less\",\"australia\",\"central\",\"players\",\"design\",\"writing\",\"title\",\"result\",\"across\",\"seven\",\"light\",\"political\",\"ft\",\"red\",\"24\",\"months\",\"southern\",\"instead\",\"rock\",\"away\",\"died\",\"remained\",\"young\",\"return\",\"law\",\"sea\",\"age\",\"station\",\"developed\",\"ten\",\"james\",\"center\",\"low\",\"night\",\"eight\",\"noted\",\"21\",\"various\",\"previous\",\"hurricane\",\"reported\",\"areas\",\"too\",\"felt\",\"eventually\",\"office\",\"construction\",\"announced\",\"william\",\"win\",\"style\",\"college\",\"america\",\"created\",\"field\",\"22\",\"act\",\"race\",\"should\",\"son\",\"sent\",\"seen\",\"reached\",\"together\",\"action\",\"performed\",\"award\",\"japanese\",\"miles\",\"served\",\"st\",\"2005\",\"19\",\"2014\",\"northern\",\"member\",\"level\",\"range\",\"50\",\"chart\",\"common\",\"established\",\"able\",\"australian\",\"success\",\"followed\",\"campaign\",\"full\",\"killed\",\"thought\",\"points\",\"modern\",\"football\",\"originally\",\"23\",\"taken\",\"project\",\"works\",\"appeared\",\"post\",\"george\",\"front\",\"site\",\"addition\",\"caused\",\"mm\",\"others\",\"bridge\",\"stage\",\"started\",\"born\",\"special\",\"rather\",\"located\",\"features\",\"critics\",\"get\",\"body\",\"damage\",\"sold\",\"decided\",\"fourth\",\"playing\",\"population\",\"feet\",\"popular\",\"added\",\"saw\",\"formed\",\"championship\",\"heavy\",\"completed\",\"present\",\"28\",\"case\",\"awards\",\"behind\",\"strong\",\"initially\",\"go\",\"26\",\"director\",\"every\",\"close\",\"mother\",\"important\",\"40\",\"command\",\"fleet\",\"eastern\",\"almost\",\"27\",\"region\",\"non\",\"opened\",\"kingdom\",\"worked\",\"david\",\"open\",\"art\",\"2004\",\"see\",\"scored\",\"soon\",\"weeks\",\"guns\",\"coast\",\"ground\",\"hall\",\"recording\",\"leading\",\"working\",\"union\",\"free\",\"france\",\"least\",\"records\",\"event\",\"ever\",\"2015\",\"towards\",\"brought\",\"help\",\"michael\",\"hit\",\"average\",\"wanted\",\"cup\",\"does\",\"studio\",\"magazine\",\"either\",\"scene\",\"put\",\"mi\",\"provided\",\"navy\",\"henry\",\"training\",\"wife\",\"sound\",\"summer\",\"mid\",\"robert\",\"allowed\",\"featured\",\"opening\",\"designed\",\"victory\",\"example\",\"council\",\"2003\",\"events\",\"500\",\"troops\",\"hours\",\"runs\",\"media\",\"europe\",\"official\",\"far\",\"joined\",\"human\",\"minutes\",\"list\",\"placed\",\"200\",\"washington\",\"generally\",\"european\",\"involved\",\"earlier\",\"largest\",\"start\",\"police\",\"base\",\"29\",\"month\",\"saying\",\"co\",\"japan\",\"believed\",\"squadron\",\"association\",\"society\",\"successful\",\"operation\",\"replaced\",\"forced\",\"mph\",\"highest\",\"al\",\"research\",\"nine\",\"big\",\"finished\",\"rest\",\"test\",\"possible\",\"met\",\"beginning\",\"films\",\"crew\",\"review\",\"available\",\"brown\",\"outside\",\"particularly\",\"shot\",\"radio\",\"2002\",\"change\",\"section\",\"come\",\"captain\",\"lower\",\"2000\",\"stone\",\"must\",\"social\",\"significant\",\"cast\",\"chief\",\"community\",\"turned\",\"future\",\"better\",\"hill\",\"goal\",\"process\",\"taking\",\"thomas\",\"enough\",\"relationship\",\"2001\",\"business\",\"appearance\",\"ended\",\"passed\",\"san\",\"above\",\"charles\",\"additional\",\"increased\",\"middle\",\"praised\",\"going\",\"reviews\",\"move\",\"units\",\"elements\",\"real\",\"winds\",\"spent\",\"gold\",\"rights\",\"signed\",\"canada\",\"committee\",\"type\",\"ordered\",\"interest\",\"round\",\"don\",\"california\",\"space\",\"program\",\"critical\",\"previously\",\"staff\",\"parts\",\"cross\",\"31\",\"infantry\",\"overall\",\"paul\",\"board\",\"directed\",\"positive\",\"thus\",\"lake\",\"find\",\"grand\",\"brother\",\"evidence\",\"castle\",\"attempt\",\"told\",\"india\",\"required\",\"prior\",\"failed\",\"give\",\"plan\",\"money\",\"groups\",\"district\",\"female\",\"cover\",\"musical\",\"sometimes\",\"entire\",\"news\",\"asked\",\"personal\",\"lines\",\"our\",\"square\",\"itself\",\"uk\",\"already\",\"germany\",\"green\",\"bill\",\"port\",\"battalion\",\"flight\",\"study\",\"whose\",\"gun\",\"term\",\"past\",\"indian\",\"hand\",\"election\",\"plot\",\"smith\",\"press\",\"idea\",\"surface\",\"reception\",\"speed\",\"room\",\"claimed\",\"decision\",\"usually\",\"quickly\",\"whom\",\"stars\",\"introduced\",\"complete\",\"education\",\"loss\",\"score\",\"arrived\",\"science\",\"limited\",\"material\",\"issue\",\"effects\",\"governor\",\"cut\",\"minister\",\"ny\",\"services\",\"turn\",\"blue\",\"centre\",\"anti\",\"mark\",\"teams\",\"industry\",\"especially\",\"response\",\"background\",\"movement\",\"woman\",\"becoming\",\"writer\",\"students\",\"debut\",\"novel\",\"leaving\",\"department\",\"shows\",\"fifth\",\"latter\",\"remaining\",\"voice\",\"la\",\"appointed\",\"person\",\"peter\",\"intended\",\"episodes\",\"defeated\",\"food\",\"car\",\"operations\",\"commander\",\"length\",\"hot\",\"naval\",\"pressure\",\"carried\",\"winning\",\"depression\",\"britain\",\"nearly\",\"might\",\"1999\",\"richard\",\"suggested\",\"size\",\"percent\",\"changes\",\"earth\",\"pop\",\"approximately\",\"queen\",\"larger\",\"finally\",\"view\",\"bay\",\"structure\",\"estimated\",\"provide\",\"commercial\",\"god\",\"village\",\"today\",\"current\",\"scenes\",\"running\",\"virginia\",\"civil\",\"entered\",\"empire\",\"report\",\"self\",\"living\",\"network\",\"nature\",\"proposed\",\"child\",\"shortly\",\"islands\",\"producer\",\"higher\",\"experience\",\"influence\",\"lack\",\"leader\",\"language\",\"regular\",\"dark\",\"date\",\"health\",\"compared\",\"tracks\",\"helped\",\"los\",\"wide\",\"manager\",\"married\",\"planned\",\"daughter\",\"officer\",\"brigade\",\"cost\",\"agreed\",\"fact\",\"plans\",\"course\",\"related\",\"subsequently\",\"spanish\",\"longer\",\"face\",\"captured\",\"railway\",\"contract\",\"your\",\"soviet\",\"guitar\",\"whether\",\"trade\",\"remains\",\"private\",\"create\",\"destroyed\",\"chicago\",\"60\",\"immediately\",\"regiment\",\"mostly\",\"federal\",\"got\",\"1998\",\"themselves\",\"feature\",\"awarded\",\"natural\",\"buildings\",\"professional\",\"soldiers\",\"ball\",\"fans\",\"associated\",\"billboard\",\"fort\",\"done\",\"forward\",\"effect\",\"friends\",\"probably\",\"minor\",\"yet\",\"museum\",\"jackson\",\"copies\",\"officers\",\"extended\",\"location\",\"increase\",\"pacific\",\"issued\",\"corps\",\"meeting\",\"chinese\",\"moving\",\"appear\",\"countries\",\"ran\",\"supported\",\"energy\",\"singles\",\"atlantic\",\"upper\",\"books\",\"lyrics\",\"via\",\"friend\",\"initial\",\"something\",\"includes\",\"changed\",\"cause\",\"mixed\",\"johnson\",\"difficult\"],\"x1\":{\"__ndarray__\":\"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\",\"dtype\":\"float32\",\"shape\":[1000]},\"x2\":{\"__ndarray__\":\"BhFdwLgJW8GEOXnBIiC+wRyVIsHf3++/khfOwes9aMEUa0fBfCqXwSCZfcHoc2rBSVLnv83lZ0FoI69BepSowSfgr8Fdj6NBJfa7QSNElsCZokxASAyXwXpqdj6QuC7AylOqwUjxu0EB5ITBga47wWmYK8Hd9+rBaRU3wWgfaUFj0iDBauscwW3ys0GsSTbBiHqrwGhVY0CgI6zBop1CP9gVnsH+h25A2XWvQTzHkcGZnEy/v1fKwe3Mm8AbZqDBOnfAwbQhp78yeAHBd6SBwaZml8Fk4gdC/LV1QYvD1sCuI1HBgbXNwUsMVT+CGELBGHjfwSlqkcEFobvBdTN/wVYsD8Fi+hzAO+YiwuyonEEfB+3BnubXwaJAFsH1OhdB5IzZQfntLr+qTH/BBSg9wWe+lMGsE61BcbU4wLVvWkERTqbBfTdWwEWyE8H6q7bBaVNSwS0UgEFwYqA/+WiAQYJ4UMBTK4NBf2Llwb1afkE7aivA8GveP4hH/UE0ZRVC3QU6wXYWvkH8x4LBLKY+wU2yr8G4hSTBlvvLwO552UHxmodB2YzBwbPx1kFIRJ3BhIHkwYiNTUEgk4TBroXFwBkNjUHBayTB1DgaQnEE5MHLFKjBUA+nwWFOEcHZp5xBZ1GQwbmQpUFtTww+xVmrweefscGnLrhAO6+8wA9RbsAIDK5A+tWOwYEHp8F7k9xBv+OaQbDzo8GFI7fB1exSwXRJa0GHUg5BgFL+wACjkEGQIUPBo4KnwM9dpcHmZRnCryBAwUhTNMFVlrDBALpEwUtoe0FpstTBBv4AwUOrlcAwIqtB1+0RQb2hpsCNoX3B0q5qQeeE3MFdIRrC36PiwJJwrUGq7hrCAjDEwDd4z0E0flvBz27OwW6P80HUWahB6LbkQWTupMFED5PBLWIdwkzAxUGHxA5BglCpwPW5XcEcOSLClpkPQWLVHMLchgTBLQmkQYs4HcJo5QdCOWl2wYUX2sGV+JPBRBEgwvu6uz9ZcnlAChyIQUwu4EEpf94+X6gWQfdh6sAIIh/CkQzfQURWlsGjGRRAOGXuQWvwbkDqksNAEe1PQTGpREGi8k3BN6iuQedGIsIh0wBBJ1mRwXPZYEGRf1RBj/AXQvajDsHeDzzBF2DSQOWZCMBy7JbBqe5BQYY/m8ECwU/BMndav3Go2MGnebZBUfSFwD/GqMG4nYvBUMyEwSFBCUFeXm7AEySiwGLaQ0E0e3lBpDR0QUZTpcCBEvRBwQoYQUoYw8GyMcPAmyetwHyR1sHSaBlCLUH7wDG9O8EroRVCwrbWwJIp5kBGpZLBM60EQdX7d0FM2XXBp4WEQWtmJcBgo/xBXYH4QGaFN8FF5ONBD9qKQaxfskH42nhA7Y6qwdbzH8KxCFTB9KxJQToJ9EGZ2YTB0wCZwIm1pz5Dxx5BkGATweG0NUEADgrA0SydwXlWr8H977HA4PvyQR9bkz/niL3BJzUPwfTQO0Ftu6PAJrySQSVflEH8IJZBteJ7QRd3C0Eu+IrA44i8wXdS9EC+zzFA42pqwVBup0Bbf2jBcaydwP5RkcG5KvpBLgDtQJvr7EHPiLPBkAGuQVs8v0Gch4fAR8U1wfqLn8Hcj7XBs/xSwVgFZkEYbcrBI3lhwZcO28C4tJ5BmtSewfsXuMBzd4dB7+dfQY9cnsGO+LXB9LSpwA6insGonsFBTT4CQd//Jb9gsq5B/MA6wSf7PMEhvkBAIc2gQC+0r8DurbG/OBXBwZyELcHTaYdBPzICQZiy50FJi5nBCrH1QZP9WME0ZYRBUSekwR+XssAnEuJBK3xUQe3w+z+vjItBz7RkQdp9PcFFuZBBxo05QZ8TAsGeBwLB7tX6wG0bAkFwQw5Bu7oNQZbJe0Hr+VBATzcbv1DwqkGhTd1BwzQ2wR+i4Dy3gpJAe8tTQPUZBb/By+VBP71owN6gq0GY9yNA5lNCwVVEF0GiXoNB/f4JQcebgcGKQBPBUKPkQT71HUHBiJ3AzcylwXuRe8ECjPFAAP3swY7tqsHAjApA3FuTwYsL8UALVxnB4y0SQQ+128HKbOlAaezHwRLCfUHwbunAr2uNQa58S8GrEdPBsMhuQTXj2cBhsVdB8OicQQeMl0EfKbvBUkkBwRtGc0H7NrzArvX5QZo3vkDGQalAWa0XQgG2NsGRD6rBMpRPwVCvJMBvm61BHM2jQTHehsDKiafB5AovwOHPmcBZoCXB6L5bQcVm3MGWplpB0UTMvxzZVkF+cBnACRrhQeVSlkFs5DtB6nnPQY8hv74ZKEzBiAlIwRNP2UFTk61Au6/nwd3mVsFUCAjBSBOnwdNBcMBASE3B9CqHQd91yMCSFaxBT/B7wbrZJsF6S17Bno7VQf4C8EHVh+LAlQ1bwXRCCUG6XCVBuy7yQRl0nkG4eKq/gFqqQNv+pcGvtMVBpzmAvovpo8E4eIlB+Rv9wEbl5sC4cKs+i4O+wTg0UUGisaNAh79+wX/Kk0FaV6xBJ1OPQMlyxEHKJ67BGyelwbTgvcFckpPAzNS4wTA7iED5WipApXxzwQB9GULSDmg/w5d1vx1tMMHK85FBDbbeQKQmj78OKDRB19QEv9L/Z0AEGv/AG6l8QAzjyj7vZvZBZ4kcwaepq8EGJLbAxzUOQTffokGqtp1AZdEqQHVZQMHrOAnBT0PWQTL3g8C35Te/5n+aQREcj8CyFNpBssgBP5IjMD+wSnJBxCinP3V/GMFTPQVCOVN7wVux1kGsAqbAndG7wORRwkDRmuc/zaFOwdEoeMFx4hpBwWabQVbpo0Fu7gZArRUwwGmmgL/WL+G+DyXqvqGKk0AtKDa/6M9PvuK7s8EH0WRBTfN+wbYancG0B6hAMVwjwQr+j8Acz6zBLiZrwRHNUMGLvoTB5eCIQbFL4z/PVX/BSx+pwUFdEUHBX6fAKt+EwVHUrcHRhqNBTp2CwCa0or6SOxpC6carQIGQS8FmKI3BmII1Qc48s8HxqcDAvq7GQJGCcMGOMi/ABynPQOv4hEGOU7FAO8fpQV6TT0HYvDPAeNkHQZtygUH9bAjBNmVbQYjn3cA9oxVCm2F+vtijDsHpMrfBU9G8wbdupcDUpLXACM45wbrf0z8pXG/BztldwXwr6b5UgpDBTfNRQYZIN8FpwM3Aqv1oQb84ssBboKpBzJZawFv9+kDuCEnBnDr/Qa36g0GeEUZBjli5wSpfxcFC4lPBCcsrwV1XhkCFp4DB7IgZwQD/CkFAsEdAhRbuQW7PrMHd87a+s2RQwWJDXUE/O8q/tvVxQIFVlkG8G2RB+puHQJFiEUHr1g9AOf8CQUndfr/MUB1C/9+AwA6RXMFNLdNBHpGTwDsQh0HyRLa/EwdMwYMsMMHcw6jB9TPFQW3dq0AF5rPB2FHawTOhN8Eo0FbBh8tvQW/V+8C1AxxB/9TMQSyOx0EifydATnMuQXXhnr8wdiLBCOugQRHtMcEs0YLBYlPJQVWZW8FPJP3AE5IZQFjaL8CCRCdANjiMvmt4KkCm2KvBB/OcQRlYykCiZn5BeqojP5kgzcBbdZrBOcLjP6uShD/XchVBntmnwbpwC0A3pYtASSSPwEGcqMHTIdLA5nWgwaYWGsH6dajBdrWuQYmfI0C8rzNB2QyawQTOv0E8woXAzd3mvfDZDsFFqr5Bv/qNQCy6JEFvJ6zAW11RwZxyfcH7AJxByV2kwZVStUEF4ehAQgm3P1MiTcDA/uLBPFWpwEMpTcG2++LAOKfwQBEZz8D+LCHBvaC5wIvI0UH6MkTA+ntAQVKXfkCRryJBeumUQWZ3gkCsioHA84vGQfkr+j9oO4JB28bsQTcCT0BexBPBjKsZQaaLIb+VRn7BEn7RQd+5xUCOvCJBBYWpQNEbEsHB+NBBJhtNQLskxMCleK/B12w4Qat8c79S40PBWurpQUvlAUDcYqFAQkzwwBQwuEHqw8jAOgNQwZE1kEH4HU1AxU7OQY1PlME+txzB2Np8QSViJMFJX+fBb6JdwT4F7MA0fflAcNq7QYm7c0HXKcJB4LdkQeiQ9kA7NDVBKbiSwEsuO8DtvZlBcbxLwdW3KkHwIMRBGX+MQYS6rEGjOkDAbEOAQfLEEsHC/11BrbKrwBZhxUFSUaVB074xQQlTIEGaB8lBgbaawTTr0UD67zhB1pcuv9sfl0GM5vDAiC8/Qft+ckEQeyrB5OWTQWnJZkFNOrdAcLq4QNwnXEA6q/dBSI3nwODr3UBcyqHAUHhqwbFzrMHFp+zBZgDsv58Crb/tt99BEY64QCCGiUAuhSdAy3vDQYAhEkAj0DhBlVRxQTLnOEFDjaLBqhvUPWWUo8HHTuVBgsHxQVAVQ8D1JJTA69naQR8dkUGaKiHB+Lz7QTHMmkFUyABAyJCZwKkVGUFhbFlBA5eBQR3INcH6c0fB3PHlQQfencH9VZBB7uuWPpSq3UFSAgxBwrhxwfxvp8Bmu+fAsmcmQTkt2MGu40fADIqIQeu2OcGRYS/B9ueMQegk48EMDAFBwVkFQd8YM0HRl6bBJ8r8P2X9GUIcQKxBeiKZQI6FpsDFP9tAXaGLQZxTVUGQC4fBIXagwdZao8G6oT7BGKL5wJaLBEC9TEHBw1MUQBSmuEBq1ltB6eWOwbsFNcFaBtjAzdNTwSytB0GKnqZBinObQClLosCcWAXBoc2bQcHFQkH6F8BBUWH4v6ubi75ds2hBlp8/vy+NyUG8KLVBRo5BP+rdQ0Fzv4dBjPYdQeUeHECHQCRBgEYJQe2jQcB24YVBYHlywRxRm0FN8V7B8xfbwLk0C0HN+CRB9H7/QBCFr8H1H4FBq7AgP0BfaMBDsjy/69rYQbzdRMEc4IJBjxlNwcHTz0GtNZZArsGDwdE5bkGq2i/BMAGHQXgTncFpPTdBIquQwFCNT8E7mZw/4CDwQOAjib6dNuS/VlFFwTAFlUEGYgvBPgvmwEilU0BOLNBBbEaJwBXmj0Fi+4RB23p5QV8MpcGcg6VBko2gvzHVr0EijAbBbsteQNDd1EFF+HjBGHBiwfiXO0F1uInAgrnbQaFGisCYx6nBEnCBQQKfuEANjcbAs/XzQNzF5kHckPNB9GhtQeaOoUCtL99BJdLRv1ubGUI0prZBMK/iwEUpxsEqWjhBjKuZQRGAu74h27w//or4wDMw5UFInxfBGaqCwQ2QeUHxghTA9srUQVWx8EDDvoNBH6iNwLqSSUGkJ/xBf2OPQfU//L8ZyrBA00REQVvtQMBPIivAfi3+QLqnEULWeIRBh4zGwJ4DmUFnPotBhV2xwV/omEGjer7AO58dQVTyfsGxdlDAgos1wbqumkCnjyDBeZCLvg==\",\"dtype\":\"float32\",\"shape\":[1000]}},\"selected\":{\"id\":\"1046\",\"type\":\"Selection\"},\"selection_policy\":{\"id\":\"1045\",\"type\":\"UnionRenderers\"}},\"id\":\"1032\",\"type\":\"ColumnDataSource\"},{\"attributes\":{},\"id\":\"1579\",\"type\":\"LinearScale\"},{\"attributes\":{},\"id\":\"1644\",\"type\":\"Selection\"},{\"attributes\":{\"callback\":null,\"data\":{\"names\":[\"the\",\"of\",\"and\",\"in\",\"to\",\"was\",\"on\",\"as\",\"for\",\"that\",\"with\",\"by\",\"is\",\"his\",\"he\",\"at\",\"from\",\"it\",\"were\",\"an\",\"had\",\"which\",\"be\",\"this\",\"but\",\"are\",\"first\",\"not\",\"their\",\"after\",\"one\",\"her\",\"its\",\"also\",\"they\",\"two\",\"or\",\"have\",\"who\",\"new\",\"been\",\"has\",\"she\",\"when\",\"time\",\"during\",\"other\",\"would\",\"into\",\"all\",\"more\",\"while\",\"over\",\"game\",\"him\",\"only\",\"later\",\"up\",\"most\",\"three\",\"out\",\"about\",\"between\",\"than\",\"there\",\"some\",\"may\",\"film\",\"before\",\"year\",\"made\",\"no\",\"such\",\"season\",\"second\",\"000\",\"where\",\"war\",\"years\",\"world\",\"however\",\"both\",\"used\",\"through\",\"then\",\"them\",\"being\",\"song\",\"these\",\"series\",\"against\",\"album\",\"many\",\"part\",\"team\",\"number\",\"became\",\"city\",\"including\",\"four\",\"can\",\"several\",\"north\",\"well\",\"united\",\"early\",\"state\",\"under\",\"day\",\"music\",\"so\",\"south\",\"episode\",\"said\",\"states\",\"following\",\"although\",\"could\",\"known\",\"american\",\"did\",\"work\",\"began\",\"until\",\"because\",\"released\",\"called\",\"like\",\"high\",\"10\",\"end\",\"people\",\"british\",\"around\",\"since\",\"each\",\"life\",\"long\",\"found\",\"national\",\"best\",\"west\",\"if\",\"september\",\"same\",\"million\",\"along\",\"five\",\"us\",\"back\",\"use\",\"another\",\"you\",\"show\",\"took\",\"final\",\"group\",\"off\",\"august\",\"any\",\"area\",\"october\",\"received\",\"century\",\"john\",\"due\",\"school\",\"km\",\"government\",\"will\",\"what\",\"june\",\"line\",\"system\",\"east\",\"single\",\"march\",\"much\",\"july\",\"set\",\"home\",\"november\",\"games\",\"third\",\"down\",\"general\",\"april\",\"major\",\"large\",\"family\",\"york\",\"left\",\"based\",\"just\",\"december\",\"road\",\"12\",\"place\",\"house\",\"included\",\"history\",\"army\",\"company\",\"six\",\"we\",\"january\",\"played\",\"20\",\"band\",\"character\",\"name\",\"wrote\",\"king\",\"won\",\"now\",\"15\",\"own\",\"within\",\"according\",\"led\",\"times\",\"river\",\"main\",\"near\",\"next\",\"last\",\"video\",\"those\",\"named\",\"air\",\"men\",\"death\",\"described\",\"league\",\"battle\",\"late\",\"still\",\"original\",\"de\",\"top\",\"make\",\"release\",\"record\",\"even\",\"great\",\"30\",\"ship\",\"man\",\"very\",\"species\",\"way\",\"club\",\"production\",\"old\",\"route\",\"storm\",\"public\",\"small\",\"though\",\"february\",\"again\",\"force\",\"university\",\"among\",\"held\",\"built\",\"play\",\"further\",\"role\",\"days\",\"11\",\"2010\",\"do\",\"service\",\"match\",\"members\",\"side\",\"division\",\"white\",\"book\",\"german\",\"french\",\"story\",\"power\",\"often\",\"2009\",\"water\",\"having\",\"former\",\"point\",\"100\",\"black\",\"order\",\"player\",\"career\",\"park\",\"2008\",\"local\",\"town\",\"came\",\"without\",\"18\",\"2011\",\"continued\",\"england\",\"despite\",\"half\",\"considered\",\"island\",\"13\",\"take\",\"songs\",\"party\",\"14\",\"2007\",\"different\",\"16\",\"county\",\"development\",\"period\",\"military\",\"few\",\"become\",\"written\",\"form\",\"support\",\"moved\",\"2012\",\"version\",\"english\",\"little\",\"building\",\"25\",\"court\",\"ii\",\"tropical\",\"president\",\"given\",\"london\",\"forces\",\"lost\",\"international\",\"country\",\"re\",\"my\",\"tour\",\"using\",\"lead\",\"gave\",\"performance\",\"short\",\"attack\",\"track\",\"published\",\"returned\",\"royal\",\"church\",\"never\",\"similar\",\"recorded\",\"position\",\"run\",\"street\",\"went\",\"land\",\"produced\",\"total\",\"control\",\"children\",\"ships\",\"include\",\"stated\",\"highway\",\"aircraft\",\"western\",\"17\",\"per\",\"live\",\"star\",\"2006\",\"class\",\"how\",\"good\",\"making\",\"television\",\"week\",\"fire\",\"throughout\",\"women\",\"right\",\"father\",\"once\",\"upon\",\"himself\",\"head\",\"characters\",\"me\",\"love\",\"2013\",\"less\",\"australia\",\"central\",\"players\",\"design\",\"writing\",\"title\",\"result\",\"across\",\"seven\",\"light\",\"political\",\"ft\",\"red\",\"24\",\"months\",\"southern\",\"instead\",\"rock\",\"away\",\"died\",\"remained\",\"young\",\"return\",\"law\",\"sea\",\"age\",\"station\",\"developed\",\"ten\",\"james\",\"center\",\"low\",\"night\",\"eight\",\"noted\",\"21\",\"various\",\"previous\",\"hurricane\",\"reported\",\"areas\",\"too\",\"felt\",\"eventually\",\"office\",\"construction\",\"announced\",\"william\",\"win\",\"style\",\"college\",\"america\",\"created\",\"field\",\"22\",\"act\",\"race\",\"should\",\"son\",\"sent\",\"seen\",\"reached\",\"together\",\"action\",\"performed\",\"award\",\"japanese\",\"miles\",\"served\",\"st\",\"2005\",\"19\",\"2014\",\"northern\",\"member\",\"level\",\"range\",\"50\",\"chart\",\"common\",\"established\",\"able\",\"australian\",\"success\",\"followed\",\"campaign\",\"full\",\"killed\",\"thought\",\"points\",\"modern\",\"football\",\"originally\",\"23\",\"taken\",\"project\",\"works\",\"appeared\",\"post\",\"george\",\"front\",\"site\",\"addition\",\"caused\",\"mm\",\"others\",\"bridge\",\"stage\",\"started\",\"born\",\"special\",\"rather\",\"located\",\"features\",\"critics\",\"get\",\"body\",\"damage\",\"sold\",\"decided\",\"fourth\",\"playing\",\"population\",\"feet\",\"popular\",\"added\",\"saw\",\"formed\",\"championship\",\"heavy\",\"completed\",\"present\",\"28\",\"case\",\"awards\",\"behind\",\"strong\",\"initially\",\"go\",\"26\",\"director\",\"every\",\"close\",\"mother\",\"important\",\"40\",\"command\",\"fleet\",\"eastern\",\"almost\",\"27\",\"region\",\"non\",\"opened\",\"kingdom\",\"worked\",\"david\",\"open\",\"art\",\"2004\",\"see\",\"scored\",\"soon\",\"weeks\",\"guns\",\"coast\",\"ground\",\"hall\",\"recording\",\"leading\",\"working\",\"union\",\"free\",\"france\",\"least\",\"records\",\"event\",\"ever\",\"2015\",\"towards\",\"brought\",\"help\",\"michael\",\"hit\",\"average\",\"wanted\",\"cup\",\"does\",\"studio\",\"magazine\",\"either\",\"scene\",\"put\",\"mi\",\"provided\",\"navy\",\"henry\",\"training\",\"wife\",\"sound\",\"summer\",\"mid\",\"robert\",\"allowed\",\"featured\",\"opening\",\"designed\",\"victory\",\"example\",\"council\",\"2003\",\"events\",\"500\",\"troops\",\"hours\",\"runs\",\"media\",\"europe\",\"official\",\"far\",\"joined\",\"human\",\"minutes\",\"list\",\"placed\",\"200\",\"washington\",\"generally\",\"european\",\"involved\",\"earlier\",\"largest\",\"start\",\"police\",\"base\",\"29\",\"month\",\"saying\",\"co\",\"japan\",\"believed\",\"squadron\",\"association\",\"society\",\"successful\",\"operation\",\"replaced\",\"forced\",\"mph\",\"highest\",\"al\",\"research\",\"nine\",\"big\",\"finished\",\"rest\",\"test\",\"possible\",\"met\",\"beginning\",\"films\",\"crew\",\"review\",\"available\",\"brown\",\"outside\",\"particularly\",\"shot\",\"radio\",\"2002\",\"change\",\"section\",\"come\",\"captain\",\"lower\",\"2000\",\"stone\",\"must\",\"social\",\"significant\",\"cast\",\"chief\",\"community\",\"turned\",\"future\",\"better\",\"hill\",\"goal\",\"process\",\"taking\",\"thomas\",\"enough\",\"relationship\",\"2001\",\"business\",\"appearance\",\"ended\",\"passed\",\"san\",\"above\",\"charles\",\"additional\",\"increased\",\"middle\",\"praised\",\"going\",\"reviews\",\"move\",\"units\",\"elements\",\"real\",\"winds\",\"spent\",\"gold\",\"rights\",\"signed\",\"canada\",\"committee\",\"type\",\"ordered\",\"interest\",\"round\",\"don\",\"california\",\"space\",\"program\",\"critical\",\"previously\",\"staff\",\"parts\",\"cross\",\"31\",\"infantry\",\"overall\",\"paul\",\"board\",\"directed\",\"positive\",\"thus\",\"lake\",\"find\",\"grand\",\"brother\",\"evidence\",\"castle\",\"attempt\",\"told\",\"india\",\"required\",\"prior\",\"failed\",\"give\",\"plan\",\"money\",\"groups\",\"district\",\"female\",\"cover\",\"musical\",\"sometimes\",\"entire\",\"news\",\"asked\",\"personal\",\"lines\",\"our\",\"square\",\"itself\",\"uk\",\"already\",\"germany\",\"green\",\"bill\",\"port\",\"battalion\",\"flight\",\"study\",\"whose\",\"gun\",\"term\",\"past\",\"indian\",\"hand\",\"election\",\"plot\",\"smith\",\"press\",\"idea\",\"surface\",\"reception\",\"speed\",\"room\",\"claimed\",\"decision\",\"usually\",\"quickly\",\"whom\",\"stars\",\"introduced\",\"complete\",\"education\",\"loss\",\"score\",\"arrived\",\"science\",\"limited\",\"material\",\"issue\",\"effects\",\"governor\",\"cut\",\"minister\",\"ny\",\"services\",\"turn\",\"blue\",\"centre\",\"anti\",\"mark\",\"teams\",\"industry\",\"especially\",\"response\",\"background\",\"movement\",\"woman\",\"becoming\",\"writer\",\"students\",\"debut\",\"novel\",\"leaving\",\"department\",\"shows\",\"fifth\",\"latter\",\"remaining\",\"voice\",\"la\",\"appointed\",\"person\",\"peter\",\"intended\",\"episodes\",\"defeated\",\"food\",\"car\",\"operations\",\"commander\",\"length\",\"hot\",\"naval\",\"pressure\",\"carried\",\"winning\",\"depression\",\"britain\",\"nearly\",\"might\",\"1999\",\"richard\",\"suggested\",\"size\",\"percent\",\"changes\",\"earth\",\"pop\",\"approximately\",\"queen\",\"larger\",\"finally\",\"view\",\"bay\",\"structure\",\"estimated\",\"provide\",\"commercial\",\"god\",\"village\",\"today\",\"current\",\"scenes\",\"running\",\"virginia\",\"civil\",\"entered\",\"empire\",\"report\",\"self\",\"living\",\"network\",\"nature\",\"proposed\",\"child\",\"shortly\",\"islands\",\"producer\",\"higher\",\"experience\",\"influence\",\"lack\",\"leader\",\"language\",\"regular\",\"dark\",\"date\",\"health\",\"compared\",\"tracks\",\"helped\",\"los\",\"wide\",\"manager\",\"married\",\"planned\",\"daughter\",\"officer\",\"brigade\",\"cost\",\"agreed\",\"fact\",\"plans\",\"course\",\"related\",\"subsequently\",\"spanish\",\"longer\",\"face\",\"captured\",\"railway\",\"contract\",\"your\",\"soviet\",\"guitar\",\"whether\",\"trade\",\"remains\",\"private\",\"create\",\"destroyed\",\"chicago\",\"60\",\"immediately\",\"regiment\",\"mostly\",\"federal\",\"got\",\"1998\",\"themselves\",\"feature\",\"awarded\",\"natural\",\"buildings\",\"professional\",\"soldiers\",\"ball\",\"fans\",\"associated\",\"billboard\",\"fort\",\"done\",\"forward\",\"effect\",\"friends\",\"probably\",\"minor\",\"yet\",\"museum\",\"jackson\",\"copies\",\"officers\",\"extended\",\"location\",\"increase\",\"pacific\",\"issued\",\"corps\",\"meeting\",\"chinese\",\"moving\",\"appear\",\"countries\",\"ran\",\"supported\",\"energy\",\"singles\",\"atlantic\",\"upper\",\"books\",\"lyrics\",\"via\",\"friend\",\"initial\",\"something\",\"includes\",\"changed\",\"cause\",\"mixed\",\"johnson\",\"difficult\"],\"x1\":{\"__ndarray__\":\"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\",\"dtype\":\"float32\",\"shape\":[1000]},\"x2\":{\"__ndarray__\":\"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\",\"dtype\":\"float32\",\"shape\":[1000]}},\"selected\":{\"id\":\"1644\",\"type\":\"Selection\"},\"selection_policy\":{\"id\":\"1643\",\"type\":\"UnionRenderers\"}},\"id\":\"1600\",\"type\":\"ColumnDataSource\"},{\"attributes\":{},\"id\":\"1643\",\"type\":\"UnionRenderers\"},{\"attributes\":{\"text\":\"word2vec T-SNE for most common words\"},\"id\":\"1571\",\"type\":\"Title\"},{\"attributes\":{},\"id\":\"1637\",\"type\":\"BasicTickFormatter\"},{\"attributes\":{\"data_source\":{\"id\":\"1600\",\"type\":\"ColumnDataSource\"},\"glyph\":{\"id\":\"1603\",\"type\":\"Scatter\"},\"hover_glyph\":null,\"muted_glyph\":null,\"nonselection_glyph\":{\"id\":\"1604\",\"type\":\"Scatter\"},\"selection_glyph\":null,\"view\":{\"id\":\"1606\",\"type\":\"CDSView\"}},\"id\":\"1605\",\"type\":\"GlyphRenderer\"},{\"attributes\":{\"fill_alpha\":{\"value\":0.1},\"fill_color\":{\"value\":\"#1f77b4\"},\"line_alpha\":{\"value\":0.1},\"line_color\":{\"value\":\"#1f77b4\"},\"size\":{\"units\":\"screen\",\"value\":8},\"x\":{\"field\":\"x1\"},\"y\":{\"field\":\"x2\"}},\"id\":\"1604\",\"type\":\"Scatter\"},{\"attributes\":{\"source\":{\"id\":\"1600\",\"type\":\"ColumnDataSource\"}},\"id\":\"1606\",\"type\":\"CDSView\"},{\"attributes\":{\"ticker\":{\"id\":\"1582\",\"type\":\"BasicTicker\"}},\"id\":\"1585\",\"type\":\"Grid\"},{\"attributes\":{},\"id\":\"1582\",\"type\":\"BasicTicker\"},{\"attributes\":{\"formatter\":{\"id\":\"1637\",\"type\":\"BasicTickFormatter\"},\"ticker\":{\"id\":\"1582\",\"type\":\"BasicTicker\"}},\"id\":\"1581\",\"type\":\"LinearAxis\"},{\"attributes\":{},\"id\":\"1045\",\"type\":\"UnionRenderers\"},{\"attributes\":{},\"id\":\"1587\",\"type\":\"BasicTicker\"},{\"attributes\":{\"active_drag\":\"auto\",\"active_inspect\":\"auto\",\"active_multi\":null,\"active_scroll\":\"auto\",\"active_tap\":\"auto\",\"tools\":[{\"id\":\"1591\",\"type\":\"PanTool\"},{\"id\":\"1592\",\"type\":\"WheelZoomTool\"},{\"id\":\"1593\",\"type\":\"ResetTool\"},{\"id\":\"1594\",\"type\":\"SaveTool\"}]},\"id\":\"1595\",\"type\":\"Toolbar\"},{\"attributes\":{},\"id\":\"1046\",\"type\":\"Selection\"},{\"attributes\":{\"formatter\":{\"id\":\"1639\",\"type\":\"BasicTickFormatter\"},\"ticker\":{\"id\":\"1587\",\"type\":\"BasicTicker\"}},\"id\":\"1586\",\"type\":\"LinearAxis\"},{\"attributes\":{},\"id\":\"1592\",\"type\":\"WheelZoomTool\"},{\"attributes\":{},\"id\":\"1591\",\"type\":\"PanTool\"},{\"attributes\":{\"dimension\":1,\"ticker\":{\"id\":\"1587\",\"type\":\"BasicTicker\"}},\"id\":\"1590\",\"type\":\"Grid\"},{\"attributes\":{},\"id\":\"1594\",\"type\":\"SaveTool\"},{\"attributes\":{},\"id\":\"1593\",\"type\":\"ResetTool\"}],\"root_ids\":[\"1570\"]},\"title\":\"Bokeh Application\",\"version\":\"1.3.4\"}};\n",
       "  var render_items = [{\"docid\":\"fd8343c3-c05d-49d4-9046-779e310ed030\",\"roots\":{\"1570\":\"fa4918ed-1090-46d7-aacb-b2bd5673c253\"}}];\n",
       "  root.Bokeh.embed.embed_items_notebook(docs_json, render_items);\n",
       "\n",
       "  }\n",
       "  if (root.Bokeh !== undefined) {\n",
       "    embed_document(root);\n",
       "  } else {\n",
       "    var attempts = 0;\n",
       "    var timer = setInterval(function(root) {\n",
       "      if (root.Bokeh !== undefined) {\n",
       "        embed_document(root);\n",
       "        clearInterval(timer);\n",
       "      }\n",
       "      attempts++;\n",
       "      if (attempts > 100) {\n",
       "        console.log(\"Bokeh: ERROR: Unable to run BokehJS code because BokehJS library is missing\");\n",
       "        clearInterval(timer);\n",
       "      }\n",
       "    }, 10, root)\n",
       "  }\n",
       "})(window);"
      ],
      "application/vnd.bokehjs_exec.v0+json": ""
     },
     "metadata": {
      "application/vnd.bokehjs_exec.v0+json": {
       "id": "1570"
      }
     },
     "output_type": "display_data"
    }
   ],
   "source": [
    "labels = LabelSet(x=\"x1\", y=\"x2\", text=\"names\", y_offset=6,\n",
    "                  text_font_size=\"8pt\", text_color=\"#555555\",\n",
    "                  source=source, text_align='center')\n",
    "p.add_layout(labels)\n",
    "\n",
    "show(p)"
   ]
  },
  {
   "cell_type": "code",
   "execution_count": null,
   "metadata": {},
   "outputs": [],
   "source": []
  }
 ],
 "metadata": {
  "anaconda-cloud": {},
  "kernelspec": {
   "display_name": "Python 3",
   "language": "python",
   "name": "python3"
  },
  "language_info": {
   "codemirror_mode": {
    "name": "ipython",
    "version": 3
   },
   "file_extension": ".py",
   "mimetype": "text/x-python",
   "name": "python",
   "nbconvert_exporter": "python",
   "pygments_lexer": "ipython3",
   "version": "3.7.3"
  },
  "pycharm": {
   "stem_cell": {
    "cell_type": "raw",
    "metadata": {
     "collapsed": false
    },
    "source": []
   }
  }
 },
 "nbformat": 4,
 "nbformat_minor": 1
}
