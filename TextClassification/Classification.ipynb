{
 "cells": [
  {
   "cell_type": "code",
   "execution_count": 1,
   "metadata": {},
   "outputs": [],
   "source": [
    "import zipfile\n",
    "import lxml.etree\n",
    "with zipfile.ZipFile(r'D:\\C\\NLP\\Data\\ted_en-20160408.zip', 'r') as z:\n",
    "    doc = lxml.etree.parse(z.open('ted_en-20160408.xml', 'r'))\n",
    "content = (doc.xpath('//content/text()'))   # 获取<content>下的文本 数组\n",
    "keywords = (doc.xpath('//keywords/text()'))  # 获取<keywords[i]s>下的文本 标签\n",
    "z.close()\n",
    "del doc"
   ]
  },
  {
   "cell_type": "code",
   "execution_count": 2,
   "metadata": {},
   "outputs": [],
   "source": [
    "import re\n",
    "from nltk.tokenize import word_tokenize\n",
    "from nltk.corpus import stopwords\n",
    "\n",
    "words_list = [word_tokenize(re.sub(r'[^\\w\\s]', '', str(content[i].lower()))) for i in range(len(content))]\n",
    "stopwords = stopwords.words('english')\n",
    "clean_words = []\n",
    "clean_content = []\n",
    "for i in range(len(words_list)):\n",
    "    for word in words_list[i]:\n",
    "        if word not in stopwords:\n",
    "            clean_words.append(word)\n",
    "    clean_content.append(' '.join(clean_words))\n",
    "    clean_words = []"
   ]
  },
  {
   "cell_type": "code",
   "execution_count": 3,
   "metadata": {},
   "outputs": [],
   "source": [
    "for i in range(len(keywords)):\n",
    "    if 'technology' not in keywords[i] and 'entertainment'not in keywords[i] and 'design' not in keywords[i]:\n",
    "        keywords[i] = 'ooo'\n",
    "    elif 'technology' in keywords[i] and 'entertainment' not in keywords[i] and 'design' not in keywords[i]:\n",
    "        keywords[i] = 'Too'\n",
    "    elif 'technology' not in keywords[i] and 'entertainment' in keywords[i] and 'design' not in keywords[i]:\n",
    "        keywords[i] = 'oEo'\n",
    "    elif 'technology' not in keywords[i] and 'entertainment' not in keywords[i] and 'design' in keywords[i]:\n",
    "        keywords[i] = 'ooD'\n",
    "    elif 'technology' in keywords[i] and 'entertainment' in keywords[i] and 'design' not in keywords[i]:\n",
    "        keywords[i] = 'TEo'\n",
    "    elif 'technology' in keywords[i] and 'entertainment' not in keywords[i] and 'design' in keywords[i]:\n",
    "        keywords[i] = 'ToD'\n",
    "    elif 'technology' not in keywords[i] and 'entertainment' in keywords[i] and 'design' in keywords[i]:\n",
    "        keywords[i] = 'oED'\n",
    "    else:\n",
    "        keywords[i] = 'TED'"
   ]
  },
  {
   "cell_type": "code",
   "execution_count": 4,
   "metadata": {},
   "outputs": [
    {
     "data": {
      "text/html": [
       "<div>\n",
       "<style scoped>\n",
       "    .dataframe tbody tr th:only-of-type {\n",
       "        vertical-align: middle;\n",
       "    }\n",
       "\n",
       "    .dataframe tbody tr th {\n",
       "        vertical-align: top;\n",
       "    }\n",
       "\n",
       "    .dataframe thead th {\n",
       "        text-align: right;\n",
       "    }\n",
       "</style>\n",
       "<table border=\"1\" class=\"dataframe\">\n",
       "  <thead>\n",
       "    <tr style=\"text-align: right;\">\n",
       "      <th></th>\n",
       "      <th>keywords</th>\n",
       "      <th>content</th>\n",
       "      <th>key_id</th>\n",
       "    </tr>\n",
       "  </thead>\n",
       "  <tbody>\n",
       "    <tr>\n",
       "      <td>1831</td>\n",
       "      <td>Too</td>\n",
       "      <td>colleagues art aron lucy brown others put 37 p...</td>\n",
       "      <td>4</td>\n",
       "    </tr>\n",
       "    <tr>\n",
       "      <td>684</td>\n",
       "      <td>ooo</td>\n",
       "      <td>im sure every person familiar pictures want st...</td>\n",
       "      <td>0</td>\n",
       "    </tr>\n",
       "    <tr>\n",
       "      <td>357</td>\n",
       "      <td>ooo</td>\n",
       "      <td>november 5th 1990 man named elsayyid nosair wa...</td>\n",
       "      <td>0</td>\n",
       "    </tr>\n",
       "    <tr>\n",
       "      <td>502</td>\n",
       "      <td>Too</td>\n",
       "      <td>five years ago phd student living two lives on...</td>\n",
       "      <td>4</td>\n",
       "    </tr>\n",
       "    <tr>\n",
       "      <td>818</td>\n",
       "      <td>ooo</td>\n",
       "      <td>five years ago experienced bit must like alice...</td>\n",
       "      <td>0</td>\n",
       "    </tr>\n",
       "    <tr>\n",
       "      <td>1118</td>\n",
       "      <td>ToD</td>\n",
       "      <td>didnt always love unintended consequences ive ...</td>\n",
       "      <td>2</td>\n",
       "    </tr>\n",
       "    <tr>\n",
       "      <td>1202</td>\n",
       "      <td>Too</td>\n",
       "      <td>security two different things feeling reality ...</td>\n",
       "      <td>4</td>\n",
       "    </tr>\n",
       "    <tr>\n",
       "      <td>495</td>\n",
       "      <td>Too</td>\n",
       "      <td>id like talk today powerful fundamental aspect...</td>\n",
       "      <td>4</td>\n",
       "    </tr>\n",
       "    <tr>\n",
       "      <td>1327</td>\n",
       "      <td>ooo</td>\n",
       "      <td>yeah im newspaper cartoonist political cartoon...</td>\n",
       "      <td>0</td>\n",
       "    </tr>\n",
       "    <tr>\n",
       "      <td>1409</td>\n",
       "      <td>ooo</td>\n",
       "      <td>chris anderson debate debate proposition world...</td>\n",
       "      <td>0</td>\n",
       "    </tr>\n",
       "  </tbody>\n",
       "</table>\n",
       "</div>"
      ],
      "text/plain": [
       "     keywords                                            content  key_id\n",
       "1831      Too  colleagues art aron lucy brown others put 37 p...       4\n",
       "684       ooo  im sure every person familiar pictures want st...       0\n",
       "357       ooo  november 5th 1990 man named elsayyid nosair wa...       0\n",
       "502       Too  five years ago phd student living two lives on...       4\n",
       "818       ooo  five years ago experienced bit must like alice...       0\n",
       "1118      ToD  didnt always love unintended consequences ive ...       2\n",
       "1202      Too  security two different things feeling reality ...       4\n",
       "495       Too  id like talk today powerful fundamental aspect...       4\n",
       "1327      ooo  yeah im newspaper cartoonist political cartoon...       0\n",
       "1409      ooo  chris anderson debate debate proposition world...       0"
      ]
     },
     "execution_count": 4,
     "metadata": {},
     "output_type": "execute_result"
    }
   ],
   "source": [
    "import pandas as pd\n",
    "df_data = {'keywords': keywords, 'content': clean_content}\n",
    "df = pd.DataFrame(df_data)\n",
    "df['key_id'] = df['keywords'].factorize()[0]\n",
    "key_id_df = df[['keywords', 'key_id']].drop_duplicates().sort_values('key_id').reset_index(drop=True)\n",
    "df.sample(10)"
   ]
  },
  {
   "cell_type": "code",
   "execution_count": 5,
   "metadata": {},
   "outputs": [],
   "source": [
    "del content, words_list,  clean_words, keywords, clean_content, stopwords, df_data\n"
   ]
  },
  {
   "cell_type": "code",
   "execution_count": 6,
   "metadata": {},
   "outputs": [
    {
     "name": "stderr",
     "output_type": "stream",
     "text": [
      "Using TensorFlow backend.\n"
     ]
    },
    {
     "name": "stdout",
     "output_type": "stream",
     "text": [
      "共有 64369 个不相同的词语.\n",
      "(2085, 250)\n",
      "(2085, 8)\n"
     ]
    }
   ],
   "source": [
    "from keras.preprocessing.text import Tokenizer\n",
    "from keras.preprocessing.sequence import pad_sequences\n",
    "# 设置最频繁使用的50000个词\n",
    "MAX_NB_WORDS = 100000\n",
    "# 每条cut_review最大的长度\n",
    "MAX_SEQUENCE_LENGTH = 250\n",
    "# 设置Embeddingceng层的维度\n",
    "EMBEDDING_DIM = 100\n",
    "tokenizer = Tokenizer(num_words=MAX_NB_WORDS, filters='!\"#$%&()*+,-./:;<=>?@[\\]^_`{|}~', lower=True)\n",
    "tokenizer.fit_on_texts(df['content'].values)\n",
    "word_index = tokenizer.word_index\n",
    "print('共有 %s 个不相同的词语.' % len(word_index))\n",
    "\n",
    "X = tokenizer.texts_to_sequences(df['content'].values)\n",
    "# 填充X,让X的各个列的长度统一\n",
    "X = pad_sequences(X, maxlen=MAX_SEQUENCE_LENGTH)\n",
    "# 多类标签的onehot展开\n",
    "Y = pd.get_dummies(df['key_id']).values\n",
    "print(X.shape)\n",
    "print(Y.shape)"
   ]
  },
  {
   "cell_type": "code",
   "execution_count": 7,
   "metadata": {},
   "outputs": [
    {
     "name": "stdout",
     "output_type": "stream",
     "text": [
      "(1585, 250) (1585, 8)\n",
      "(500, 250) (500, 8)\n"
     ]
    }
   ],
   "source": [
    "from sklearn.model_selection import train_test_split\n",
    "X_train, X_test, Y_train, Y_test = train_test_split(X, Y, test_size=500, random_state=1)\n",
    "print(X_train.shape, Y_train.shape)\n",
    "print(X_test.shape, Y_test.shape)"
   ]
  },
  {
   "cell_type": "code",
   "execution_count": 8,
   "metadata": {},
   "outputs": [
    {
     "name": "stdout",
     "output_type": "stream",
     "text": [
      "Model: \"sequential_1\"\n",
      "_________________________________________________________________\n",
      "Layer (type)                 Output Shape              Param #   \n",
      "=================================================================\n",
      "embedding_1 (Embedding)      (None, 250, 100)          10000000  \n",
      "_________________________________________________________________\n",
      "spatial_dropout1d_1 (Spatial (None, 250, 100)          0         \n",
      "_________________________________________________________________\n",
      "lstm_1 (LSTM)                (None, 100)               80400     \n",
      "_________________________________________________________________\n",
      "dense_1 (Dense)              (None, 8)                 808       \n",
      "=================================================================\n",
      "Total params: 10,081,208\n",
      "Trainable params: 10,081,208\n",
      "Non-trainable params: 0\n",
      "_________________________________________________________________\n",
      "None\n"
     ]
    }
   ],
   "source": [
    "from keras import Sequential\n",
    "from keras.layers.embeddings import Embedding\n",
    "from keras.layers import SpatialDropout1D\n",
    "from keras.layers import Dense\n",
    "from keras.layers import LSTM\n",
    "model = Sequential()\n",
    "model.add(Embedding(MAX_NB_WORDS, EMBEDDING_DIM, input_length=X.shape[1]))\n",
    "model.add(SpatialDropout1D(0.2))\n",
    "model.add(LSTM(100, dropout=0.2, recurrent_dropout=0.2))\n",
    "model.add(Dense(8, activation='softmax'))\n",
    "model.compile(loss='categorical_crossentropy', optimizer='adam', metrics=['accuracy'])\n",
    "print(model.summary())"
   ]
  },
  {
   "cell_type": "code",
   "execution_count": 9,
   "metadata": {},
   "outputs": [
    {
     "name": "stdout",
     "output_type": "stream",
     "text": [
      "WARNING:tensorflow:From D:\\Miniconda3\\lib\\site-packages\\keras\\backend\\tensorflow_backend.py:422: The name tf.global_variables is deprecated. Please use tf.compat.v1.global_variables instead.\n",
      "\n",
      "Train on 1426 samples, validate on 159 samples\n",
      "Epoch 1/5\n",
      "1426/1426 [==============================] - 8s 6ms/step - loss: 1.7105 - accuracy: 0.5386 - val_loss: 1.3615 - val_accuracy: 0.5472\n",
      "Epoch 2/5\n",
      "1426/1426 [==============================] - 7s 5ms/step - loss: 1.4101 - accuracy: 0.5484 - val_loss: 1.3543 - val_accuracy: 0.5472\n",
      "Epoch 3/5\n",
      "1426/1426 [==============================] - 7s 5ms/step - loss: 1.3791 - accuracy: 0.5484 - val_loss: 1.3261 - val_accuracy: 0.5472\n",
      "Epoch 4/5\n",
      "1426/1426 [==============================] - 7s 5ms/step - loss: 1.3015 - accuracy: 0.5484 - val_loss: 1.3151 - val_accuracy: 0.5472\n",
      "Epoch 5/5\n",
      "1426/1426 [==============================] - 7s 5ms/step - loss: 1.1103 - accuracy: 0.5842 - val_loss: 1.3936 - val_accuracy: 0.5535\n"
     ]
    }
   ],
   "source": [
    "from keras.callbacks import EarlyStopping\n",
    "epochs = 5\n",
    "batch_size = 64\n",
    "\n",
    "history = model.fit(X_train, Y_train, epochs=epochs, batch_size=batch_size, validation_split=0.1,\n",
    "                    callbacks=[EarlyStopping(monitor='val_loss', patience=3, min_delta=0.0001)])"
   ]
  },
  {
   "cell_type": "code",
   "execution_count": 12,
   "metadata": {},
   "outputs": [
    {
     "data": {
      "image/png": "[encoded data removed]",
      "text/plain": [
       "<Figure size 432x288 with 1 Axes>"
      ]
     },
     "metadata": {
      "needs_background": "light"
     },
     "output_type": "display_data"
    }
   ],
   "source": [
    "from matplotlib import pyplot as plt \n",
    "plt.title('Loss')\n",
    "plt.plot(history.history['loss'], label='train')\n",
    "plt.plot(history.history['val_loss'], label='test')\n",
    "plt.legend()\n",
    "plt.show();"
   ]
  },
  {
   "cell_type": "code",
   "execution_count": 15,
   "metadata": {},
   "outputs": [
    {
     "data": {
      "image/png": "[encoded data removed]",
      "text/plain": [
       "<Figure size 432x288 with 1 Axes>"
      ]
     },
     "metadata": {
      "needs_background": "light"
     },
     "output_type": "display_data"
    }
   ],
   "source": [
    "plt.title('Accuracy')\n",
    "plt.plot(history.history['accuracy'], label='train')\n",
    "plt.plot(history.history['val_accuracy'], label='test')\n",
    "plt.legend()\n",
    "plt.show();"
   ]
  },
  {
   "cell_type": "code",
   "execution_count": 38,
   "metadata": {},
   "outputs": [
    {
     "ename": "AxisError",
     "evalue": "axis 1 is out of bounds for array of dimension 1",
     "output_type": "error",
     "traceback": [
      "\u001b[1;31m---------------------------------------------------------------------------\u001b[0m",
      "\u001b[1;31mAxisError\u001b[0m                                 Traceback (most recent call last)",
      "\u001b[1;32m<ipython-input-38-cf7eeedb9e4c>\u001b[0m in \u001b[0;36m<module>\u001b[1;34m\u001b[0m\n\u001b[0;32m      4\u001b[0m \u001b[0my_pred\u001b[0m \u001b[1;33m=\u001b[0m \u001b[0mmodel\u001b[0m\u001b[1;33m.\u001b[0m\u001b[0mpredict\u001b[0m\u001b[1;33m(\u001b[0m\u001b[0mX_test\u001b[0m\u001b[1;33m)\u001b[0m\u001b[1;33m\u001b[0m\u001b[1;33m\u001b[0m\u001b[0m\n\u001b[0;32m      5\u001b[0m \u001b[0my_pred\u001b[0m \u001b[1;33m=\u001b[0m \u001b[0my_pred\u001b[0m\u001b[1;33m.\u001b[0m\u001b[0margmax\u001b[0m\u001b[1;33m(\u001b[0m\u001b[0maxis\u001b[0m \u001b[1;33m=\u001b[0m \u001b[1;36m1\u001b[0m\u001b[1;33m)\u001b[0m\u001b[1;33m\u001b[0m\u001b[1;33m\u001b[0m\u001b[0m\n\u001b[1;32m----> 6\u001b[1;33m \u001b[0mY_test\u001b[0m \u001b[1;33m=\u001b[0m \u001b[0mY_test\u001b[0m\u001b[1;33m.\u001b[0m\u001b[0margmax\u001b[0m\u001b[1;33m(\u001b[0m\u001b[0maxis\u001b[0m \u001b[1;33m=\u001b[0m \u001b[1;36m1\u001b[0m\u001b[1;33m)\u001b[0m\u001b[1;33m\u001b[0m\u001b[1;33m\u001b[0m\u001b[0m\n\u001b[0m\u001b[0;32m      7\u001b[0m \u001b[1;33m\u001b[0m\u001b[0m\n\u001b[0;32m      8\u001b[0m \u001b[1;31m#生成混淆矩阵\u001b[0m\u001b[1;33m\u001b[0m\u001b[1;33m\u001b[0m\u001b[1;33m\u001b[0m\u001b[0m\n",
      "\u001b[1;31mAxisError\u001b[0m: axis 1 is out of bounds for array of dimension 1"
     ]
    }
   ],
   "source": [
    "import seaborn as sns\n",
    "from sklearn.metrics import accuracy_score, confusion_matrix\n",
    " \n",
    "y_pred = model.predict(X_test)\n",
    "y_pred = y_pred.argmax(axis = 1)\n",
    "Y_test = Y_test.argmax(axis = 1)\n",
    " \n",
    "#生成混淆矩阵\n",
    "conf_mat = confusion_matrix(Y_test, y_pred)\n",
    "fig, ax = plt.subplots(figsize=(10,8))\n",
    "sns.heatmap(conf_mat, annot=True, fmt='d',\n",
    "            xticklabels=key_id_df.keywords.values, yticklabels=key_id_df.keywords.values)\n",
    "plt.ylabel('实际结果',fontsize=18)\n",
    "plt.xlabel('预测结果',fontsize=18)"
   ]
  },
  {
   "cell_type": "code",
   "execution_count": 36,
   "metadata": {},
   "outputs": [
    {
     "name": "stdout",
     "output_type": "stream",
     "text": [
      "accuracy 0.516\n",
      "              precision    recall  f1-score   support\n",
      "\n",
      "         ooo       0.54      0.98      0.69       259\n",
      "         ooD       0.00      0.00      0.00        45\n",
      "         ToD       0.00      0.00      0.00        33\n",
      "         oEo       0.00      0.00      0.00        43\n",
      "         Too       0.21      0.04      0.07        91\n",
      "         oED       0.00      0.00      0.00         6\n",
      "         TEo       0.00      0.00      0.00        14\n",
      "         TED       0.00      0.00      0.00         9\n",
      "\n",
      "    accuracy                           0.52       500\n",
      "   macro avg       0.09      0.13      0.10       500\n",
      "weighted avg       0.32      0.52      0.37       500\n",
      "\n"
     ]
    },
    {
     "name": "stderr",
     "output_type": "stream",
     "text": [
      "D:\\Miniconda3\\lib\\site-packages\\sklearn\\metrics\\classification.py:1437: UndefinedMetricWarning: Precision and F-score are ill-defined and being set to 0.0 in labels with no predicted samples.\n",
      "  'precision', 'predicted', average, warn_for)\n"
     ]
    }
   ],
   "source": [
    "from  sklearn.metrics import classification_report\n",
    " \n",
    "print('accuracy %s' % accuracy_score(y_pred, Y_test))\n",
    "print(classification_report(Y_test, y_pred,target_names=key_id_df['keywords'].values))"
   ]
  },
  {
   "cell_type": "code",
   "execution_count": 26,
   "metadata": {},
   "outputs": [],
   "source": [
    "from nltk.corpus import stopwords\n",
    "stopwords = stopwords.words('english')"
   ]
  },
  {
   "cell_type": "code",
   "execution_count": 29,
   "metadata": {},
   "outputs": [],
   "source": [
    "def predict(text):\n",
    "    txt = re.sub(r'[^\\w\\s]', '', text.lower())\n",
    "    txt = [\" \".join([w for w in word_tokenize(txt) if w not in stopwords])]\n",
    "    seq = tokenizer.texts_to_sequences(txt)\n",
    "    padded = pad_sequences(seq, maxlen=MAX_SEQUENCE_LENGTH)\n",
    "    pred = model.predict(padded)\n",
    "    key_id= pred.argmax(axis=1)[0]\n",
    "    return key_id_df[key_id_df.key_id==key_id]['keywords'].values[0]"
   ]
  },
  {
   "cell_type": "code",
   "execution_count": 33,
   "metadata": {},
   "outputs": [
    {
     "ename": "SyntaxError",
     "evalue": "invalid syntax (<ipython-input-33-50c71d919198>, line 1)",
     "output_type": "error",
     "traceback": [
      "\u001b[1;36m  File \u001b[1;32m\"<ipython-input-33-50c71d919198>\"\u001b[1;36m, line \u001b[1;32m1\u001b[0m\n\u001b[1;33m    predict('So far we've been looking to this new piece of mechanical technology or that great next generation robot as part of a lineup to ensure our species safe passage in space. Wonderful as they are, I believe the time has come for us to complement these bulky electronic giants with what nature has already invented: the microbe, a single-celled organism that is itself a self-generating, self-replenishing, living machine.')\u001b[0m\n\u001b[1;37m                        ^\u001b[0m\n\u001b[1;31mSyntaxError\u001b[0m\u001b[1;31m:\u001b[0m invalid syntax\n"
     ]
    }
   ],
   "source": [
    "predict('So far we've been looking to this new piece of mechanical technology or that great next generation robot as part of a lineup to ensure our species safe passage in space. Wonderful as they are, I believe the time has come for us to complement these bulky electronic giants with what nature has already invented: the microbe, a single-celled organism that is itself a self-generating, self-replenishing, living machine.')"
   ]
  },
  {
   "cell_type": "code",
   "execution_count": 34,
   "metadata": {},
   "outputs": [
    {
     "data": {
      "text/plain": [
       "'ooo'"
      ]
     },
     "execution_count": 34,
     "metadata": {},
     "output_type": "execute_result"
    }
   ],
   "source": [
    "predict(' It requires fairly little to maintain, offers much flexibility in design and only asks to be carried in a single plastic tube.')"
   ]
  },
  {
   "cell_type": "code",
   "execution_count": null,
   "metadata": {},
   "outputs": [],
   "source": []
  }
 ],
 "metadata": {
  "kernelspec": {
   "display_name": "Python 3",
   "language": "python",
   "name": "python3"
  },
  "language_info": {
   "codemirror_mode": {
    "name": "ipython",
    "version": 3
   },
   "file_extension": ".py",
   "mimetype": "text/x-python",
   "name": "python",
   "nbconvert_exporter": "python",
   "pygments_lexer": "ipython3",
   "version": "3.7.3"
  }
 },
 "nbformat": 4,
 "nbformat_minor": 2
}
